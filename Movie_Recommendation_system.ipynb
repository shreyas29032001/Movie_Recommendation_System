{
 "cells": [
  {
   "cell_type": "code",
   "execution_count": 1,
   "id": "347f6da8-2937-4a59-9dd4-9630ff8440a9",
   "metadata": {},
   "outputs": [],
   "source": [
    "import pandas as pd \n",
    "import numpy as np\n"
   ]
  },
  {
   "cell_type": "code",
   "execution_count": 2,
   "id": "5700e273-7c91-40f7-b422-e686bed132bd",
   "metadata": {},
   "outputs": [],
   "source": [
    "movies=pd.read_csv('tmdb_5000_movies.csv')\n",
    "credits=pd.read_csv('tmdb_5000_credits.csv')"
   ]
  },
  {
   "cell_type": "code",
   "execution_count": 3,
   "id": "f96299ea-4cce-4f88-ac20-9983705ae562",
   "metadata": {},
   "outputs": [
    {
     "data": {
      "text/html": [
       "<div>\n",
       "<style scoped>\n",
       "    .dataframe tbody tr th:only-of-type {\n",
       "        vertical-align: middle;\n",
       "    }\n",
       "\n",
       "    .dataframe tbody tr th {\n",
       "        vertical-align: top;\n",
       "    }\n",
       "\n",
       "    .dataframe thead th {\n",
       "        text-align: right;\n",
       "    }\n",
       "</style>\n",
       "<table border=\"1\" class=\"dataframe\">\n",
       "  <thead>\n",
       "    <tr style=\"text-align: right;\">\n",
       "      <th></th>\n",
       "      <th>movie_id</th>\n",
       "      <th>title</th>\n",
       "      <th>cast</th>\n",
       "      <th>crew</th>\n",
       "    </tr>\n",
       "  </thead>\n",
       "  <tbody>\n",
       "    <tr>\n",
       "      <th>0</th>\n",
       "      <td>19995</td>\n",
       "      <td>Avatar</td>\n",
       "      <td>[{\"cast_id\": 242, \"character\": \"Jake Sully\", \"...</td>\n",
       "      <td>[{\"credit_id\": \"52fe48009251416c750aca23\", \"de...</td>\n",
       "    </tr>\n",
       "    <tr>\n",
       "      <th>1</th>\n",
       "      <td>285</td>\n",
       "      <td>Pirates of the Caribbean: At World's End</td>\n",
       "      <td>[{\"cast_id\": 4, \"character\": \"Captain Jack Spa...</td>\n",
       "      <td>[{\"credit_id\": \"52fe4232c3a36847f800b579\", \"de...</td>\n",
       "    </tr>\n",
       "    <tr>\n",
       "      <th>2</th>\n",
       "      <td>206647</td>\n",
       "      <td>Spectre</td>\n",
       "      <td>[{\"cast_id\": 1, \"character\": \"James Bond\", \"cr...</td>\n",
       "      <td>[{\"credit_id\": \"54805967c3a36829b5002c41\", \"de...</td>\n",
       "    </tr>\n",
       "    <tr>\n",
       "      <th>3</th>\n",
       "      <td>49026</td>\n",
       "      <td>The Dark Knight Rises</td>\n",
       "      <td>[{\"cast_id\": 2, \"character\": \"Bruce Wayne / Ba...</td>\n",
       "      <td>[{\"credit_id\": \"52fe4781c3a36847f81398c3\", \"de...</td>\n",
       "    </tr>\n",
       "    <tr>\n",
       "      <th>4</th>\n",
       "      <td>49529</td>\n",
       "      <td>John Carter</td>\n",
       "      <td>[{\"cast_id\": 5, \"character\": \"John Carter\", \"c...</td>\n",
       "      <td>[{\"credit_id\": \"52fe479ac3a36847f813eaa3\", \"de...</td>\n",
       "    </tr>\n",
       "  </tbody>\n",
       "</table>\n",
       "</div>"
      ],
      "text/plain": [
       "   movie_id                                     title  \\\n",
       "0     19995                                    Avatar   \n",
       "1       285  Pirates of the Caribbean: At World's End   \n",
       "2    206647                                   Spectre   \n",
       "3     49026                     The Dark Knight Rises   \n",
       "4     49529                               John Carter   \n",
       "\n",
       "                                                cast  \\\n",
       "0  [{\"cast_id\": 242, \"character\": \"Jake Sully\", \"...   \n",
       "1  [{\"cast_id\": 4, \"character\": \"Captain Jack Spa...   \n",
       "2  [{\"cast_id\": 1, \"character\": \"James Bond\", \"cr...   \n",
       "3  [{\"cast_id\": 2, \"character\": \"Bruce Wayne / Ba...   \n",
       "4  [{\"cast_id\": 5, \"character\": \"John Carter\", \"c...   \n",
       "\n",
       "                                                crew  \n",
       "0  [{\"credit_id\": \"52fe48009251416c750aca23\", \"de...  \n",
       "1  [{\"credit_id\": \"52fe4232c3a36847f800b579\", \"de...  \n",
       "2  [{\"credit_id\": \"54805967c3a36829b5002c41\", \"de...  \n",
       "3  [{\"credit_id\": \"52fe4781c3a36847f81398c3\", \"de...  \n",
       "4  [{\"credit_id\": \"52fe479ac3a36847f813eaa3\", \"de...  "
      ]
     },
     "execution_count": 3,
     "metadata": {},
     "output_type": "execute_result"
    }
   ],
   "source": [
    "movies.head(1)\n",
    "credits.head()"
   ]
  },
  {
   "cell_type": "code",
   "execution_count": 4,
   "id": "3eb78a85-2d3a-45cb-8173-c802146299c1",
   "metadata": {},
   "outputs": [
    {
     "data": {
      "text/html": [
       "<div>\n",
       "<style scoped>\n",
       "    .dataframe tbody tr th:only-of-type {\n",
       "        vertical-align: middle;\n",
       "    }\n",
       "\n",
       "    .dataframe tbody tr th {\n",
       "        vertical-align: top;\n",
       "    }\n",
       "\n",
       "    .dataframe thead th {\n",
       "        text-align: right;\n",
       "    }\n",
       "</style>\n",
       "<table border=\"1\" class=\"dataframe\">\n",
       "  <thead>\n",
       "    <tr style=\"text-align: right;\">\n",
       "      <th></th>\n",
       "      <th>movie_id</th>\n",
       "      <th>title</th>\n",
       "      <th>cast</th>\n",
       "      <th>crew</th>\n",
       "    </tr>\n",
       "  </thead>\n",
       "  <tbody>\n",
       "    <tr>\n",
       "      <th>0</th>\n",
       "      <td>19995</td>\n",
       "      <td>Avatar</td>\n",
       "      <td>[{\"cast_id\": 242, \"character\": \"Jake Sully\", \"...</td>\n",
       "      <td>[{\"credit_id\": \"52fe48009251416c750aca23\", \"de...</td>\n",
       "    </tr>\n",
       "  </tbody>\n",
       "</table>\n",
       "</div>"
      ],
      "text/plain": [
       "   movie_id   title                                               cast  \\\n",
       "0     19995  Avatar  [{\"cast_id\": 242, \"character\": \"Jake Sully\", \"...   \n",
       "\n",
       "                                                crew  \n",
       "0  [{\"credit_id\": \"52fe48009251416c750aca23\", \"de...  "
      ]
     },
     "execution_count": 4,
     "metadata": {},
     "output_type": "execute_result"
    }
   ],
   "source": [
    "credits.head(1)"
   ]
  },
  {
   "cell_type": "code",
   "execution_count": 5,
   "id": "4f7657e0-2f0f-496d-a369-3cec0d533a65",
   "metadata": {},
   "outputs": [],
   "source": [
    "movies = movies.merge(credits,on ='title')"
   ]
  },
  {
   "cell_type": "code",
   "execution_count": 6,
   "id": "559a8776-b6c1-471c-870c-543aa92b089a",
   "metadata": {},
   "outputs": [
    {
     "data": {
      "text/html": [
       "<div>\n",
       "<style scoped>\n",
       "    .dataframe tbody tr th:only-of-type {\n",
       "        vertical-align: middle;\n",
       "    }\n",
       "\n",
       "    .dataframe tbody tr th {\n",
       "        vertical-align: top;\n",
       "    }\n",
       "\n",
       "    .dataframe thead th {\n",
       "        text-align: right;\n",
       "    }\n",
       "</style>\n",
       "<table border=\"1\" class=\"dataframe\">\n",
       "  <thead>\n",
       "    <tr style=\"text-align: right;\">\n",
       "      <th></th>\n",
       "      <th>budget</th>\n",
       "      <th>genres</th>\n",
       "      <th>homepage</th>\n",
       "      <th>id</th>\n",
       "      <th>keywords</th>\n",
       "      <th>original_language</th>\n",
       "      <th>original_title</th>\n",
       "      <th>overview</th>\n",
       "      <th>popularity</th>\n",
       "      <th>production_companies</th>\n",
       "      <th>...</th>\n",
       "      <th>runtime</th>\n",
       "      <th>spoken_languages</th>\n",
       "      <th>status</th>\n",
       "      <th>tagline</th>\n",
       "      <th>title</th>\n",
       "      <th>vote_average</th>\n",
       "      <th>vote_count</th>\n",
       "      <th>movie_id</th>\n",
       "      <th>cast</th>\n",
       "      <th>crew</th>\n",
       "    </tr>\n",
       "  </thead>\n",
       "  <tbody>\n",
       "    <tr>\n",
       "      <th>0</th>\n",
       "      <td>237000000</td>\n",
       "      <td>[{\"id\": 28, \"name\": \"Action\"}, {\"id\": 12, \"nam...</td>\n",
       "      <td>http://www.avatarmovie.com/</td>\n",
       "      <td>19995</td>\n",
       "      <td>[{\"id\": 1463, \"name\": \"culture clash\"}, {\"id\":...</td>\n",
       "      <td>en</td>\n",
       "      <td>Avatar</td>\n",
       "      <td>In the 22nd century, a paraplegic Marine is di...</td>\n",
       "      <td>150.437577</td>\n",
       "      <td>[{\"name\": \"Ingenious Film Partners\", \"id\": 289...</td>\n",
       "      <td>...</td>\n",
       "      <td>162.0</td>\n",
       "      <td>[{\"iso_639_1\": \"en\", \"name\": \"English\"}, {\"iso...</td>\n",
       "      <td>Released</td>\n",
       "      <td>Enter the World of Pandora.</td>\n",
       "      <td>Avatar</td>\n",
       "      <td>7.2</td>\n",
       "      <td>11800</td>\n",
       "      <td>19995</td>\n",
       "      <td>[{\"cast_id\": 242, \"character\": \"Jake Sully\", \"...</td>\n",
       "      <td>[{\"credit_id\": \"52fe48009251416c750aca23\", \"de...</td>\n",
       "    </tr>\n",
       "    <tr>\n",
       "      <th>1</th>\n",
       "      <td>300000000</td>\n",
       "      <td>[{\"id\": 12, \"name\": \"Adventure\"}, {\"id\": 14, \"...</td>\n",
       "      <td>http://disney.go.com/disneypictures/pirates/</td>\n",
       "      <td>285</td>\n",
       "      <td>[{\"id\": 270, \"name\": \"ocean\"}, {\"id\": 726, \"na...</td>\n",
       "      <td>en</td>\n",
       "      <td>Pirates of the Caribbean: At World's End</td>\n",
       "      <td>Captain Barbossa, long believed to be dead, ha...</td>\n",
       "      <td>139.082615</td>\n",
       "      <td>[{\"name\": \"Walt Disney Pictures\", \"id\": 2}, {\"...</td>\n",
       "      <td>...</td>\n",
       "      <td>169.0</td>\n",
       "      <td>[{\"iso_639_1\": \"en\", \"name\": \"English\"}]</td>\n",
       "      <td>Released</td>\n",
       "      <td>At the end of the world, the adventure begins.</td>\n",
       "      <td>Pirates of the Caribbean: At World's End</td>\n",
       "      <td>6.9</td>\n",
       "      <td>4500</td>\n",
       "      <td>285</td>\n",
       "      <td>[{\"cast_id\": 4, \"character\": \"Captain Jack Spa...</td>\n",
       "      <td>[{\"credit_id\": \"52fe4232c3a36847f800b579\", \"de...</td>\n",
       "    </tr>\n",
       "    <tr>\n",
       "      <th>2</th>\n",
       "      <td>245000000</td>\n",
       "      <td>[{\"id\": 28, \"name\": \"Action\"}, {\"id\": 12, \"nam...</td>\n",
       "      <td>http://www.sonypictures.com/movies/spectre/</td>\n",
       "      <td>206647</td>\n",
       "      <td>[{\"id\": 470, \"name\": \"spy\"}, {\"id\": 818, \"name...</td>\n",
       "      <td>en</td>\n",
       "      <td>Spectre</td>\n",
       "      <td>A cryptic message from Bond’s past sends him o...</td>\n",
       "      <td>107.376788</td>\n",
       "      <td>[{\"name\": \"Columbia Pictures\", \"id\": 5}, {\"nam...</td>\n",
       "      <td>...</td>\n",
       "      <td>148.0</td>\n",
       "      <td>[{\"iso_639_1\": \"fr\", \"name\": \"Fran\\u00e7ais\"},...</td>\n",
       "      <td>Released</td>\n",
       "      <td>A Plan No One Escapes</td>\n",
       "      <td>Spectre</td>\n",
       "      <td>6.3</td>\n",
       "      <td>4466</td>\n",
       "      <td>206647</td>\n",
       "      <td>[{\"cast_id\": 1, \"character\": \"James Bond\", \"cr...</td>\n",
       "      <td>[{\"credit_id\": \"54805967c3a36829b5002c41\", \"de...</td>\n",
       "    </tr>\n",
       "    <tr>\n",
       "      <th>3</th>\n",
       "      <td>250000000</td>\n",
       "      <td>[{\"id\": 28, \"name\": \"Action\"}, {\"id\": 80, \"nam...</td>\n",
       "      <td>http://www.thedarkknightrises.com/</td>\n",
       "      <td>49026</td>\n",
       "      <td>[{\"id\": 849, \"name\": \"dc comics\"}, {\"id\": 853,...</td>\n",
       "      <td>en</td>\n",
       "      <td>The Dark Knight Rises</td>\n",
       "      <td>Following the death of District Attorney Harve...</td>\n",
       "      <td>112.312950</td>\n",
       "      <td>[{\"name\": \"Legendary Pictures\", \"id\": 923}, {\"...</td>\n",
       "      <td>...</td>\n",
       "      <td>165.0</td>\n",
       "      <td>[{\"iso_639_1\": \"en\", \"name\": \"English\"}]</td>\n",
       "      <td>Released</td>\n",
       "      <td>The Legend Ends</td>\n",
       "      <td>The Dark Knight Rises</td>\n",
       "      <td>7.6</td>\n",
       "      <td>9106</td>\n",
       "      <td>49026</td>\n",
       "      <td>[{\"cast_id\": 2, \"character\": \"Bruce Wayne / Ba...</td>\n",
       "      <td>[{\"credit_id\": \"52fe4781c3a36847f81398c3\", \"de...</td>\n",
       "    </tr>\n",
       "    <tr>\n",
       "      <th>4</th>\n",
       "      <td>260000000</td>\n",
       "      <td>[{\"id\": 28, \"name\": \"Action\"}, {\"id\": 12, \"nam...</td>\n",
       "      <td>http://movies.disney.com/john-carter</td>\n",
       "      <td>49529</td>\n",
       "      <td>[{\"id\": 818, \"name\": \"based on novel\"}, {\"id\":...</td>\n",
       "      <td>en</td>\n",
       "      <td>John Carter</td>\n",
       "      <td>John Carter is a war-weary, former military ca...</td>\n",
       "      <td>43.926995</td>\n",
       "      <td>[{\"name\": \"Walt Disney Pictures\", \"id\": 2}]</td>\n",
       "      <td>...</td>\n",
       "      <td>132.0</td>\n",
       "      <td>[{\"iso_639_1\": \"en\", \"name\": \"English\"}]</td>\n",
       "      <td>Released</td>\n",
       "      <td>Lost in our world, found in another.</td>\n",
       "      <td>John Carter</td>\n",
       "      <td>6.1</td>\n",
       "      <td>2124</td>\n",
       "      <td>49529</td>\n",
       "      <td>[{\"cast_id\": 5, \"character\": \"John Carter\", \"c...</td>\n",
       "      <td>[{\"credit_id\": \"52fe479ac3a36847f813eaa3\", \"de...</td>\n",
       "    </tr>\n",
       "  </tbody>\n",
       "</table>\n",
       "<p>5 rows × 23 columns</p>\n",
       "</div>"
      ],
      "text/plain": [
       "      budget                                             genres  \\\n",
       "0  237000000  [{\"id\": 28, \"name\": \"Action\"}, {\"id\": 12, \"nam...   \n",
       "1  300000000  [{\"id\": 12, \"name\": \"Adventure\"}, {\"id\": 14, \"...   \n",
       "2  245000000  [{\"id\": 28, \"name\": \"Action\"}, {\"id\": 12, \"nam...   \n",
       "3  250000000  [{\"id\": 28, \"name\": \"Action\"}, {\"id\": 80, \"nam...   \n",
       "4  260000000  [{\"id\": 28, \"name\": \"Action\"}, {\"id\": 12, \"nam...   \n",
       "\n",
       "                                       homepage      id  \\\n",
       "0                   http://www.avatarmovie.com/   19995   \n",
       "1  http://disney.go.com/disneypictures/pirates/     285   \n",
       "2   http://www.sonypictures.com/movies/spectre/  206647   \n",
       "3            http://www.thedarkknightrises.com/   49026   \n",
       "4          http://movies.disney.com/john-carter   49529   \n",
       "\n",
       "                                            keywords original_language  \\\n",
       "0  [{\"id\": 1463, \"name\": \"culture clash\"}, {\"id\":...                en   \n",
       "1  [{\"id\": 270, \"name\": \"ocean\"}, {\"id\": 726, \"na...                en   \n",
       "2  [{\"id\": 470, \"name\": \"spy\"}, {\"id\": 818, \"name...                en   \n",
       "3  [{\"id\": 849, \"name\": \"dc comics\"}, {\"id\": 853,...                en   \n",
       "4  [{\"id\": 818, \"name\": \"based on novel\"}, {\"id\":...                en   \n",
       "\n",
       "                             original_title  \\\n",
       "0                                    Avatar   \n",
       "1  Pirates of the Caribbean: At World's End   \n",
       "2                                   Spectre   \n",
       "3                     The Dark Knight Rises   \n",
       "4                               John Carter   \n",
       "\n",
       "                                            overview  popularity  \\\n",
       "0  In the 22nd century, a paraplegic Marine is di...  150.437577   \n",
       "1  Captain Barbossa, long believed to be dead, ha...  139.082615   \n",
       "2  A cryptic message from Bond’s past sends him o...  107.376788   \n",
       "3  Following the death of District Attorney Harve...  112.312950   \n",
       "4  John Carter is a war-weary, former military ca...   43.926995   \n",
       "\n",
       "                                production_companies  ... runtime  \\\n",
       "0  [{\"name\": \"Ingenious Film Partners\", \"id\": 289...  ...   162.0   \n",
       "1  [{\"name\": \"Walt Disney Pictures\", \"id\": 2}, {\"...  ...   169.0   \n",
       "2  [{\"name\": \"Columbia Pictures\", \"id\": 5}, {\"nam...  ...   148.0   \n",
       "3  [{\"name\": \"Legendary Pictures\", \"id\": 923}, {\"...  ...   165.0   \n",
       "4        [{\"name\": \"Walt Disney Pictures\", \"id\": 2}]  ...   132.0   \n",
       "\n",
       "                                    spoken_languages    status  \\\n",
       "0  [{\"iso_639_1\": \"en\", \"name\": \"English\"}, {\"iso...  Released   \n",
       "1           [{\"iso_639_1\": \"en\", \"name\": \"English\"}]  Released   \n",
       "2  [{\"iso_639_1\": \"fr\", \"name\": \"Fran\\u00e7ais\"},...  Released   \n",
       "3           [{\"iso_639_1\": \"en\", \"name\": \"English\"}]  Released   \n",
       "4           [{\"iso_639_1\": \"en\", \"name\": \"English\"}]  Released   \n",
       "\n",
       "                                          tagline  \\\n",
       "0                     Enter the World of Pandora.   \n",
       "1  At the end of the world, the adventure begins.   \n",
       "2                           A Plan No One Escapes   \n",
       "3                                 The Legend Ends   \n",
       "4            Lost in our world, found in another.   \n",
       "\n",
       "                                      title vote_average vote_count movie_id  \\\n",
       "0                                    Avatar          7.2      11800    19995   \n",
       "1  Pirates of the Caribbean: At World's End          6.9       4500      285   \n",
       "2                                   Spectre          6.3       4466   206647   \n",
       "3                     The Dark Knight Rises          7.6       9106    49026   \n",
       "4                               John Carter          6.1       2124    49529   \n",
       "\n",
       "                                                cast  \\\n",
       "0  [{\"cast_id\": 242, \"character\": \"Jake Sully\", \"...   \n",
       "1  [{\"cast_id\": 4, \"character\": \"Captain Jack Spa...   \n",
       "2  [{\"cast_id\": 1, \"character\": \"James Bond\", \"cr...   \n",
       "3  [{\"cast_id\": 2, \"character\": \"Bruce Wayne / Ba...   \n",
       "4  [{\"cast_id\": 5, \"character\": \"John Carter\", \"c...   \n",
       "\n",
       "                                                crew  \n",
       "0  [{\"credit_id\": \"52fe48009251416c750aca23\", \"de...  \n",
       "1  [{\"credit_id\": \"52fe4232c3a36847f800b579\", \"de...  \n",
       "2  [{\"credit_id\": \"54805967c3a36829b5002c41\", \"de...  \n",
       "3  [{\"credit_id\": \"52fe4781c3a36847f81398c3\", \"de...  \n",
       "4  [{\"credit_id\": \"52fe479ac3a36847f813eaa3\", \"de...  \n",
       "\n",
       "[5 rows x 23 columns]"
      ]
     },
     "execution_count": 6,
     "metadata": {},
     "output_type": "execute_result"
    }
   ],
   "source": [
    "movies.head()"
   ]
  },
  {
   "cell_type": "code",
   "execution_count": 7,
   "id": "ff63257c-4169-4635-a970-df931086ac45",
   "metadata": {},
   "outputs": [],
   "source": [
    "# genres\n",
    "# id\n",
    "# keywords\n",
    "# title\n",
    "# overview\n",
    "# cast\n",
    "# crew\n",
    "movies=movies[['movie_id','title','overview','genres','keywords','cast','crew']]"
   ]
  },
  {
   "cell_type": "code",
   "execution_count": 8,
   "id": "8aff610d-8ab8-4970-8460-1870541dc6a7",
   "metadata": {},
   "outputs": [
    {
     "name": "stdout",
     "output_type": "stream",
     "text": [
      "<class 'pandas.core.frame.DataFrame'>\n",
      "RangeIndex: 4809 entries, 0 to 4808\n",
      "Data columns (total 7 columns):\n",
      " #   Column    Non-Null Count  Dtype \n",
      "---  ------    --------------  ----- \n",
      " 0   movie_id  4809 non-null   int64 \n",
      " 1   title     4809 non-null   object\n",
      " 2   overview  4806 non-null   object\n",
      " 3   genres    4809 non-null   object\n",
      " 4   keywords  4809 non-null   object\n",
      " 5   cast      4809 non-null   object\n",
      " 6   crew      4809 non-null   object\n",
      "dtypes: int64(1), object(6)\n",
      "memory usage: 263.1+ KB\n"
     ]
    }
   ],
   "source": [
    "movies.info()"
   ]
  },
  {
   "cell_type": "code",
   "execution_count": 9,
   "id": "077e123a-c4cc-4658-b121-b2e8bdb4c4b1",
   "metadata": {},
   "outputs": [
    {
     "data": {
      "text/html": [
       "<div>\n",
       "<style scoped>\n",
       "    .dataframe tbody tr th:only-of-type {\n",
       "        vertical-align: middle;\n",
       "    }\n",
       "\n",
       "    .dataframe tbody tr th {\n",
       "        vertical-align: top;\n",
       "    }\n",
       "\n",
       "    .dataframe thead th {\n",
       "        text-align: right;\n",
       "    }\n",
       "</style>\n",
       "<table border=\"1\" class=\"dataframe\">\n",
       "  <thead>\n",
       "    <tr style=\"text-align: right;\">\n",
       "      <th></th>\n",
       "      <th>movie_id</th>\n",
       "      <th>title</th>\n",
       "      <th>overview</th>\n",
       "      <th>genres</th>\n",
       "      <th>keywords</th>\n",
       "      <th>cast</th>\n",
       "      <th>crew</th>\n",
       "    </tr>\n",
       "  </thead>\n",
       "  <tbody>\n",
       "    <tr>\n",
       "      <th>0</th>\n",
       "      <td>19995</td>\n",
       "      <td>Avatar</td>\n",
       "      <td>In the 22nd century, a paraplegic Marine is di...</td>\n",
       "      <td>[{\"id\": 28, \"name\": \"Action\"}, {\"id\": 12, \"nam...</td>\n",
       "      <td>[{\"id\": 1463, \"name\": \"culture clash\"}, {\"id\":...</td>\n",
       "      <td>[{\"cast_id\": 242, \"character\": \"Jake Sully\", \"...</td>\n",
       "      <td>[{\"credit_id\": \"52fe48009251416c750aca23\", \"de...</td>\n",
       "    </tr>\n",
       "    <tr>\n",
       "      <th>1</th>\n",
       "      <td>285</td>\n",
       "      <td>Pirates of the Caribbean: At World's End</td>\n",
       "      <td>Captain Barbossa, long believed to be dead, ha...</td>\n",
       "      <td>[{\"id\": 12, \"name\": \"Adventure\"}, {\"id\": 14, \"...</td>\n",
       "      <td>[{\"id\": 270, \"name\": \"ocean\"}, {\"id\": 726, \"na...</td>\n",
       "      <td>[{\"cast_id\": 4, \"character\": \"Captain Jack Spa...</td>\n",
       "      <td>[{\"credit_id\": \"52fe4232c3a36847f800b579\", \"de...</td>\n",
       "    </tr>\n",
       "    <tr>\n",
       "      <th>2</th>\n",
       "      <td>206647</td>\n",
       "      <td>Spectre</td>\n",
       "      <td>A cryptic message from Bond’s past sends him o...</td>\n",
       "      <td>[{\"id\": 28, \"name\": \"Action\"}, {\"id\": 12, \"nam...</td>\n",
       "      <td>[{\"id\": 470, \"name\": \"spy\"}, {\"id\": 818, \"name...</td>\n",
       "      <td>[{\"cast_id\": 1, \"character\": \"James Bond\", \"cr...</td>\n",
       "      <td>[{\"credit_id\": \"54805967c3a36829b5002c41\", \"de...</td>\n",
       "    </tr>\n",
       "    <tr>\n",
       "      <th>3</th>\n",
       "      <td>49026</td>\n",
       "      <td>The Dark Knight Rises</td>\n",
       "      <td>Following the death of District Attorney Harve...</td>\n",
       "      <td>[{\"id\": 28, \"name\": \"Action\"}, {\"id\": 80, \"nam...</td>\n",
       "      <td>[{\"id\": 849, \"name\": \"dc comics\"}, {\"id\": 853,...</td>\n",
       "      <td>[{\"cast_id\": 2, \"character\": \"Bruce Wayne / Ba...</td>\n",
       "      <td>[{\"credit_id\": \"52fe4781c3a36847f81398c3\", \"de...</td>\n",
       "    </tr>\n",
       "    <tr>\n",
       "      <th>4</th>\n",
       "      <td>49529</td>\n",
       "      <td>John Carter</td>\n",
       "      <td>John Carter is a war-weary, former military ca...</td>\n",
       "      <td>[{\"id\": 28, \"name\": \"Action\"}, {\"id\": 12, \"nam...</td>\n",
       "      <td>[{\"id\": 818, \"name\": \"based on novel\"}, {\"id\":...</td>\n",
       "      <td>[{\"cast_id\": 5, \"character\": \"John Carter\", \"c...</td>\n",
       "      <td>[{\"credit_id\": \"52fe479ac3a36847f813eaa3\", \"de...</td>\n",
       "    </tr>\n",
       "  </tbody>\n",
       "</table>\n",
       "</div>"
      ],
      "text/plain": [
       "   movie_id                                     title  \\\n",
       "0     19995                                    Avatar   \n",
       "1       285  Pirates of the Caribbean: At World's End   \n",
       "2    206647                                   Spectre   \n",
       "3     49026                     The Dark Knight Rises   \n",
       "4     49529                               John Carter   \n",
       "\n",
       "                                            overview  \\\n",
       "0  In the 22nd century, a paraplegic Marine is di...   \n",
       "1  Captain Barbossa, long believed to be dead, ha...   \n",
       "2  A cryptic message from Bond’s past sends him o...   \n",
       "3  Following the death of District Attorney Harve...   \n",
       "4  John Carter is a war-weary, former military ca...   \n",
       "\n",
       "                                              genres  \\\n",
       "0  [{\"id\": 28, \"name\": \"Action\"}, {\"id\": 12, \"nam...   \n",
       "1  [{\"id\": 12, \"name\": \"Adventure\"}, {\"id\": 14, \"...   \n",
       "2  [{\"id\": 28, \"name\": \"Action\"}, {\"id\": 12, \"nam...   \n",
       "3  [{\"id\": 28, \"name\": \"Action\"}, {\"id\": 80, \"nam...   \n",
       "4  [{\"id\": 28, \"name\": \"Action\"}, {\"id\": 12, \"nam...   \n",
       "\n",
       "                                            keywords  \\\n",
       "0  [{\"id\": 1463, \"name\": \"culture clash\"}, {\"id\":...   \n",
       "1  [{\"id\": 270, \"name\": \"ocean\"}, {\"id\": 726, \"na...   \n",
       "2  [{\"id\": 470, \"name\": \"spy\"}, {\"id\": 818, \"name...   \n",
       "3  [{\"id\": 849, \"name\": \"dc comics\"}, {\"id\": 853,...   \n",
       "4  [{\"id\": 818, \"name\": \"based on novel\"}, {\"id\":...   \n",
       "\n",
       "                                                cast  \\\n",
       "0  [{\"cast_id\": 242, \"character\": \"Jake Sully\", \"...   \n",
       "1  [{\"cast_id\": 4, \"character\": \"Captain Jack Spa...   \n",
       "2  [{\"cast_id\": 1, \"character\": \"James Bond\", \"cr...   \n",
       "3  [{\"cast_id\": 2, \"character\": \"Bruce Wayne / Ba...   \n",
       "4  [{\"cast_id\": 5, \"character\": \"John Carter\", \"c...   \n",
       "\n",
       "                                                crew  \n",
       "0  [{\"credit_id\": \"52fe48009251416c750aca23\", \"de...  \n",
       "1  [{\"credit_id\": \"52fe4232c3a36847f800b579\", \"de...  \n",
       "2  [{\"credit_id\": \"54805967c3a36829b5002c41\", \"de...  \n",
       "3  [{\"credit_id\": \"52fe4781c3a36847f81398c3\", \"de...  \n",
       "4  [{\"credit_id\": \"52fe479ac3a36847f813eaa3\", \"de...  "
      ]
     },
     "execution_count": 9,
     "metadata": {},
     "output_type": "execute_result"
    }
   ],
   "source": [
    "movies.head()"
   ]
  },
  {
   "cell_type": "code",
   "execution_count": 10,
   "id": "366eda98-d562-4adb-b0e0-c66934c2f14c",
   "metadata": {},
   "outputs": [
    {
     "data": {
      "text/plain": [
       "movie_id    0\n",
       "title       0\n",
       "overview    3\n",
       "genres      0\n",
       "keywords    0\n",
       "cast        0\n",
       "crew        0\n",
       "dtype: int64"
      ]
     },
     "execution_count": 10,
     "metadata": {},
     "output_type": "execute_result"
    }
   ],
   "source": [
    "movies.isnull().sum()"
   ]
  },
  {
   "cell_type": "code",
   "execution_count": 11,
   "id": "6445ed0e-c6ca-4ca5-88d6-a07e93b3b028",
   "metadata": {},
   "outputs": [],
   "source": [
    "movies.dropna(inplace=True)"
   ]
  },
  {
   "cell_type": "code",
   "execution_count": 12,
   "id": "a5b55f61-b486-488d-b578-e1ce6e9f4763",
   "metadata": {},
   "outputs": [
    {
     "data": {
      "text/plain": [
       "0"
      ]
     },
     "execution_count": 12,
     "metadata": {},
     "output_type": "execute_result"
    }
   ],
   "source": [
    "movies.duplicated().sum()"
   ]
  },
  {
   "cell_type": "code",
   "execution_count": 13,
   "id": "126de54d-9791-437c-aba3-106361ce100c",
   "metadata": {},
   "outputs": [
    {
     "data": {
      "text/plain": [
       "'[{\"id\": 28, \"name\": \"Action\"}, {\"id\": 12, \"name\": \"Adventure\"}, {\"id\": 14, \"name\": \"Fantasy\"}, {\"id\": 878, \"name\": \"Science Fiction\"}]'"
      ]
     },
     "execution_count": 13,
     "metadata": {},
     "output_type": "execute_result"
    }
   ],
   "source": [
    "movies.iloc[0].genres"
   ]
  },
  {
   "cell_type": "code",
   "execution_count": 14,
   "id": "4de81a15-6503-4993-9dc8-499403af31e1",
   "metadata": {},
   "outputs": [],
   "source": [
    "def convert(obj):\n",
    "    L =[]\n",
    "    for i in ast.literal_eval(obj):\n",
    "        L.append(i['name'])\n",
    "        return L"
   ]
  },
  {
   "cell_type": "code",
   "execution_count": 15,
   "id": "205d17df-f830-4184-a25f-5d7825389f2c",
   "metadata": {},
   "outputs": [
    {
     "ename": "NameError",
     "evalue": "name 'ast' is not defined",
     "output_type": "error",
     "traceback": [
      "\u001b[1;31m---------------------------------------------------------------------------\u001b[0m",
      "\u001b[1;31mNameError\u001b[0m                                 Traceback (most recent call last)",
      "Cell \u001b[1;32mIn[15], line 1\u001b[0m\n\u001b[1;32m----> 1\u001b[0m \u001b[43mmovies\u001b[49m\u001b[43m[\u001b[49m\u001b[38;5;124;43m'\u001b[39;49m\u001b[38;5;124;43mgenres\u001b[39;49m\u001b[38;5;124;43m'\u001b[39;49m\u001b[43m]\u001b[49m\u001b[38;5;241;43m.\u001b[39;49m\u001b[43mapply\u001b[49m\u001b[43m(\u001b[49m\u001b[43mconvert\u001b[49m\u001b[43m)\u001b[49m\n",
      "File \u001b[1;32m~\\AppData\\Local\\Programs\\Python\\Python311\\Lib\\site-packages\\pandas\\core\\series.py:4764\u001b[0m, in \u001b[0;36mSeries.apply\u001b[1;34m(self, func, convert_dtype, args, by_row, **kwargs)\u001b[0m\n\u001b[0;32m   4629\u001b[0m \u001b[38;5;28;01mdef\u001b[39;00m \u001b[38;5;21mapply\u001b[39m(\n\u001b[0;32m   4630\u001b[0m     \u001b[38;5;28mself\u001b[39m,\n\u001b[0;32m   4631\u001b[0m     func: AggFuncType,\n\u001b[1;32m   (...)\u001b[0m\n\u001b[0;32m   4636\u001b[0m     \u001b[38;5;241m*\u001b[39m\u001b[38;5;241m*\u001b[39mkwargs,\n\u001b[0;32m   4637\u001b[0m ) \u001b[38;5;241m-\u001b[39m\u001b[38;5;241m>\u001b[39m DataFrame \u001b[38;5;241m|\u001b[39m Series:\n\u001b[0;32m   4638\u001b[0m \u001b[38;5;250m    \u001b[39m\u001b[38;5;124;03m\"\"\"\u001b[39;00m\n\u001b[0;32m   4639\u001b[0m \u001b[38;5;124;03m    Invoke function on values of Series.\u001b[39;00m\n\u001b[0;32m   4640\u001b[0m \n\u001b[1;32m   (...)\u001b[0m\n\u001b[0;32m   4755\u001b[0m \u001b[38;5;124;03m    dtype: float64\u001b[39;00m\n\u001b[0;32m   4756\u001b[0m \u001b[38;5;124;03m    \"\"\"\u001b[39;00m\n\u001b[0;32m   4757\u001b[0m     \u001b[38;5;28;01mreturn\u001b[39;00m \u001b[43mSeriesApply\u001b[49m\u001b[43m(\u001b[49m\n\u001b[0;32m   4758\u001b[0m \u001b[43m        \u001b[49m\u001b[38;5;28;43mself\u001b[39;49m\u001b[43m,\u001b[49m\n\u001b[0;32m   4759\u001b[0m \u001b[43m        \u001b[49m\u001b[43mfunc\u001b[49m\u001b[43m,\u001b[49m\n\u001b[0;32m   4760\u001b[0m \u001b[43m        \u001b[49m\u001b[43mconvert_dtype\u001b[49m\u001b[38;5;241;43m=\u001b[39;49m\u001b[43mconvert_dtype\u001b[49m\u001b[43m,\u001b[49m\n\u001b[0;32m   4761\u001b[0m \u001b[43m        \u001b[49m\u001b[43mby_row\u001b[49m\u001b[38;5;241;43m=\u001b[39;49m\u001b[43mby_row\u001b[49m\u001b[43m,\u001b[49m\n\u001b[0;32m   4762\u001b[0m \u001b[43m        \u001b[49m\u001b[43margs\u001b[49m\u001b[38;5;241;43m=\u001b[39;49m\u001b[43margs\u001b[49m\u001b[43m,\u001b[49m\n\u001b[0;32m   4763\u001b[0m \u001b[43m        \u001b[49m\u001b[43mkwargs\u001b[49m\u001b[38;5;241;43m=\u001b[39;49m\u001b[43mkwargs\u001b[49m\u001b[43m,\u001b[49m\n\u001b[1;32m-> 4764\u001b[0m \u001b[43m    \u001b[49m\u001b[43m)\u001b[49m\u001b[38;5;241;43m.\u001b[39;49m\u001b[43mapply\u001b[49m\u001b[43m(\u001b[49m\u001b[43m)\u001b[49m\n",
      "File \u001b[1;32m~\\AppData\\Local\\Programs\\Python\\Python311\\Lib\\site-packages\\pandas\\core\\apply.py:1209\u001b[0m, in \u001b[0;36mSeriesApply.apply\u001b[1;34m(self)\u001b[0m\n\u001b[0;32m   1206\u001b[0m     \u001b[38;5;28;01mreturn\u001b[39;00m \u001b[38;5;28mself\u001b[39m\u001b[38;5;241m.\u001b[39mapply_compat()\n\u001b[0;32m   1208\u001b[0m \u001b[38;5;66;03m# self.func is Callable\u001b[39;00m\n\u001b[1;32m-> 1209\u001b[0m \u001b[38;5;28;01mreturn\u001b[39;00m \u001b[38;5;28;43mself\u001b[39;49m\u001b[38;5;241;43m.\u001b[39;49m\u001b[43mapply_standard\u001b[49m\u001b[43m(\u001b[49m\u001b[43m)\u001b[49m\n",
      "File \u001b[1;32m~\\AppData\\Local\\Programs\\Python\\Python311\\Lib\\site-packages\\pandas\\core\\apply.py:1289\u001b[0m, in \u001b[0;36mSeriesApply.apply_standard\u001b[1;34m(self)\u001b[0m\n\u001b[0;32m   1283\u001b[0m \u001b[38;5;66;03m# row-wise access\u001b[39;00m\n\u001b[0;32m   1284\u001b[0m \u001b[38;5;66;03m# apply doesn't have a `na_action` keyword and for backward compat reasons\u001b[39;00m\n\u001b[0;32m   1285\u001b[0m \u001b[38;5;66;03m# we need to give `na_action=\"ignore\"` for categorical data.\u001b[39;00m\n\u001b[0;32m   1286\u001b[0m \u001b[38;5;66;03m# TODO: remove the `na_action=\"ignore\"` when that default has been changed in\u001b[39;00m\n\u001b[0;32m   1287\u001b[0m \u001b[38;5;66;03m#  Categorical (GH51645).\u001b[39;00m\n\u001b[0;32m   1288\u001b[0m action \u001b[38;5;241m=\u001b[39m \u001b[38;5;124m\"\u001b[39m\u001b[38;5;124mignore\u001b[39m\u001b[38;5;124m\"\u001b[39m \u001b[38;5;28;01mif\u001b[39;00m \u001b[38;5;28misinstance\u001b[39m(obj\u001b[38;5;241m.\u001b[39mdtype, CategoricalDtype) \u001b[38;5;28;01melse\u001b[39;00m \u001b[38;5;28;01mNone\u001b[39;00m\n\u001b[1;32m-> 1289\u001b[0m mapped \u001b[38;5;241m=\u001b[39m \u001b[43mobj\u001b[49m\u001b[38;5;241;43m.\u001b[39;49m\u001b[43m_map_values\u001b[49m\u001b[43m(\u001b[49m\n\u001b[0;32m   1290\u001b[0m \u001b[43m    \u001b[49m\u001b[43mmapper\u001b[49m\u001b[38;5;241;43m=\u001b[39;49m\u001b[43mcurried\u001b[49m\u001b[43m,\u001b[49m\u001b[43m \u001b[49m\u001b[43mna_action\u001b[49m\u001b[38;5;241;43m=\u001b[39;49m\u001b[43maction\u001b[49m\u001b[43m,\u001b[49m\u001b[43m \u001b[49m\u001b[43mconvert\u001b[49m\u001b[38;5;241;43m=\u001b[39;49m\u001b[38;5;28;43mself\u001b[39;49m\u001b[38;5;241;43m.\u001b[39;49m\u001b[43mconvert_dtype\u001b[49m\n\u001b[0;32m   1291\u001b[0m \u001b[43m\u001b[49m\u001b[43m)\u001b[49m\n\u001b[0;32m   1293\u001b[0m \u001b[38;5;28;01mif\u001b[39;00m \u001b[38;5;28mlen\u001b[39m(mapped) \u001b[38;5;129;01mand\u001b[39;00m \u001b[38;5;28misinstance\u001b[39m(mapped[\u001b[38;5;241m0\u001b[39m], ABCSeries):\n\u001b[0;32m   1294\u001b[0m     \u001b[38;5;66;03m# GH#43986 Need to do list(mapped) in order to get treated as nested\u001b[39;00m\n\u001b[0;32m   1295\u001b[0m     \u001b[38;5;66;03m#  See also GH#25959 regarding EA support\u001b[39;00m\n\u001b[0;32m   1296\u001b[0m     \u001b[38;5;28;01mreturn\u001b[39;00m obj\u001b[38;5;241m.\u001b[39m_constructor_expanddim(\u001b[38;5;28mlist\u001b[39m(mapped), index\u001b[38;5;241m=\u001b[39mobj\u001b[38;5;241m.\u001b[39mindex)\n",
      "File \u001b[1;32m~\\AppData\\Local\\Programs\\Python\\Python311\\Lib\\site-packages\\pandas\\core\\base.py:921\u001b[0m, in \u001b[0;36mIndexOpsMixin._map_values\u001b[1;34m(self, mapper, na_action, convert)\u001b[0m\n\u001b[0;32m    918\u001b[0m \u001b[38;5;28;01mif\u001b[39;00m \u001b[38;5;28misinstance\u001b[39m(arr, ExtensionArray):\n\u001b[0;32m    919\u001b[0m     \u001b[38;5;28;01mreturn\u001b[39;00m arr\u001b[38;5;241m.\u001b[39mmap(mapper, na_action\u001b[38;5;241m=\u001b[39mna_action)\n\u001b[1;32m--> 921\u001b[0m \u001b[38;5;28;01mreturn\u001b[39;00m \u001b[43malgorithms\u001b[49m\u001b[38;5;241;43m.\u001b[39;49m\u001b[43mmap_array\u001b[49m\u001b[43m(\u001b[49m\u001b[43marr\u001b[49m\u001b[43m,\u001b[49m\u001b[43m \u001b[49m\u001b[43mmapper\u001b[49m\u001b[43m,\u001b[49m\u001b[43m \u001b[49m\u001b[43mna_action\u001b[49m\u001b[38;5;241;43m=\u001b[39;49m\u001b[43mna_action\u001b[49m\u001b[43m,\u001b[49m\u001b[43m \u001b[49m\u001b[43mconvert\u001b[49m\u001b[38;5;241;43m=\u001b[39;49m\u001b[43mconvert\u001b[49m\u001b[43m)\u001b[49m\n",
      "File \u001b[1;32m~\\AppData\\Local\\Programs\\Python\\Python311\\Lib\\site-packages\\pandas\\core\\algorithms.py:1814\u001b[0m, in \u001b[0;36mmap_array\u001b[1;34m(arr, mapper, na_action, convert)\u001b[0m\n\u001b[0;32m   1812\u001b[0m values \u001b[38;5;241m=\u001b[39m arr\u001b[38;5;241m.\u001b[39mastype(\u001b[38;5;28mobject\u001b[39m, copy\u001b[38;5;241m=\u001b[39m\u001b[38;5;28;01mFalse\u001b[39;00m)\n\u001b[0;32m   1813\u001b[0m \u001b[38;5;28;01mif\u001b[39;00m na_action \u001b[38;5;129;01mis\u001b[39;00m \u001b[38;5;28;01mNone\u001b[39;00m:\n\u001b[1;32m-> 1814\u001b[0m     \u001b[38;5;28;01mreturn\u001b[39;00m \u001b[43mlib\u001b[49m\u001b[38;5;241;43m.\u001b[39;49m\u001b[43mmap_infer\u001b[49m\u001b[43m(\u001b[49m\u001b[43mvalues\u001b[49m\u001b[43m,\u001b[49m\u001b[43m \u001b[49m\u001b[43mmapper\u001b[49m\u001b[43m,\u001b[49m\u001b[43m \u001b[49m\u001b[43mconvert\u001b[49m\u001b[38;5;241;43m=\u001b[39;49m\u001b[43mconvert\u001b[49m\u001b[43m)\u001b[49m\n\u001b[0;32m   1815\u001b[0m \u001b[38;5;28;01melse\u001b[39;00m:\n\u001b[0;32m   1816\u001b[0m     \u001b[38;5;28;01mreturn\u001b[39;00m lib\u001b[38;5;241m.\u001b[39mmap_infer_mask(\n\u001b[0;32m   1817\u001b[0m         values, mapper, mask\u001b[38;5;241m=\u001b[39misna(values)\u001b[38;5;241m.\u001b[39mview(np\u001b[38;5;241m.\u001b[39muint8), convert\u001b[38;5;241m=\u001b[39mconvert\n\u001b[0;32m   1818\u001b[0m     )\n",
      "File \u001b[1;32mlib.pyx:2926\u001b[0m, in \u001b[0;36mpandas._libs.lib.map_infer\u001b[1;34m()\u001b[0m\n",
      "Cell \u001b[1;32mIn[14], line 3\u001b[0m, in \u001b[0;36mconvert\u001b[1;34m(obj)\u001b[0m\n\u001b[0;32m      1\u001b[0m \u001b[38;5;28;01mdef\u001b[39;00m \u001b[38;5;21mconvert\u001b[39m(obj):\n\u001b[0;32m      2\u001b[0m     L \u001b[38;5;241m=\u001b[39m[]\n\u001b[1;32m----> 3\u001b[0m     \u001b[38;5;28;01mfor\u001b[39;00m i \u001b[38;5;129;01min\u001b[39;00m \u001b[43mast\u001b[49m\u001b[38;5;241m.\u001b[39mliteral_eval(obj):\n\u001b[0;32m      4\u001b[0m         L\u001b[38;5;241m.\u001b[39mappend(i[\u001b[38;5;124m'\u001b[39m\u001b[38;5;124mname\u001b[39m\u001b[38;5;124m'\u001b[39m])\n\u001b[0;32m      5\u001b[0m         \u001b[38;5;28;01mreturn\u001b[39;00m L\n",
      "\u001b[1;31mNameError\u001b[0m: name 'ast' is not defined"
     ]
    }
   ],
   "source": [
    "movies['genres'].apply(convert)"
   ]
  },
  {
   "cell_type": "code",
   "execution_count": null,
   "id": "a335c692-d3b5-4651-b97c-b20a4b244cc2",
   "metadata": {},
   "outputs": [],
   "source": [
    "movies.head()"
   ]
  },
  {
   "cell_type": "code",
   "execution_count": null,
   "id": "64650496-e8c7-4aa1-ab95-2fa4bf5bda7c",
   "metadata": {},
   "outputs": [],
   "source": [
    "movies['keywords'] = movies['keywords'].apply(convert)"
   ]
  },
  {
   "cell_type": "code",
   "execution_count": null,
   "id": "cff7deb5-7671-41f5-be23-e26b4ff51a35",
   "metadata": {},
   "outputs": [],
   "source": [
    "movies['cast'][0]"
   ]
  },
  {
   "cell_type": "code",
   "execution_count": null,
   "id": "c2598ee1-817d-4874-b895-d8b2cb93699c",
   "metadata": {},
   "outputs": [],
   "source": [
    "def convert3(obj):\n",
    "    L =[]\n",
    "    counter = 0\n",
    "    for i in ast.literal_eval(obj):\n",
    "        if counter !=3:\n",
    "            L.append(i['name'])\n",
    "            counter+=1\n",
    "        else:\n",
    "            break\n",
    "        \n",
    "    return L"
   ]
  },
  {
   "cell_type": "code",
   "execution_count": null,
   "id": "59f205e2-95bd-4594-b568-63517264bd13",
   "metadata": {},
   "outputs": [],
   "source": [
    "movies['cast']=movies['cast'].apply(convert3)"
   ]
  },
  {
   "cell_type": "code",
   "execution_count": null,
   "id": "e211b91f-4856-4d5a-9f25-11569e3b6001",
   "metadata": {},
   "outputs": [],
   "source": [
    "movies.head()"
   ]
  },
  {
   "cell_type": "code",
   "execution_count": null,
   "id": "ca48d13e-4d78-43c4-a955-12dcac3a6559",
   "metadata": {},
   "outputs": [],
   "source": [
    "movies['crew'][0]"
   ]
  },
  {
   "cell_type": "code",
   "execution_count": null,
   "id": "b529f1ad-0c2b-4bcf-9011-8b7e587f3cae",
   "metadata": {},
   "outputs": [],
   "source": [
    "def fetch_director(obj):\n",
    "    L =[]\n",
    "    for i in ast.literal_eval(obj):\n",
    "        if i['job'] =='Director':\n",
    "            L.append(i['name'])\n",
    "            break\n",
    "    return L"
   ]
  },
  {
   "cell_type": "code",
   "execution_count": 16,
   "id": "65774b2f-8f35-4ab4-bb6c-b208cb8ad97c",
   "metadata": {},
   "outputs": [
    {
     "ename": "NameError",
     "evalue": "name 'fetch_director' is not defined",
     "output_type": "error",
     "traceback": [
      "\u001b[1;31m---------------------------------------------------------------------------\u001b[0m",
      "\u001b[1;31mNameError\u001b[0m                                 Traceback (most recent call last)",
      "Cell \u001b[1;32mIn[16], line 1\u001b[0m\n\u001b[1;32m----> 1\u001b[0m movies[\u001b[38;5;124m'\u001b[39m\u001b[38;5;124mcrew\u001b[39m\u001b[38;5;124m'\u001b[39m]\u001b[38;5;241m=\u001b[39mmovies[\u001b[38;5;124m'\u001b[39m\u001b[38;5;124mcrew\u001b[39m\u001b[38;5;124m'\u001b[39m]\u001b[38;5;241m.\u001b[39mapply(\u001b[43mfetch_director\u001b[49m)\n",
      "\u001b[1;31mNameError\u001b[0m: name 'fetch_director' is not defined"
     ]
    }
   ],
   "source": [
    "movies['crew']=movies['crew'].apply(fetch_director)"
   ]
  },
  {
   "cell_type": "code",
   "execution_count": 17,
   "id": "579c5b06-8748-49c1-bce4-5bcc5b6054f4",
   "metadata": {},
   "outputs": [
    {
     "data": {
      "text/html": [
       "<div>\n",
       "<style scoped>\n",
       "    .dataframe tbody tr th:only-of-type {\n",
       "        vertical-align: middle;\n",
       "    }\n",
       "\n",
       "    .dataframe tbody tr th {\n",
       "        vertical-align: top;\n",
       "    }\n",
       "\n",
       "    .dataframe thead th {\n",
       "        text-align: right;\n",
       "    }\n",
       "</style>\n",
       "<table border=\"1\" class=\"dataframe\">\n",
       "  <thead>\n",
       "    <tr style=\"text-align: right;\">\n",
       "      <th></th>\n",
       "      <th>movie_id</th>\n",
       "      <th>title</th>\n",
       "      <th>overview</th>\n",
       "      <th>genres</th>\n",
       "      <th>keywords</th>\n",
       "      <th>cast</th>\n",
       "      <th>crew</th>\n",
       "    </tr>\n",
       "  </thead>\n",
       "  <tbody>\n",
       "    <tr>\n",
       "      <th>0</th>\n",
       "      <td>19995</td>\n",
       "      <td>Avatar</td>\n",
       "      <td>In the 22nd century, a paraplegic Marine is di...</td>\n",
       "      <td>[{\"id\": 28, \"name\": \"Action\"}, {\"id\": 12, \"nam...</td>\n",
       "      <td>[{\"id\": 1463, \"name\": \"culture clash\"}, {\"id\":...</td>\n",
       "      <td>[{\"cast_id\": 242, \"character\": \"Jake Sully\", \"...</td>\n",
       "      <td>[{\"credit_id\": \"52fe48009251416c750aca23\", \"de...</td>\n",
       "    </tr>\n",
       "    <tr>\n",
       "      <th>1</th>\n",
       "      <td>285</td>\n",
       "      <td>Pirates of the Caribbean: At World's End</td>\n",
       "      <td>Captain Barbossa, long believed to be dead, ha...</td>\n",
       "      <td>[{\"id\": 12, \"name\": \"Adventure\"}, {\"id\": 14, \"...</td>\n",
       "      <td>[{\"id\": 270, \"name\": \"ocean\"}, {\"id\": 726, \"na...</td>\n",
       "      <td>[{\"cast_id\": 4, \"character\": \"Captain Jack Spa...</td>\n",
       "      <td>[{\"credit_id\": \"52fe4232c3a36847f800b579\", \"de...</td>\n",
       "    </tr>\n",
       "    <tr>\n",
       "      <th>2</th>\n",
       "      <td>206647</td>\n",
       "      <td>Spectre</td>\n",
       "      <td>A cryptic message from Bond’s past sends him o...</td>\n",
       "      <td>[{\"id\": 28, \"name\": \"Action\"}, {\"id\": 12, \"nam...</td>\n",
       "      <td>[{\"id\": 470, \"name\": \"spy\"}, {\"id\": 818, \"name...</td>\n",
       "      <td>[{\"cast_id\": 1, \"character\": \"James Bond\", \"cr...</td>\n",
       "      <td>[{\"credit_id\": \"54805967c3a36829b5002c41\", \"de...</td>\n",
       "    </tr>\n",
       "    <tr>\n",
       "      <th>3</th>\n",
       "      <td>49026</td>\n",
       "      <td>The Dark Knight Rises</td>\n",
       "      <td>Following the death of District Attorney Harve...</td>\n",
       "      <td>[{\"id\": 28, \"name\": \"Action\"}, {\"id\": 80, \"nam...</td>\n",
       "      <td>[{\"id\": 849, \"name\": \"dc comics\"}, {\"id\": 853,...</td>\n",
       "      <td>[{\"cast_id\": 2, \"character\": \"Bruce Wayne / Ba...</td>\n",
       "      <td>[{\"credit_id\": \"52fe4781c3a36847f81398c3\", \"de...</td>\n",
       "    </tr>\n",
       "    <tr>\n",
       "      <th>4</th>\n",
       "      <td>49529</td>\n",
       "      <td>John Carter</td>\n",
       "      <td>John Carter is a war-weary, former military ca...</td>\n",
       "      <td>[{\"id\": 28, \"name\": \"Action\"}, {\"id\": 12, \"nam...</td>\n",
       "      <td>[{\"id\": 818, \"name\": \"based on novel\"}, {\"id\":...</td>\n",
       "      <td>[{\"cast_id\": 5, \"character\": \"John Carter\", \"c...</td>\n",
       "      <td>[{\"credit_id\": \"52fe479ac3a36847f813eaa3\", \"de...</td>\n",
       "    </tr>\n",
       "  </tbody>\n",
       "</table>\n",
       "</div>"
      ],
      "text/plain": [
       "   movie_id                                     title  \\\n",
       "0     19995                                    Avatar   \n",
       "1       285  Pirates of the Caribbean: At World's End   \n",
       "2    206647                                   Spectre   \n",
       "3     49026                     The Dark Knight Rises   \n",
       "4     49529                               John Carter   \n",
       "\n",
       "                                            overview  \\\n",
       "0  In the 22nd century, a paraplegic Marine is di...   \n",
       "1  Captain Barbossa, long believed to be dead, ha...   \n",
       "2  A cryptic message from Bond’s past sends him o...   \n",
       "3  Following the death of District Attorney Harve...   \n",
       "4  John Carter is a war-weary, former military ca...   \n",
       "\n",
       "                                              genres  \\\n",
       "0  [{\"id\": 28, \"name\": \"Action\"}, {\"id\": 12, \"nam...   \n",
       "1  [{\"id\": 12, \"name\": \"Adventure\"}, {\"id\": 14, \"...   \n",
       "2  [{\"id\": 28, \"name\": \"Action\"}, {\"id\": 12, \"nam...   \n",
       "3  [{\"id\": 28, \"name\": \"Action\"}, {\"id\": 80, \"nam...   \n",
       "4  [{\"id\": 28, \"name\": \"Action\"}, {\"id\": 12, \"nam...   \n",
       "\n",
       "                                            keywords  \\\n",
       "0  [{\"id\": 1463, \"name\": \"culture clash\"}, {\"id\":...   \n",
       "1  [{\"id\": 270, \"name\": \"ocean\"}, {\"id\": 726, \"na...   \n",
       "2  [{\"id\": 470, \"name\": \"spy\"}, {\"id\": 818, \"name...   \n",
       "3  [{\"id\": 849, \"name\": \"dc comics\"}, {\"id\": 853,...   \n",
       "4  [{\"id\": 818, \"name\": \"based on novel\"}, {\"id\":...   \n",
       "\n",
       "                                                cast  \\\n",
       "0  [{\"cast_id\": 242, \"character\": \"Jake Sully\", \"...   \n",
       "1  [{\"cast_id\": 4, \"character\": \"Captain Jack Spa...   \n",
       "2  [{\"cast_id\": 1, \"character\": \"James Bond\", \"cr...   \n",
       "3  [{\"cast_id\": 2, \"character\": \"Bruce Wayne / Ba...   \n",
       "4  [{\"cast_id\": 5, \"character\": \"John Carter\", \"c...   \n",
       "\n",
       "                                                crew  \n",
       "0  [{\"credit_id\": \"52fe48009251416c750aca23\", \"de...  \n",
       "1  [{\"credit_id\": \"52fe4232c3a36847f800b579\", \"de...  \n",
       "2  [{\"credit_id\": \"54805967c3a36829b5002c41\", \"de...  \n",
       "3  [{\"credit_id\": \"52fe4781c3a36847f81398c3\", \"de...  \n",
       "4  [{\"credit_id\": \"52fe479ac3a36847f813eaa3\", \"de...  "
      ]
     },
     "execution_count": 17,
     "metadata": {},
     "output_type": "execute_result"
    }
   ],
   "source": [
    "movies.head()"
   ]
  },
  {
   "cell_type": "code",
   "execution_count": 18,
   "id": "b5e36c71-c938-430a-8999-5802db8b99fc",
   "metadata": {},
   "outputs": [
    {
     "data": {
      "text/plain": [
       "'In the 22nd century, a paraplegic Marine is dispatched to the moon Pandora on a unique mission, but becomes torn between following orders and protecting an alien civilization.'"
      ]
     },
     "execution_count": 18,
     "metadata": {},
     "output_type": "execute_result"
    }
   ],
   "source": [
    "movies['overview'][0]"
   ]
  },
  {
   "cell_type": "code",
   "execution_count": 19,
   "id": "9a81e140-bb9d-40d5-9f50-8842f1c88997",
   "metadata": {},
   "outputs": [],
   "source": [
    "movies['overview']=movies['overview'].apply(lambda x:x.split())"
   ]
  },
  {
   "cell_type": "code",
   "execution_count": 20,
   "id": "a356bbfa-d665-4e53-8c29-cc49bb9e5944",
   "metadata": {},
   "outputs": [
    {
     "data": {
      "text/html": [
       "<div>\n",
       "<style scoped>\n",
       "    .dataframe tbody tr th:only-of-type {\n",
       "        vertical-align: middle;\n",
       "    }\n",
       "\n",
       "    .dataframe tbody tr th {\n",
       "        vertical-align: top;\n",
       "    }\n",
       "\n",
       "    .dataframe thead th {\n",
       "        text-align: right;\n",
       "    }\n",
       "</style>\n",
       "<table border=\"1\" class=\"dataframe\">\n",
       "  <thead>\n",
       "    <tr style=\"text-align: right;\">\n",
       "      <th></th>\n",
       "      <th>movie_id</th>\n",
       "      <th>title</th>\n",
       "      <th>overview</th>\n",
       "      <th>genres</th>\n",
       "      <th>keywords</th>\n",
       "      <th>cast</th>\n",
       "      <th>crew</th>\n",
       "    </tr>\n",
       "  </thead>\n",
       "  <tbody>\n",
       "    <tr>\n",
       "      <th>0</th>\n",
       "      <td>19995</td>\n",
       "      <td>Avatar</td>\n",
       "      <td>[In, the, 22nd, century,, a, paraplegic, Marin...</td>\n",
       "      <td>[{\"id\": 28, \"name\": \"Action\"}, {\"id\": 12, \"nam...</td>\n",
       "      <td>[{\"id\": 1463, \"name\": \"culture clash\"}, {\"id\":...</td>\n",
       "      <td>[{\"cast_id\": 242, \"character\": \"Jake Sully\", \"...</td>\n",
       "      <td>[{\"credit_id\": \"52fe48009251416c750aca23\", \"de...</td>\n",
       "    </tr>\n",
       "    <tr>\n",
       "      <th>1</th>\n",
       "      <td>285</td>\n",
       "      <td>Pirates of the Caribbean: At World's End</td>\n",
       "      <td>[Captain, Barbossa,, long, believed, to, be, d...</td>\n",
       "      <td>[{\"id\": 12, \"name\": \"Adventure\"}, {\"id\": 14, \"...</td>\n",
       "      <td>[{\"id\": 270, \"name\": \"ocean\"}, {\"id\": 726, \"na...</td>\n",
       "      <td>[{\"cast_id\": 4, \"character\": \"Captain Jack Spa...</td>\n",
       "      <td>[{\"credit_id\": \"52fe4232c3a36847f800b579\", \"de...</td>\n",
       "    </tr>\n",
       "    <tr>\n",
       "      <th>2</th>\n",
       "      <td>206647</td>\n",
       "      <td>Spectre</td>\n",
       "      <td>[A, cryptic, message, from, Bond’s, past, send...</td>\n",
       "      <td>[{\"id\": 28, \"name\": \"Action\"}, {\"id\": 12, \"nam...</td>\n",
       "      <td>[{\"id\": 470, \"name\": \"spy\"}, {\"id\": 818, \"name...</td>\n",
       "      <td>[{\"cast_id\": 1, \"character\": \"James Bond\", \"cr...</td>\n",
       "      <td>[{\"credit_id\": \"54805967c3a36829b5002c41\", \"de...</td>\n",
       "    </tr>\n",
       "    <tr>\n",
       "      <th>3</th>\n",
       "      <td>49026</td>\n",
       "      <td>The Dark Knight Rises</td>\n",
       "      <td>[Following, the, death, of, District, Attorney...</td>\n",
       "      <td>[{\"id\": 28, \"name\": \"Action\"}, {\"id\": 80, \"nam...</td>\n",
       "      <td>[{\"id\": 849, \"name\": \"dc comics\"}, {\"id\": 853,...</td>\n",
       "      <td>[{\"cast_id\": 2, \"character\": \"Bruce Wayne / Ba...</td>\n",
       "      <td>[{\"credit_id\": \"52fe4781c3a36847f81398c3\", \"de...</td>\n",
       "    </tr>\n",
       "    <tr>\n",
       "      <th>4</th>\n",
       "      <td>49529</td>\n",
       "      <td>John Carter</td>\n",
       "      <td>[John, Carter, is, a, war-weary,, former, mili...</td>\n",
       "      <td>[{\"id\": 28, \"name\": \"Action\"}, {\"id\": 12, \"nam...</td>\n",
       "      <td>[{\"id\": 818, \"name\": \"based on novel\"}, {\"id\":...</td>\n",
       "      <td>[{\"cast_id\": 5, \"character\": \"John Carter\", \"c...</td>\n",
       "      <td>[{\"credit_id\": \"52fe479ac3a36847f813eaa3\", \"de...</td>\n",
       "    </tr>\n",
       "  </tbody>\n",
       "</table>\n",
       "</div>"
      ],
      "text/plain": [
       "   movie_id                                     title  \\\n",
       "0     19995                                    Avatar   \n",
       "1       285  Pirates of the Caribbean: At World's End   \n",
       "2    206647                                   Spectre   \n",
       "3     49026                     The Dark Knight Rises   \n",
       "4     49529                               John Carter   \n",
       "\n",
       "                                            overview  \\\n",
       "0  [In, the, 22nd, century,, a, paraplegic, Marin...   \n",
       "1  [Captain, Barbossa,, long, believed, to, be, d...   \n",
       "2  [A, cryptic, message, from, Bond’s, past, send...   \n",
       "3  [Following, the, death, of, District, Attorney...   \n",
       "4  [John, Carter, is, a, war-weary,, former, mili...   \n",
       "\n",
       "                                              genres  \\\n",
       "0  [{\"id\": 28, \"name\": \"Action\"}, {\"id\": 12, \"nam...   \n",
       "1  [{\"id\": 12, \"name\": \"Adventure\"}, {\"id\": 14, \"...   \n",
       "2  [{\"id\": 28, \"name\": \"Action\"}, {\"id\": 12, \"nam...   \n",
       "3  [{\"id\": 28, \"name\": \"Action\"}, {\"id\": 80, \"nam...   \n",
       "4  [{\"id\": 28, \"name\": \"Action\"}, {\"id\": 12, \"nam...   \n",
       "\n",
       "                                            keywords  \\\n",
       "0  [{\"id\": 1463, \"name\": \"culture clash\"}, {\"id\":...   \n",
       "1  [{\"id\": 270, \"name\": \"ocean\"}, {\"id\": 726, \"na...   \n",
       "2  [{\"id\": 470, \"name\": \"spy\"}, {\"id\": 818, \"name...   \n",
       "3  [{\"id\": 849, \"name\": \"dc comics\"}, {\"id\": 853,...   \n",
       "4  [{\"id\": 818, \"name\": \"based on novel\"}, {\"id\":...   \n",
       "\n",
       "                                                cast  \\\n",
       "0  [{\"cast_id\": 242, \"character\": \"Jake Sully\", \"...   \n",
       "1  [{\"cast_id\": 4, \"character\": \"Captain Jack Spa...   \n",
       "2  [{\"cast_id\": 1, \"character\": \"James Bond\", \"cr...   \n",
       "3  [{\"cast_id\": 2, \"character\": \"Bruce Wayne / Ba...   \n",
       "4  [{\"cast_id\": 5, \"character\": \"John Carter\", \"c...   \n",
       "\n",
       "                                                crew  \n",
       "0  [{\"credit_id\": \"52fe48009251416c750aca23\", \"de...  \n",
       "1  [{\"credit_id\": \"52fe4232c3a36847f800b579\", \"de...  \n",
       "2  [{\"credit_id\": \"54805967c3a36829b5002c41\", \"de...  \n",
       "3  [{\"credit_id\": \"52fe4781c3a36847f81398c3\", \"de...  \n",
       "4  [{\"credit_id\": \"52fe479ac3a36847f813eaa3\", \"de...  "
      ]
     },
     "execution_count": 20,
     "metadata": {},
     "output_type": "execute_result"
    }
   ],
   "source": [
    "movies.head()"
   ]
  },
  {
   "cell_type": "code",
   "execution_count": 21,
   "id": "3b6cf9ac-9053-4691-b349-7154e2ab08cd",
   "metadata": {},
   "outputs": [],
   "source": [
    "movies['genres']=movies['genres'].apply(lambda x:[i.replace(\" \",\"\")for i in x])"
   ]
  },
  {
   "cell_type": "code",
   "execution_count": 22,
   "id": "e9ac163f-48c0-4ee7-a59d-d4ad7af65a59",
   "metadata": {},
   "outputs": [
    {
     "data": {
      "text/html": [
       "<div>\n",
       "<style scoped>\n",
       "    .dataframe tbody tr th:only-of-type {\n",
       "        vertical-align: middle;\n",
       "    }\n",
       "\n",
       "    .dataframe tbody tr th {\n",
       "        vertical-align: top;\n",
       "    }\n",
       "\n",
       "    .dataframe thead th {\n",
       "        text-align: right;\n",
       "    }\n",
       "</style>\n",
       "<table border=\"1\" class=\"dataframe\">\n",
       "  <thead>\n",
       "    <tr style=\"text-align: right;\">\n",
       "      <th></th>\n",
       "      <th>movie_id</th>\n",
       "      <th>title</th>\n",
       "      <th>overview</th>\n",
       "      <th>genres</th>\n",
       "      <th>keywords</th>\n",
       "      <th>cast</th>\n",
       "      <th>crew</th>\n",
       "    </tr>\n",
       "  </thead>\n",
       "  <tbody>\n",
       "    <tr>\n",
       "      <th>0</th>\n",
       "      <td>19995</td>\n",
       "      <td>Avatar</td>\n",
       "      <td>[In, the, 22nd, century,, a, paraplegic, Marin...</td>\n",
       "      <td>[[, {, \", i, d, \", :, , 2, 8, ,, , \", n, a, m,...</td>\n",
       "      <td>[{\"id\": 1463, \"name\": \"culture clash\"}, {\"id\":...</td>\n",
       "      <td>[{\"cast_id\": 242, \"character\": \"Jake Sully\", \"...</td>\n",
       "      <td>[{\"credit_id\": \"52fe48009251416c750aca23\", \"de...</td>\n",
       "    </tr>\n",
       "    <tr>\n",
       "      <th>1</th>\n",
       "      <td>285</td>\n",
       "      <td>Pirates of the Caribbean: At World's End</td>\n",
       "      <td>[Captain, Barbossa,, long, believed, to, be, d...</td>\n",
       "      <td>[[, {, \", i, d, \", :, , 1, 2, ,, , \", n, a, m,...</td>\n",
       "      <td>[{\"id\": 270, \"name\": \"ocean\"}, {\"id\": 726, \"na...</td>\n",
       "      <td>[{\"cast_id\": 4, \"character\": \"Captain Jack Spa...</td>\n",
       "      <td>[{\"credit_id\": \"52fe4232c3a36847f800b579\", \"de...</td>\n",
       "    </tr>\n",
       "    <tr>\n",
       "      <th>2</th>\n",
       "      <td>206647</td>\n",
       "      <td>Spectre</td>\n",
       "      <td>[A, cryptic, message, from, Bond’s, past, send...</td>\n",
       "      <td>[[, {, \", i, d, \", :, , 2, 8, ,, , \", n, a, m,...</td>\n",
       "      <td>[{\"id\": 470, \"name\": \"spy\"}, {\"id\": 818, \"name...</td>\n",
       "      <td>[{\"cast_id\": 1, \"character\": \"James Bond\", \"cr...</td>\n",
       "      <td>[{\"credit_id\": \"54805967c3a36829b5002c41\", \"de...</td>\n",
       "    </tr>\n",
       "    <tr>\n",
       "      <th>3</th>\n",
       "      <td>49026</td>\n",
       "      <td>The Dark Knight Rises</td>\n",
       "      <td>[Following, the, death, of, District, Attorney...</td>\n",
       "      <td>[[, {, \", i, d, \", :, , 2, 8, ,, , \", n, a, m,...</td>\n",
       "      <td>[{\"id\": 849, \"name\": \"dc comics\"}, {\"id\": 853,...</td>\n",
       "      <td>[{\"cast_id\": 2, \"character\": \"Bruce Wayne / Ba...</td>\n",
       "      <td>[{\"credit_id\": \"52fe4781c3a36847f81398c3\", \"de...</td>\n",
       "    </tr>\n",
       "    <tr>\n",
       "      <th>4</th>\n",
       "      <td>49529</td>\n",
       "      <td>John Carter</td>\n",
       "      <td>[John, Carter, is, a, war-weary,, former, mili...</td>\n",
       "      <td>[[, {, \", i, d, \", :, , 2, 8, ,, , \", n, a, m,...</td>\n",
       "      <td>[{\"id\": 818, \"name\": \"based on novel\"}, {\"id\":...</td>\n",
       "      <td>[{\"cast_id\": 5, \"character\": \"John Carter\", \"c...</td>\n",
       "      <td>[{\"credit_id\": \"52fe479ac3a36847f813eaa3\", \"de...</td>\n",
       "    </tr>\n",
       "  </tbody>\n",
       "</table>\n",
       "</div>"
      ],
      "text/plain": [
       "   movie_id                                     title  \\\n",
       "0     19995                                    Avatar   \n",
       "1       285  Pirates of the Caribbean: At World's End   \n",
       "2    206647                                   Spectre   \n",
       "3     49026                     The Dark Knight Rises   \n",
       "4     49529                               John Carter   \n",
       "\n",
       "                                            overview  \\\n",
       "0  [In, the, 22nd, century,, a, paraplegic, Marin...   \n",
       "1  [Captain, Barbossa,, long, believed, to, be, d...   \n",
       "2  [A, cryptic, message, from, Bond’s, past, send...   \n",
       "3  [Following, the, death, of, District, Attorney...   \n",
       "4  [John, Carter, is, a, war-weary,, former, mili...   \n",
       "\n",
       "                                              genres  \\\n",
       "0  [[, {, \", i, d, \", :, , 2, 8, ,, , \", n, a, m,...   \n",
       "1  [[, {, \", i, d, \", :, , 1, 2, ,, , \", n, a, m,...   \n",
       "2  [[, {, \", i, d, \", :, , 2, 8, ,, , \", n, a, m,...   \n",
       "3  [[, {, \", i, d, \", :, , 2, 8, ,, , \", n, a, m,...   \n",
       "4  [[, {, \", i, d, \", :, , 2, 8, ,, , \", n, a, m,...   \n",
       "\n",
       "                                            keywords  \\\n",
       "0  [{\"id\": 1463, \"name\": \"culture clash\"}, {\"id\":...   \n",
       "1  [{\"id\": 270, \"name\": \"ocean\"}, {\"id\": 726, \"na...   \n",
       "2  [{\"id\": 470, \"name\": \"spy\"}, {\"id\": 818, \"name...   \n",
       "3  [{\"id\": 849, \"name\": \"dc comics\"}, {\"id\": 853,...   \n",
       "4  [{\"id\": 818, \"name\": \"based on novel\"}, {\"id\":...   \n",
       "\n",
       "                                                cast  \\\n",
       "0  [{\"cast_id\": 242, \"character\": \"Jake Sully\", \"...   \n",
       "1  [{\"cast_id\": 4, \"character\": \"Captain Jack Spa...   \n",
       "2  [{\"cast_id\": 1, \"character\": \"James Bond\", \"cr...   \n",
       "3  [{\"cast_id\": 2, \"character\": \"Bruce Wayne / Ba...   \n",
       "4  [{\"cast_id\": 5, \"character\": \"John Carter\", \"c...   \n",
       "\n",
       "                                                crew  \n",
       "0  [{\"credit_id\": \"52fe48009251416c750aca23\", \"de...  \n",
       "1  [{\"credit_id\": \"52fe4232c3a36847f800b579\", \"de...  \n",
       "2  [{\"credit_id\": \"54805967c3a36829b5002c41\", \"de...  \n",
       "3  [{\"credit_id\": \"52fe4781c3a36847f81398c3\", \"de...  \n",
       "4  [{\"credit_id\": \"52fe479ac3a36847f813eaa3\", \"de...  "
      ]
     },
     "execution_count": 22,
     "metadata": {},
     "output_type": "execute_result"
    }
   ],
   "source": [
    "movies.head()"
   ]
  },
  {
   "cell_type": "code",
   "execution_count": 23,
   "id": "470d01d8-15fc-4cbe-8e4a-cb758da6dca2",
   "metadata": {},
   "outputs": [],
   "source": [
    "movies['genres']=movies['genres'].apply(lambda x:[i.replace(\" \",\"\")for i in x])\n",
    "movies['keywords']=movies['keywords'].apply(lambda x:[i.replace(\" \",\"\")for i in x])\n",
    "movies['crew']=movies['crew'].apply(lambda x:[i.replace(\" \",\"\")for i in x])\n",
    "movies['cast']=movies['cast'].apply(lambda x:[i.replace(\" \",\"\")for i in x])"
   ]
  },
  {
   "cell_type": "code",
   "execution_count": 24,
   "id": "76b4bdf9-8084-4bbf-9ca6-703a02b9b47d",
   "metadata": {},
   "outputs": [
    {
     "data": {
      "text/html": [
       "<div>\n",
       "<style scoped>\n",
       "    .dataframe tbody tr th:only-of-type {\n",
       "        vertical-align: middle;\n",
       "    }\n",
       "\n",
       "    .dataframe tbody tr th {\n",
       "        vertical-align: top;\n",
       "    }\n",
       "\n",
       "    .dataframe thead th {\n",
       "        text-align: right;\n",
       "    }\n",
       "</style>\n",
       "<table border=\"1\" class=\"dataframe\">\n",
       "  <thead>\n",
       "    <tr style=\"text-align: right;\">\n",
       "      <th></th>\n",
       "      <th>movie_id</th>\n",
       "      <th>title</th>\n",
       "      <th>overview</th>\n",
       "      <th>genres</th>\n",
       "      <th>keywords</th>\n",
       "      <th>cast</th>\n",
       "      <th>crew</th>\n",
       "    </tr>\n",
       "  </thead>\n",
       "  <tbody>\n",
       "    <tr>\n",
       "      <th>0</th>\n",
       "      <td>19995</td>\n",
       "      <td>Avatar</td>\n",
       "      <td>[In, the, 22nd, century,, a, paraplegic, Marin...</td>\n",
       "      <td>[[, {, \", i, d, \", :, , 2, 8, ,, , \", n, a, m,...</td>\n",
       "      <td>[[, {, \", i, d, \", :, , 1, 4, 6, 3, ,, , \", n,...</td>\n",
       "      <td>[[, {, \", c, a, s, t, _, i, d, \", :, , 2, 4, 2...</td>\n",
       "      <td>[[, {, \", c, r, e, d, i, t, _, i, d, \", :, , \"...</td>\n",
       "    </tr>\n",
       "    <tr>\n",
       "      <th>1</th>\n",
       "      <td>285</td>\n",
       "      <td>Pirates of the Caribbean: At World's End</td>\n",
       "      <td>[Captain, Barbossa,, long, believed, to, be, d...</td>\n",
       "      <td>[[, {, \", i, d, \", :, , 1, 2, ,, , \", n, a, m,...</td>\n",
       "      <td>[[, {, \", i, d, \", :, , 2, 7, 0, ,, , \", n, a,...</td>\n",
       "      <td>[[, {, \", c, a, s, t, _, i, d, \", :, , 4, ,, ,...</td>\n",
       "      <td>[[, {, \", c, r, e, d, i, t, _, i, d, \", :, , \"...</td>\n",
       "    </tr>\n",
       "    <tr>\n",
       "      <th>2</th>\n",
       "      <td>206647</td>\n",
       "      <td>Spectre</td>\n",
       "      <td>[A, cryptic, message, from, Bond’s, past, send...</td>\n",
       "      <td>[[, {, \", i, d, \", :, , 2, 8, ,, , \", n, a, m,...</td>\n",
       "      <td>[[, {, \", i, d, \", :, , 4, 7, 0, ,, , \", n, a,...</td>\n",
       "      <td>[[, {, \", c, a, s, t, _, i, d, \", :, , 1, ,, ,...</td>\n",
       "      <td>[[, {, \", c, r, e, d, i, t, _, i, d, \", :, , \"...</td>\n",
       "    </tr>\n",
       "    <tr>\n",
       "      <th>3</th>\n",
       "      <td>49026</td>\n",
       "      <td>The Dark Knight Rises</td>\n",
       "      <td>[Following, the, death, of, District, Attorney...</td>\n",
       "      <td>[[, {, \", i, d, \", :, , 2, 8, ,, , \", n, a, m,...</td>\n",
       "      <td>[[, {, \", i, d, \", :, , 8, 4, 9, ,, , \", n, a,...</td>\n",
       "      <td>[[, {, \", c, a, s, t, _, i, d, \", :, , 2, ,, ,...</td>\n",
       "      <td>[[, {, \", c, r, e, d, i, t, _, i, d, \", :, , \"...</td>\n",
       "    </tr>\n",
       "    <tr>\n",
       "      <th>4</th>\n",
       "      <td>49529</td>\n",
       "      <td>John Carter</td>\n",
       "      <td>[John, Carter, is, a, war-weary,, former, mili...</td>\n",
       "      <td>[[, {, \", i, d, \", :, , 2, 8, ,, , \", n, a, m,...</td>\n",
       "      <td>[[, {, \", i, d, \", :, , 8, 1, 8, ,, , \", n, a,...</td>\n",
       "      <td>[[, {, \", c, a, s, t, _, i, d, \", :, , 5, ,, ,...</td>\n",
       "      <td>[[, {, \", c, r, e, d, i, t, _, i, d, \", :, , \"...</td>\n",
       "    </tr>\n",
       "  </tbody>\n",
       "</table>\n",
       "</div>"
      ],
      "text/plain": [
       "   movie_id                                     title  \\\n",
       "0     19995                                    Avatar   \n",
       "1       285  Pirates of the Caribbean: At World's End   \n",
       "2    206647                                   Spectre   \n",
       "3     49026                     The Dark Knight Rises   \n",
       "4     49529                               John Carter   \n",
       "\n",
       "                                            overview  \\\n",
       "0  [In, the, 22nd, century,, a, paraplegic, Marin...   \n",
       "1  [Captain, Barbossa,, long, believed, to, be, d...   \n",
       "2  [A, cryptic, message, from, Bond’s, past, send...   \n",
       "3  [Following, the, death, of, District, Attorney...   \n",
       "4  [John, Carter, is, a, war-weary,, former, mili...   \n",
       "\n",
       "                                              genres  \\\n",
       "0  [[, {, \", i, d, \", :, , 2, 8, ,, , \", n, a, m,...   \n",
       "1  [[, {, \", i, d, \", :, , 1, 2, ,, , \", n, a, m,...   \n",
       "2  [[, {, \", i, d, \", :, , 2, 8, ,, , \", n, a, m,...   \n",
       "3  [[, {, \", i, d, \", :, , 2, 8, ,, , \", n, a, m,...   \n",
       "4  [[, {, \", i, d, \", :, , 2, 8, ,, , \", n, a, m,...   \n",
       "\n",
       "                                            keywords  \\\n",
       "0  [[, {, \", i, d, \", :, , 1, 4, 6, 3, ,, , \", n,...   \n",
       "1  [[, {, \", i, d, \", :, , 2, 7, 0, ,, , \", n, a,...   \n",
       "2  [[, {, \", i, d, \", :, , 4, 7, 0, ,, , \", n, a,...   \n",
       "3  [[, {, \", i, d, \", :, , 8, 4, 9, ,, , \", n, a,...   \n",
       "4  [[, {, \", i, d, \", :, , 8, 1, 8, ,, , \", n, a,...   \n",
       "\n",
       "                                                cast  \\\n",
       "0  [[, {, \", c, a, s, t, _, i, d, \", :, , 2, 4, 2...   \n",
       "1  [[, {, \", c, a, s, t, _, i, d, \", :, , 4, ,, ,...   \n",
       "2  [[, {, \", c, a, s, t, _, i, d, \", :, , 1, ,, ,...   \n",
       "3  [[, {, \", c, a, s, t, _, i, d, \", :, , 2, ,, ,...   \n",
       "4  [[, {, \", c, a, s, t, _, i, d, \", :, , 5, ,, ,...   \n",
       "\n",
       "                                                crew  \n",
       "0  [[, {, \", c, r, e, d, i, t, _, i, d, \", :, , \"...  \n",
       "1  [[, {, \", c, r, e, d, i, t, _, i, d, \", :, , \"...  \n",
       "2  [[, {, \", c, r, e, d, i, t, _, i, d, \", :, , \"...  \n",
       "3  [[, {, \", c, r, e, d, i, t, _, i, d, \", :, , \"...  \n",
       "4  [[, {, \", c, r, e, d, i, t, _, i, d, \", :, , \"...  "
      ]
     },
     "execution_count": 24,
     "metadata": {},
     "output_type": "execute_result"
    }
   ],
   "source": [
    "movies.head()"
   ]
  },
  {
   "cell_type": "code",
   "execution_count": 25,
   "id": "4ceaeef0-ecc6-4e64-b6c8-48d860120c50",
   "metadata": {},
   "outputs": [],
   "source": [
    "movies['crew']=movies['crew'].apply(lambda x:[i.replace(\" \",\"\")for i in x])\n"
   ]
  },
  {
   "cell_type": "code",
   "execution_count": 26,
   "id": "b0f962e5-250f-4297-996f-26e955f2ba94",
   "metadata": {},
   "outputs": [],
   "source": [
    "movies['cast']=movies['cast'].apply(lambda x:[i.replace(\" \",\"\")for i in x])"
   ]
  },
  {
   "cell_type": "code",
   "execution_count": 27,
   "id": "7b18fcbe-bb15-48c2-bab2-1401b130a61b",
   "metadata": {},
   "outputs": [
    {
     "data": {
      "text/html": [
       "<div>\n",
       "<style scoped>\n",
       "    .dataframe tbody tr th:only-of-type {\n",
       "        vertical-align: middle;\n",
       "    }\n",
       "\n",
       "    .dataframe tbody tr th {\n",
       "        vertical-align: top;\n",
       "    }\n",
       "\n",
       "    .dataframe thead th {\n",
       "        text-align: right;\n",
       "    }\n",
       "</style>\n",
       "<table border=\"1\" class=\"dataframe\">\n",
       "  <thead>\n",
       "    <tr style=\"text-align: right;\">\n",
       "      <th></th>\n",
       "      <th>movie_id</th>\n",
       "      <th>title</th>\n",
       "      <th>overview</th>\n",
       "      <th>genres</th>\n",
       "      <th>keywords</th>\n",
       "      <th>cast</th>\n",
       "      <th>crew</th>\n",
       "    </tr>\n",
       "  </thead>\n",
       "  <tbody>\n",
       "    <tr>\n",
       "      <th>0</th>\n",
       "      <td>19995</td>\n",
       "      <td>Avatar</td>\n",
       "      <td>[In, the, 22nd, century,, a, paraplegic, Marin...</td>\n",
       "      <td>[[, {, \", i, d, \", :, , 2, 8, ,, , \", n, a, m,...</td>\n",
       "      <td>[[, {, \", i, d, \", :, , 1, 4, 6, 3, ,, , \", n,...</td>\n",
       "      <td>[[, {, \", c, a, s, t, _, i, d, \", :, , 2, 4, 2...</td>\n",
       "      <td>[[, {, \", c, r, e, d, i, t, _, i, d, \", :, , \"...</td>\n",
       "    </tr>\n",
       "    <tr>\n",
       "      <th>1</th>\n",
       "      <td>285</td>\n",
       "      <td>Pirates of the Caribbean: At World's End</td>\n",
       "      <td>[Captain, Barbossa,, long, believed, to, be, d...</td>\n",
       "      <td>[[, {, \", i, d, \", :, , 1, 2, ,, , \", n, a, m,...</td>\n",
       "      <td>[[, {, \", i, d, \", :, , 2, 7, 0, ,, , \", n, a,...</td>\n",
       "      <td>[[, {, \", c, a, s, t, _, i, d, \", :, , 4, ,, ,...</td>\n",
       "      <td>[[, {, \", c, r, e, d, i, t, _, i, d, \", :, , \"...</td>\n",
       "    </tr>\n",
       "    <tr>\n",
       "      <th>2</th>\n",
       "      <td>206647</td>\n",
       "      <td>Spectre</td>\n",
       "      <td>[A, cryptic, message, from, Bond’s, past, send...</td>\n",
       "      <td>[[, {, \", i, d, \", :, , 2, 8, ,, , \", n, a, m,...</td>\n",
       "      <td>[[, {, \", i, d, \", :, , 4, 7, 0, ,, , \", n, a,...</td>\n",
       "      <td>[[, {, \", c, a, s, t, _, i, d, \", :, , 1, ,, ,...</td>\n",
       "      <td>[[, {, \", c, r, e, d, i, t, _, i, d, \", :, , \"...</td>\n",
       "    </tr>\n",
       "    <tr>\n",
       "      <th>3</th>\n",
       "      <td>49026</td>\n",
       "      <td>The Dark Knight Rises</td>\n",
       "      <td>[Following, the, death, of, District, Attorney...</td>\n",
       "      <td>[[, {, \", i, d, \", :, , 2, 8, ,, , \", n, a, m,...</td>\n",
       "      <td>[[, {, \", i, d, \", :, , 8, 4, 9, ,, , \", n, a,...</td>\n",
       "      <td>[[, {, \", c, a, s, t, _, i, d, \", :, , 2, ,, ,...</td>\n",
       "      <td>[[, {, \", c, r, e, d, i, t, _, i, d, \", :, , \"...</td>\n",
       "    </tr>\n",
       "    <tr>\n",
       "      <th>4</th>\n",
       "      <td>49529</td>\n",
       "      <td>John Carter</td>\n",
       "      <td>[John, Carter, is, a, war-weary,, former, mili...</td>\n",
       "      <td>[[, {, \", i, d, \", :, , 2, 8, ,, , \", n, a, m,...</td>\n",
       "      <td>[[, {, \", i, d, \", :, , 8, 1, 8, ,, , \", n, a,...</td>\n",
       "      <td>[[, {, \", c, a, s, t, _, i, d, \", :, , 5, ,, ,...</td>\n",
       "      <td>[[, {, \", c, r, e, d, i, t, _, i, d, \", :, , \"...</td>\n",
       "    </tr>\n",
       "  </tbody>\n",
       "</table>\n",
       "</div>"
      ],
      "text/plain": [
       "   movie_id                                     title  \\\n",
       "0     19995                                    Avatar   \n",
       "1       285  Pirates of the Caribbean: At World's End   \n",
       "2    206647                                   Spectre   \n",
       "3     49026                     The Dark Knight Rises   \n",
       "4     49529                               John Carter   \n",
       "\n",
       "                                            overview  \\\n",
       "0  [In, the, 22nd, century,, a, paraplegic, Marin...   \n",
       "1  [Captain, Barbossa,, long, believed, to, be, d...   \n",
       "2  [A, cryptic, message, from, Bond’s, past, send...   \n",
       "3  [Following, the, death, of, District, Attorney...   \n",
       "4  [John, Carter, is, a, war-weary,, former, mili...   \n",
       "\n",
       "                                              genres  \\\n",
       "0  [[, {, \", i, d, \", :, , 2, 8, ,, , \", n, a, m,...   \n",
       "1  [[, {, \", i, d, \", :, , 1, 2, ,, , \", n, a, m,...   \n",
       "2  [[, {, \", i, d, \", :, , 2, 8, ,, , \", n, a, m,...   \n",
       "3  [[, {, \", i, d, \", :, , 2, 8, ,, , \", n, a, m,...   \n",
       "4  [[, {, \", i, d, \", :, , 2, 8, ,, , \", n, a, m,...   \n",
       "\n",
       "                                            keywords  \\\n",
       "0  [[, {, \", i, d, \", :, , 1, 4, 6, 3, ,, , \", n,...   \n",
       "1  [[, {, \", i, d, \", :, , 2, 7, 0, ,, , \", n, a,...   \n",
       "2  [[, {, \", i, d, \", :, , 4, 7, 0, ,, , \", n, a,...   \n",
       "3  [[, {, \", i, d, \", :, , 8, 4, 9, ,, , \", n, a,...   \n",
       "4  [[, {, \", i, d, \", :, , 8, 1, 8, ,, , \", n, a,...   \n",
       "\n",
       "                                                cast  \\\n",
       "0  [[, {, \", c, a, s, t, _, i, d, \", :, , 2, 4, 2...   \n",
       "1  [[, {, \", c, a, s, t, _, i, d, \", :, , 4, ,, ,...   \n",
       "2  [[, {, \", c, a, s, t, _, i, d, \", :, , 1, ,, ,...   \n",
       "3  [[, {, \", c, a, s, t, _, i, d, \", :, , 2, ,, ,...   \n",
       "4  [[, {, \", c, a, s, t, _, i, d, \", :, , 5, ,, ,...   \n",
       "\n",
       "                                                crew  \n",
       "0  [[, {, \", c, r, e, d, i, t, _, i, d, \", :, , \"...  \n",
       "1  [[, {, \", c, r, e, d, i, t, _, i, d, \", :, , \"...  \n",
       "2  [[, {, \", c, r, e, d, i, t, _, i, d, \", :, , \"...  \n",
       "3  [[, {, \", c, r, e, d, i, t, _, i, d, \", :, , \"...  \n",
       "4  [[, {, \", c, r, e, d, i, t, _, i, d, \", :, , \"...  "
      ]
     },
     "execution_count": 27,
     "metadata": {},
     "output_type": "execute_result"
    }
   ],
   "source": [
    "movies.head()"
   ]
  },
  {
   "cell_type": "code",
   "execution_count": 28,
   "id": "a81cd5f9-122b-4a26-8411-0f4ee708f4f5",
   "metadata": {},
   "outputs": [],
   "source": [
    "movies['tags']=movies['overview']+movies['genres']+movies['keywords']+movies['cast']+movies['crew']"
   ]
  },
  {
   "cell_type": "code",
   "execution_count": 29,
   "id": "aef6a015-2745-437d-a44f-0f2fe3a10ada",
   "metadata": {},
   "outputs": [
    {
     "data": {
      "text/html": [
       "<div>\n",
       "<style scoped>\n",
       "    .dataframe tbody tr th:only-of-type {\n",
       "        vertical-align: middle;\n",
       "    }\n",
       "\n",
       "    .dataframe tbody tr th {\n",
       "        vertical-align: top;\n",
       "    }\n",
       "\n",
       "    .dataframe thead th {\n",
       "        text-align: right;\n",
       "    }\n",
       "</style>\n",
       "<table border=\"1\" class=\"dataframe\">\n",
       "  <thead>\n",
       "    <tr style=\"text-align: right;\">\n",
       "      <th></th>\n",
       "      <th>movie_id</th>\n",
       "      <th>title</th>\n",
       "      <th>overview</th>\n",
       "      <th>genres</th>\n",
       "      <th>keywords</th>\n",
       "      <th>cast</th>\n",
       "      <th>crew</th>\n",
       "      <th>tags</th>\n",
       "    </tr>\n",
       "  </thead>\n",
       "  <tbody>\n",
       "    <tr>\n",
       "      <th>0</th>\n",
       "      <td>19995</td>\n",
       "      <td>Avatar</td>\n",
       "      <td>[In, the, 22nd, century,, a, paraplegic, Marin...</td>\n",
       "      <td>[[, {, \", i, d, \", :, , 2, 8, ,, , \", n, a, m,...</td>\n",
       "      <td>[[, {, \", i, d, \", :, , 1, 4, 6, 3, ,, , \", n,...</td>\n",
       "      <td>[[, {, \", c, a, s, t, _, i, d, \", :, , 2, 4, 2...</td>\n",
       "      <td>[[, {, \", c, r, e, d, i, t, _, i, d, \", :, , \"...</td>\n",
       "      <td>[In, the, 22nd, century,, a, paraplegic, Marin...</td>\n",
       "    </tr>\n",
       "    <tr>\n",
       "      <th>1</th>\n",
       "      <td>285</td>\n",
       "      <td>Pirates of the Caribbean: At World's End</td>\n",
       "      <td>[Captain, Barbossa,, long, believed, to, be, d...</td>\n",
       "      <td>[[, {, \", i, d, \", :, , 1, 2, ,, , \", n, a, m,...</td>\n",
       "      <td>[[, {, \", i, d, \", :, , 2, 7, 0, ,, , \", n, a,...</td>\n",
       "      <td>[[, {, \", c, a, s, t, _, i, d, \", :, , 4, ,, ,...</td>\n",
       "      <td>[[, {, \", c, r, e, d, i, t, _, i, d, \", :, , \"...</td>\n",
       "      <td>[Captain, Barbossa,, long, believed, to, be, d...</td>\n",
       "    </tr>\n",
       "    <tr>\n",
       "      <th>2</th>\n",
       "      <td>206647</td>\n",
       "      <td>Spectre</td>\n",
       "      <td>[A, cryptic, message, from, Bond’s, past, send...</td>\n",
       "      <td>[[, {, \", i, d, \", :, , 2, 8, ,, , \", n, a, m,...</td>\n",
       "      <td>[[, {, \", i, d, \", :, , 4, 7, 0, ,, , \", n, a,...</td>\n",
       "      <td>[[, {, \", c, a, s, t, _, i, d, \", :, , 1, ,, ,...</td>\n",
       "      <td>[[, {, \", c, r, e, d, i, t, _, i, d, \", :, , \"...</td>\n",
       "      <td>[A, cryptic, message, from, Bond’s, past, send...</td>\n",
       "    </tr>\n",
       "    <tr>\n",
       "      <th>3</th>\n",
       "      <td>49026</td>\n",
       "      <td>The Dark Knight Rises</td>\n",
       "      <td>[Following, the, death, of, District, Attorney...</td>\n",
       "      <td>[[, {, \", i, d, \", :, , 2, 8, ,, , \", n, a, m,...</td>\n",
       "      <td>[[, {, \", i, d, \", :, , 8, 4, 9, ,, , \", n, a,...</td>\n",
       "      <td>[[, {, \", c, a, s, t, _, i, d, \", :, , 2, ,, ,...</td>\n",
       "      <td>[[, {, \", c, r, e, d, i, t, _, i, d, \", :, , \"...</td>\n",
       "      <td>[Following, the, death, of, District, Attorney...</td>\n",
       "    </tr>\n",
       "    <tr>\n",
       "      <th>4</th>\n",
       "      <td>49529</td>\n",
       "      <td>John Carter</td>\n",
       "      <td>[John, Carter, is, a, war-weary,, former, mili...</td>\n",
       "      <td>[[, {, \", i, d, \", :, , 2, 8, ,, , \", n, a, m,...</td>\n",
       "      <td>[[, {, \", i, d, \", :, , 8, 1, 8, ,, , \", n, a,...</td>\n",
       "      <td>[[, {, \", c, a, s, t, _, i, d, \", :, , 5, ,, ,...</td>\n",
       "      <td>[[, {, \", c, r, e, d, i, t, _, i, d, \", :, , \"...</td>\n",
       "      <td>[John, Carter, is, a, war-weary,, former, mili...</td>\n",
       "    </tr>\n",
       "  </tbody>\n",
       "</table>\n",
       "</div>"
      ],
      "text/plain": [
       "   movie_id                                     title  \\\n",
       "0     19995                                    Avatar   \n",
       "1       285  Pirates of the Caribbean: At World's End   \n",
       "2    206647                                   Spectre   \n",
       "3     49026                     The Dark Knight Rises   \n",
       "4     49529                               John Carter   \n",
       "\n",
       "                                            overview  \\\n",
       "0  [In, the, 22nd, century,, a, paraplegic, Marin...   \n",
       "1  [Captain, Barbossa,, long, believed, to, be, d...   \n",
       "2  [A, cryptic, message, from, Bond’s, past, send...   \n",
       "3  [Following, the, death, of, District, Attorney...   \n",
       "4  [John, Carter, is, a, war-weary,, former, mili...   \n",
       "\n",
       "                                              genres  \\\n",
       "0  [[, {, \", i, d, \", :, , 2, 8, ,, , \", n, a, m,...   \n",
       "1  [[, {, \", i, d, \", :, , 1, 2, ,, , \", n, a, m,...   \n",
       "2  [[, {, \", i, d, \", :, , 2, 8, ,, , \", n, a, m,...   \n",
       "3  [[, {, \", i, d, \", :, , 2, 8, ,, , \", n, a, m,...   \n",
       "4  [[, {, \", i, d, \", :, , 2, 8, ,, , \", n, a, m,...   \n",
       "\n",
       "                                            keywords  \\\n",
       "0  [[, {, \", i, d, \", :, , 1, 4, 6, 3, ,, , \", n,...   \n",
       "1  [[, {, \", i, d, \", :, , 2, 7, 0, ,, , \", n, a,...   \n",
       "2  [[, {, \", i, d, \", :, , 4, 7, 0, ,, , \", n, a,...   \n",
       "3  [[, {, \", i, d, \", :, , 8, 4, 9, ,, , \", n, a,...   \n",
       "4  [[, {, \", i, d, \", :, , 8, 1, 8, ,, , \", n, a,...   \n",
       "\n",
       "                                                cast  \\\n",
       "0  [[, {, \", c, a, s, t, _, i, d, \", :, , 2, 4, 2...   \n",
       "1  [[, {, \", c, a, s, t, _, i, d, \", :, , 4, ,, ,...   \n",
       "2  [[, {, \", c, a, s, t, _, i, d, \", :, , 1, ,, ,...   \n",
       "3  [[, {, \", c, a, s, t, _, i, d, \", :, , 2, ,, ,...   \n",
       "4  [[, {, \", c, a, s, t, _, i, d, \", :, , 5, ,, ,...   \n",
       "\n",
       "                                                crew  \\\n",
       "0  [[, {, \", c, r, e, d, i, t, _, i, d, \", :, , \"...   \n",
       "1  [[, {, \", c, r, e, d, i, t, _, i, d, \", :, , \"...   \n",
       "2  [[, {, \", c, r, e, d, i, t, _, i, d, \", :, , \"...   \n",
       "3  [[, {, \", c, r, e, d, i, t, _, i, d, \", :, , \"...   \n",
       "4  [[, {, \", c, r, e, d, i, t, _, i, d, \", :, , \"...   \n",
       "\n",
       "                                                tags  \n",
       "0  [In, the, 22nd, century,, a, paraplegic, Marin...  \n",
       "1  [Captain, Barbossa,, long, believed, to, be, d...  \n",
       "2  [A, cryptic, message, from, Bond’s, past, send...  \n",
       "3  [Following, the, death, of, District, Attorney...  \n",
       "4  [John, Carter, is, a, war-weary,, former, mili...  "
      ]
     },
     "execution_count": 29,
     "metadata": {},
     "output_type": "execute_result"
    }
   ],
   "source": [
    "movies.head()"
   ]
  },
  {
   "cell_type": "code",
   "execution_count": 30,
   "id": "72b9456d-2ffc-4c36-bd86-a942e2b9fa18",
   "metadata": {},
   "outputs": [],
   "source": [
    "new_df =movies[['movie_id','title','tags']]"
   ]
  },
  {
   "cell_type": "code",
   "execution_count": 31,
   "id": "03914eaf-7d74-41db-a8ac-4f5cf79b6ba8",
   "metadata": {},
   "outputs": [
    {
     "data": {
      "text/html": [
       "<div>\n",
       "<style scoped>\n",
       "    .dataframe tbody tr th:only-of-type {\n",
       "        vertical-align: middle;\n",
       "    }\n",
       "\n",
       "    .dataframe tbody tr th {\n",
       "        vertical-align: top;\n",
       "    }\n",
       "\n",
       "    .dataframe thead th {\n",
       "        text-align: right;\n",
       "    }\n",
       "</style>\n",
       "<table border=\"1\" class=\"dataframe\">\n",
       "  <thead>\n",
       "    <tr style=\"text-align: right;\">\n",
       "      <th></th>\n",
       "      <th>movie_id</th>\n",
       "      <th>title</th>\n",
       "      <th>tags</th>\n",
       "    </tr>\n",
       "  </thead>\n",
       "  <tbody>\n",
       "    <tr>\n",
       "      <th>0</th>\n",
       "      <td>19995</td>\n",
       "      <td>Avatar</td>\n",
       "      <td>[In, the, 22nd, century,, a, paraplegic, Marin...</td>\n",
       "    </tr>\n",
       "    <tr>\n",
       "      <th>1</th>\n",
       "      <td>285</td>\n",
       "      <td>Pirates of the Caribbean: At World's End</td>\n",
       "      <td>[Captain, Barbossa,, long, believed, to, be, d...</td>\n",
       "    </tr>\n",
       "    <tr>\n",
       "      <th>2</th>\n",
       "      <td>206647</td>\n",
       "      <td>Spectre</td>\n",
       "      <td>[A, cryptic, message, from, Bond’s, past, send...</td>\n",
       "    </tr>\n",
       "    <tr>\n",
       "      <th>3</th>\n",
       "      <td>49026</td>\n",
       "      <td>The Dark Knight Rises</td>\n",
       "      <td>[Following, the, death, of, District, Attorney...</td>\n",
       "    </tr>\n",
       "    <tr>\n",
       "      <th>4</th>\n",
       "      <td>49529</td>\n",
       "      <td>John Carter</td>\n",
       "      <td>[John, Carter, is, a, war-weary,, former, mili...</td>\n",
       "    </tr>\n",
       "    <tr>\n",
       "      <th>...</th>\n",
       "      <td>...</td>\n",
       "      <td>...</td>\n",
       "      <td>...</td>\n",
       "    </tr>\n",
       "    <tr>\n",
       "      <th>4804</th>\n",
       "      <td>9367</td>\n",
       "      <td>El Mariachi</td>\n",
       "      <td>[El, Mariachi, just, wants, to, play, his, gui...</td>\n",
       "    </tr>\n",
       "    <tr>\n",
       "      <th>4805</th>\n",
       "      <td>72766</td>\n",
       "      <td>Newlyweds</td>\n",
       "      <td>[A, newlywed, couple's, honeymoon, is, upended...</td>\n",
       "    </tr>\n",
       "    <tr>\n",
       "      <th>4806</th>\n",
       "      <td>231617</td>\n",
       "      <td>Signed, Sealed, Delivered</td>\n",
       "      <td>[\"Signed,, Sealed,, Delivered\", introduces, a,...</td>\n",
       "    </tr>\n",
       "    <tr>\n",
       "      <th>4807</th>\n",
       "      <td>126186</td>\n",
       "      <td>Shanghai Calling</td>\n",
       "      <td>[When, ambitious, New, York, attorney, Sam, is...</td>\n",
       "    </tr>\n",
       "    <tr>\n",
       "      <th>4808</th>\n",
       "      <td>25975</td>\n",
       "      <td>My Date with Drew</td>\n",
       "      <td>[Ever, since, the, second, grade, when, he, fi...</td>\n",
       "    </tr>\n",
       "  </tbody>\n",
       "</table>\n",
       "<p>4806 rows × 3 columns</p>\n",
       "</div>"
      ],
      "text/plain": [
       "      movie_id                                     title  \\\n",
       "0        19995                                    Avatar   \n",
       "1          285  Pirates of the Caribbean: At World's End   \n",
       "2       206647                                   Spectre   \n",
       "3        49026                     The Dark Knight Rises   \n",
       "4        49529                               John Carter   \n",
       "...        ...                                       ...   \n",
       "4804      9367                               El Mariachi   \n",
       "4805     72766                                 Newlyweds   \n",
       "4806    231617                 Signed, Sealed, Delivered   \n",
       "4807    126186                          Shanghai Calling   \n",
       "4808     25975                         My Date with Drew   \n",
       "\n",
       "                                                   tags  \n",
       "0     [In, the, 22nd, century,, a, paraplegic, Marin...  \n",
       "1     [Captain, Barbossa,, long, believed, to, be, d...  \n",
       "2     [A, cryptic, message, from, Bond’s, past, send...  \n",
       "3     [Following, the, death, of, District, Attorney...  \n",
       "4     [John, Carter, is, a, war-weary,, former, mili...  \n",
       "...                                                 ...  \n",
       "4804  [El, Mariachi, just, wants, to, play, his, gui...  \n",
       "4805  [A, newlywed, couple's, honeymoon, is, upended...  \n",
       "4806  [\"Signed,, Sealed,, Delivered\", introduces, a,...  \n",
       "4807  [When, ambitious, New, York, attorney, Sam, is...  \n",
       "4808  [Ever, since, the, second, grade, when, he, fi...  \n",
       "\n",
       "[4806 rows x 3 columns]"
      ]
     },
     "execution_count": 31,
     "metadata": {},
     "output_type": "execute_result"
    }
   ],
   "source": [
    "new_df"
   ]
  },
  {
   "cell_type": "code",
   "execution_count": 32,
   "id": "d0da0f0d-e02a-48dd-b535-c73aca103224",
   "metadata": {},
   "outputs": [
    {
     "name": "stderr",
     "output_type": "stream",
     "text": [
      "C:\\Users\\Shreyas\\AppData\\Local\\Temp\\ipykernel_17196\\2971963857.py:1: SettingWithCopyWarning: \n",
      "A value is trying to be set on a copy of a slice from a DataFrame.\n",
      "Try using .loc[row_indexer,col_indexer] = value instead\n",
      "\n",
      "See the caveats in the documentation: https://pandas.pydata.org/pandas-docs/stable/user_guide/indexing.html#returning-a-view-versus-a-copy\n",
      "  new_df['tags'] = new_df['tags'].apply(lambda x: \" \".join(x) if isinstance(x, list) else '')\n"
     ]
    }
   ],
   "source": [
    "new_df['tags'] = new_df['tags'].apply(lambda x: \" \".join(x) if isinstance(x, list) else '')\n"
   ]
  },
  {
   "cell_type": "code",
   "execution_count": 33,
   "id": "33f0d8bb-75f3-41c5-a031-9355aa16292d",
   "metadata": {},
   "outputs": [
    {
     "data": {
      "text/plain": [
       "0       In the 22nd century, a paraplegic Marine is di...\n",
       "1       Captain Barbossa, long believed to be dead, ha...\n",
       "2       A cryptic message from Bond’s past sends him o...\n",
       "3       Following the death of District Attorney Harve...\n",
       "4       John Carter is a war-weary, former military ca...\n",
       "                              ...                        \n",
       "4804    El Mariachi just wants to play his guitar and ...\n",
       "4805    A newlywed couple's honeymoon is upended by th...\n",
       "4806    \"Signed, Sealed, Delivered\" introduces a dedic...\n",
       "4807    When ambitious New York attorney Sam is sent t...\n",
       "4808    Ever since the second grade when he first saw ...\n",
       "Name: tags, Length: 4806, dtype: object"
      ]
     },
     "execution_count": 33,
     "metadata": {},
     "output_type": "execute_result"
    }
   ],
   "source": [
    "new_df['tags']"
   ]
  },
  {
   "cell_type": "code",
   "execution_count": 34,
   "id": "3bf2b2a3-9600-44fc-9eb6-8f326932d52d",
   "metadata": {},
   "outputs": [
    {
     "data": {
      "text/html": [
       "<div>\n",
       "<style scoped>\n",
       "    .dataframe tbody tr th:only-of-type {\n",
       "        vertical-align: middle;\n",
       "    }\n",
       "\n",
       "    .dataframe tbody tr th {\n",
       "        vertical-align: top;\n",
       "    }\n",
       "\n",
       "    .dataframe thead th {\n",
       "        text-align: right;\n",
       "    }\n",
       "</style>\n",
       "<table border=\"1\" class=\"dataframe\">\n",
       "  <thead>\n",
       "    <tr style=\"text-align: right;\">\n",
       "      <th></th>\n",
       "      <th>movie_id</th>\n",
       "      <th>title</th>\n",
       "      <th>tags</th>\n",
       "    </tr>\n",
       "  </thead>\n",
       "  <tbody>\n",
       "    <tr>\n",
       "      <th>0</th>\n",
       "      <td>19995</td>\n",
       "      <td>Avatar</td>\n",
       "      <td>In the 22nd century, a paraplegic Marine is di...</td>\n",
       "    </tr>\n",
       "    <tr>\n",
       "      <th>1</th>\n",
       "      <td>285</td>\n",
       "      <td>Pirates of the Caribbean: At World's End</td>\n",
       "      <td>Captain Barbossa, long believed to be dead, ha...</td>\n",
       "    </tr>\n",
       "    <tr>\n",
       "      <th>2</th>\n",
       "      <td>206647</td>\n",
       "      <td>Spectre</td>\n",
       "      <td>A cryptic message from Bond’s past sends him o...</td>\n",
       "    </tr>\n",
       "    <tr>\n",
       "      <th>3</th>\n",
       "      <td>49026</td>\n",
       "      <td>The Dark Knight Rises</td>\n",
       "      <td>Following the death of District Attorney Harve...</td>\n",
       "    </tr>\n",
       "    <tr>\n",
       "      <th>4</th>\n",
       "      <td>49529</td>\n",
       "      <td>John Carter</td>\n",
       "      <td>John Carter is a war-weary, former military ca...</td>\n",
       "    </tr>\n",
       "  </tbody>\n",
       "</table>\n",
       "</div>"
      ],
      "text/plain": [
       "   movie_id                                     title  \\\n",
       "0     19995                                    Avatar   \n",
       "1       285  Pirates of the Caribbean: At World's End   \n",
       "2    206647                                   Spectre   \n",
       "3     49026                     The Dark Knight Rises   \n",
       "4     49529                               John Carter   \n",
       "\n",
       "                                                tags  \n",
       "0  In the 22nd century, a paraplegic Marine is di...  \n",
       "1  Captain Barbossa, long believed to be dead, ha...  \n",
       "2  A cryptic message from Bond’s past sends him o...  \n",
       "3  Following the death of District Attorney Harve...  \n",
       "4  John Carter is a war-weary, former military ca...  "
      ]
     },
     "execution_count": 34,
     "metadata": {},
     "output_type": "execute_result"
    }
   ],
   "source": [
    "new_df.head()"
   ]
  },
  {
   "cell_type": "code",
   "execution_count": 35,
   "id": "a153198e-76aa-4d81-82ed-ef8568785882",
   "metadata": {},
   "outputs": [
    {
     "data": {
      "text/plain": [
       "'In the 22nd century, a paraplegic Marine is dispatched to the moon Pandora on a unique mission, but becomes torn between following orders and protecting an alien civilization. [ { \" i d \" :  2 8 ,  \" n a m e \" :  \" A c t i o n \" } ,  { \" i d \" :  1 2 ,  \" n a m e \" :  \" A d v e n t u r e \" } ,  { \" i d \" :  1 4 ,  \" n a m e \" :  \" F a n t a s y \" } ,  { \" i d \" :  8 7 8 ,  \" n a m e \" :  \" S c i e n c e  F i c t i o n \" } ] [ { \" i d \" :  1 4 6 3 ,  \" n a m e \" :  \" c u l t u r e  c l a s h \" } ,  { \" i d \" :  2 9 6 4 ,  \" n a m e \" :  \" f u t u r e \" } ,  { \" i d \" :  3 3 8 6 ,  \" n a m e \" :  \" s p a c e  w a r \" } ,  { \" i d \" :  3 3 8 8 ,  \" n a m e \" :  \" s p a c e  c o l o n y \" } ,  { \" i d \" :  3 6 7 9 ,  \" n a m e \" :  \" s o c i e t y \" } ,  { \" i d \" :  3 8 0 1 ,  \" n a m e \" :  \" s p a c e  t r a v e l \" } ,  { \" i d \" :  9 6 8 5 ,  \" n a m e \" :  \" f u t u r i s t i c \" } ,  { \" i d \" :  9 8 4 0 ,  \" n a m e \" :  \" r o m a n c e \" } ,  { \" i d \" :  9 8 8 2 ,  \" n a m e \" :  \" s p a c e \" } ,  { \" i d \" :  9 9 5 1 ,  \" n a m e \" :  \" a l i e n \" } ,  { \" i d \" :  1 0 1 4 8 ,  \" n a m e \" :  \" t r i b e \" } ,  { \" i d \" :  1 0 1 5 8 ,  \" n a m e \" :  \" a l i e n  p l a n e t \" } ,  { \" i d \" :  1 0 9 8 7 ,  \" n a m e \" :  \" c g i \" } ,  { \" i d \" :  1 1 3 9 9 ,  \" n a m e \" :  \" m a r i n e \" } ,  { \" i d \" :  1 3 0 6 5 ,  \" n a m e \" :  \" s o l d i e r \" } ,  { \" i d \" :  1 4 6 4 3 ,  \" n a m e \" :  \" b a t t l e \" } ,  { \" i d \" :  1 4 7 2 0 ,  \" n a m e \" :  \" l o v e  a f f a i r \" } ,  { \" i d \" :  1 6 5 4 3 1 ,  \" n a m e \" :  \" a n t i  w a r \" } ,  { \" i d \" :  1 9 3 5 5 4 ,  \" n a m e \" :  \" p o w e r  r e l a t i o n s \" } ,  { \" i d \" :  2 0 6 6 9 0 ,  \" n a m e \" :  \" m i n d  a n d  s o u l \" } ,  { \" i d \" :  2 0 9 7 1 4 ,  \" n a m e \" :  \" 3 d \" } ] [ { \" c a s t _ i d \" :  2 4 2 ,  \" c h a r a c t e r \" :  \" J a k e  S u l l y \" ,  \" c r e d i t _ i d \" :  \" 5 6 0 2 a 8 a 7 c 3 a 3 6 8 5 5 3 2 0 0 1 c 9 a \" ,  \" g e n d e r \" :  2 ,  \" i d \" :  6 5 7 3 1 ,  \" n a m e \" :  \" S a m  W o r t h i n g t o n \" ,  \" o r d e r \" :  0 } ,  { \" c a s t _ i d \" :  3 ,  \" c h a r a c t e r \" :  \" N e y t i r i \" ,  \" c r e d i t _ i d \" :  \" 5 2 f e 4 8 0 0 9 2 5 1 4 1 6 c 7 5 0 a c 9 c b \" ,  \" g e n d e r \" :  1 ,  \" i d \" :  8 6 9 1 ,  \" n a m e \" :  \" Z o e  S a l d a n a \" ,  \" o r d e r \" :  1 } ,  { \" c a s t _ i d \" :  2 5 ,  \" c h a r a c t e r \" :  \" D r .  G r a c e  A u g u s t i n e \" ,  \" c r e d i t _ i d \" :  \" 5 2 f e 4 8 0 0 9 2 5 1 4 1 6 c 7 5 0 a c a 3 9 \" ,  \" g e n d e r \" :  1 ,  \" i d \" :  1 0 2 0 5 ,  \" n a m e \" :  \" S i g o u r n e y  W e a v e r \" ,  \" o r d e r \" :  2 } ,  { \" c a s t _ i d \" :  4 ,  \" c h a r a c t e r \" :  \" C o l .  Q u a r i t c h \" ,  \" c r e d i t _ i d \" :  \" 5 2 f e 4 8 0 0 9 2 5 1 4 1 6 c 7 5 0 a c 9 c f \" ,  \" g e n d e r \" :  2 ,  \" i d \" :  3 2 7 4 7 ,  \" n a m e \" :  \" S t e p h e n  L a n g \" ,  \" o r d e r \" :  3 } ,  { \" c a s t _ i d \" :  5 ,  \" c h a r a c t e r \" :  \" T r u d y  C h a c o n \" ,  \" c r e d i t _ i d \" :  \" 5 2 f e 4 8 0 0 9 2 5 1 4 1 6 c 7 5 0 a c 9 d 3 \" ,  \" g e n d e r \" :  1 ,  \" i d \" :  1 7 6 4 7 ,  \" n a m e \" :  \" M i c h e l l e  R o d r i g u e z \" ,  \" o r d e r \" :  4 } ,  { \" c a s t _ i d \" :  8 ,  \" c h a r a c t e r \" :  \" S e l f r i d g e \" ,  \" c r e d i t _ i d \" :  \" 5 2 f e 4 8 0 0 9 2 5 1 4 1 6 c 7 5 0 a c 9 e 1 \" ,  \" g e n d e r \" :  2 ,  \" i d \" :  1 7 7 1 ,  \" n a m e \" :  \" G i o v a n n i  R i b i s i \" ,  \" o r d e r \" :  5 } ,  { \" c a s t _ i d \" :  7 ,  \" c h a r a c t e r \" :  \" N o r m  S p e l l m a n \" ,  \" c r e d i t _ i d \" :  \" 5 2 f e 4 8 0 0 9 2 5 1 4 1 6 c 7 5 0 a c 9 d d \" ,  \" g e n d e r \" :  2 ,  \" i d \" :  5 9 2 3 1 ,  \" n a m e \" :  \" J o e l  D a v i d  M o o r e \" ,  \" o r d e r \" :  6 } ,  { \" c a s t _ i d \" :  9 ,  \" c h a r a c t e r \" :  \" M o a t \" ,  \" c r e d i t _ i d \" :  \" 5 2 f e 4 8 0 0 9 2 5 1 4 1 6 c 7 5 0 a c 9 e 5 \" ,  \" g e n d e r \" :  1 ,  \" i d \" :  3 0 4 8 5 ,  \" n a m e \" :  \" C C H  P o u n d e r \" ,  \" o r d e r \" :  7 } ,  { \" c a s t _ i d \" :  1 1 ,  \" c h a r a c t e r \" :  \" E y t u k a n \" ,  \" c r e d i t _ i d \" :  \" 5 2 f e 4 8 0 0 9 2 5 1 4 1 6 c 7 5 0 a c 9 e d \" ,  \" g e n d e r \" :  2 ,  \" i d \" :  1 5 8 5 3 ,  \" n a m e \" :  \" W e s  S t u d i \" ,  \" o r d e r \" :  8 } ,  { \" c a s t _ i d \" :  1 0 ,  \" c h a r a c t e r \" :  \" T s u \\' T e y \" ,  \" c r e d i t _ i d \" :  \" 5 2 f e 4 8 0 0 9 2 5 1 4 1 6 c 7 5 0 a c 9 e 9 \" ,  \" g e n d e r \" :  2 ,  \" i d \" :  1 0 9 6 4 ,  \" n a m e \" :  \" L a z  A l o n s o \" ,  \" o r d e r \" :  9 } ,  { \" c a s t _ i d \" :  1 2 ,  \" c h a r a c t e r \" :  \" D r .  M a x  P a t e l \" ,  \" c r e d i t _ i d \" :  \" 5 2 f e 4 8 0 0 9 2 5 1 4 1 6 c 7 5 0 a c 9 f 1 \" ,  \" g e n d e r \" :  2 ,  \" i d \" :  9 5 6 9 7 ,  \" n a m e \" :  \" D i l e e p  R a o \" ,  \" o r d e r \" :  1 0 } ,  { \" c a s t _ i d \" :  1 3 ,  \" c h a r a c t e r \" :  \" L y l e  W a i n f l e e t \" ,  \" c r e d i t _ i d \" :  \" 5 2 f e 4 8 0 0 9 2 5 1 4 1 6 c 7 5 0 a c 9 f 5 \" ,  \" g e n d e r \" :  2 ,  \" i d \" :  9 8 2 1 5 ,  \" n a m e \" :  \" M a t t  G e r a l d \" ,  \" o r d e r \" :  1 1 } ,  { \" c a s t _ i d \" :  3 2 ,  \" c h a r a c t e r \" :  \" P r i v a t e  F i k e \" ,  \" c r e d i t _ i d \" :  \" 5 2 f e 4 8 0 0 9 2 5 1 4 1 6 c 7 5 0 a c a 5 b \" ,  \" g e n d e r \" :  2 ,  \" i d \" :  1 5 4 1 5 3 ,  \" n a m e \" :  \" S e a n  A n t h o n y  M o r a n \" ,  \" o r d e r \" :  1 2 } ,  { \" c a s t _ i d \" :  3 3 ,  \" c h a r a c t e r \" :  \" C r y o  V a u l t  M e d  T e c h \" ,  \" c r e d i t _ i d \" :  \" 5 2 f e 4 8 0 0 9 2 5 1 4 1 6 c 7 5 0 a c a 5 f \" ,  \" g e n d e r \" :  2 ,  \" i d \" :  3 9 7 3 1 2 ,  \" n a m e \" :  \" J a s o n  W h y t e \" ,  \" o r d e r \" :  1 3 } ,  { \" c a s t _ i d \" :  3 4 ,  \" c h a r a c t e r \" :  \" V e n t u r e  S t a r  C r e w  C h i e f \" ,  \" c r e d i t _ i d \" :  \" 5 2 f e 4 8 0 0 9 2 5 1 4 1 6 c 7 5 0 a c a 6 3 \" ,  \" g e n d e r \" :  2 ,  \" i d \" :  4 2 3 1 7 ,  \" n a m e \" :  \" S c o t t  L a w r e n c e \" ,  \" o r d e r \" :  1 4 } ,  { \" c a s t _ i d \" :  3 5 ,  \" c h a r a c t e r \" :  \" L o c k  U p  T r o o p e r \" ,  \" c r e d i t _ i d \" :  \" 5 2 f e 4 8 0 0 9 2 5 1 4 1 6 c 7 5 0 a c a 6 7 \" ,  \" g e n d e r \" :  2 ,  \" i d \" :  9 8 6 7 3 4 ,  \" n a m e \" :  \" K e l l y  K i l g o u r \" ,  \" o r d e r \" :  1 5 } ,  { \" c a s t _ i d \" :  3 6 ,  \" c h a r a c t e r \" :  \" S h u t t l e  P i l o t \" ,  \" c r e d i t _ i d \" :  \" 5 2 f e 4 8 0 0 9 2 5 1 4 1 6 c 7 5 0 a c a 6 b \" ,  \" g e n d e r \" :  0 ,  \" i d \" :  1 2 0 7 2 2 7 ,  \" n a m e \" :  \" J a m e s  P a t r i c k  P i t t \" ,  \" o r d e r \" :  1 6 } ,  { \" c a s t _ i d \" :  3 7 ,  \" c h a r a c t e r \" :  \" S h u t t l e  C o - P i l o t \" ,  \" c r e d i t _ i d \" :  \" 5 2 f e 4 8 0 0 9 2 5 1 4 1 6 c 7 5 0 a c a 6 f \" ,  \" g e n d e r \" :  0 ,  \" i d \" :  1 1 8 0 9 3 6 ,  \" n a m e \" :  \" S e a n  P a t r i c k  M u r p h y \" ,  \" o r d e r \" :  1 7 } ,  { \" c a s t _ i d \" :  3 8 ,  \" c h a r a c t e r \" :  \" S h u t t l e  C r e w  C h i e f \" ,  \" c r e d i t _ i d \" :  \" 5 2 f e 4 8 0 0 9 2 5 1 4 1 6 c 7 5 0 a c a 7 3 \" ,  \" g e n d e r \" :  2 ,  \" i d \" :  1 0 1 9 5 7 8 ,  \" n a m e \" :  \" P e t e r  D i l l o n \" ,  \" o r d e r \" :  1 8 } ,  { \" c a s t _ i d \" :  3 9 ,  \" c h a r a c t e r \" :  \" T r a c t o r  O p e r a t o r  /  T r o u p e \" ,  \" c r e d i t _ i d \" :  \" 5 2 f e 4 8 0 0 9 2 5 1 4 1 6 c 7 5 0 a c a 7 7 \" ,  \" g e n d e r \" :  0 ,  \" i d \" :  9 1 4 4 3 ,  \" n a m e \" :  \" K e v i n  D o r m a n \" ,  \" o r d e r \" :  1 9 } ,  { \" c a s t _ i d \" :  4 0 ,  \" c h a r a c t e r \" :  \" D r a g o n  G u n s h i p  P i l o t \" ,  \" c r e d i t _ i d \" :  \" 5 2 f e 4 8 0 0 9 2 5 1 4 1 6 c 7 5 0 a c a 7 b \" ,  \" g e n d e r \" :  2 ,  \" i d \" :  1 7 3 3 9 1 ,  \" n a m e \" :  \" K e l s o n  H e n d e r s o n \" ,  \" o r d e r \" :  2 0 } ,  { \" c a s t _ i d \" :  4 1 ,  \" c h a r a c t e r \" :  \" D r a g o n  G u n s h i p  G u n n e r \" ,  \" c r e d i t _ i d \" :  \" 5 2 f e 4 8 0 0 9 2 5 1 4 1 6 c 7 5 0 a c a 7 f \" ,  \" g e n d e r \" :  0 ,  \" i d \" :  1 2 0 7 2 3 6 ,  \" n a m e \" :  \" D a v i d  V a n  H o r n \" ,  \" o r d e r \" :  2 1 } ,  { \" c a s t _ i d \" :  4 2 ,  \" c h a r a c t e r \" :  \" D r a g o n  G u n s h i p  N a v i g a t o r \" ,  \" c r e d i t _ i d \" :  \" 5 2 f e 4 8 0 0 9 2 5 1 4 1 6 c 7 5 0 a c a 8 3 \" ,  \" g e n d e r \" :  0 ,  \" i d \" :  2 1 5 9 1 3 ,  \" n a m e \" :  \" J a c o b  T o m u r i \" ,  \" o r d e r \" :  2 2 } ,  { \" c a s t _ i d \" :  4 3 ,  \" c h a r a c t e r \" :  \" S u i t  # 1 \" ,  \" c r e d i t _ i d \" :  \" 5 2 f e 4 8 0 0 9 2 5 1 4 1 6 c 7 5 0 a c a 8 7 \" ,  \" g e n d e r \" :  0 ,  \" i d \" :  1 4 3 2 0 6 ,  \" n a m e \" :  \" M i c h a e l  B l a i n - R o z g a y \" ,  \" o r d e r \" :  2 3 } ,  { \" c a s t _ i d \" :  4 4 ,  \" c h a r a c t e r \" :  \" S u i t  # 2 \" ,  \" c r e d i t _ i d \" :  \" 5 2 f e 4 8 0 0 9 2 5 1 4 1 6 c 7 5 0 a c a 8 b \" ,  \" g e n d e r \" :  2 ,  \" i d \" :  1 6 9 6 7 6 ,  \" n a m e \" :  \" J o n  C u r r y \" ,  \" o r d e r \" :  2 4 } ,  { \" c a s t _ i d \" :  4 6 ,  \" c h a r a c t e r \" :  \" A m b i e n t  R o o m  T e c h \" ,  \" c r e d i t _ i d \" :  \" 5 2 f e 4 8 0 0 9 2 5 1 4 1 6 c 7 5 0 a c a 8 f \" ,  \" g e n d e r \" :  0 ,  \" i d \" :  1 0 4 8 6 1 0 ,  \" n a m e \" :  \" L u k e  H a w k e r \" ,  \" o r d e r \" :  2 5 } ,  { \" c a s t _ i d \" :  4 7 ,  \" c h a r a c t e r \" :  \" A m b i e n t  R o o m  T e c h  /  T r o u p e \" ,  \" c r e d i t _ i d \" :  \" 5 2 f e 4 8 0 0 9 2 5 1 4 1 6 c 7 5 0 a c a 9 3 \" ,  \" g e n d e r \" :  0 ,  \" i d \" :  4 2 2 8 8 ,  \" n a m e \" :  \" W o o d y  S c h u l t z \" ,  \" o r d e r \" :  2 6 } ,  { \" c a s t _ i d \" :  4 8 ,  \" c h a r a c t e r \" :  \" H o r s e  C l a n  L e a d e r \" ,  \" c r e d i t _ i d \" :  \" 5 2 f e 4 8 0 0 9 2 5 1 4 1 6 c 7 5 0 a c a 9 7 \" ,  \" g e n d e r \" :  2 ,  \" i d \" :  6 8 2 7 8 ,  \" n a m e \" :  \" P e t e r  M e n s a h \" ,  \" o r d e r \" :  2 7 } ,  { \" c a s t _ i d \" :  4 9 ,  \" c h a r a c t e r \" :  \" L i n k  R o o m  T e c h \" ,  \" c r e d i t _ i d \" :  \" 5 2 f e 4 8 0 0 9 2 5 1 4 1 6 c 7 5 0 a c a 9 b \" ,  \" g e n d e r \" :  0 ,  \" i d \" :  1 2 0 7 2 4 7 ,  \" n a m e \" :  \" S o n i a  Y e e \" ,  \" o r d e r \" :  2 8 } ,  { \" c a s t _ i d \" :  5 0 ,  \" c h a r a c t e r \" :  \" B a s k e t b a l l  A v a t a r  /  T r o u p e \" ,  \" c r e d i t _ i d \" :  \" 5 2 f e 4 8 0 0 9 2 5 1 4 1 6 c 7 5 0 a c a 9 f \" ,  \" g e n d e r \" :  1 ,  \" i d \" :  1 2 0 7 2 4 8 ,  \" n a m e \" :  \" J a h n e l  C u r f m a n \" ,  \" o r d e r \" :  2 9 } ,  { \" c a s t _ i d \" :  5 1 ,  \" c h a r a c t e r \" :  \" B a s k e t b a l l  A v a t a r \" ,  \" c r e d i t _ i d \" :  \" 5 2 f e 4 8 0 0 9 2 5 1 4 1 6 c 7 5 0 a c a a 3 \" ,  \" g e n d e r \" :  0 ,  \" i d \" :  8 9 7 1 4 ,  \" n a m e \" :  \" I l r a m  C h o i \" ,  \" o r d e r \" :  3 0 } ,  { \" c a s t _ i d \" :  5 2 ,  \" c h a r a c t e r \" :  \" N a \\' v i  C h i l d \" ,  \" c r e d i t _ i d \" :  \" 5 2 f e 4 8 0 0 9 2 5 1 4 1 6 c 7 5 0 a c a a 7 \" ,  \" g e n d e r \" :  0 ,  \" i d \" :  1 2 0 7 2 4 9 ,  \" n a m e \" :  \" K y l a  W a r r e n \" ,  \" o r d e r \" :  3 1 } ,  { \" c a s t _ i d \" :  5 3 ,  \" c h a r a c t e r \" :  \" T r o u p e \" ,  \" c r e d i t _ i d \" :  \" 5 2 f e 4 8 0 0 9 2 5 1 4 1 6 c 7 5 0 a c a a b \" ,  \" g e n d e r \" :  0 ,  \" i d \" :  1 2 0 7 2 5 0 ,  \" n a m e \" :  \" L i s a  R o u m a i n \" ,  \" o r d e r \" :  3 2 } ,  { \" c a s t _ i d \" :  5 4 ,  \" c h a r a c t e r \" :  \" T r o u p e \" ,  \" c r e d i t _ i d \" :  \" 5 2 f e 4 8 0 0 9 2 5 1 4 1 6 c 7 5 0 a c a a f \" ,  \" g e n d e r \" :  1 ,  \" i d \" :  8 3 1 0 5 ,  \" n a m e \" :  \" D e b r a  W i l s o n \" ,  \" o r d e r \" :  3 3 } ,  { \" c a s t _ i d \" :  5 7 ,  \" c h a r a c t e r \" :  \" T r o u p e \" ,  \" c r e d i t _ i d \" :  \" 5 2 f e 4 8 0 0 9 2 5 1 4 1 6 c 7 5 0 a c a b b \" ,  \" g e n d e r \" :  0 ,  \" i d \" :  1 2 0 7 2 5 3 ,  \" n a m e \" :  \" C h r i s  M a l a \" ,  \" o r d e r \" :  3 4 } ,  { \" c a s t _ i d \" :  5 5 ,  \" c h a r a c t e r \" :  \" T r o u p e \" ,  \" c r e d i t _ i d \" :  \" 5 2 f e 4 8 0 0 9 2 5 1 4 1 6 c 7 5 0 a c a b 3 \" ,  \" g e n d e r \" :  0 ,  \" i d \" :  1 2 0 7 2 5 1 ,  \" n a m e \" :  \" T a y l o r  K i b b y \" ,  \" o r d e r \" :  3 5 } ,  { \" c a s t _ i d \" :  5 6 ,  \" c h a r a c t e r \" :  \" T r o u p e \" ,  \" c r e d i t _ i d \" :  \" 5 2 f e 4 8 0 0 9 2 5 1 4 1 6 c 7 5 0 a c a b 7 \" ,  \" g e n d e r \" :  0 ,  \" i d \" :  1 2 0 7 2 5 2 ,  \" n a m e \" :  \" J o d i e  L a n d a u \" ,  \" o r d e r \" :  3 6 } ,  { \" c a s t _ i d \" :  5 8 ,  \" c h a r a c t e r \" :  \" T r o u p e \" ,  \" c r e d i t _ i d \" :  \" 5 2 f e 4 8 0 0 9 2 5 1 4 1 6 c 7 5 0 a c a b f \" ,  \" g e n d e r \" :  0 ,  \" i d \" :  1 2 0 7 2 5 4 ,  \" n a m e \" :  \" J u l i e  L a m m \" ,  \" o r d e r \" :  3 7 } ,  { \" c a s t _ i d \" :  5 9 ,  \" c h a r a c t e r \" :  \" T r o u p e \" ,  \" c r e d i t _ i d \" :  \" 5 2 f e 4 8 0 0 9 2 5 1 4 1 6 c 7 5 0 a c a c 3 \" ,  \" g e n d e r \" :  0 ,  \" i d \" :  1 2 0 7 2 5 7 ,  \" n a m e \" :  \" C u l l e n  B .  M a d d e n \" ,  \" o r d e r \" :  3 8 } ,  { \" c a s t _ i d \" :  6 0 ,  \" c h a r a c t e r \" :  \" T r o u p e \" ,  \" c r e d i t _ i d \" :  \" 5 2 f e 4 8 0 0 9 2 5 1 4 1 6 c 7 5 0 a c a c 7 \" ,  \" g e n d e r \" :  0 ,  \" i d \" :  1 2 0 7 2 5 9 ,  \" n a m e \" :  \" J o s e p h  B r a d y  M a d d e n \" ,  \" o r d e r \" :  3 9 } ,  { \" c a s t _ i d \" :  6 1 ,  \" c h a r a c t e r \" :  \" T r o u p e \" ,  \" c r e d i t _ i d \" :  \" 5 2 f e 4 8 0 0 9 2 5 1 4 1 6 c 7 5 0 a c a c b \" ,  \" g e n d e r \" :  0 ,  \" i d \" :  1 2 0 7 2 6 2 ,  \" n a m e \" :  \" F r a n k i e  T o r r e s \" ,  \" o r d e r \" :  4 0 } ,  { \" c a s t _ i d \" :  6 2 ,  \" c h a r a c t e r \" :  \" T r o u p e \" ,  \" c r e d i t _ i d \" :  \" 5 2 f e 4 8 0 0 9 2 5 1 4 1 6 c 7 5 0 a c a c f \" ,  \" g e n d e r \" :  1 ,  \" i d \" :  1 1 5 8 6 0 0 ,  \" n a m e \" :  \" A u s t i n  W i l s o n \" ,  \" o r d e r \" :  4 1 } ,  { \" c a s t _ i d \" :  6 3 ,  \" c h a r a c t e r \" :  \" T r o u p e \" ,  \" c r e d i t _ i d \" :  \" 5 2 f e 4 8 0 1 9 2 5 1 4 1 6 c 7 5 0 a c a d 3 \" ,  \" g e n d e r \" :  1 ,  \" i d \" :  9 8 3 7 0 5 ,  \" n a m e \" :  \" S a r a  W i l s o n \" ,  \" o r d e r \" :  4 2 } ,  { \" c a s t _ i d \" :  6 4 ,  \" c h a r a c t e r \" :  \" T r o u p e \" ,  \" c r e d i t _ i d \" :  \" 5 2 f e 4 8 0 1 9 2 5 1 4 1 6 c 7 5 0 a c a d 7 \" ,  \" g e n d e r \" :  0 ,  \" i d \" :  1 2 0 7 2 6 3 ,  \" n a m e \" :  \" T a m i c a  W a s h i n g t o n - M i l l e r \" ,  \" o r d e r \" :  4 3 } ,  { \" c a s t _ i d \" :  6 5 ,  \" c h a r a c t e r \" :  \" O p  C e n t e r  S t a f f \" ,  \" c r e d i t _ i d \" :  \" 5 2 f e 4 8 0 1 9 2 5 1 4 1 6 c 7 5 0 a c a d b \" ,  \" g e n d e r \" :  1 ,  \" i d \" :  1 1 4 5 0 9 8 ,  \" n a m e \" :  \" L u c y  B r i a n t \" ,  \" o r d e r \" :  4 4 } ,  { \" c a s t _ i d \" :  6 6 ,  \" c h a r a c t e r \" :  \" O p  C e n t e r  S t a f f \" ,  \" c r e d i t _ i d \" :  \" 5 2 f e 4 8 0 1 9 2 5 1 4 1 6 c 7 5 0 a c a d f \" ,  \" g e n d e r \" :  2 ,  \" i d \" :  3 3 3 0 5 ,  \" n a m e \" :  \" N a t h a n  M e i s t e r \" ,  \" o r d e r \" :  4 5 } ,  { \" c a s t _ i d \" :  6 7 ,  \" c h a r a c t e r \" :  \" O p  C e n t e r  S t a f f \" ,  \" c r e d i t _ i d \" :  \" 5 2 f e 4 8 0 1 9 2 5 1 4 1 6 c 7 5 0 a c a e 3 \" ,  \" g e n d e r \" :  0 ,  \" i d \" :  1 2 0 7 2 6 4 ,  \" n a m e \" :  \" G e r r y  B l a i r \" ,  \" o r d e r \" :  4 6 } ,  { \" c a s t _ i d \" :  6 8 ,  \" c h a r a c t e r \" :  \" O p  C e n t e r  S t a f f \" ,  \" c r e d i t _ i d \" :  \" 5 2 f e 4 8 0 1 9 2 5 1 4 1 6 c 7 5 0 a c a e 7 \" ,  \" g e n d e r \" :  2 ,  \" i d \" :  3 3 3 1 1 ,  \" n a m e \" :  \" M a t t h e w  C h a m b e r l a i n \" ,  \" o r d e r \" :  4 7 } ,  { \" c a s t _ i d \" :  6 9 ,  \" c h a r a c t e r \" :  \" O p  C e n t e r  S t a f f \" ,  \" c r e d i t _ i d \" :  \" 5 2 f e 4 8 0 1 9 2 5 1 4 1 6 c 7 5 0 a c a e b \" ,  \" g e n d e r \" :  0 ,  \" i d \" :  1 2 0 7 2 6 5 ,  \" n a m e \" :  \" P a u l  Y a t e s \" ,  \" o r d e r \" :  4 8 } ,  { \" c a s t _ i d \" :  7 0 ,  \" c h a r a c t e r \" :  \" O p  C e n t e r  D u t y  O f f i c e r \" ,  \" c r e d i t _ i d \" :  \" 5 2 f e 4 8 0 1 9 2 5 1 4 1 6 c 7 5 0 a c a e f \" ,  \" g e n d e r \" :  0 ,  \" i d \" :  1 2 0 7 2 6 6 ,  \" n a m e \" :  \" W r a y  W i l s o n \" ,  \" o r d e r \" :  4 9 } ,  { \" c a s t _ i d \" :  7 1 ,  \" c h a r a c t e r \" :  \" O p  C e n t e r  S t a f f \" ,  \" c r e d i t _ i d \" :  \" 5 2 f e 4 8 0 1 9 2 5 1 4 1 6 c 7 5 0 a c a f 3 \" ,  \" g e n d e r \" :  2 ,  \" i d \" :  5 4 4 9 2 ,  \" n a m e \" :  \" J a m e s  G a y l y n \" ,  \" o r d e r \" :  5 0 } ,  { \" c a s t _ i d \" :  7 2 ,  \" c h a r a c t e r \" :  \" D a n c e r \" ,  \" c r e d i t _ i d \" :  \" 5 2 f e 4 8 0 1 9 2 5 1 4 1 6 c 7 5 0 a c a f 7 \" ,  \" g e n d e r \" :  0 ,  \" i d \" :  1 2 0 7 2 6 7 ,  \" n a m e \" :  \" M e l v i n  L e n o  C l a r k  I I I \" ,  \" o r d e r \" :  5 1 } ,  { \" c a s t _ i d \" :  7 3 ,  \" c h a r a c t e r \" :  \" D a n c e r \" ,  \" c r e d i t _ i d \" :  \" 5 2 f e 4 8 0 1 9 2 5 1 4 1 6 c 7 5 0 a c a f b \" ,  \" g e n d e r \" :  0 ,  \" i d \" :  1 2 0 7 2 6 8 ,  \" n a m e \" :  \" C a r v o n  F u t r e l l \" ,  \" o r d e r \" :  5 2 } ,  { \" c a s t _ i d \" :  7 4 ,  \" c h a r a c t e r \" :  \" D a n c e r \" ,  \" c r e d i t _ i d \" :  \" 5 2 f e 4 8 0 1 9 2 5 1 4 1 6 c 7 5 0 a c a f f \" ,  \" g e n d e r \" :  0 ,  \" i d \" :  1 2 0 7 2 6 9 ,  \" n a m e \" :  \" B r a n d o n  J e l k e s \" ,  \" o r d e r \" :  5 3 } ,  { \" c a s t _ i d \" :  7 5 ,  \" c h a r a c t e r \" :  \" D a n c e r \" ,  \" c r e d i t _ i d \" :  \" 5 2 f e 4 8 0 1 9 2 5 1 4 1 6 c 7 5 0 a c b 0 3 \" ,  \" g e n d e r \" :  0 ,  \" i d \" :  1 2 0 7 2 7 0 ,  \" n a m e \" :  \" M i c a h  M o c h \" ,  \" o r d e r \" :  5 4 } ,  { \" c a s t _ i d \" :  7 6 ,  \" c h a r a c t e r \" :  \" D a n c e r \" ,  \" c r e d i t _ i d \" :  \" 5 2 f e 4 8 0 1 9 2 5 1 4 1 6 c 7 5 0 a c b 0 7 \" ,  \" g e n d e r \" :  0 ,  \" i d \" :  1 2 0 7 2 7 1 ,  \" n a m e \" :  \" H a n n i y a h  M u h a m m a d \" ,  \" o r d e r \" :  5 5 } ,  { \" c a s t _ i d \" :  7 7 ,  \" c h a r a c t e r \" :  \" D a n c e r \" ,  \" c r e d i t _ i d \" :  \" 5 2 f e 4 8 0 1 9 2 5 1 4 1 6 c 7 5 0 a c b 0 b \" ,  \" g e n d e r \" :  0 ,  \" i d \" :  1 2 0 7 2 7 2 ,  \" n a m e \" :  \" C h r i s t o p h e r  N o l e n \" ,  \" o r d e r \" :  5 6 } ,  { \" c a s t _ i d \" :  7 8 ,  \" c h a r a c t e r \" :  \" D a n c e r \" ,  \" c r e d i t _ i d \" :  \" 5 2 f e 4 8 0 1 9 2 5 1 4 1 6 c 7 5 0 a c b 0 f \" ,  \" g e n d e r \" :  0 ,  \" i d \" :  1 2 0 7 2 7 3 ,  \" n a m e \" :  \" C h r i s t a  O l i v e r \" ,  \" o r d e r \" :  5 7 } ,  { \" c a s t _ i d \" :  7 9 ,  \" c h a r a c t e r \" :  \" D a n c e r \" ,  \" c r e d i t _ i d \" :  \" 5 2 f e 4 8 0 1 9 2 5 1 4 1 6 c 7 5 0 a c b 1 3 \" ,  \" g e n d e r \" :  0 ,  \" i d \" :  1 2 0 7 2 7 4 ,  \" n a m e \" :  \" A p r i l  M a r i e  T h o m a s \" ,  \" o r d e r \" :  5 8 } ,  { \" c a s t _ i d \" :  8 0 ,  \" c h a r a c t e r \" :  \" D a n c e r \" ,  \" c r e d i t _ i d \" :  \" 5 2 f e 4 8 0 1 9 2 5 1 4 1 6 c 7 5 0 a c b 1 7 \" ,  \" g e n d e r \" :  0 ,  \" i d \" :  1 2 0 7 2 7 5 ,  \" n a m e \" :  \" B r a v i t a  A .  T h r e a t t \" ,  \" o r d e r \" :  5 9 } ,  { \" c a s t _ i d \" :  8 1 ,  \" c h a r a c t e r \" :  \" M i n i n g  C h i e f  ( u n c r e d i t e d ) \" ,  \" c r e d i t _ i d \" :  \" 5 2 f e 4 8 0 1 9 2 5 1 4 1 6 c 7 5 0 a c b 1 b \" ,  \" g e n d e r \" :  0 ,  \" i d \" :  1 2 0 7 2 7 6 ,  \" n a m e \" :  \" C o l i n  B l e a s d a l e \" ,  \" o r d e r \" :  6 0 } ,  { \" c a s t _ i d \" :  8 2 ,  \" c h a r a c t e r \" :  \" V e t e r a n  M i n e r  ( u n c r e d i t e d ) \" ,  \" c r e d i t _ i d \" :  \" 5 2 f e 4 8 0 1 9 2 5 1 4 1 6 c 7 5 0 a c b 1 f \" ,  \" g e n d e r \" :  0 ,  \" i d \" :  1 0 7 9 6 9 ,  \" n a m e \" :  \" M i k e  B o d n a r \" ,  \" o r d e r \" :  6 1 } ,  { \" c a s t _ i d \" :  8 3 ,  \" c h a r a c t e r \" :  \" R i c h a r d  ( u n c r e d i t e d ) \" ,  \" c r e d i t _ i d \" :  \" 5 2 f e 4 8 0 1 9 2 5 1 4 1 6 c 7 5 0 a c b 2 3 \" ,  \" g e n d e r \" :  0 ,  \" i d \" :  1 2 0 7 2 7 8 ,  \" n a m e \" :  \" M a t t  C l a y t o n \" ,  \" o r d e r \" :  6 2 } ,  { \" c a s t _ i d \" :  8 4 ,  \" c h a r a c t e r \" :  \" N a v \\' i  ( u n c r e d i t e d ) \" ,  \" c r e d i t _ i d \" :  \" 5 2 f e 4 8 0 1 9 2 5 1 4 1 6 c 7 5 0 a c b 2 7 \" ,  \" g e n d e r \" :  1 ,  \" i d \" :  1 4 7 8 9 8 ,  \" n a m e \" :  \" N i c o l e  D i o n n e \" ,  \" o r d e r \" :  6 3 } ,  { \" c a s t _ i d \" :  8 5 ,  \" c h a r a c t e r \" :  \" T r o o p e r  ( u n c r e d i t e d ) \" ,  \" c r e d i t _ i d \" :  \" 5 2 f e 4 8 0 1 9 2 5 1 4 1 6 c 7 5 0 a c b 2 b \" ,  \" g e n d e r \" :  0 ,  \" i d \" :  1 2 0 7 2 8 0 ,  \" n a m e \" :  \" J a m i e  H a r r i s o n \" ,  \" o r d e r \" :  6 4 } ,  { \" c a s t _ i d \" :  8 6 ,  \" c h a r a c t e r \" :  \" T r o o p e r  ( u n c r e d i t e d ) \" ,  \" c r e d i t _ i d \" :  \" 5 2 f e 4 8 0 1 9 2 5 1 4 1 6 c 7 5 0 a c b 2 f \" ,  \" g e n d e r \" :  0 ,  \" i d \" :  1 2 0 7 2 8 1 ,  \" n a m e \" :  \" A l l a n  H e n r y \" ,  \" o r d e r \" :  6 5 } ,  { \" c a s t _ i d \" :  8 7 ,  \" c h a r a c t e r \" :  \" G r o u n d  T e c h n i c i a n  ( u n c r e d i t e d ) \" ,  \" c r e d i t _ i d \" :  \" 5 2 f e 4 8 0 1 9 2 5 1 4 1 6 c 7 5 0 a c b 3 3 \" ,  \" g e n d e r \" :  2 ,  \" i d \" :  1 2 0 7 2 8 2 ,  \" n a m e \" :  \" A n t h o n y  I n g r u b e r \" ,  \" o r d e r \" :  6 6 } ,  { \" c a s t _ i d \" :  8 8 ,  \" c h a r a c t e r \" :  \" F l i g h t  C r e w  M e c h a n i c  ( u n c r e d i t e d ) \" ,  \" c r e d i t _ i d \" :  \" 5 2 f e 4 8 0 1 9 2 5 1 4 1 6 c 7 5 0 a c b 3 7 \" ,  \" g e n d e r \" :  0 ,  \" i d \" :  1 2 0 7 2 8 3 ,  \" n a m e \" :  \" A s h l e y  J e f f e r y \" ,  \" o r d e r \" :  6 7 } ,  { \" c a s t _ i d \" :  1 4 ,  \" c h a r a c t e r \" :  \" S a m s o n  P i l o t \" ,  \" c r e d i t _ i d \" :  \" 5 2 f e 4 8 0 0 9 2 5 1 4 1 6 c 7 5 0 a c 9 f 9 \" ,  \" g e n d e r \" :  0 ,  \" i d \" :  9 8 2 1 6 ,  \" n a m e \" :  \" D e a n  K n o w s l e y \" ,  \" o r d e r \" :  6 8 } ,  { \" c a s t _ i d \" :  8 9 ,  \" c h a r a c t e r \" :  \" T r o o p e r  ( u n c r e d i t e d ) \" ,  \" c r e d i t _ i d \" :  \" 5 2 f e 4 8 0 1 9 2 5 1 4 1 6 c 7 5 0 a c b 3 b \" ,  \" g e n d e r \" :  0 ,  \" i d \" :  1 2 0 1 3 9 9 ,  \" n a m e \" :  \" J o s e p h  M i k a - H u n t \" ,  \" o r d e r \" :  6 9 } ,  { \" c a s t _ i d \" :  9 0 ,  \" c h a r a c t e r \" :  \" B a n s h e e  ( u n c r e d i t e d ) \" ,  \" c r e d i t _ i d \" :  \" 5 2 f e 4 8 0 1 9 2 5 1 4 1 6 c 7 5 0 a c b 3 f \" ,  \" g e n d e r \" :  0 ,  \" i d \" :  2 3 6 6 9 6 ,  \" n a m e \" :  \" T e r r y  N o t a r y \" ,  \" o r d e r \" :  7 0 } ,  { \" c a s t _ i d \" :  9 1 ,  \" c h a r a c t e r \" :  \" S o l d i e r  ( u n c r e d i t e d ) \" ,  \" c r e d i t _ i d \" :  \" 5 2 f e 4 8 0 1 9 2 5 1 4 1 6 c 7 5 0 a c b 4 3 \" ,  \" g e n d e r \" :  0 ,  \" i d \" :  1 2 0 7 2 8 7 ,  \" n a m e \" :  \" K a i  P a n t a n o \" ,  \" o r d e r \" :  7 1 } ,  { \" c a s t _ i d \" :  9 2 ,  \" c h a r a c t e r \" :  \" B l a s t  T e c h n i c i a n  ( u n c r e d i t e d ) \" ,  \" c r e d i t _ i d \" :  \" 5 2 f e 4 8 0 1 9 2 5 1 4 1 6 c 7 5 0 a c b 4 7 \" ,  \" g e n d e r \" :  0 ,  \" i d \" :  1 2 0 7 2 8 8 ,  \" n a m e \" :  \" L o g a n  P i t h y o u \" ,  \" o r d e r \" :  7 2 } ,  { \" c a s t _ i d \" :  9 3 ,  \" c h a r a c t e r \" :  \" V i n d u m  R a a h  ( u n c r e d i t e d ) \" ,  \" c r e d i t _ i d \" :  \" 5 2 f e 4 8 0 1 9 2 5 1 4 1 6 c 7 5 0 a c b 4 b \" ,  \" g e n d e r \" :  0 ,  \" i d \" :  1 2 0 7 2 8 9 ,  \" n a m e \" :  \" S t u a r t  P o l l o c k \" ,  \" o r d e r \" :  7 3 } ,  { \" c a s t _ i d \" :  9 4 ,  \" c h a r a c t e r \" :  \" H e r o  ( u n c r e d i t e d ) \" ,  \" c r e d i t _ i d \" :  \" 5 2 f e 4 8 0 1 9 2 5 1 4 1 6 c 7 5 0 a c b 4 f \" ,  \" g e n d e r \" :  0 ,  \" i d \" :  5 8 4 8 6 8 ,  \" n a m e \" :  \" R a j a \" ,  \" o r d e r \" :  7 4 } ,  { \" c a s t _ i d \" :  9 5 ,  \" c h a r a c t e r \" :  \" O p s  C e n t r e w o r k e r  ( u n c r e d i t e d ) \" ,  \" c r e d i t _ i d \" :  \" 5 2 f e 4 8 0 1 9 2 5 1 4 1 6 c 7 5 0 a c b 5 3 \" ,  \" g e n d e r \" :  0 ,  \" i d \" :  1 2 0 7 2 9 0 ,  \" n a m e \" :  \" G a r e t h  R u c k \" ,  \" o r d e r \" :  7 5 } ,  { \" c a s t _ i d \" :  9 6 ,  \" c h a r a c t e r \" :  \" E n g i n e e r  ( u n c r e d i t e d ) \" ,  \" c r e d i t _ i d \" :  \" 5 2 f e 4 8 0 1 9 2 5 1 4 1 6 c 7 5 0 a c b 5 7 \" ,  \" g e n d e r \" :  0 ,  \" i d \" :  1 0 6 2 4 6 3 ,  \" n a m e \" :  \" R h i a n  S h e e h a n \" ,  \" o r d e r \" :  7 6 } ,  { \" c a s t _ i d \" :  9 7 ,  \" c h a r a c t e r \" :  \" C o l .  Q u a r i t c h \\' s  M e c h  S u i t  ( u n c r e d i t e d ) \" ,  \" c r e d i t _ i d \" :  \" 5 2 f e 4 8 0 1 9 2 5 1 4 1 6 c 7 5 0 a c b 5 b \" ,  \" g e n d e r \" :  0 ,  \" i d \" :  6 0 6 5 6 ,  \" n a m e \" :  \" T .  J .  S t o r m \" ,  \" o r d e r \" :  7 7 } ,  { \" c a s t _ i d \" :  9 8 ,  \" c h a r a c t e r \" :  \" F e m a l e  M a r i n e  ( u n c r e d i t e d ) \" ,  \" c r e d i t _ i d \" :  \" 5 2 f e 4 8 0 1 9 2 5 1 4 1 6 c 7 5 0 a c b 5 f \" ,  \" g e n d e r \" :  0 ,  \" i d \" :  1 2 0 7 2 9 1 ,  \" n a m e \" :  \" J o d i e  T a y l o r \" ,  \" o r d e r \" :  7 8 } ,  { \" c a s t _ i d \" :  9 9 ,  \" c h a r a c t e r \" :  \" I k r a n  C l a n  L e a d e r  ( u n c r e d i t e d ) \" ,  \" c r e d i t _ i d \" :  \" 5 2 f e 4 8 0 1 9 2 5 1 4 1 6 c 7 5 0 a c b 6 3 \" ,  \" g e n d e r \" :  1 ,  \" i d \" :  1 1 8 6 0 2 7 ,  \" n a m e \" :  \" A l i c i a  V e l a - B a i l e y \" ,  \" o r d e r \" :  7 9 } ,  { \" c a s t _ i d \" :  1 0 0 ,  \" c h a r a c t e r \" :  \" G e o l o g i s t  ( u n c r e d i t e d ) \" ,  \" c r e d i t _ i d \" :  \" 5 2 f e 4 8 0 1 9 2 5 1 4 1 6 c 7 5 0 a c b 6 7 \" ,  \" g e n d e r \" :  0 ,  \" i d \" :  1 2 0 7 2 9 2 ,  \" n a m e \" :  \" R i c h a r d  W h i t e s i d e \" ,  \" o r d e r \" :  8 0 } ,  { \" c a s t _ i d \" :  1 0 1 ,  \" c h a r a c t e r \" :  \" N a \\' v i  ( u n c r e d i t e d ) \" ,  \" c r e d i t _ i d \" :  \" 5 2 f e 4 8 0 1 9 2 5 1 4 1 6 c 7 5 0 a c b 6 b \" ,  \" g e n d e r \" :  0 ,  \" i d \" :  1 0 3 2 5 9 ,  \" n a m e \" :  \" N i k i e  Z a m b o \" ,  \" o r d e r \" :  8 1 } ,  { \" c a s t _ i d \" :  1 0 2 ,  \" c h a r a c t e r \" :  \" A m b i e n t  R o o m  T e c h  /  T r o u p e \" ,  \" c r e d i t _ i d \" :  \" 5 2 f e 4 8 0 1 9 2 5 1 4 1 6 c 7 5 0 a c b 6 f \" ,  \" g e n d e r \" :  1 ,  \" i d \" :  4 2 2 8 6 ,  \" n a m e \" :  \" J u l e n e  R e n e e \" ,  \" o r d e r \" :  8 2 } ] [ { \" c r e d i t _ i d \" :  \" 5 2 f e 4 8 0 0 9 2 5 1 4 1 6 c 7 5 0 a c a 2 3 \" ,  \" d e p a r t m e n t \" :  \" E d i t i n g \" ,  \" g e n d e r \" :  0 ,  \" i d \" :  1 7 2 1 ,  \" j o b \" :  \" E d i t o r \" ,  \" n a m e \" :  \" S t e p h e n  E .  R i v k i n \" } ,  { \" c r e d i t _ i d \" :  \" 5 3 9 c 4 7 e c c 3 a 3 6 8 1 0 e 3 0 0 1 f 8 7 \" ,  \" d e p a r t m e n t \" :  \" A r t \" ,  \" g e n d e r \" :  2 ,  \" i d \" :  4 9 6 ,  \" j o b \" :  \" P r o d u c t i o n  D e s i g n \" ,  \" n a m e \" :  \" R i c k  C a r t e r \" } ,  { \" c r e d i t _ i d \" :  \" 5 4 4 9 1 c 8 9 c 3 a 3 6 8 0 f b 4 0 0 1 c f 7 \" ,  \" d e p a r t m e n t \" :  \" S o u n d \" ,  \" g e n d e r \" :  0 ,  \" i d \" :  9 0 0 ,  \" j o b \" :  \" S o u n d  D e s i g n e r \" ,  \" n a m e \" :  \" C h r i s t o p h e r  B o y e s \" } ,  { \" c r e d i t _ i d \" :  \" 5 4 4 9 1 c b 7 0 e 0 a 2 6 7 4 8 0 0 0 1 b d 0 \" ,  \" d e p a r t m e n t \" :  \" S o u n d \" ,  \" g e n d e r \" :  0 ,  \" i d \" :  9 0 0 ,  \" j o b \" :  \" S u p e r v i s i n g  S o u n d  E d i t o r \" ,  \" n a m e \" :  \" C h r i s t o p h e r  B o y e s \" } ,  { \" c r e d i t _ i d \" :  \" 5 3 9 c 4 a 4 c c 3 a 3 6 8 1 0 c 9 0 0 2 1 0 1 \" ,  \" d e p a r t m e n t \" :  \" P r o d u c t i o n \" ,  \" g e n d e r \" :  1 ,  \" i d \" :  1 2 6 2 ,  \" j o b \" :  \" C a s t i n g \" ,  \" n a m e \" :  \" M a l i  F i n n \" } ,  { \" c r e d i t _ i d \" :  \" 5 5 4 4 e e 3 b 9 2 5 1 4 1 4 9 9 f 0 0 0 8 f c \" ,  \" d e p a r t m e n t \" :  \" S o u n d \" ,  \" g e n d e r \" :  2 ,  \" i d \" :  1 7 2 9 ,  \" j o b \" :  \" O r i g i n a l  M u s i c  C o m p o s e r \" ,  \" n a m e \" :  \" J a m e s  H o r n e r \" } ,  { \" c r e d i t _ i d \" :  \" 5 2 f e 4 8 0 0 9 2 5 1 4 1 6 c 7 5 0 a c 9 c 3 \" ,  \" d e p a r t m e n t \" :  \" D i r e c t i n g \" ,  \" g e n d e r \" :  2 ,  \" i d \" :  2 7 1 0 ,  \" j o b \" :  \" D i r e c t o r \" ,  \" n a m e \" :  \" J a m e s  C a m e r o n \" } ,  { \" c r e d i t _ i d \" :  \" 5 2 f e 4 8 0 0 9 2 5 1 4 1 6 c 7 5 0 a c 9 d 9 \" ,  \" d e p a r t m e n t \" :  \" W r i t i n g \" ,  \" g e n d e r \" :  2 ,  \" i d \" :  2 7 1 0 ,  \" j o b \" :  \" W r i t e r \" ,  \" n a m e \" :  \" J a m e s  C a m e r o n \" } ,  { \" c r e d i t _ i d \" :  \" 5 2 f e 4 8 0 0 9 2 5 1 4 1 6 c 7 5 0 a c a 1 7 \" ,  \" d e p a r t m e n t \" :  \" E d i t i n g \" ,  \" g e n d e r \" :  2 ,  \" i d \" :  2 7 1 0 ,  \" j o b \" :  \" E d i t o r \" ,  \" n a m e \" :  \" J a m e s  C a m e r o n \" } ,  { \" c r e d i t _ i d \" :  \" 5 2 f e 4 8 0 0 9 2 5 1 4 1 6 c 7 5 0 a c a 2 9 \" ,  \" d e p a r t m e n t \" :  \" P r o d u c t i o n \" ,  \" g e n d e r \" :  2 ,  \" i d \" :  2 7 1 0 ,  \" j o b \" :  \" P r o d u c e r \" ,  \" n a m e \" :  \" J a m e s  C a m e r o n \" } ,  { \" c r e d i t _ i d \" :  \" 5 2 f e 4 8 0 0 9 2 5 1 4 1 6 c 7 5 0 a c a 3 f \" ,  \" d e p a r t m e n t \" :  \" W r i t i n g \" ,  \" g e n d e r \" :  2 ,  \" i d \" :  2 7 1 0 ,  \" j o b \" :  \" S c r e e n p l a y \" ,  \" n a m e \" :  \" J a m e s  C a m e r o n \" } ,  { \" c r e d i t _ i d \" :  \" 5 3 9 c 4 9 8 7 c 3 a 3 6 8 1 0 b a 0 0 2 1 a 4 \" ,  \" d e p a r t m e n t \" :  \" A r t \" ,  \" g e n d e r \" :  2 ,  \" i d \" :  7 2 3 6 ,  \" j o b \" :  \" A r t  D i r e c t i o n \" ,  \" n a m e \" :  \" A n d r e w  M e n z i e s \" } ,  { \" c r e d i t _ i d \" :  \" 5 4 9 5 9 8 c 3 c 3 a 3 6 8 6 a e 9 0 0 4 3 8 3 \" ,  \" d e p a r t m e n t \" :  \" V i s u a l  E f f e c t s \" ,  \" g e n d e r \" :  0 ,  \" i d \" :  6 6 9 0 ,  \" j o b \" :  \" V i s u a l  E f f e c t s  P r o d u c e r \" ,  \" n a m e \" :  \" J i l l  B r o o k s \" } ,  { \" c r e d i t _ i d \" :  \" 5 2 f e 4 8 0 0 9 2 5 1 4 1 6 c 7 5 0 a c a 4 b \" ,  \" d e p a r t m e n t \" :  \" P r o d u c t i o n \" ,  \" g e n d e r \" :  1 ,  \" i d \" :  6 3 4 7 ,  \" j o b \" :  \" C a s t i n g \" ,  \" n a m e \" :  \" M a r g e r y  S i m k i n \" } ,  { \" c r e d i t _ i d \" :  \" 5 7 0 b 6 f 4 1 9 2 5 1 4 1 7 d a 7 0 0 3 2 f e \" ,  \" d e p a r t m e n t \" :  \" A r t \" ,  \" g e n d e r \" :  2 ,  \" i d \" :  6 8 7 8 ,  \" j o b \" :  \" S u p e r v i s i n g  A r t  D i r e c t o r \" ,  \" n a m e \" :  \" K e v i n  I s h i o k a \" } ,  { \" c r e d i t _ i d \" :  \" 5 4 9 5 a 0 f a c 3 a 3 6 8 6 a e 9 0 0 4 4 6 8 \" ,  \" d e p a r t m e n t \" :  \" S o u n d \" ,  \" g e n d e r \" :  0 ,  \" i d \" :  6 8 8 3 ,  \" j o b \" :  \" M u s i c  E d i t o r \" ,  \" n a m e \" :  \" D i c k  B e r n s t e i n \" } ,  { \" c r e d i t _ i d \" :  \" 5 4 9 5 9 7 0 6 c 3 a 3 6 8 6 a f 3 0 0 3 e 8 1 \" ,  \" d e p a r t m e n t \" :  \" S o u n d \" ,  \" g e n d e r \" :  0 ,  \" i d \" :  8 1 5 9 ,  \" j o b \" :  \" S o u n d  E f f e c t s  E d i t o r \" ,  \" n a m e \" :  \" S h a n n o n  M i l l s \" } ,  { \" c r e d i t _ i d \" :  \" 5 4 4 9 1 d 5 8 c 3 a 3 6 8 0 f b 1 0 0 1 c c b \" ,  \" d e p a r t m e n t \" :  \" S o u n d \" ,  \" g e n d e r \" :  0 ,  \" i d \" :  8 1 6 0 ,  \" j o b \" :  \" F o l e y \" ,  \" n a m e \" :  \" D e n n i e  T h o r p e \" } ,  { \" c r e d i t _ i d \" :  \" 5 4 4 9 1 d 6 c c 3 a 3 6 8 0 f a 5 0 0 1 b 2 c \" ,  \" d e p a r t m e n t \" :  \" S o u n d \" ,  \" g e n d e r \" :  0 ,  \" i d \" :  8 1 6 3 ,  \" j o b \" :  \" F o l e y \" ,  \" n a m e \" :  \" J a n a  V a n c e \" } ,  { \" c r e d i t _ i d \" :  \" 5 2 f e 4 8 0 0 9 2 5 1 4 1 6 c 7 5 0 a c a 5 7 \" ,  \" d e p a r t m e n t \" :  \" C o s t u m e  &  M a k e - U p \" ,  \" g e n d e r \" :  1 ,  \" i d \" :  8 5 2 7 ,  \" j o b \" :  \" C o s t u m e  D e s i g n \" ,  \" n a m e \" :  \" D e b o r a h  L y n n  S c o t t \" } ,  { \" c r e d i t _ i d \" :  \" 5 2 f e 4 8 0 0 9 2 5 1 4 1 6 c 7 5 0 a c a 2 f \" ,  \" d e p a r t m e n t \" :  \" P r o d u c t i o n \" ,  \" g e n d e r \" :  2 ,  \" i d \" :  8 5 2 9 ,  \" j o b \" :  \" P r o d u c e r \" ,  \" n a m e \" :  \" J o n  L a n d a u \" } ,  { \" c r e d i t _ i d \" :  \" 5 3 9 c 4 9 3 7 c 3 a 3 6 8 1 0 b a 0 0 2 1 9 4 \" ,  \" d e p a r t m e n t \" :  \" A r t \" ,  \" g e n d e r \" :  0 ,  \" i d \" :  9 6 1 8 ,  \" j o b \" :  \" A r t  D i r e c t i o n \" ,  \" n a m e \" :  \" S e a n  H a w o r t h \" } ,  { \" c r e d i t _ i d \" :  \" 5 3 9 c 4 9 b 6 c 3 a 3 6 8 1 0 c 1 0 0 2 0 e 6 \" ,  \" d e p a r t m e n t \" :  \" A r t \" ,  \" g e n d e r \" :  1 ,  \" i d \" :  1 2 6 5 3 ,  \" j o b \" :  \" S e t  D e c o r a t i o n \" ,  \" n a m e \" :  \" K i m  S i n c l a i r \" } ,  { \" c r e d i t _ i d \" :  \" 5 7 0 b 6 f 2 f 9 2 5 1 4 1 3 a 0 e 0 0 0 2 0 d \" ,  \" d e p a r t m e n t \" :  \" A r t \" ,  \" g e n d e r \" :  1 ,  \" i d \" :  1 2 6 5 3 ,  \" j o b \" :  \" S u p e r v i s i n g  A r t  D i r e c t o r \" ,  \" n a m e \" :  \" K i m  S i n c l a i r \" } ,  { \" c r e d i t _ i d \" :  \" 5 4 4 9 1 a 6 c 0 e 0 a 2 6 7 4 8 c 0 0 1 b 1 9 \" ,  \" d e p a r t m e n t \" :  \" A r t \" ,  \" g e n d e r \" :  2 ,  \" i d \" :  1 4 3 5 0 ,  \" j o b \" :  \" S e t  D e s i g n e r \" ,  \" n a m e \" :  \" R i c h a r d  F .  M a y s \" } ,  { \" c r e d i t _ i d \" :  \" 5 6 9 2 8 c f 4 c 3 a 3 6 8 4 c f f 0 0 2 5 c 4 \" ,  \" d e p a r t m e n t \" :  \" P r o d u c t i o n \" ,  \" g e n d e r \" :  1 ,  \" i d \" :  2 0 2 9 4 ,  \" j o b \" :  \" E x e c u t i v e  P r o d u c e r \" ,  \" n a m e \" :  \" L a e t a  K a l o g r i d i s \" } ,  { \" c r e d i t _ i d \" :  \" 5 2 f e 4 8 0 0 9 2 5 1 4 1 6 c 7 5 0 a c a 5 1 \" ,  \" d e p a r t m e n t \" :  \" C o s t u m e  &  M a k e - U p \" ,  \" g e n d e r \" :  0 ,  \" i d \" :  1 7 6 7 5 ,  \" j o b \" :  \" C o s t u m e  D e s i g n \" ,  \" n a m e \" :  \" M a y e s  C .  R u b e o \" } ,  { \" c r e d i t _ i d \" :  \" 5 2 f e 4 8 0 0 9 2 5 1 4 1 6 c 7 5 0 a c a 1 1 \" ,  \" d e p a r t m e n t \" :  \" C a m e r a \" ,  \" g e n d e r \" :  2 ,  \" i d \" :  1 8 2 6 5 ,  \" j o b \" :  \" D i r e c t o r  o f  P h o t o g r a p h y \" ,  \" n a m e \" :  \" M a u r o  F i o r e \" } ,  { \" c r e d i t _ i d \" :  \" 5 4 4 9 1 9 4 d 0 e 0 a 2 6 7 4 8 f 0 0 1 b 3 9 \" ,  \" d e p a r t m e n t \" :  \" A r t \" ,  \" g e n d e r \" :  0 ,  \" i d \" :  4 2 2 8 1 ,  \" j o b \" :  \" S e t  D e s i g n e r \" ,  \" n a m e \" :  \" S c o t t  H e r b e r t s o n \" } ,  { \" c r e d i t _ i d \" :  \" 5 2 f e 4 8 0 0 9 2 5 1 4 1 6 c 7 5 0 a c a 0 5 \" ,  \" d e p a r t m e n t \" :  \" C r e w \" ,  \" g e n d e r \" :  0 ,  \" i d \" :  4 2 2 8 8 ,  \" j o b \" :  \" S t u n t s \" ,  \" n a m e \" :  \" W o o d y  S c h u l t z \" } ,  { \" c r e d i t _ i d \" :  \" 5 5 9 2 a e f b 9 2 5 1 4 1 5 2 d e 0 0 1 0 f 5 \" ,  \" d e p a r t m e n t \" :  \" C o s t u m e  &  M a k e - U p \" ,  \" g e n d e r \" :  0 ,  \" i d \" :  2 9 0 6 7 ,  \" j o b \" :  \" M a k e u p  A r t i s t \" ,  \" n a m e \" :  \" L i n d a  D e V e t t a \" } ,  { \" c r e d i t _ i d \" :  \" 5 5 9 2 a f a 4 9 2 5 1 4 1 5 2 d e 0 0 1 1 2 c \" ,  \" d e p a r t m e n t \" :  \" C o s t u m e  &  M a k e - U p \" ,  \" g e n d e r \" :  0 ,  \" i d \" :  2 9 0 6 7 ,  \" j o b \" :  \" H a i r s t y l i s t \" ,  \" n a m e \" :  \" L i n d a  D e V e t t a \" } ,  { \" c r e d i t _ i d \" :  \" 5 4 9 5 9 e d 5 9 2 5 1 4 1 3 0 f c 0 0 2 e 5 d \" ,  \" d e p a r t m e n t \" :  \" C a m e r a \" ,  \" g e n d e r \" :  2 ,  \" i d \" :  3 3 3 0 2 ,  \" j o b \" :  \" C a m e r a  O p e r a t o r \" ,  \" n a m e \" :  \" R i c h a r d  B l u c k \" } ,  { \" c r e d i t _ i d \" :  \" 5 3 9 c 4 8 9 1 c 3 a 3 6 8 1 0 b a 0 0 2 1 4 7 \" ,  \" d e p a r t m e n t \" :  \" A r t \" ,  \" g e n d e r \" :  2 ,  \" i d \" :  3 3 3 0 3 ,  \" j o b \" :  \" A r t  D i r e c t i o n \" ,  \" n a m e \" :  \" S i m o n  B r i g h t \" } ,  { \" c r e d i t _ i d \" :  \" 5 4 9 5 9 c 0 6 9 2 5 1 4 1 7 a 8 1 0 0 1 f 3 a \" ,  \" d e p a r t m e n t \" :  \" V i s u a l  E f f e c t s \" ,  \" g e n d e r \" :  0 ,  \" i d \" :  1 1 3 1 4 5 ,  \" j o b \" :  \" V i s u a l  E f f e c t s  S u p e r v i s o r \" ,  \" n a m e \" :  \" R i c h a r d  M a r t i n \" } ,  { \" c r e d i t _ i d \" :  \" 5 4 9 5 9 a 0 d c 3 a 3 6 8 0 f f 5 0 0 2 c 8 d \" ,  \" d e p a r t m e n t \" :  \" C r e w \" ,  \" g e n d e r \" :  2 ,  \" i d \" :  5 8 1 8 8 ,  \" j o b \" :  \" V i s u a l  E f f e c t s  E d i t o r \" ,  \" n a m e \" :  \" S t e v e  R .  M o o r e \" } ,  { \" c r e d i t _ i d \" :  \" 5 2 f e 4 8 0 0 9 2 5 1 4 1 6 c 7 5 0 a c a 1 d \" ,  \" d e p a r t m e n t \" :  \" E d i t i n g \" ,  \" g e n d e r \" :  2 ,  \" i d \" :  5 8 8 7 1 ,  \" j o b \" :  \" E d i t o r \" ,  \" n a m e \" :  \" J o h n  R e f o u a \" } ,  { \" c r e d i t _ i d \" :  \" 5 4 4 9 1 a 4 d c 3 a 3 6 8 0 f c 3 0 0 1 8 c a \" ,  \" d e p a r t m e n t \" :  \" A r t \" ,  \" g e n d e r \" :  0 ,  \" i d \" :  9 2 3 5 9 ,  \" j o b \" :  \" S e t  D e s i g n e r \" ,  \" n a m e \" :  \" K a r l  J .  M a r t i n \" } ,  { \" c r e d i t _ i d \" :  \" 5 2 f e 4 8 0 0 9 2 5 1 4 1 6 c 7 5 0 a c a 3 5 \" ,  \" d e p a r t m e n t \" :  \" C a m e r a \" ,  \" g e n d e r \" :  1 ,  \" i d \" :  7 2 2 0 1 ,  \" j o b \" :  \" D i r e c t o r  o f  P h o t o g r a p h y \" ,  \" n a m e \" :  \" C h i l i n g  L i n \" } ,  { \" c r e d i t _ i d \" :  \" 5 2 f e 4 8 0 0 9 2 5 1 4 1 6 c 7 5 0 a c 9 f f \" ,  \" d e p a r t m e n t \" :  \" C r e w \" ,  \" g e n d e r \" :  0 ,  \" i d \" :  8 9 7 1 4 ,  \" j o b \" :  \" S t u n t s \" ,  \" n a m e \" :  \" I l r a m  C h o i \" } ,  { \" c r e d i t _ i d \" :  \" 5 4 9 5 9 c 5 2 9 2 5 1 4 1 6 e 2 b 0 0 4 3 9 4 \" ,  \" d e p a r t m e n t \" :  \" V i s u a l  E f f e c t s \" ,  \" g e n d e r \" :  2 ,  \" i d \" :  9 3 2 1 4 ,  \" j o b \" :  \" V i s u a l  E f f e c t s  S u p e r v i s o r \" ,  \" n a m e \" :  \" S t e v e n  Q u a l e \" } ,  { \" c r e d i t _ i d \" :  \" 5 4 4 9 1 e d f 0 e 0 a 2 6 7 4 8 9 0 0 1 c 3 7 \" ,  \" d e p a r t m e n t \" :  \" C r e w \" ,  \" g e n d e r \" :  1 ,  \" i d \" :  1 2 2 6 0 7 ,  \" j o b \" :  \" D i a l e c t  C o a c h \" ,  \" n a m e \" :  \" C a r l a  M e y e r \" } ,  { \" c r e d i t _ i d \" :  \" 5 3 9 c 4 8 5 b c 3 a 3 6 8 6 5 3 d 0 0 1 a 3 a \" ,  \" d e p a r t m e n t \" :  \" A r t \" ,  \" g e n d e r \" :  2 ,  \" i d \" :  1 3 2 5 8 5 ,  \" j o b \" :  \" A r t  D i r e c t i o n \" ,  \" n a m e \" :  \" N i c k  B a s s e t t \" } ,  { \" c r e d i t _ i d \" :  \" 5 3 9 c 4 9 0 3 c 3 a 3 6 8 6 5 3 d 0 0 1 a 7 4 \" ,  \" d e p a r t m e n t \" :  \" A r t \" ,  \" g e n d e r \" :  0 ,  \" i d \" :  1 3 2 5 9 6 ,  \" j o b \" :  \" A r t  D i r e c t i o n \" ,  \" n a m e \" :  \" J i l l  C o r m a c k \" } ,  { \" c r e d i t _ i d \" :  \" 5 3 9 c 4 9 6 7 c 3 a 3 6 8 6 5 3 d 0 0 1 a 9 4 \" ,  \" d e p a r t m e n t \" :  \" A r t \" ,  \" g e n d e r \" :  0 ,  \" i d \" :  1 3 2 6 0 4 ,  \" j o b \" :  \" A r t  D i r e c t i o n \" ,  \" n a m e \" :  \" A n d y  M c L a r e n \" } ,  { \" c r e d i t _ i d \" :  \" 5 2 f e 4 8 0 0 9 2 5 1 4 1 6 c 7 5 0 a c a 4 5 \" ,  \" d e p a r t m e n t \" :  \" C r e w \" ,  \" g e n d e r \" :  0 ,  \" i d \" :  2 3 6 6 9 6 ,  \" j o b \" :  \" M o t i o n  C a p t u r e  A r t i s t \" ,  \" n a m e \" :  \" T e r r y  N o t a r y \" } ,  { \" c r e d i t _ i d \" :  \" 5 4 9 5 9 e 0 2 c 3 a 3 6 8 0 f c 6 0 0 2 7 d 2 \" ,  \" d e p a r t m e n t \" :  \" C r e w \" ,  \" g e n d e r \" :  2 ,  \" i d \" :  9 5 6 1 9 8 ,  \" j o b \" :  \" S t u n t  C o o r d i n a t o r \" ,  \" n a m e \" :  \" G a r r e t t  W a r r e n \" } ,  { \" c r e d i t _ i d \" :  \" 5 4 9 5 9 c a 3 c 3 a 3 6 8 6 a e 3 0 0 4 3 8 c \" ,  \" d e p a r t m e n t \" :  \" V i s u a l  E f f e c t s \" ,  \" g e n d e r \" :  2 ,  \" i d \" :  9 5 7 8 7 4 ,  \" j o b \" :  \" V i s u a l  E f f e c t s  S u p e r v i s o r \" ,  \" n a m e \" :  \" J o n a t h a n  R o t h b a r t \" } ,  { \" c r e d i t _ i d \" :  \" 5 7 0 b 6 f 5 1 9 2 5 1 4 1 2 c 7 4 0 0 1 b 2 f \" ,  \" d e p a r t m e n t \" :  \" A r t \" ,  \" g e n d e r \" :  0 ,  \" i d \" :  9 5 7 8 8 9 ,  \" j o b \" :  \" S u p e r v i s i n g  A r t  D i r e c t o r \" ,  \" n a m e \" :  \" S t e f a n  D e c h a n t \" } ,  { \" c r e d i t _ i d \" :  \" 5 7 0 b 6 f 6 2 c 3 a 3 6 8 0 b 7 7 0 0 7 4 6 0 \" ,  \" d e p a r t m e n t \" :  \" A r t \" ,  \" g e n d e r \" :  2 ,  \" i d \" :  9 5 9 5 5 5 ,  \" j o b \" :  \" S u p e r v i s i n g  A r t  D i r e c t o r \" ,  \" n a m e \" :  \" T o d d  C h e r n i a w s k y \" } ,  { \" c r e d i t _ i d \" :  \" 5 3 9 c 4 a 3 a c 3 a 3 6 8 1 0 d a 0 0 2 1 c c \" ,  \" d e p a r t m e n t \" :  \" P r o d u c t i o n \" ,  \" g e n d e r \" :  0 ,  \" i d \" :  1 0 1 6 1 7 7 ,  \" j o b \" :  \" C a s t i n g \" ,  \" n a m e \" :  \" M i r a n d a  R i v e r s \" } ,  { \" c r e d i t _ i d \" :  \" 5 3 9 c 4 8 2 c c 3 a 3 6 8 1 0 c 1 0 0 2 0 6 2 \" ,  \" d e p a r t m e n t \" :  \" A r t \" ,  \" g e n d e r \" :  0 ,  \" i d \" :  1 0 3 2 5 3 6 ,  \" j o b \" :  \" P r o d u c t i o n  D e s i g n \" ,  \" n a m e \" :  \" R o b e r t  S t r o m b e r g \" } ,  { \" c r e d i t _ i d \" :  \" 5 3 9 c 4 b 6 5 c 3 a 3 6 8 1 0 c 9 0 0 2 1 2 5 \" ,  \" d e p a r t m e n t \" :  \" C o s t u m e  &  M a k e - U p \" ,  \" g e n d e r \" :  2 ,  \" i d \" :  1 0 7 1 6 8 0 ,  \" j o b \" :  \" C o s t u m e  D e s i g n \" ,  \" n a m e \" :  \" J o h n  H a r d i n g \" } ,  { \" c r e d i t _ i d \" :  \" 5 4 9 5 9 e 6 6 9 2 5 1 4 1 3 0 f c 0 0 2 e 4 e \" ,  \" d e p a r t m e n t \" :  \" C a m e r a \" ,  \" g e n d e r \" :  0 ,  \" i d \" :  1 1 7 7 3 6 4 ,  \" j o b \" :  \" S t e a d i c a m  O p e r a t o r \" ,  \" n a m e \" :  \" R o b e r t o  D e  A n g e l i s \" } ,  { \" c r e d i t _ i d \" :  \" 5 3 9 c 4 9 f 1 c 3 a 3 6 8 6 5 3 d 0 0 1 a a c \" ,  \" d e p a r t m e n t \" :  \" C o s t u m e  &  M a k e - U p \" ,  \" g e n d e r \" :  2 ,  \" i d \" :  1 2 0 2 8 5 0 ,  \" j o b \" :  \" M a k e u p  D e p a r t m e n t  H e a d \" ,  \" n a m e \" :  \" M i k e  S m i t h s o n \" } ,  { \" c r e d i t _ i d \" :  \" 5 4 9 5 9 9 9 e c 3 a 3 6 8 6 a e 1 0 0 4 6 0 c \" ,  \" d e p a r t m e n t \" :  \" V i s u a l  E f f e c t s \" ,  \" g e n d e r \" :  0 ,  \" i d \" :  1 2 0 4 6 6 8 ,  \" j o b \" :  \" V i s u a l  E f f e c t s  P r o d u c e r \" ,  \" n a m e \" :  \" A l a i n  L a l a n n e \" } ,  { \" c r e d i t _ i d \" :  \" 5 4 9 5 9 c d f c 3 a 3 6 8 1 1 5 3 0 0 2 7 2 9 \" ,  \" d e p a r t m e n t \" :  \" V i s u a l  E f f e c t s \" ,  \" g e n d e r \" :  0 ,  \" i d \" :  1 2 0 6 4 1 0 ,  \" j o b \" :  \" V i s u a l  E f f e c t s  S u p e r v i s o r \" ,  \" n a m e \" :  \" L u c a s  S a l t o n \" } ,  { \" c r e d i t _ i d \" :  \" 5 4 9 5 9 6 2 3 9 2 5 1 4 1 7 a 8 1 0 0 1 e a e \" ,  \" d e p a r t m e n t \" :  \" C r e w \" ,  \" g e n d e r \" :  0 ,  \" i d \" :  1 2 3 4 2 6 6 ,  \" j o b \" :  \" P o s t  P r o d u c t i o n  S u p e r v i s o r \" ,  \" n a m e \" :  \" J a n a c e  T a s h j i a n \" } ,  { \" c r e d i t _ i d \" :  \" 5 4 9 5 9 c 8 5 9 2 5 1 4 1 6 e 1 e 0 0 3 e f e \" ,  \" d e p a r t m e n t \" :  \" V i s u a l  E f f e c t s \" ,  \" g e n d e r \" :  0 ,  \" i d \" :  1 2 7 1 9 3 2 ,  \" j o b \" :  \" V i s u a l  E f f e c t s  S u p e r v i s o r \" ,  \" n a m e \" :  \" S t e p h e n  R o s e n b a u m \" } ,  { \" c r e d i t _ i d \" :  \" 5 5 9 2 a f 2 8 c 3 a 3 6 8 7 7 5 a 0 0 1 0 5 f \" ,  \" d e p a r t m e n t \" :  \" C o s t u m e  &  M a k e - U p \" ,  \" g e n d e r \" :  0 ,  \" i d \" :  1 3 1 0 0 6 4 ,  \" j o b \" :  \" M a k e u p  A r t i s t \" ,  \" n a m e \" :  \" F r a n k i e  K a r e n a \" } ,  { \" c r e d i t _ i d \" :  \" 5 3 9 c 4 a d f c 3 a 3 6 8 1 0 e 3 0 0 2 0 3 b \" ,  \" d e p a r t m e n t \" :  \" C o s t u m e  &  M a k e - U p \" ,  \" g e n d e r \" :  1 ,  \" i d \" :  1 3 1 9 8 4 4 ,  \" j o b \" :  \" C o s t u m e  S u p e r v i s o r \" ,  \" n a m e \" :  \" L i s a  L o v a a s \" } ,  { \" c r e d i t _ i d \" :  \" 5 4 9 5 9 b 5 7 9 2 5 1 4 1 6 e 2 b 0 0 4 3 7 1 \" ,  \" d e p a r t m e n t \" :  \" V i s u a l  E f f e c t s \" ,  \" g e n d e r \" :  0 ,  \" i d \" :  1 3 2 7 0 2 8 ,  \" j o b \" :  \" V i s u a l  E f f e c t s  S u p e r v i s o r \" ,  \" n a m e \" :  \" J o n a t h a n  F a w k n e r \" } ,  { \" c r e d i t _ i d \" :  \" 5 3 9 c 4 8 a 7 c 3 a 3 6 8 1 0 b 5 0 0 1 f a 7 \" ,  \" d e p a r t m e n t \" :  \" A r t \" ,  \" g e n d e r \" :  0 ,  \" i d \" :  1 3 3 0 5 6 1 ,  \" j o b \" :  \" A r t  D i r e c t i o n \" ,  \" n a m e \" :  \" R o b e r t  B a v i n \" } ,  { \" c r e d i t _ i d \" :  \" 5 3 9 c 4 a 7 1 c 3 a 3 6 8 1 0 d a 0 0 2 1 e 0 \" ,  \" d e p a r t m e n t \" :  \" C o s t u m e  &  M a k e - U p \" ,  \" g e n d e r \" :  0 ,  \" i d \" :  1 3 3 0 5 6 7 ,  \" j o b \" :  \" C o s t u m e  S u p e r v i s o r \" ,  \" n a m e \" :  \" A n t h o n y  A l m a r a z \" } ,  { \" c r e d i t _ i d \" :  \" 5 3 9 c 4 a 8 a c 3 a 3 6 8 1 0 b a 0 0 2 1 e 4 \" ,  \" d e p a r t m e n t \" :  \" C o s t u m e  &  M a k e - U p \" ,  \" g e n d e r \" :  0 ,  \" i d \" :  1 3 3 0 5 7 0 ,  \" j o b \" :  \" C o s t u m e  S u p e r v i s o r \" ,  \" n a m e \" :  \" C a r o l y n  M .  F e n t o n \" } ,  { \" c r e d i t _ i d \" :  \" 5 3 9 c 4 a b 6 c 3 a 3 6 8 1 0 d a 0 0 2 1 f 0 \" ,  \" d e p a r t m e n t \" :  \" C o s t u m e  &  M a k e - U p \" ,  \" g e n d e r \" :  0 ,  \" i d \" :  1 3 3 0 5 7 4 ,  \" j o b \" :  \" C o s t u m e  S u p e r v i s o r \" ,  \" n a m e \" :  \" B e t h  K o e n i g s b e r g \" } ,  { \" c r e d i t _ i d \" :  \" 5 4 4 9 1 a b 7 0 e 0 a 2 6 7 4 8 0 0 0 1 b a 2 \" ,  \" d e p a r t m e n t \" :  \" A r t \" ,  \" g e n d e r \" :  0 ,  \" i d \" :  1 3 3 6 1 9 1 ,  \" j o b \" :  \" S e t  D e s i g n e r \" ,  \" n a m e \" :  \" S a m  P a g e \" } ,  { \" c r e d i t _ i d \" :  \" 5 4 4 9 1 9 d 9 c 3 a 3 6 8 0 f c 3 0 0 1 8 b d \" ,  \" d e p a r t m e n t \" :  \" A r t \" ,  \" g e n d e r \" :  0 ,  \" i d \" :  1 3 3 9 4 4 1 ,  \" j o b \" :  \" S e t  D e s i g n e r \" ,  \" n a m e \" :  \" T e x  K a d o n a g a \" } ,  { \" c r e d i t _ i d \" :  \" 5 4 4 9 1 c f 5 0 e 0 a 2 6 7 4 8 3 0 0 1 b 0 c \" ,  \" d e p a r t m e n t \" :  \" E d i t i n g \" ,  \" g e n d e r \" :  0 ,  \" i d \" :  1 3 5 2 4 2 2 ,  \" j o b \" :  \" D i a l o g u e  E d i t o r \" ,  \" n a m e \" :  \" K i m  F o s c a t o \" } ,  { \" c r e d i t _ i d \" :  \" 5 4 4 9 1 9 f 4 0 e 0 a 2 6 7 4 8 c 0 0 1 b 0 9 \" ,  \" d e p a r t m e n t \" :  \" A r t \" ,  \" g e n d e r \" :  0 ,  \" i d \" :  1 3 5 2 9 6 2 ,  \" j o b \" :  \" S e t  D e s i g n e r \" ,  \" n a m e \" :  \" T a m m y  S .  L e e \" } ,  { \" c r e d i t _ i d \" :  \" 5 4 9 5 a 1 1 5 c 3 a 3 6 8 0 f f 5 0 0 2 d 7 1 \" ,  \" d e p a r t m e n t \" :  \" C r e w \" ,  \" g e n d e r \" :  0 ,  \" i d \" :  1 3 5 7 0 7 0 ,  \" j o b \" :  \" T r a n s p o r t a t i o n  C o o r d i n a t o r \" ,  \" n a m e \" :  \" D e n n y  C a i r a \" } ,  { \" c r e d i t _ i d \" :  \" 5 4 9 5 a 1 2 f 9 2 5 1 4 1 3 0 f c 0 0 2 e 9 4 \" ,  \" d e p a r t m e n t \" :  \" C r e w \" ,  \" g e n d e r \" :  0 ,  \" i d \" :  1 3 5 7 0 7 1 ,  \" j o b \" :  \" T r a n s p o r t a t i o n  C o o r d i n a t o r \" ,  \" n a m e \" :  \" J a m e s  W a i t k u s \" } ,  { \" c r e d i t _ i d \" :  \" 5 4 9 5 9 7 6 f c 3 a 3 6 8 1 1 5 3 0 0 2 6 b 0 \" ,  \" d e p a r t m e n t \" :  \" S o u n d \" ,  \" g e n d e r \" :  0 ,  \" i d \" :  1 3 6 0 1 0 3 ,  \" j o b \" :  \" S u p e r v i s i n g  S o u n d  E d i t o r \" ,  \" n a m e \" :  \" A d d i s o n  T e a g u e \" } ,  { \" c r e d i t _ i d \" :  \" 5 4 4 9 1 8 3 7 c 3 a 3 6 8 0 f b 1 0 0 1 c 5 a \" ,  \" d e p a r t m e n t \" :  \" A r t \" ,  \" g e n d e r \" :  2 ,  \" i d \" :  1 3 7 6 8 8 7 ,  \" j o b \" :  \" S e t  D e s i g n e r \" ,  \" n a m e \" :  \" C .  S c o t t  B a k e r \" } ,  { \" c r e d i t _ i d \" :  \" 5 4 4 9 1 8 7 8 c 3 a 3 6 8 0 f b 4 0 0 1 c 9 d \" ,  \" d e p a r t m e n t \" :  \" A r t \" ,  \" g e n d e r \" :  0 ,  \" i d \" :  1 3 7 6 8 8 8 ,  \" j o b \" :  \" S e t  D e s i g n e r \" ,  \" n a m e \" :  \" L u k e  C a s k a \" } ,  { \" c r e d i t _ i d \" :  \" 5 4 4 9 1 8 d a c 3 a 3 6 8 0 f a 5 0 0 1 a e 0 \" ,  \" d e p a r t m e n t \" :  \" A r t \" ,  \" g e n d e r \" :  0 ,  \" i d \" :  1 3 7 6 8 8 9 ,  \" j o b \" :  \" S e t  D e s i g n e r \" ,  \" n a m e \" :  \" D a v i d  C h o w \" } ,  { \" c r e d i t _ i d \" :  \" 5 4 4 9 1 9 1 1 0 e 0 a 2 6 7 4 8 6 0 0 1 b 6 8 \" ,  \" d e p a r t m e n t \" :  \" A r t \" ,  \" g e n d e r \" :  0 ,  \" i d \" :  1 3 7 6 8 9 0 ,  \" j o b \" :  \" S e t  D e s i g n e r \" ,  \" n a m e \" :  \" J o n a t h a n  D y e r \" } ,  { \" c r e d i t _ i d \" :  \" 5 4 4 9 1 9 6 7 c 3 a 3 6 8 0 f a a 0 0 1 b 5 e \" ,  \" d e p a r t m e n t \" :  \" A r t \" ,  \" g e n d e r \" :  0 ,  \" i d \" :  1 3 7 6 8 9 1 ,  \" j o b \" :  \" S e t  D e s i g n e r \" ,  \" n a m e \" :  \" J o s e p h  H i u r a \" } ,  { \" c r e d i t _ i d \" :  \" 5 4 4 9 1 9 9 7 c 3 a 3 6 8 0 f b 1 0 0 1 c 8 a \" ,  \" d e p a r t m e n t \" :  \" A r t \" ,  \" g e n d e r \" :  0 ,  \" i d \" :  1 3 7 6 8 9 2 ,  \" j o b \" :  \" A r t  D e p a r t m e n t  C o o r d i n a t o r \" ,  \" n a m e \" :  \" R e b e c c a  J e l l i e \" } ,  { \" c r e d i t _ i d \" :  \" 5 4 4 9 1 9 b a 0 e 0 a 2 6 7 4 8 f 0 0 1 b 4 2 \" ,  \" d e p a r t m e n t \" :  \" A r t \" ,  \" g e n d e r \" :  0 ,  \" i d \" :  1 3 7 6 8 9 3 ,  \" j o b \" :  \" S e t  D e s i g n e r \" ,  \" n a m e \" :  \" R o b e r t  A n d r e w  J o h n s o n \" } ,  { \" c r e d i t _ i d \" :  \" 5 4 4 9 1 b 1 d c 3 a 3 6 8 0 f a a 0 0 1 b 8 c \" ,  \" d e p a r t m e n t \" :  \" A r t \" ,  \" g e n d e r \" :  0 ,  \" i d \" :  1 3 7 6 8 9 5 ,  \" j o b \" :  \" A s s i s t a n t  A r t  D i r e c t o r \" ,  \" n a m e \" :  \" M i k e  S t a s s i \" } ,  { \" c r e d i t _ i d \" :  \" 5 4 4 9 1 b 7 9 c 3 a 3 6 8 0 f b b 0 0 1 8 2 6 \" ,  \" d e p a r t m e n t \" :  \" A r t \" ,  \" g e n d e r \" :  0 ,  \" i d \" :  1 3 7 6 8 9 7 ,  \" j o b \" :  \" C o n s t r u c t i o n  C o o r d i n a t o r \" ,  \" n a m e \" :  \" J o h n  V i l l a r i n o \" } ,  { \" c r e d i t _ i d \" :  \" 5 4 4 9 1 b a e c 3 a 3 6 8 0 f b 4 0 0 1 c e 6 \" ,  \" d e p a r t m e n t \" :  \" A r t \" ,  \" g e n d e r \" :  2 ,  \" i d \" :  1 3 7 6 8 9 8 ,  \" j o b \" :  \" A s s i s t a n t  A r t  D i r e c t o r \" ,  \" n a m e \" :  \" J e f f r e y  W i s n i e w s k i \" } ,  { \" c r e d i t _ i d \" :  \" 5 4 4 9 1 d 2 f c 3 a 3 6 8 0 f b 4 0 0 1 d 0 7 \" ,  \" d e p a r t m e n t \" :  \" E d i t i n g \" ,  \" g e n d e r \" :  0 ,  \" i d \" :  1 3 7 6 8 9 9 ,  \" j o b \" :  \" D i a l o g u e  E d i t o r \" ,  \" n a m e \" :  \" C h e r y l  N a r d i \" } ,  { \" c r e d i t _ i d \" :  \" 5 4 4 9 1 d 8 6 c 3 a 3 6 8 0 f a 5 0 0 1 b 2 f \" ,  \" d e p a r t m e n t \" :  \" E d i t i n g \" ,  \" g e n d e r \" :  0 ,  \" i d \" :  1 3 7 6 9 0 1 ,  \" j o b \" :  \" D i a l o g u e  E d i t o r \" ,  \" n a m e \" :  \" M a r s h a l l  W i n n \" } ,  { \" c r e d i t _ i d \" :  \" 5 4 4 9 1 d 9 d c 3 a 3 6 8 0 f a a 0 0 1 b b 0 \" ,  \" d e p a r t m e n t \" :  \" S o u n d \" ,  \" g e n d e r \" :  0 ,  \" i d \" :  1 3 7 6 9 0 2 ,  \" j o b \" :  \" S u p e r v i s i n g  S o u n d  E d i t o r \" ,  \" n a m e \" :  \" G w e n d o l y n  Y a t e s  W h i t t l e \" } ,  { \" c r e d i t _ i d \" :  \" 5 4 4 9 1 d c 1 0 e 0 a 2 6 7 4 8 6 0 0 1 b c e \" ,  \" d e p a r t m e n t \" :  \" S o u n d \" ,  \" g e n d e r \" :  0 ,  \" i d \" :  1 3 7 6 9 0 3 ,  \" j o b \" :  \" S o u n d  R e - R e c o r d i n g  M i x e r \" ,  \" n a m e \" :  \" W i l l i a m  S t e i n \" } ,  { \" c r e d i t _ i d \" :  \" 5 4 4 9 1 f 5 0 0 e 0 a 2 6 7 4 7 c 0 0 1 c 0 7 \" ,  \" d e p a r t m e n t \" :  \" C r e w \" ,  \" g e n d e r \" :  0 ,  \" i d \" :  1 3 7 6 9 0 9 ,  \" j o b \" :  \" C h o r e o g r a p h e r \" ,  \" n a m e \" :  \" L u l a  W a s h i n g t o n \" } ,  { \" c r e d i t _ i d \" :  \" 5 4 9 5 9 9 2 3 9 2 5 1 4 1 2 c 4 e 0 0 2 a 2 e \" ,  \" d e p a r t m e n t \" :  \" V i s u a l  E f f e c t s \" ,  \" g e n d e r \" :  0 ,  \" i d \" :  1 3 9 1 6 9 2 ,  \" j o b \" :  \" V i s u a l  E f f e c t s  P r o d u c e r \" ,  \" n a m e \" :  \" C h r i s  D e l  C o n t e \" } ,  { \" c r e d i t _ i d \" :  \" 5 4 9 5 9 d 5 4 c 3 a 3 6 8 3 1 b 8 0 0 1 d 9 a \" ,  \" d e p a r t m e n t \" :  \" V i s u a l  E f f e c t s \" ,  \" g e n d e r \" :  2 ,  \" i d \" :  1 3 9 1 6 9 5 ,  \" j o b \" :  \" V i s u a l  E f f e c t s  S u p e r v i s o r \" ,  \" n a m e \" :  \" R .  C h r i s t o p h e r  W h i t e \" } ,  { \" c r e d i t _ i d \" :  \" 5 4 9 5 9 b d f 9 2 5 1 4 1 2 c 4 e 0 0 2 a 6 6 \" ,  \" d e p a r t m e n t \" :  \" V i s u a l  E f f e c t s \" ,  \" g e n d e r \" :  0 ,  \" i d \" :  1 3 9 4 0 7 0 ,  \" j o b \" :  \" V i s u a l  E f f e c t s  S u p e r v i s o r \" ,  \" n a m e \" :  \" D a n  L e m m o n \" } ,  { \" c r e d i t _ i d \" :  \" 5 4 9 5 9 7 1 d 9 2 5 1 4 1 3 2 e d 0 0 2 9 2 2 \" ,  \" d e p a r t m e n t \" :  \" S o u n d \" ,  \" g e n d e r \" :  0 ,  \" i d \" :  1 3 9 4 1 2 9 ,  \" j o b \" :  \" S o u n d  E f f e c t s  E d i t o r \" ,  \" n a m e \" :  \" T i m  N i e l s e n \" } ,  { \" c r e d i t _ i d \" :  \" 5 5 9 2 b 2 5 7 9 2 5 1 4 1 5 2 c c 0 0 1 1 a a \" ,  \" d e p a r t m e n t \" :  \" C r e w \" ,  \" g e n d e r \" :  0 ,  \" i d \" :  1 3 9 4 2 8 6 ,  \" j o b \" :  \" C G  S u p e r v i s o r \" ,  \" n a m e \" :  \" M i c h a e l  M u l h o l l a n d \" } ,  { \" c r e d i t _ i d \" :  \" 5 4 9 5 9 a 3 2 9 2 5 1 4 1 6 e 2 b 0 0 4 3 5 5 \" ,  \" d e p a r t m e n t \" :  \" C r e w \" ,  \" g e n d e r \" :  0 ,  \" i d \" :  1 3 9 4 7 5 0 ,  \" j o b \" :  \" V i s u a l  E f f e c t s  E d i t o r \" ,  \" n a m e \" :  \" T h o m a s  N i t t m a n n \" } ,  { \" c r e d i t _ i d \" :  \" 5 4 9 5 9 d 6 d c 3 a 3 6 8 6 a e 9 0 0 4 4 0 1 \" ,  \" d e p a r t m e n t \" :  \" V i s u a l  E f f e c t s \" ,  \" g e n d e r \" :  0 ,  \" i d \" :  1 3 9 4 7 5 5 ,  \" j o b \" :  \" V i s u a l  E f f e c t s  S u p e r v i s o r \" ,  \" n a m e \" :  \" E d s o n  W i l l i a m s \" } ,  { \" c r e d i t _ i d \" :  \" 5 4 9 5 a 0 8 f c 3 a 3 6 8 6 a e 3 0 0 4 4 1 c \" ,  \" d e p a r t m e n t \" :  \" E d i t i n g \" ,  \" g e n d e r \" :  0 ,  \" i d \" :  1 3 9 4 9 5 3 ,  \" j o b \" :  \" D i g i t a l  I n t e r m e d i a t e \" ,  \" n a m e \" :  \" C h r i s t i n e  C a r r \" } ,  { \" c r e d i t _ i d \" :  \" 5 5 4 0 2 d 6 5 9 2 5 1 4 1 3 d 6 d 0 0 0 2 4 9 \" ,  \" d e p a r t m e n t \" :  \" V i s u a l  E f f e c t s \" ,  \" g e n d e r \" :  0 ,  \" i d \" :  1 3 9 5 2 6 9 ,  \" j o b \" :  \" V i s u a l  E f f e c t s  S u p e r v i s o r \" ,  \" n a m e \" :  \" J o h n  B r u n o \" } ,  { \" c r e d i t _ i d \" :  \" 5 4 9 5 9 e 7 b 9 2 5 1 4 1 6 e 1 e 0 0 3 f 3 e \" ,  \" d e p a r t m e n t \" :  \" C a m e r a \" ,  \" g e n d e r \" :  0 ,  \" i d \" :  1 3 9 8 9 7 0 ,  \" j o b \" :  \" S t e a d i c a m  O p e r a t o r \" ,  \" n a m e \" :  \" D a v i d  E m m e r i c h s \" } ,  { \" c r e d i t _ i d \" :  \" 5 4 9 5 9 7 3 4 c 3 a 3 6 8 6 a e 1 0 0 4 5 e 0 \" ,  \" d e p a r t m e n t \" :  \" S o u n d \" ,  \" g e n d e r \" :  0 ,  \" i d \" :  1 4 0 0 9 0 6 ,  \" j o b \" :  \" S o u n d  E f f e c t s  E d i t o r \" ,  \" n a m e \" :  \" C h r i s t o p h e r  S c a r a b o s i o \" } ,  { \" c r e d i t _ i d \" :  \" 5 4 9 5 9 5 d d 9 2 5 1 4 1 3 0 f c 0 0 2 d 7 9 \" ,  \" d e p a r t m e n t \" :  \" P r o d u c t i o n \" ,  \" g e n d e r \" :  0 ,  \" i d \" :  1 4 0 1 7 8 4 ,  \" j o b \" :  \" P r o d u c t i o n  S u p e r v i s o r \" ,  \" n a m e \" :  \" J e n n i f e r  T e v e s \" } ,  { \" c r e d i t _ i d \" :  \" 5 4 9 5 9 6 0 0 9 2 5 1 4 1 3 a f 7 0 0 2 8 c c \" ,  \" d e p a r t m e n t \" :  \" P r o d u c t i o n \" ,  \" g e n d e r \" :  0 ,  \" i d \" :  1 4 0 1 7 8 5 ,  \" j o b \" :  \" P r o d u c t i o n  M a n a g e r \" ,  \" n a m e \" :  \" B r i g i t t e  Y o r k e \" } ,  { \" c r e d i t _ i d \" :  \" 5 4 9 5 9 6 e 8 9 2 5 1 4 1 3 0 f c 0 0 2 d 9 9 \" ,  \" d e p a r t m e n t \" :  \" S o u n d \" ,  \" g e n d e r \" :  0 ,  \" i d \" :  1 4 0 1 7 8 6 ,  \" j o b \" :  \" S o u n d  E f f e c t s  E d i t o r \" ,  \" n a m e \" :  \" K e n  F i s c h e r \" } ,  { \" c r e d i t _ i d \" :  \" 5 4 9 5 9 8 2 2 9 2 5 1 4 1 2 c 4 e 0 0 2 a 1 c \" ,  \" d e p a r t m e n t \" :  \" C r e w \" ,  \" g e n d e r \" :  0 ,  \" i d \" :  1 4 0 1 7 8 7 ,  \" j o b \" :  \" S p e c i a l  E f f e c t s  C o o r d i n a t o r \" ,  \" n a m e \" :  \" I a i n  H u t t o n \" } ,  { \" c r e d i t _ i d \" :  \" 5 4 9 5 9 8 3 4 9 2 5 1 4 1 6 e 2 b 0 0 4 3 2 b \" ,  \" d e p a r t m e n t \" :  \" C r e w \" ,  \" g e n d e r \" :  0 ,  \" i d \" :  1 4 0 1 7 8 8 ,  \" j o b \" :  \" S p e c i a l  E f f e c t s  C o o r d i n a t o r \" ,  \" n a m e \" :  \" S t e v e  I n g r a m \" } ,  { \" c r e d i t _ i d \" :  \" 5 4 9 5 9 9 0 5 c 3 a 3 6 8 6 a e 3 0 0 4 3 2 4 \" ,  \" d e p a r t m e n t \" :  \" V i s u a l  E f f e c t s \" ,  \" g e n d e r \" :  0 ,  \" i d \" :  1 4 0 1 7 8 9 ,  \" j o b \" :  \" V i s u a l  E f f e c t s  P r o d u c e r \" ,  \" n a m e \" :  \" J o y c e  C o x \" } ,  { \" c r e d i t _ i d \" :  \" 5 4 9 5 9 9 4 b 9 2 5 1 4 1 3 2 e d 0 0 2 9 5 1 \" ,  \" d e p a r t m e n t \" :  \" V i s u a l  E f f e c t s \" ,  \" g e n d e r \" :  0 ,  \" i d \" :  1 4 0 1 7 9 0 ,  \" j o b \" :  \" V i s u a l  E f f e c t s  P r o d u c e r \" ,  \" n a m e \" :  \" J e n n y  F o s t e r \" } ,  { \" c r e d i t _ i d \" :  \" 5 4 9 5 9 9 c b c 3 a 3 6 8 6 a e 1 0 0 4 6 1 3 \" ,  \" d e p a r t m e n t \" :  \" C r e w \" ,  \" g e n d e r \" :  0 ,  \" i d \" :  1 4 0 1 7 9 1 ,  \" j o b \" :  \" V i s u a l  E f f e c t s  E d i t o r \" ,  \" n a m e \" :  \" C h r i s t o p h e r  M a r i n o \" } ,  { \" c r e d i t _ i d \" :  \" 5 4 9 5 9 9 f 2 c 3 a 3 6 8 6 a e 1 0 0 4 6 1 e \" ,  \" d e p a r t m e n t \" :  \" C r e w \" ,  \" g e n d e r \" :  0 ,  \" i d \" :  1 4 0 1 7 9 2 ,  \" j o b \" :  \" V i s u a l  E f f e c t s  E d i t o r \" ,  \" n a m e \" :  \" J i m  M i l t o n \" } ,  { \" c r e d i t _ i d \" :  \" 5 4 9 5 9 a 5 1 c 3 a 3 6 8 6 a f 3 0 0 3 e b 5 \" ,  \" d e p a r t m e n t \" :  \" V i s u a l  E f f e c t s \" ,  \" g e n d e r \" :  0 ,  \" i d \" :  1 4 0 1 7 9 3 ,  \" j o b \" :  \" V i s u a l  E f f e c t s  P r o d u c e r \" ,  \" n a m e \" :  \" C y n d i  O c h s \" } ,  { \" c r e d i t _ i d \" :  \" 5 4 9 5 9 a 7 c c 3 a 3 6 8 1 1 5 3 0 0 2 6 f 4 \" ,  \" d e p a r t m e n t \" :  \" C r e w \" ,  \" g e n d e r \" :  0 ,  \" i d \" :  1 4 0 1 7 9 4 ,  \" j o b \" :  \" V i s u a l  E f f e c t s  E d i t o r \" ,  \" n a m e \" :  \" L u c a s  P u t n a m \" } ,  { \" c r e d i t _ i d \" :  \" 5 4 9 5 9 b 9 1 c 3 a 3 6 8 0 f f 5 0 0 2 c b 4 \" ,  \" d e p a r t m e n t \" :  \" V i s u a l  E f f e c t s \" ,  \" g e n d e r \" :  0 ,  \" i d \" :  1 4 0 1 7 9 5 ,  \" j o b \" :  \" V i s u a l  E f f e c t s  S u p e r v i s o r \" ,  \" n a m e \" :  \" A n t h o n y  \\' M a x \\'  I v i n s \" } ,  { \" c r e d i t _ i d \" :  \" 5 4 9 5 9 b b 6 9 2 5 1 4 1 2 c 4 e 0 0 2 a 5 f \" ,  \" d e p a r t m e n t \" :  \" V i s u a l  E f f e c t s \" ,  \" g e n d e r \" :  0 ,  \" i d \" :  1 4 0 1 7 9 6 ,  \" j o b \" :  \" V i s u a l  E f f e c t s  S u p e r v i s o r \" ,  \" n a m e \" :  \" J o h n  K n o l l \" } ,  { \" c r e d i t _ i d \" :  \" 5 4 9 5 9 c b b c 3 a 3 6 8 6 a e 3 0 0 4 3 9 1 \" ,  \" d e p a r t m e n t \" :  \" V i s u a l  E f f e c t s \" ,  \" g e n d e r \" :  2 ,  \" i d \" :  1 4 0 1 7 9 9 ,  \" j o b \" :  \" V i s u a l  E f f e c t s  S u p e r v i s o r \" ,  \" n a m e \" :  \" E r i c  S a i n d o n \" } ,  { \" c r e d i t _ i d \" :  \" 5 4 9 5 9 d 0 6 c 3 a 3 6 8 6 a e 9 0 0 4 3 f 6 \" ,  \" d e p a r t m e n t \" :  \" V i s u a l  E f f e c t s \" ,  \" g e n d e r \" :  0 ,  \" i d \" :  1 4 0 1 8 0 0 ,  \" j o b \" :  \" V i s u a l  E f f e c t s  S u p e r v i s o r \" ,  \" n a m e \" :  \" W a y n e  S t a b l e s \" } ,  { \" c r e d i t _ i d \" :  \" 5 4 9 5 9 d 2 5 9 2 5 1 4 1 6 e 1 e 0 0 3 f 1 1 \" ,  \" d e p a r t m e n t \" :  \" V i s u a l  E f f e c t s \" ,  \" g e n d e r \" :  0 ,  \" i d \" :  1 4 0 1 8 0 1 ,  \" j o b \" :  \" V i s u a l  E f f e c t s  S u p e r v i s o r \" ,  \" n a m e \" :  \" D a v i d  S t i n n e t t \" } ,  { \" c r e d i t _ i d \" :  \" 5 4 9 5 9 d b 4 9 2 5 1 4 1 3 a f 7 0 0 2 9 7 5 \" ,  \" d e p a r t m e n t \" :  \" V i s u a l  E f f e c t s \" ,  \" g e n d e r \" :  0 ,  \" i d \" :  1 4 0 1 8 0 3 ,  \" j o b \" :  \" V i s u a l  E f f e c t s  S u p e r v i s o r \" ,  \" n a m e \" :  \" G u y  W i l l i a m s \" } ,  { \" c r e d i t _ i d \" :  \" 5 4 9 5 9 d e 4 c 3 a 3 6 8 1 1 5 3 0 0 2 7 5 0 \" ,  \" d e p a r t m e n t \" :  \" C r e w \" ,  \" g e n d e r \" :  0 ,  \" i d \" :  1 4 0 1 8 0 4 ,  \" j o b \" :  \" S t u n t  C o o r d i n a t o r \" ,  \" n a m e \" :  \" S t u a r t  T h o r p \" } ,  { \" c r e d i t _ i d \" :  \" 5 4 9 5 9 e f 2 c 3 a 3 6 8 0 f c 6 0 0 2 7 f 2 \" ,  \" d e p a r t m e n t \" :  \" L i g h t i n g \" ,  \" g e n d e r \" :  0 ,  \" i d \" :  1 4 0 1 8 0 5 ,  \" j o b \" :  \" B e s t  B o y  E l e c t r i c \" ,  \" n a m e \" :  \" G i l e s  C o b u r n \" } ,  { \" c r e d i t _ i d \" :  \" 5 4 9 5 9 f 0 7 c 3 a 3 6 8 0 f c 6 0 0 2 7 f 9 \" ,  \" d e p a r t m e n t \" :  \" C a m e r a \" ,  \" g e n d e r \" :  2 ,  \" i d \" :  1 4 0 1 8 0 6 ,  \" j o b \" :  \" S t i l l  P h o t o g r a p h e r \" ,  \" n a m e \" :  \" M a r k  F e l l m a n \" } ,  { \" c r e d i t _ i d \" :  \" 5 4 9 5 9 f 4 7 c 3 a 3 6 8 1 1 5 3 0 0 2 7 7 4 \" ,  \" d e p a r t m e n t \" :  \" L i g h t i n g \" ,  \" g e n d e r \" :  0 ,  \" i d \" :  1 4 0 1 8 0 7 ,  \" j o b \" :  \" L i g h t i n g  T e c h n i c i a n \" ,  \" n a m e \" :  \" S c o t t  S p r a g u e \" } ,  { \" c r e d i t _ i d \" :  \" 5 4 9 5 9 f 8 c c 3 a 3 6 8 3 1 b 8 0 0 1 d f 2 \" ,  \" d e p a r t m e n t \" :  \" V i s u a l  E f f e c t s \" ,  \" g e n d e r \" :  0 ,  \" i d \" :  1 4 0 1 8 0 8 ,  \" j o b \" :  \" A n i m a t i o n  D i r e c t o r \" ,  \" n a m e \" :  \" J e r e m y  H o l l o b o n \" } ,  { \" c r e d i t _ i d \" :  \" 5 4 9 5 9 f a 0 c 3 a 3 6 8 3 1 b 8 0 0 1 d f b \" ,  \" d e p a r t m e n t \" :  \" V i s u a l  E f f e c t s \" ,  \" g e n d e r \" :  0 ,  \" i d \" :  1 4 0 1 8 0 9 ,  \" j o b \" :  \" A n i m a t i o n  D i r e c t o r \" ,  \" n a m e \" :  \" O r l a n d o  M e u n i e r \" } ,  { \" c r e d i t _ i d \" :  \" 5 4 9 5 9 f b 6 c 3 a 3 6 8 6 a f 3 0 0 3 f 5 4 \" ,  \" d e p a r t m e n t \" :  \" V i s u a l  E f f e c t s \" ,  \" g e n d e r \" :  0 ,  \" i d \" :  1 4 0 1 8 1 0 ,  \" j o b \" :  \" A n i m a t i o n  D i r e c t o r \" ,  \" n a m e \" :  \" T a i s u k e  T a n i m u r a \" } ,  { \" c r e d i t _ i d \" :  \" 5 4 9 5 9 f d 2 c 3 a 3 6 8 3 1 b 8 0 0 1 e 0 2 \" ,  \" d e p a r t m e n t \" :  \" C o s t u m e  &  M a k e - U p \" ,  \" g e n d e r \" :  0 ,  \" i d \" :  1 4 0 1 8 1 2 ,  \" j o b \" :  \" S e t  C o s t u m e r \" ,  \" n a m e \" :  \" L i l i a  M i s h e l  A c e v e d o \" } ,  { \" c r e d i t _ i d \" :  \" 5 4 9 5 9 f f 9 c 3 a 3 6 8 6 a e 3 0 0 4 4 0 c \" ,  \" d e p a r t m e n t \" :  \" C o s t u m e  &  M a k e - U p \" ,  \" g e n d e r \" :  0 ,  \" i d \" :  1 4 0 1 8 1 4 ,  \" j o b \" :  \" S e t  C o s t u m e r \" ,  \" n a m e \" :  \" A l e j a n d r o  M .  H e r n a n d e z \" } ,  { \" c r e d i t _ i d \" :  \" 5 4 9 5 a 0 d d c 3 a 3 6 8 6 a e 1 0 0 4 6 f e \" ,  \" d e p a r t m e n t \" :  \" E d i t i n g \" ,  \" g e n d e r \" :  0 ,  \" i d \" :  1 4 0 1 8 1 5 ,  \" j o b \" :  \" D i g i t a l  I n t e r m e d i a t e \" ,  \" n a m e \" :  \" M a r v i n  H a l l \" } ,  { \" c r e d i t _ i d \" :  \" 5 4 9 5 a 1 f 7 c 3 a 3 6 8 6 a e 3 0 0 4 4 4 3 \" ,  \" d e p a r t m e n t \" :  \" P r o d u c t i o n \" ,  \" g e n d e r \" :  0 ,  \" i d \" :  1 4 0 1 8 1 6 ,  \" j o b \" :  \" P u b l i c i s t \" ,  \" n a m e \" :  \" J u d y  A l l e y \" } ,  { \" c r e d i t _ i d \" :  \" 5 5 9 2 b 2 9 f c 3 a 3 6 8 6 9 d 1 0 0 0 0 2 f \" ,  \" d e p a r t m e n t \" :  \" C r e w \" ,  \" g e n d e r \" :  0 ,  \" i d \" :  1 4 1 8 3 8 1 ,  \" j o b \" :  \" C G  S u p e r v i s o r \" ,  \" n a m e \" :  \" M i k e  P e r r y \" } ,  { \" c r e d i t _ i d \" :  \" 5 5 9 2 b 2 3 a 9 2 5 1 4 1 5 d f 8 0 0 1 0 8 1 \" ,  \" d e p a r t m e n t \" :  \" C r e w \" ,  \" g e n d e r \" :  0 ,  \" i d \" :  1 4 2 6 8 5 4 ,  \" j o b \" :  \" C G  S u p e r v i s o r \" ,  \" n a m e \" :  \" A n d r e w  M o r l e y \" } ,  { \" c r e d i t _ i d \" :  \" 5 5 4 9 1 e 1 1 9 2 5 1 4 1 0 4 c 4 0 0 0 2 d 8 \" ,  \" d e p a r t m e n t \" :  \" A r t \" ,  \" g e n d e r \" :  0 ,  \" i d \" :  1 4 3 8 9 0 1 ,  \" j o b \" :  \" C o n c e p t u a l  D e s i g n \" ,  \" n a m e \" :  \" S e t h  E n g s t r o m \" } ,  { \" c r e d i t _ i d \" :  \" 5 5 2 5 d 5 8 0 9 2 5 1 4 1 7 2 7 6 0 0 2 b 0 6 \" ,  \" d e p a r t m e n t \" :  \" C r e w \" ,  \" g e n d e r \" :  0 ,  \" i d \" :  1 4 4 7 3 6 2 ,  \" j o b \" :  \" V i s u a l  E f f e c t s  A r t  D i r e c t o r \" ,  \" n a m e \" :  \" E r i c  O l i v e r \" } ,  { \" c r e d i t _ i d \" :  \" 5 5 4 4 2 7 c a 9 2 5 1 4 1 5 8 6 5 0 0 3 1 2 a \" ,  \" d e p a r t m e n t \" :  \" V i s u a l  E f f e c t s \" ,  \" g e n d e r \" :  0 ,  \" i d \" :  1 4 4 7 5 0 3 ,  \" j o b \" :  \" M o d e l i n g \" ,  \" n a m e \" :  \" M a t s u n e  S u z u k i \" } ,  { \" c r e d i t _ i d \" :  \" 5 5 1 9 0 6 8 8 9 2 5 1 4 1 5 a a b 0 0 1 c 8 8 \" ,  \" d e p a r t m e n t \" :  \" A r t \" ,  \" g e n d e r \" :  0 ,  \" i d \" :  1 4 4 7 5 2 4 ,  \" j o b \" :  \" A r t  D e p a r t m e n t  M a n a g e r \" ,  \" n a m e \" :  \" P a u l  T o b i n \" } ,  { \" c r e d i t _ i d \" :  \" 5 5 9 2 a f 8 4 9 2 5 1 4 1 5 2 c c 0 0 1 0 d e \" ,  \" d e p a r t m e n t \" :  \" C o s t u m e  &  M a k e - U p \" ,  \" g e n d e r \" :  0 ,  \" i d \" :  1 4 5 2 6 4 3 ,  \" j o b \" :  \" H a i r s t y l i s t \" ,  \" n a m e \" :  \" R o x a n e  G r i f f i n \" } ,  { \" c r e d i t _ i d \" :  \" 5 5 3 d 3 c 1 0 9 2 5 1 4 1 5 8 5 2 0 0 1 3 1 8 \" ,  \" d e p a r t m e n t \" :  \" L i g h t i n g \" ,  \" g e n d e r \" :  0 ,  \" i d \" :  1 4 5 3 9 3 8 ,  \" j o b \" :  \" L i g h t i n g  A r t i s t \" ,  \" n a m e \" :  \" A r u n  R a m - M o h a n \" } ,  { \" c r e d i t _ i d \" :  \" 5 5 9 2 a f 4 6 9 2 5 1 4 1 5 2 d 5 0 0 1 3 5 5 \" ,  \" d e p a r t m e n t \" :  \" C o s t u m e  &  M a k e - U p \" ,  \" g e n d e r \" :  0 ,  \" i d \" :  1 4 5 7 3 0 5 ,  \" j o b \" :  \" M a k e u p  A r t i s t \" ,  \" n a m e \" :  \" G e o r g i a  L o c k h a r t - A d a m s \" } ,  { \" c r e d i t _ i d \" :  \" 5 5 9 2 b 2 e a c 3 a 3 6 8 7 7 4 7 0 0 1 2 a 5 \" ,  \" d e p a r t m e n t \" :  \" C r e w \" ,  \" g e n d e r \" :  0 ,  \" i d \" :  1 4 6 6 0 3 5 ,  \" j o b \" :  \" C G  S u p e r v i s o r \" ,  \" n a m e \" :  \" T h r a i n  S h a d b o l t \" } ,  { \" c r e d i t _ i d \" :  \" 5 5 9 2 b 0 3 2 c 3 a 3 6 8 7 7 4 5 0 0 1 5 f 1 \" ,  \" d e p a r t m e n t \" :  \" C r e w \" ,  \" g e n d e r \" :  0 ,  \" i d \" :  1 4 8 3 2 2 0 ,  \" j o b \" :  \" C G  S u p e r v i s o r \" ,  \" n a m e \" :  \" B r a d  A l e x a n d e r \" } ,  { \" c r e d i t _ i d \" :  \" 5 5 9 2 b 0 5 5 9 2 5 1 4 1 5 2 d 8 0 0 1 2 f 6 \" ,  \" d e p a r t m e n t \" :  \" C r e w \" ,  \" g e n d e r \" :  0 ,  \" i d \" :  1 4 8 3 2 2 1 ,  \" j o b \" :  \" C G  S u p e r v i s o r \" ,  \" n a m e \" :  \" S h a d i  A l m a s s i z a d e h \" } ,  { \" c r e d i t _ i d \" :  \" 5 5 9 2 b 0 9 0 c 3 a 3 6 8 7 7 5 7 0 0 1 0 b 5 \" ,  \" d e p a r t m e n t \" :  \" C r e w \" ,  \" g e n d e r \" :  0 ,  \" i d \" :  1 4 8 3 2 2 2 ,  \" j o b \" :  \" C G  S u p e r v i s o r \" ,  \" n a m e \" :  \" S i m o n  C l u t t e r b u c k \" } ,  { \" c r e d i t _ i d \" :  \" 5 5 9 2 b 0 d b c 3 a 3 6 8 7 7 4 b 0 0 1 1 2 c \" ,  \" d e p a r t m e n t \" :  \" C r e w \" ,  \" g e n d e r \" :  0 ,  \" i d \" :  1 4 8 3 2 2 3 ,  \" j o b \" :  \" C G  S u p e r v i s o r \" ,  \" n a m e \" :  \" G r a e m e  D e m m o c k s \" } ,  { \" c r e d i t _ i d \" :  \" 5 5 9 2 b 0 f e 9 2 5 1 4 1 5 2 d b 0 0 1 0 c 1 \" ,  \" d e p a r t m e n t \" :  \" C r e w \" ,  \" g e n d e r \" :  0 ,  \" i d \" :  1 4 8 3 2 2 4 ,  \" j o b \" :  \" C G  S u p e r v i s o r \" ,  \" n a m e \" :  \" A d r i a n  F e r n a n d e s \" } ,  { \" c r e d i t _ i d \" :  \" 5 5 9 2 b 1 1 f 9 2 5 1 4 1 5 d f 8 0 0 1 0 5 9 \" ,  \" d e p a r t m e n t \" :  \" C r e w \" ,  \" g e n d e r \" :  0 ,  \" i d \" :  1 4 8 3 2 2 5 ,  \" j o b \" :  \" C G  S u p e r v i s o r \" ,  \" n a m e \" :  \" M i t c h  G a t e s \" } ,  { \" c r e d i t _ i d \" :  \" 5 5 9 2 b 1 5 d c 3 a 3 6 8 7 7 4 5 0 0 1 6 4 5 \" ,  \" d e p a r t m e n t \" :  \" C r e w \" ,  \" g e n d e r \" :  0 ,  \" i d \" :  1 4 8 3 2 2 6 ,  \" j o b \" :  \" C G  S u p e r v i s o r \" ,  \" n a m e \" :  \" J e r r y  K u n g \" } ,  { \" c r e d i t _ i d \" :  \" 5 5 9 2 b 1 8 e 9 2 5 1 4 1 6 4 5 a 0 0 0 4 a e \" ,  \" d e p a r t m e n t \" :  \" C r e w \" ,  \" g e n d e r \" :  0 ,  \" i d \" :  1 4 8 3 2 2 7 ,  \" j o b \" :  \" C G  S u p e r v i s o r \" ,  \" n a m e \" :  \" A n d y  L o m a s \" } ,  { \" c r e d i t _ i d \" :  \" 5 5 9 2 b 1 b f c 3 a 3 6 8 7 7 5 d 0 0 1 0 e 7 \" ,  \" d e p a r t m e n t \" :  \" C r e w \" ,  \" g e n d e r \" :  0 ,  \" i d \" :  1 4 8 3 2 2 8 ,  \" j o b \" :  \" C G  S u p e r v i s o r \" ,  \" n a m e \" :  \" S e b a s t i a n  M a r i n o \" } ,  { \" c r e d i t _ i d \" :  \" 5 5 9 2 b 2 0 4 9 2 5 1 4 1 5 d f 8 0 0 1 0 7 8 \" ,  \" d e p a r t m e n t \" :  \" C r e w \" ,  \" g e n d e r \" :  0 ,  \" i d \" :  1 4 8 3 2 2 9 ,  \" j o b \" :  \" C G  S u p e r v i s o r \" ,  \" n a m e \" :  \" M a t t h i a s  M e n z \" } ,  { \" c r e d i t _ i d \" :  \" 5 5 9 2 b 2 7 b 9 2 5 1 4 1 5 2 d 8 0 0 1 3 6 a \" ,  \" d e p a r t m e n t \" :  \" C r e w \" ,  \" g e n d e r \" :  0 ,  \" i d \" :  1 4 8 3 2 3 0 ,  \" j o b \" :  \" C G  S u p e r v i s o r \" ,  \" n a m e \" :  \" S e r g e i  N e v s h u p o v \" } ,  { \" c r e d i t _ i d \" :  \" 5 5 9 2 b 2 c 3 c 3 a 3 6 8 6 9 e 8 0 0 0 0 3 c \" ,  \" d e p a r t m e n t \" :  \" C r e w \" ,  \" g e n d e r \" :  0 ,  \" i d \" :  1 4 8 3 2 3 1 ,  \" j o b \" :  \" C G  S u p e r v i s o r \" ,  \" n a m e \" :  \" P h i l i p p e  R e b o u r s \" } ,  { \" c r e d i t _ i d \" :  \" 5 5 9 2 b 3 1 7 c 3 a 3 6 8 7 7 4 7 0 0 1 2 a f \" ,  \" d e p a r t m e n t \" :  \" C r e w \" ,  \" g e n d e r \" :  0 ,  \" i d \" :  1 4 8 3 2 3 2 ,  \" j o b \" :  \" C G  S u p e r v i s o r \" ,  \" n a m e \" :  \" M i c h a e l  T a k a r a n g i \" } ,  { \" c r e d i t _ i d \" :  \" 5 5 9 2 b 3 4 5 c 3 a 3 6 8 7 7 4 7 0 0 1 2 b b \" ,  \" d e p a r t m e n t \" :  \" C r e w \" ,  \" g e n d e r \" :  0 ,  \" i d \" :  1 4 8 3 2 3 3 ,  \" j o b \" :  \" C G  S u p e r v i s o r \" ,  \" n a m e \" :  \" D a v i d  W e i t z b e r g \" } ,  { \" c r e d i t _ i d \" :  \" 5 5 9 2 b 3 7 c c 3 a 3 6 8 7 7 5 1 0 0 1 1 3 b \" ,  \" d e p a r t m e n t \" :  \" C r e w \" ,  \" g e n d e r \" :  0 ,  \" i d \" :  1 4 8 3 2 3 4 ,  \" j o b \" :  \" C G  S u p e r v i s o r \" ,  \" n a m e \" :  \" B e n  W h i t e \" } ,  { \" c r e d i t _ i d \" :  \" 5 7 3 c 8 e 2 f 9 2 5 1 4 1 3 f 5 d 0 0 0 0 9 4 \" ,  \" d e p a r t m e n t \" :  \" C r e w \" ,  \" g e n d e r \" :  1 ,  \" i d \" :  1 6 2 1 9 3 2 ,  \" j o b \" :  \" S t u n t s \" ,  \" n a m e \" :  \" M i n  W i n d l e \" } ]'"
      ]
     },
     "execution_count": 35,
     "metadata": {},
     "output_type": "execute_result"
    }
   ],
   "source": [
    "new_df['tags'][0]"
   ]
  },
  {
   "cell_type": "code",
   "execution_count": 36,
   "id": "86e03cb8-7ca8-4c73-95c5-954fd08060f3",
   "metadata": {},
   "outputs": [
    {
     "name": "stderr",
     "output_type": "stream",
     "text": [
      "C:\\Users\\Shreyas\\AppData\\Local\\Temp\\ipykernel_17196\\3214958533.py:1: SettingWithCopyWarning: \n",
      "A value is trying to be set on a copy of a slice from a DataFrame.\n",
      "Try using .loc[row_indexer,col_indexer] = value instead\n",
      "\n",
      "See the caveats in the documentation: https://pandas.pydata.org/pandas-docs/stable/user_guide/indexing.html#returning-a-view-versus-a-copy\n",
      "  new_df['tags'] = new_df['tags'].apply(lambda x:x.lower())\n"
     ]
    }
   ],
   "source": [
    "new_df['tags'] = new_df['tags'].apply(lambda x:x.lower())"
   ]
  },
  {
   "cell_type": "code",
   "execution_count": 37,
   "id": "914859a8-128e-4157-baff-e7c7cb91002a",
   "metadata": {},
   "outputs": [
    {
     "data": {
      "text/plain": [
       "'following the death of district attorney harvey dent, batman assumes responsibility for dent\\'s crimes to protect the late attorney\\'s reputation and is subsequently hunted by the gotham city police department. eight years later, batman encounters the mysterious selina kyle and the villainous bane, a new terrorist leader who overwhelms gotham\\'s finest. the dark knight resurfaces to protect a city that has branded him an enemy. [ { \" i d \" :  2 8 ,  \" n a m e \" :  \" a c t i o n \" } ,  { \" i d \" :  8 0 ,  \" n a m e \" :  \" c r i m e \" } ,  { \" i d \" :  1 8 ,  \" n a m e \" :  \" d r a m a \" } ,  { \" i d \" :  5 3 ,  \" n a m e \" :  \" t h r i l l e r \" } ] [ { \" i d \" :  8 4 9 ,  \" n a m e \" :  \" d c  c o m i c s \" } ,  { \" i d \" :  8 5 3 ,  \" n a m e \" :  \" c r i m e  f i g h t e r \" } ,  { \" i d \" :  9 4 9 ,  \" n a m e \" :  \" t e r r o r i s t \" } ,  { \" i d \" :  1 3 0 8 ,  \" n a m e \" :  \" s e c r e t  i d e n t i t y \" } ,  { \" i d \" :  1 4 3 7 ,  \" n a m e \" :  \" b u r g l a r \" } ,  { \" i d \" :  3 0 5 1 ,  \" n a m e \" :  \" h o s t a g e  d r a m a \" } ,  { \" i d \" :  3 5 6 2 ,  \" n a m e \" :  \" t i m e  b o m b \" } ,  { \" i d \" :  6 9 6 9 ,  \" n a m e \" :  \" g o t h a m  c i t y \" } ,  { \" i d \" :  7 0 0 2 ,  \" n a m e \" :  \" v i g i l a n t e \" } ,  { \" i d \" :  9 6 6 5 ,  \" n a m e \" :  \" c o v e r - u p \" } ,  { \" i d \" :  9 7 1 5 ,  \" n a m e \" :  \" s u p e r h e r o \" } ,  { \" i d \" :  9 9 9 0 ,  \" n a m e \" :  \" v i l l a i n e s s \" } ,  { \" i d \" :  1 0 0 4 4 ,  \" n a m e \" :  \" t r a g i c  h e r o \" } ,  { \" i d \" :  1 3 0 1 5 ,  \" n a m e \" :  \" t e r r o r i s m \" } ,  { \" i d \" :  1 4 7 9 6 ,  \" n a m e \" :  \" d e s t r u c t i o n \" } ,  { \" i d \" :  1 8 9 3 3 ,  \" n a m e \" :  \" c a t w o m a n \" } ,  { \" i d \" :  1 5 6 0 8 2 ,  \" n a m e \" :  \" c a t  b u r g l a r \" } ,  { \" i d \" :  1 5 6 3 9 5 ,  \" n a m e \" :  \" i m a x \" } ,  { \" i d \" :  1 7 3 2 7 2 ,  \" n a m e \" :  \" f l o o d \" } ,  { \" i d \" :  1 7 9 0 9 3 ,  \" n a m e \" :  \" c r i m i n a l  u n d e r w o r l d \" } ,  { \" i d \" :  2 3 0 7 7 5 ,  \" n a m e \" :  \" b a t m a n \" } ] [ { \" c a s t _ i d \" :  2 ,  \" c h a r a c t e r \" :  \" b r u c e  w a y n e  /  b a t m a n \" ,  \" c r e d i t _ i d \" :  \" 5 2 f e 4 7 8 1 c 3 a 3 6 8 4 7 f 8 1 3 9 8 6 9 \" ,  \" g e n d e r \" :  2 ,  \" i d \" :  3 8 9 4 ,  \" n a m e \" :  \" c h r i s t i a n  b a l e \" ,  \" o r d e r \" :  0 } ,  { \" c a s t _ i d \" :  8 ,  \" c h a r a c t e r \" :  \" a l f r e d  p e n n y w o r t h \" ,  \" c r e d i t _ i d \" :  \" 5 2 f e 4 7 8 1 c 3 a 3 6 8 4 7 f 8 1 3 9 8 8 1 \" ,  \" g e n d e r \" :  2 ,  \" i d \" :  3 8 9 5 ,  \" n a m e \" :  \" m i c h a e l  c a i n e \" ,  \" o r d e r \" :  1 } ,  { \" c a s t _ i d \" :  5 ,  \" c h a r a c t e r \" :  \" j a m e s  g o r d o n \" ,  \" c r e d i t _ i d \" :  \" 5 2 f e 4 7 8 1 c 3 a 3 6 8 4 7 f 8 1 3 9 8 7 5 \" ,  \" g e n d e r \" :  2 ,  \" i d \" :  6 4 ,  \" n a m e \" :  \" g a r y  o l d m a n \" ,  \" o r d e r \" :  2 } ,  { \" c a s t _ i d \" :  3 ,  \" c h a r a c t e r \" :  \" s e l i n a  k y l e  /  c a t w o m a n \" ,  \" c r e d i t _ i d \" :  \" 5 2 f e 4 7 8 1 c 3 a 3 6 8 4 7 f 8 1 3 9 8 6 d \" ,  \" g e n d e r \" :  1 ,  \" i d \" :  1 8 1 3 ,  \" n a m e \" :  \" a n n e  h a t h a w a y \" ,  \" o r d e r \" :  3 } ,  { \" c a s t _ i d \" :  4 ,  \" c h a r a c t e r \" :  \" b a n e \" ,  \" c r e d i t _ i d \" :  \" 5 2 f e 4 7 8 1 c 3 a 3 6 8 4 7 f 8 1 3 9 8 7 1 \" ,  \" g e n d e r \" :  2 ,  \" i d \" :  2 5 2 4 ,  \" n a m e \" :  \" t o m  h a r d y \" ,  \" o r d e r \" :  4 } ,  { \" c a s t _ i d \" :  1 5 ,  \" c h a r a c t e r \" :  \" m i r a n d a  t a t e \" ,  \" c r e d i t _ i d \" :  \" 5 2 f e 4 7 8 1 c 3 a 3 6 8 4 7 f 8 1 3 9 8 8 d \" ,  \" g e n d e r \" :  1 ,  \" i d \" :  8 2 9 3 ,  \" n a m e \" :  \" m a r i o n  c o t i l l a r d \" ,  \" o r d e r \" :  5 } ,  { \" c a s t _ i d \" :  6 ,  \" c h a r a c t e r \" :  \" b l a k e \" ,  \" c r e d i t _ i d \" :  \" 5 2 f e 4 7 8 1 c 3 a 3 6 8 4 7 f 8 1 3 9 8 7 9 \" ,  \" g e n d e r \" :  2 ,  \" i d \" :  2 4 0 4 5 ,  \" n a m e \" :  \" j o s e p h  g o r d o n - l e v i t t \" ,  \" o r d e r \" :  6 } ,  { \" c a s t _ i d \" :  7 ,  \" c h a r a c t e r \" :  \" l u c i u s  f o x \" ,  \" c r e d i t _ i d \" :  \" 5 2 f e 4 7 8 1 c 3 a 3 6 8 4 7 f 8 1 3 9 8 7 d \" ,  \" g e n d e r \" :  2 ,  \" i d \" :  1 9 2 ,  \" n a m e \" :  \" m o r g a n  f r e e m a n \" ,  \" o r d e r \" :  7 } ,  { \" c a s t _ i d \" :  4 6 ,  \" c h a r a c t e r \" :  \" d r .  j o n a t h a n  c r a n e  /  s c a r e c r o w \" ,  \" c r e d i t _ i d \" :  \" 5 2 f e 4 7 8 1 c 3 a 3 6 8 4 7 f 8 1 3 9 9 3 9 \" ,  \" g e n d e r \" :  2 ,  \" i d \" :  2 0 3 7 ,  \" n a m e \" :  \" c i l l i a n  m u r p h y \" ,  \" o r d e r \" :  8 } ,  { \" c a s t _ i d \" :  9 ,  \" c h a r a c t e r \" :  \" j e n \" ,  \" c r e d i t _ i d \" :  \" 5 2 f e 4 7 8 1 c 3 a 3 6 8 4 7 f 8 1 3 9 8 8 5 \" ,  \" g e n d e r \" :  1 ,  \" i d \" :  3 6 5 9 4 ,  \" n a m e \" :  \" j u n o  t e m p l e \" ,  \" o r d e r \" :  9 } ,  { \" c a s t _ i d \" :  4 7 ,  \" c h a r a c t e r \" :  \" r a \\' s  a l  g h u l \" ,  \" c r e d i t _ i d \" :  \" 5 2 f e 4 7 8 1 c 3 a 3 6 8 4 7 f 8 1 3 9 9 3 d \" ,  \" g e n d e r \" :  2 ,  \" i d \" :  3 8 9 6 ,  \" n a m e \" :  \" l i a m  n e e s o n \" ,  \" o r d e r \" :  1 0 } ,  { \" c a s t _ i d \" :  4 3 ,  \" c h a r a c t e r \" :  \" d e p u t y  c o m m i s s i o n e r  f o l e y \" ,  \" c r e d i t _ i d \" :  \" 5 2 f e 4 7 8 1 c 3 a 3 6 8 4 7 f 8 1 3 9 9 2 d \" ,  \" g e n d e r \" :  2 ,  \" i d \" :  8 6 5 4 ,  \" n a m e \" :  \" m a t t h e w  m o d i n e \" ,  \" o r d e r \" :  1 1 } ,  { \" c a s t _ i d \" :  4 5 ,  \" c h a r a c t e r \" :  \" d r .  p a v e l \" ,  \" c r e d i t _ i d \" :  \" 5 2 f e 4 7 8 1 c 3 a 3 6 8 4 7 f 8 1 3 9 9 3 5 \" ,  \" g e n d e r \" :  2 ,  \" i d \" :  1 6 6 0 7 ,  \" n a m e \" :  \" a l o n  a b o u t b o u l \" ,  \" o r d e r \" :  1 2 } ,  { \" c a s t _ i d \" :  4 9 ,  \" c h a r a c t e r \" :  \" d a g g e t t \" ,  \" c r e d i t _ i d \" :  \" 5 2 f e 4 7 8 2 c 3 a 3 6 8 4 7 f 8 1 3 9 9 4 5 \" ,  \" g e n d e r \" :  2 ,  \" i d \" :  7 7 3 3 5 ,  \" n a m e \" :  \" b e n  m e n d e l s o h n \" ,  \" o r d e r \" :  1 3 } ,  { \" c a s t _ i d \" :  1 0 ,  \" c h a r a c t e r \" :  \" t h e  m a y o r \" ,  \" c r e d i t _ i d \" :  \" 5 2 f e 4 7 8 1 c 3 a 3 6 8 4 7 f 8 1 3 9 8 8 9 \" ,  \" g e n d e r \" :  2 ,  \" i d \" :  2 1 3 1 6 ,  \" n a m e \" :  \" n e s t o r  c a r b o n e l l \" ,  \" o r d e r \" :  1 4 } ,  { \" c a s t _ i d \" :  3 6 ,  \" c h a r a c t e r \" :  \" y o u n g  r a \\' s  a l  g h u l \" ,  \" c r e d i t _ i d \" :  \" 5 2 f e 4 7 8 1 c 3 a 3 6 8 4 7 f 8 1 3 9 9 0 9 \" ,  \" g e n d e r \" :  0 ,  \" i d \" :  9 2 8 5 3 2 ,  \" n a m e \" :  \" j o s h  p e n c e \" ,  \" o r d e r \" :  1 5 } ,  { \" c a s t _ i d \" :  4 2 ,  \" c h a r a c t e r \" :  \" p r i s o n e r \" ,  \" c r e d i t _ i d \" :  \" 5 2 f e 4 7 8 1 c 3 a 3 6 8 4 7 f 8 1 3 9 9 2 9 \" ,  \" g e n d e r \" :  0 ,  \" i d \" :  7 1 0 1 0 ,  \" n a m e \" :  \" t o m  c o n t i \" ,  \" o r d e r \" :  1 6 } ,  { \" c a s t _ i d \" :  4 4 ,  \" c h a r a c t e r \" :  \" y o u n g  t a l i a  a l  g h u l \" ,  \" c r e d i t _ i d \" :  \" 5 2 f e 4 7 8 1 c 3 a 3 6 8 4 7 f 8 1 3 9 9 3 1 \" ,  \" g e n d e r \" :  1 ,  \" i d \" :  1 2 5 0 2 5 ,  \" n a m e \" :  \" j o e y  k i n g \" ,  \" o r d e r \" :  1 7 } ,  { \" c a s t _ i d \" :  4 8 ,  \" c h a r a c t e r \" :  \" m e r c e n a r y  s e c u r i t y  # 1 \" ,  \" c r e d i t _ i d \" :  \" 5 2 f e 4 7 8 1 c 3 a 3 6 8 4 7 f 8 1 3 9 9 4 1 \" ,  \" g e n d e r \" :  2 ,  \" i d \" :  2 1 1 5 2 1 ,  \" n a m e \" :  \" w a r r e n  b r o w n \" ,  \" o r d e r \" :  1 8 } ,  { \" c a s t _ i d \" :  5 0 ,  \" c h a r a c t e r \" :  \" c a p t a i n  j o n e s \" ,  \" c r e d i t _ i d \" :  \" 5 2 f e 4 7 8 2 c 3 a 3 6 8 4 7 f 8 1 3 9 9 4 9 \" ,  \" g e n d e r \" :  2 ,  \" i d \" :  1 0 5 8 2 ,  \" n a m e \" :  \" d a n i e l  s u n j a t a \" ,  \" o r d e r \" :  1 9 } ,  { \" c a s t _ i d \" :  5 2 ,  \" c h a r a c t e r \" :  \" s p e c i a l  o p s  s e r g e a n t \" ,  \" c r e d i t _ i d \" :  \" 5 2 f e 4 7 8 2 c 3 a 3 6 8 4 7 f 8 1 3 9 9 5 1 \" ,  \" g e n d e r \" :  0 ,  \" i d \" :  2 2 4 3 6 5 ,  \" n a m e \" :  \" s a m  k e n n a r d \" ,  \" o r d e r \" :  2 0 } ,  { \" c a s t _ i d \" :  5 3 ,  \" c h a r a c t e r \" :  \" h o o d e d  m a n  # 2 \" ,  \" c r e d i t _ i d \" :  \" 5 3 a b 5 4 9 5 c 3 a 3 6 8 4 b b 9 0 0 0 5 9 a \" ,  \" g e n d e r \" :  0 ,  \" i d \" :  1 3 3 4 3 0 7 ,  \" n a m e \" :  \" a l i a s h  t e p i n a \" ,  \" o r d e r \" :  2 1 } ,  { \" c a s t _ i d \" :  5 4 ,  \" c h a r a c t e r \" :  \" c a t e r e r \" ,  \" c r e d i t _ i d \" :  \" 5 3 a b 5 9 d 4 0 e 0 a 2 6 7 6 2 2 0 0 0 7 6 1 \" ,  \" g e n d e r \" :  0 ,  \" i d \" :  1 3 3 4 3 0 8 ,  \" n a m e \" :  \" n i c k  j u l i a n \" ,  \" o r d e r \" :  2 2 } ,  { \" c a s t _ i d \" :  5 5 ,  \" c h a r a c t e r \" :  \" m a i d \" ,  \" c r e d i t _ i d \" :  \" 5 3 a b 5 b a 7 0 e 0 a 2 6 7 6 1 f 0 0 0 7 1 5 \" ,  \" g e n d e r \" :  1 ,  \" i d \" :  1 3 3 4 3 0 9 ,  \" n a m e \" :  \" m i r a n d a  n o l a n \" ,  \" o r d e r \" :  2 3 } ,  { \" c a s t _ i d \" :  1 7 4 ,  \" c h a r a c t e r \" :  \" m a i d \" ,  \" c r e d i t _ i d \" :  \" 5 6 2 1 9 6 c 8 c 3 a 3 6 8 0 e 1 9 0 0 9 6 a 0 \" ,  \" g e n d e r \" :  0 ,  \" i d \" :  1 1 7 2 4 9 1 ,  \" n a m e \" :  \" c l a i r e  j u l i e n \" ,  \" o r d e r \" :  2 4 } ,  { \" c a s t _ i d \" :  5 6 ,  \" c h a r a c t e r \" :  \" c i a  o p \" ,  \" c r e d i t _ i d \" :  \" 5 3 e 7 6 1 1 0 0 e 0 a 2 6 6 f 9 d 0 0 1 7 6 c \" ,  \" g e n d e r \" :  2 ,  \" i d \" :  4 9 7 3 5 ,  \" n a m e \" :  \" a i d a n  g i l l e n \" ,  \" o r d e r \" :  2 5 } ,  { \" c a s t _ i d \" :  1 7 2 ,  \" c h a r a c t e r \" :  \" s t r y v e r \" ,  \" c r e d i t _ i d \" :  \" 5 6 2 1 9 6 3 e 9 2 5 1 4 1 7 1 d 4 0 0 9 5 6 2 \" ,  \" g e n d e r \" :  0 ,  \" i d \" :  3 9 6 5 9 ,  \" n a m e \" :  \" b u r n  g o r m a n \" ,  \" o r d e r \" :  2 6 } ,  { \" c a s t _ i d \" :  1 7 3 ,  \" c h a r a c t e r \" :  \" c o n g r e s s m a n \" ,  \" c r e d i t _ i d \" :  \" 5 6 2 1 9 6 9 d c 3 a 3 6 8 0 e 0 e 0 0 9 e 9 7 \" ,  \" g e n d e r \" :  2 ,  \" i d \" :  1 6 8 4 1 ,  \" n a m e \" :  \" b r e t t  c u l l e n \" ,  \" o r d e r \" :  2 7 } ,  { \" c a s t _ i d \" :  1 7 5 ,  \" c h a r a c t e r \" :  \" r o s s \" ,  \" c r e d i t _ i d \" :  \" 5 6 2 1 9 7 0 8 c 3 a 3 6 8 0 e 1 9 0 0 9 6 a 9 \" ,  \" g e n d e r \" :  2 ,  \" i d \" :  2 2 0 7 5 ,  \" n a m e \" :  \" r e g g i e  l e e \" ,  \" o r d e r \" :  2 8 } ,  { \" c a s t _ i d \" :  1 7 6 ,  \" c h a r a c t e r \" :  \" d w p  m a n \" ,  \" c r e d i t _ i d \" :  \" 5 6 2 1 9 7 3 9 c 3 a 3 6 8 0 e 1 d 0 0 9 b a 6 \" ,  \" g e n d e r \" :  2 ,  \" i d \" :  1 5 9 8 7 9 ,  \" n a m e \" :  \" j o s e p h  l y l e  t a y l o r \" ,  \" o r d e r \" :  2 9 } ,  { \" c a s t _ i d \" :  1 7 7 ,  \" c h a r a c t e r \" :  \" f r .  r e i l l y \" ,  \" c r e d i t _ i d \" :  \" 5 6 2 1 9 7 5 2 c 3 a 3 6 8 0 e 1 0 0 0 9 2 9 0 \" ,  \" g e n d e r \" :  2 ,  \" i d \" :  8 1 9 1 ,  \" n a m e \" :  \" c h r i s  e l l i s \" ,  \" o r d e r \" :  3 0 } ,  { \" c a s t _ i d \" :  1 7 9 ,  \" c h a r a c t e r \" :  \" s w a t  i n  d i v e  b a r \" ,  \" c r e d i t _ i d \" :  \" 5 6 2 1 9 7 d 3 c 3 a 3 6 8 0 e 1 d 0 0 9 b c 0 \" ,  \" g e n d e r \" :  2 ,  \" i d \" :  1 2 4 0 4 1 7 ,  \" n a m e \" :  \" d u a n e  h e n r y \" ,  \" o r d e r \" :  3 1 } ,  { \" c a s t _ i d \" :  1 8 0 ,  \" c h a r a c t e r \" :  \" s w a t  i n  a l l e y \" ,  \" c r e d i t _ i d \" :  \" 5 6 2 1 9 7 e b 9 2 5 1 4 1 7 1 c 5 0 0 9 6 d f \" ,  \" g e n d e r \" :  0 ,  \" i d \" :  1 2 1 8 8 1 8 ,  \" n a m e \" :  \" j a m e s  h a r v e y  w a r d \" ,  \" o r d e r \" :  3 2 } ,  { \" c a s t _ i d \" :  1 8 1 ,  \" c h a r a c t e r \" :  \" c o p  i n  m a n h o l e \" ,  \" c r e d i t _ i d \" :  \" 5 6 2 1 9 8 0 1 9 2 5 1 4 1 1 e 1 f 0 0 4 5 6 8 \" ,  \" g e n d e r \" :  2 ,  \" i d \" :  8 4 7 5 4 ,  \" n a m e \" :  \" g o n z a l o  m e n e n d e z \" ,  \" o r d e r \" :  3 3 } ,  { \" c a s t _ i d \" :  3 6 5 ,  \" c h a r a c t e r \" :  \" s e w e r  t h u g  # 1 \" ,  \" c r e d i t _ i d \" :  \" 5 7 4 4 6 6 7 f c 3 a 3 6 8 1 2 3 3 0 0 1 5 2 5 \" ,  \" g e n d e r \" :  2 ,  \" i d \" :  1 4 7 3 2 7 6 ,  \" n a m e \" :  \" c a m e r o n  j a c k \" ,  \" o r d e r \" :  3 4 } ,  { \" c a s t _ i d \" :  1 8 2 ,  \" c h a r a c t e r \" :  \" s e w e r  t h u g  # 2 \" ,  \" c r e d i t _ i d \" :  \" 5 6 2 1 9 8 7 e c 3 a 3 6 8 6 8 6 8 0 0 3 d 9 a \" ,  \" g e n d e r \" :  2 ,  \" i d \" :  1 3 6 4 3 2 4 ,  \" n a m e \" :  \" l e x  d a n i e l \" ,  \" o r d e r \" :  3 5 } ,  { \" c a s t _ i d \" :  1 8 3 ,  \" c h a r a c t e r \" :  \" m a r k \" ,  \" c r e d i t _ i d \" :  \" 5 6 2 1 9 8 c d 9 2 5 1 4 1 7 1 c d 0 0 9 6 5 8 \" ,  \" g e n d e r \" :  2 ,  \" i d \" :  1 4 7 3 7 4 9 ,  \" n a m e \" :  \" t y l e r  d e a n  f l o r e s \" ,  \" o r d e r \" :  3 6 } ,  { \" c a s t _ i d \" :  1 8 4 ,  \" c h a r a c t e r \" :  \" d o c t o r \" ,  \" c r e d i t _ i d \" :  \" 5 6 2 1 9 9 1 1 9 2 5 1 4 1 7 1 d 0 0 0 9 6 0 d \" ,  \" g e n d e r \" :  2 ,  \" i d \" :  5 3 9 ,  \" n a m e \" :  \" t h o m a s  l e n n o n \" ,  \" o r d e r \" :  3 7 } ,  { \" c a s t _ i d \" :  1 8 5 ,  \" c h a r a c t e r \" :  \" y u p p i e \" ,  \" c r e d i t _ i d \" :  \" 5 6 2 1 9 9 7 1 9 2 5 1 4 1 7 1 d 0 0 0 9 6 2 5 \" ,  \" g e n d e r \" :  0 ,  \" i d \" :  1 5 8 4 8 4 ,  \" n a m e \" :  \" t r e v o r  w h i t e \" ,  \" o r d e r \" :  3 8 } ,  { \" c a s t _ i d \" :  1 8 6 ,  \" c h a r a c t e r \" :  \" a l l e n \" ,  \" c r e d i t _ i d \" :  \" 5 6 2 1 9 9 9 4 c 3 a 3 6 8 2 4 0 d 0 0 2 8 d 5 \" ,  \" g e n d e r \" :  2 ,  \" i d \" :  1 0 6 8 9 ,  \" n a m e \" :  \" r o b  b r o w n \" ,  \" o r d e r \" :  3 9 } ,  { \" c a s t _ i d \" :  1 8 7 ,  \" c h a r a c t e r \" :  \" e x c h a n g e  s e c u r i t y  c h i e f \" ,  \" c r e d i t _ i d \" :  \" 5 6 2 1 9 9 b 4 9 2 5 1 4 1 7 1 d 0 0 0 9 6 3 4 \" ,  \" g e n d e r \" :  2 ,  \" i d \" :  9 6 3 2 ,  \" n a m e \" :  \" f r e d r i c  l e h n e \" ,  \" o r d e r \" :  4 0 } ,  { \" c a s t _ i d \" :  1 8 8 ,  \" c h a r a c t e r \" :  \" f e m a l e  s e c u r i t y  g u a r d \" ,  \" c r e d i t _ i d \" :  \" 5 6 2 1 9 9 d c 9 2 5 1 4 1 7 1 d 0 0 0 9 6 3 c \" ,  \" g e n d e r \" :  0 ,  \" i d \" :  1 2 0 5 9 0 0 ,  \" n a m e \" :  \" c o u r t n e y  m u n c h \" ,  \" o r d e r \" :  4 1 } ,  { \" c a s t _ i d \" :  1 8 9 ,  \" c h a r a c t e r \" :  \" p a p a r a z z i  # 1 \" ,  \" c r e d i t _ i d \" :  \" 5 6 2 1 9 a 2 a c 3 a 3 6 8 2 4 0 d 0 0 2 8 e e \" ,  \" g e n d e r \" :  2 ,  \" i d \" :  1 4 0 3 7 6 8 ,  \" n a m e \" :  \" c h r i s  h i l l \" ,  \" o r d e r \" :  4 2 } ,  { \" c a s t _ i d \" :  1 9 0 ,  \" c h a r a c t e r \" :  \" p a p a r a z z i  # 2 \" ,  \" c r e d i t _ i d \" :  \" 5 6 2 1 9 a 3 f c 3 a 3 6 8 0 e 1 6 0 0 8 b 4 9 \" ,  \" g e n d e r \" :  2 ,  \" i d \" :  1 4 6 5 2 4 2 ,  \" n a m e \" :  \" t r a v i s  g u b a \" ,  \" o r d e r \" :  4 3 } ,  { \" c a s t _ i d \" :  1 9 1 ,  \" c h a r a c t e r \" :  \" r i c h  t w i t \" ,  \" c r e d i t _ i d \" :  \" 5 6 2 1 9 a 6 c c 3 a 3 6 8 0 e 1 9 0 0 9 7 3 e \" ,  \" g e n d e r \" :  2 ,  \" i d \" :  1 4 1 0 1 4 ,  \" n a m e \" :  \" j a y  b e n e d i c t \" ,  \" o r d e r \" :  4 4 } ,  { \" c a s t _ i d \" :  1 9 2 ,  \" c h a r a c t e r \" :  \" o f f i c e r  s i m o n  j a n s e n \" ,  \" c r e d i t _ i d \" :  \" 5 6 2 1 9 a a d c 3 a 3 6 8 6 8 6 8 0 0 3 e 0 3 \" ,  \" g e n d e r \" :  2 ,  \" i d \" :  3 2 3 6 3 ,  \" n a m e \" :  \" w i l l  e s t e s \" ,  \" o r d e r \" :  4 5 } ,  { \" c a s t _ i d \" :  1 9 3 ,  \" c h a r a c t e r \" :  \" s h o e  s h i n e  m a n  a t  g s e \" ,  \" c r e d i t _ i d \" :  \" 5 6 2 1 9 a c c 9 2 5 1 4 1 7 1 c 5 0 0 9 7 5 b \" ,  \" g e n d e r \" :  2 ,  \" i d \" :  2 1 1 8 2 ,  \" n a m e \" :  \" d a v i d  d a y a n  f i s h e r \" ,  \" o r d e r \" :  4 6 } ,  { \" c a s t _ i d \" :  1 9 4 ,  \" c h a r a c t e r \" :  \" t r a d e r  # 1 \" ,  \" c r e d i t _ i d \" :  \" 5 6 2 1 9 b 3 2 c 3 a 3 6 8 2 4 0 d 0 0 2 9 2 7 \" ,  \" g e n d e r \" :  2 ,  \" i d \" :  8 3 2 7 1 ,  \" n a m e \" :  \" g l e n  p o w e l l \" ,  \" o r d e r \" :  4 7 } ,  { \" c a s t _ i d \" :  1 9 5 ,  \" c h a r a c t e r \" :  \" t r a d e r  # 3 \" ,  \" c r e d i t _ i d \" :  \" 5 6 2 1 9 b 8 6 c 3 a 3 6 8 0 e 1 0 0 0 9 3 7 9 \" ,  \" g e n d e r \" :  2 ,  \" i d \" :  5 3 5 ,  \" n a m e \" :  \" r u s s  f e g a \" ,  \" o r d e r \" :  4 8 } ,  { \" c a s t _ i d \" :  1 9 6 ,  \" c h a r a c t e r \" :  \" v a l e t  a t  m u s e u m \" ,  \" c r e d i t _ i d \" :  \" 5 6 2 1 9 b a 8 c 3 a 3 6 8 0 e 1 0 0 0 9 3 8 3 \" ,  \" g e n d e r \" :  2 ,  \" i d \" :  1 2 2 6 0 1 6 ,  \" n a m e \" :  \" a n d r e s  p e r e z - m o l i n a \" ,  \" o r d e r \" :  4 9 } ,  { \" c a s t _ i d \" :  1 9 7 ,  \" c h a r a c t e r \" :  \" v e t e r a n  c o p \" ,  \" c r e d i t _ i d \" :  \" 5 6 2 1 9 b c 6 c 3 a 3 6 8 2 4 0 d 0 0 2 9 5 2 \" ,  \" g e n d e r \" :  2 ,  \" i d \" :  1 5 0 1 1 ,  \" n a m e \" :  \" b r e n t  b r i s c o e \" ,  \" o r d e r \" :  5 0 } ,  { \" c a s t _ i d \" :  1 9 8 ,  \" c h a r a c t e r \" :  \" f r e d e r i c k s \" ,  \" c r e d i t _ i d \" :  \" 5 6 2 1 9 b e c 9 2 5 1 4 1 7 1 d 4 0 0 9 6 7 b \" ,  \" g e n d e r \" :  2 ,  \" i d \" :  7 0 2 2 5 ,  \" n a m e \" :  \" j o h n  n o l a n \" ,  \" o r d e r \" :  5 1 } ,  { \" c a s t _ i d \" :  1 9 9 ,  \" c h a r a c t e r \" :  \" 2  s t a r  a i r  f o r c e  g e n e r a l \" ,  \" c r e d i t _ i d \" :  \" 5 6 2 1 9 c 1 c 9 2 5 1 4 1 3 a 7 4 0 0 4 1 a 2 \" ,  \" g e n d e r \" :  2 ,  \" i d \" :  2 4 6 2 7 ,  \" n a m e \" :  \" o l i v e r  c o t t o n \" ,  \" o r d e r \" :  5 2 } ,  { \" c a s t _ i d \" :  2 0 0 ,  \" c h a r a c t e r \" :  \" a i r p o r t  c o p \" ,  \" c r e d i t _ i d \" :  \" 5 6 2 1 9 c 3 d 9 2 5 1 4 1 7 1 d 4 0 0 9 6 8 e \" ,  \" g e n d e r \" :  0 ,  \" i d \" :  1 4 2 2 9 0 ,  \" n a m e \" :  \" m a r k  k i l l e e n \" ,  \" o r d e r \" :  5 3 } ,  { \" c a s t _ i d \" :  2 0 1 ,  \" c h a r a c t e r \" :  \" a n a l y s t  # 1 \" ,  \" c r e d i t _ i d \" :  \" 5 6 2 1 9 c 6 a c 3 a 3 6 8 0 e 1 d 0 0 9 c b 3 \" ,  \" g e n d e r \" :  0 ,  \" i d \" :  1 3 7 7 6 8 6 ,  \" n a m e \" :  \" s a r a h  g o l d b e r g \" ,  \" o r d e r \" :  5 4 } ,  { \" c a s t _ i d \" :  2 0 2 ,  \" c h a r a c t e r \" :  \" a n a l y s t  # 2 \" ,  \" c r e d i t _ i d \" :  \" 5 6 2 1 9 c 8 6 c 3 a 3 6 8 0 e 1 d 0 0 9 c b b \" ,  \" g e n d e r \" :  2 ,  \" i d \" :  5 5 0 5 4 9 ,  \" n a m e \" :  \" j o h n  m a c m i l l a n \" ,  \" o r d e r \" :  5 5 } ,  { \" c a s t _ i d \" :  2 0 3 ,  \" c h a r a c t e r \" :  \" a r m y  c a p t a i n  a t  b r i d g e \" ,  \" c r e d i t _ i d \" :  \" 5 6 2 1 9 c f 9 c 3 a 3 6 8 0 e 1 0 0 0 9 3 c 7 \" ,  \" g e n d e r \" :  2 ,  \" i d \" :  2 1 5 0 5 ,  \" n a m e \" :  \" r o b e r t  w i s d o m \" ,  \" o r d e r \" :  5 6 } ,  { \" c a s t _ i d \" :  2 0 4 ,  \" c h a r a c t e r \" :  \" c e m e n t  t r u c k  d r i v e r \" ,  \" c r e d i t _ i d \" :  \" 5 6 2 1 9 d 1 8 c 3 a 3 6 8 0 e 1 6 0 0 8 b d 4 \" ,  \" g e n d e r \" :  2 ,  \" i d \" :  9 8 8 0 4 ,  \" n a m e \" :  \" r o n n i e  g e n e  b l e v i n s \" ,  \" o r d e r \" :  5 7 } ,  { \" c a s t _ i d \" :  2 0 5 ,  \" c h a r a c t e r \" :  \" c i a  a n a l y s t \" ,  \" c r e d i t _ i d \" :  \" 5 6 2 1 9 d 3 d 9 2 5 1 4 1 7 1 d 4 0 0 9 6 d 2 \" ,  \" g e n d e r \" :  0 ,  \" i d \" :  1 3 8 6 8 2 4 ,  \" n a m e \" :  \" j o h n  h o l l i n g w o r t h \" ,  \" o r d e r \" :  5 8 } ,  { \" c a s t _ i d \" :  2 0 6 ,  \" c h a r a c t e r \" :  \" c o p  w i t h  g o r d o n \" ,  \" c r e d i t _ i d \" :  \" 5 6 2 1 9 d 5 d c 3 a 3 6 8 6 8 6 8 0 0 3 e 7 1 \" ,  \" g e n d e r \" :  2 ,  \" i d \" :  3 1 3 6 2 ,  \" n a m e \" :  \" i a n  b o h e n \" ,  \" o r d e r \" :  5 9 } ,  { \" c a s t _ i d \" :  2 0 7 ,  \" c h a r a c t e r \" :  \" b l i n d  p r i s o n e r \" ,  \" c r e d i t _ i d \" :  \" 5 6 2 1 9 d 7 e c 3 a 3 6 8 0 e 1 d 0 0 9 c e 9 \" ,  \" g e n d e r \" :  2 ,  \" i d \" :  1 4 5 3 1 3 ,  \" n a m e \" :  \" u r i  g a v r i e l \" ,  \" o r d e r \" :  6 0 } ,  { \" c a s t _ i d \" :  2 0 8 ,  \" c h a r a c t e r \" :  \" e x - p r i s o n e r  a t  r i v e r \" ,  \" c r e d i t _ i d \" :  \" 5 6 2 1 9 d 9 f 9 2 5 1 4 1 7 f 4 7 0 0 7 3 a 3 \" ,  \" g e n d e r \" :  2 ,  \" i d \" :  5 3 2 5 2 ,  \" n a m e \" :  \" n o e l  g u g l i e m i \" ,  \" o r d e r \" :  6 1 } ,  { \" c a s t _ i d \" :  2 0 9 ,  \" c h a r a c t e r \" :  \" g a n g b a n g e r \" ,  \" c r e d i t _ i d \" :  \" 5 6 2 1 9 d c e 9 2 5 1 4 1 7 f 4 7 0 0 7 3 b 0 \" ,  \" g e n d e r \" :  2 ,  \" i d \" :  2 4 2 0 2 ,  \" n a m e \" :  \" h e c t o r  a t r e y u  r u i z \" ,  \" o r d e r \" :  6 2 } ,  { \" c a s t _ i d \" :  2 1 0 ,  \" c h a r a c t e r \" :  \" h u g e  i n m a t e \" ,  \" c r e d i t _ i d \" :  \" 5 6 2 1 9 d f d c 3 a 3 6 8 0 e 2 0 0 0 a 3 c 3 \" ,  \" g e n d e r \" :  0 ,  \" i d \" :  1 3 0 1 1 8 7 ,  \" n a m e \" :  \" p a t r i c k  c o x \" ,  \" o r d e r \" :  6 3 } ,  { \" c a s t _ i d \" :  2 1 1 ,  \" c h a r a c t e r \" :  \" k i d  w i t h  a p p l e \" ,  \" c r e d i t _ i d \" :  \" 5 6 2 1 9 e 2 2 c 3 a 3 6 8 0 e 2 0 0 0 a 3 c c \" ,  \" g e n d e r \" :  2 ,  \" i d \" :  2 0 4 1 9 1 ,  \" n a m e \" :  \" a r a m i s  k n i g h t \" ,  \" o r d e r \" :  6 4 } ,  { \" c a s t _ i d \" :  2 1 2 ,  \" c h a r a c t e r \" :  \" b a r s a d \" ,  \" c r e d i t _ i d \" :  \" 5 6 2 1 9 e 5 8 9 2 5 1 4 1 3 a 7 4 0 0 4 2 1 c \" ,  \" g e n d e r \" :  2 ,  \" i d \" :  4 0 0 3 9 ,  \" n a m e \" :  \" j o s h  s t e w a r t \" ,  \" o r d e r \" :  6 5 } ,  { \" c a s t _ i d \" :  2 1 3 ,  \" c h a r a c t e r \" :  \" p r e s i d e n t \" ,  \" c r e d i t _ i d \" :  \" 5 6 2 1 9 e 7 8 c 3 a 3 6 8 0 e 0 e 0 0 a 0 2 2 \" ,  \" g e n d e r \" :  2 ,  \" i d \" :  2 1 4 1 6 ,  \" n a m e \" :  \" w i l l i a m  d e v a n e \" ,  \" o r d e r \" :  6 6 } ,  { \" c a s t _ i d \" :  2 1 4 ,  \" c h a r a c t e r \" :  \" s k i n n y  p r i s o n e r \" ,  \" c r e d i t _ i d \" :  \" 5 6 2 1 a 5 4 c c 3 a 3 6 8 6 8 6 8 0 0 3 f c c \" ,  \" g e n d e r \" :  2 ,  \" i d \" :  5 5 4 1 1 ,  \" n a m e \" :  \" d a v i d  g y a s i \" ,  \" o r d e r \" :  6 7 } ,  { \" c a s t _ i d \" :  2 1 5 ,  \" c h a r a c t e r \" :  \" s p e c i a l  f o r c e s  # 2 \" ,  \" c r e d i t _ i d \" :  \" 5 6 2 1 a 5 a e 9 2 5 1 4 1 3 a 7 4 0 0 4 f 0 1 \" ,  \" g e n d e r \" :  2 ,  \" i d \" :  1 2 4 4 3 1 4 ,  \" n a m e \" :  \" p a t r i c k  j o r d a n \" ,  \" o r d e r \" :  6 8 } ,  { \" c a s t _ i d \" :  2 1 6 ,  \" c h a r a c t e r \" :  \" m e r c e n a r y  a t  c i t y  h a l l \" ,  \" c r e d i t _ i d \" :  \" 5 6 2 1 a 5 f 3 c 3 a 3 6 8 0 e 1 d 0 0 9 e f 0 \" ,  \" g e n d e r \" :  0 ,  \" i d \" :  1 2 8 6 8 7 8 ,  \" n a m e \" :  \" j o s h u a  e l i j a h  r e e s e \" ,  \" o r d e r \" :  6 9 } ,  { \" c a s t _ i d \" :  2 1 7 ,  \" c h a r a c t e r \" :  \" u n i f o r m \" ,  \" c r e d i t _ i d \" :  \" 5 6 2 1 a 6 1 1 c 3 a 3 6 8 0 e 1 6 0 0 8 d 9 3 \" ,  \" g e n d e r \" :  2 ,  \" i d \" :  6 3 6 5 ,  \" n a m e \" :  \" d e s m o n d  h a r r i n g t o n \" ,  \" o r d e r \" :  7 0 } ,  { \" c a s t _ i d \" :  2 1 8 ,  \" c h a r a c t e r \" :  \" b o m b  t r u c k  d r i v e r \" ,  \" c r e d i t _ i d \" :  \" 5 6 2 1 a 6 4 a c 3 a 3 6 8 0 e 1 0 0 0 9 5 a 7 \" ,  \" g e n d e r \" :  2 ,  \" i d \" :  1 4 1 7 4 1 5 ,  \" n a m e \" :  \" m y c h a e l  b a t e s \" ,  \" o r d e r \" :  7 1 } ,  { \" c a s t _ i d \" :  2 1 9 ,  \" c h a r a c t e r \" :  \" w a y n e \\' s  l a w y e r \" ,  \" c r e d i t _ i d \" :  \" 5 6 2 2 8 0 4 d c 3 a 3 6 8 0 e 1 d 0 0 c 2 e c \" ,  \" g e n d e r \" :  2 ,  \" i d \" :  9 4 1 ,  \" n a m e \" :  \" t o m a s  a r a n a \" ,  \" o r d e r \" :  7 2 } ,  { \" c a s t _ i d \" :  2 2 0 ,  \" c h a r a c t e r \" :  \" a p p l i e d  s c i e n c e s  t e c h  # 1 \" ,  \" c r e d i t _ i d \" :  \" 5 6 2 2 8 0 7 6 c 3 a 3 6 8 0 e 1 6 0 0 a e 3 5 \" ,  \" g e n d e r \" :  0 ,  \" i d \" :  1 2 2 5 9 1 1 ,  \" n a m e \" :  \" p e t e r  h o l d e n \" ,  \" o r d e r \" :  7 3 } ,  { \" c a s t _ i d \" :  2 2 1 ,  \" c h a r a c t e r \" :  \" a p p l i e d  s c i e n c e s  t e c h  # 2 \" ,  \" c r e d i t _ i d \" :  \" 5 6 2 2 8 0 9 b c 3 a 3 6 8 0 e 0 e 0 0 c 5 a 4 \" ,  \" g e n d e r \" :  2 ,  \" i d \" :  1 0 0 8 9 1 ,  \" n a m e \" :  \" d a v i d  m o n a h a n \" ,  \" o r d e r \" :  7 4 } ,  { \" c a s t _ i d \" :  2 2 2 ,  \" c h a r a c t e r \" :  \" l a w y e r \\' s  c l e r k \" ,  \" c r e d i t _ i d \" :  \" 5 6 2 2 8 0 b b c 3 a 3 6 8 0 e 2 0 0 0 c a 5 f \" ,  \" g e n d e r \" :  1 ,  \" i d \" :  2 0 4 6 9 ,  \" n a m e \" :  \" j i l l i a n  a r m e n a n t e \" ,  \" o r d e r \" :  7 5 } ,  { \" c a s t _ i d \" :  2 2 3 ,  \" c h a r a c t e r \" :  \" g r e e t e r  a t  m u s e u m \" ,  \" c r e d i t _ i d \" :  \" 5 6 2 2 8 0 f c c 3 a 3 6 8 0 e 2 0 0 0 c a 6 8 \" ,  \" g e n d e r \" :  1 ,  \" i d \" :  1 0 5 8 3 2 ,  \" n a m e \" :  \" a j a  e v a n s \" ,  \" o r d e r \" :  7 6 } ,  { \" c a s t _ i d \" :  2 2 4 ,  \" c h a r a c t e r \" :  \" v a l e t  a t  w a y n e  e n t e r p r i s e s \" ,  \" c r e d i t _ i d \" :  \" 5 6 2 2 8 1 5 3 c 3 a 3 6 8 0 e 1 6 0 0 a e 6 4 \" ,  \" g e n d e r \" :  0 ,  \" i d \" :  1 3 5 5 6 1 5 ,  \" n a m e \" :  \" a l d o u s  d a v i d s o n \" ,  \" o r d e r \" :  7 7 } ,  { \" c a s t _ i d \" :  2 2 5 ,  \" c h a r a c t e r \" :  \" w a r d e n  a t  b l a c k g a t e \" ,  \" c r e d i t _ i d \" :  \" 5 6 2 2 8 1 a 4 9 2 5 1 4 1 3 a 7 4 0 0 6 f d a \" ,  \" g e n d e r \" :  2 ,  \" i d \" :  5 1 9 3 0 ,  \" n a m e \" :  \" w a d e  w i l l i a m s \" ,  \" o r d e r \" :  7 8 } ,  { \" c a s t _ i d \" :  2 2 6 ,  \" c h a r a c t e r \" :  \" w a i t e r  i n  f l o r e n c e  c a f \\\\ u 0 0 e 9 \" ,  \" c r e d i t _ i d \" :  \" 5 6 2 3 d 3 a 8 c 3 a 3 6 8 0 e 1 6 0 0 d 8 e 2 \" ,  \" g e n d e r \" :  0 ,  \" i d \" :  9 5 5 7 7 ,  \" n a m e \" :  \" j a k e  c a n u s o \" ,  \" o r d e r \" :  7 9 } ,  { \" c a s t _ i d \" :  2 2 8 ,  \" c h a r a c t e r \" :  \" j a n i t o r  a t  g s e \" ,  \" c r e d i t _ i d \" :  \" 5 6 2 3 d 4 7 c 9 2 5 1 4 1 2 7 d 4 0 0 3 5 2 2 \" ,  \" g e n d e r \" :  0 ,  \" i d \" :  1 0 1 0 8 7 3 ,  \" n a m e \" :  \" m a s s i  f u r l a n \" ,  \" o r d e r \" :  8 1 } ,  { \" c a s t _ i d \" :  2 2 9 ,  \" c h a r a c t e r \" :  \" m e r c e n a r y  s e c u r i t y  # 4 \" ,  \" c r e d i t _ i d \" :  \" 5 6 2 3 d 4 f 2 c 3 a 3 6 8 0 e 1 d 0 0 f 2 9 d \" ,  \" g e n d e r \" :  2 ,  \" i d \" :  2 6 0 8 8 ,  \" n a m e \" :  \" c h r i s t o p h e r  j u d g e \" ,  \" o r d e r \" :  8 2 } ,  { \" c a s t _ i d \" :  2 3 0 ,  \" c h a r a c t e r \" :  \" b o a r d  m e m b e r  # 2 \" ,  \" c r e d i t _ i d \" :  \" 5 6 2 3 d 5 3 2 9 2 5 1 4 1 6 b 3 0 0 0 1 5 3 a \" ,  \" g e n d e r \" :  2 ,  \" i d \" :  8 5 3 1 9 4 ,  \" n a m e \" :  \" p a t r i c k  l e a h y \" ,  \" o r d e r \" :  8 3 } ,  { \" c a s t _ i d \" :  2 3 1 ,  \" c h a r a c t e r \" :  \" u n i f o r m  # 2 \" ,  \" c r e d i t _ i d \" :  \" 5 6 2 3 d 5 7 1 9 2 5 1 4 1 3 5 b 0 0 0 2 8 d 6 \" ,  \" g e n d e r \" :  0 ,  \" i d \" :  1 7 1 6 0 6 ,  \" n a m e \" :  \" t o d d  g e a r h a r t \" ,  \" o r d e r \" :  8 4 } ,  { \" c a s t _ i d \" :  2 3 2 ,  \" c h a r a c t e r \" :  \" g o t h a m  c i t y  p o l i c e  o f f i c e r  ( u n c r e d i t e d ) \" ,  \" c r e d i t _ i d \" :  \" 5 6 2 3 d 5 d 6 9 2 5 1 4 1 7 f 4 7 0 0 b e c f \" ,  \" g e n d e r \" :  2 ,  \" i d \" :  1 4 0 6 6 8 2 ,  \" n a m e \" :  \" m a r c  a b b i n k \" ,  \" o r d e r \" :  8 5 } ,  { \" c a s t _ i d \" :  2 3 3 ,  \" c h a r a c t e r \" :  \" y o u n g  s t o c k  b r o k e r  ( u n c r e d i t e d ) \" ,  \" c r e d i t _ i d \" :  \" 5 6 2 5 2 c 5 a 9 2 5 1 4 1 3 9 8 0 0 0 1 f 0 1 \" ,  \" g e n d e r \" :  0 ,  \" i d \" :  1 1 6 7 7 1 8 ,  \" n a m e \" :  \" i s i a h  a d a m s \" ,  \" o r d e r \" :  8 6 } ,  { \" c a s t _ i d \" :  2 3 4 ,  \" c h a r a c t e r \" :  \" g o t h a m  c i t y  p o l i c e  o f f i c e r  ( u n c r e d i t e d ) \" ,  \" c r e d i t _ i d \" :  \" 5 6 2 5 2 c b 2 c 3 a 3 6 8 0 e 1 d 0 1 3 4 9 7 \" ,  \" g e n d e r \" :  1 ,  \" i d \" :  5 7 2 2 2 1 ,  \" n a m e \" :  \" c h a r l i e  a l e j a n d r o \" ,  \" o r d e r \" :  8 7 } ,  { \" c a s t _ i d \" :  2 3 5 ,  \" c h a r a c t e r \" :  \" f o r m e r  u p s c a l e r  ( u n c r e d i t e d ) \" ,  \" c r e d i t _ i d \" :  \" 5 6 2 5 2 c f 9 c 3 a 3 6 8 0 e 1 d 0 1 3 4 9 c \" ,  \" g e n d e r \" :  2 ,  \" i d \" :  1 1 1 6 9 3 3 ,  \" n a m e \" :  \" r o b e r t  a r e n s e n \" ,  \" o r d e r \" :  8 8 } ,  { \" c a s t _ i d \" :  2 3 6 ,  \" c h a r a c t e r \" :  \" a n g r y  m o b s t e r  /  p r i s o n e r  ( u n c r e d i t e d ) \" ,  \" c r e d i t _ i d \" :  \" 5 6 2 5 2 d 4 3 c 3 a 3 6 8 0 e 2 0 0 1 4 8 3 e \" ,  \" g e n d e r \" :  0 ,  \" i d \" :  1 5 2 4 1 5 8 ,  \" n a m e \" :  \" g r a n t  b a b b i t t \" ,  \" o r d e r \" :  8 9 } ,  { \" c a s t _ i d \" :  2 3 7 ,  \" c h a r a c t e r \" :  \" g o t h a m  r o g u e s  f a n  ( u n c r e d i t e d ) \" ,  \" c r e d i t _ i d \" :  \" 5 6 2 5 2 d 6 e 9 2 5 1 4 1 3 9 8 0 0 0 1 f 2 a \" ,  \" g e n d e r \" :  0 ,  \" i d \" :  1 3 9 1 8 8 ,  \" n a m e \" :  \" f i l e e n a  b a h r i s \" ,  \" o r d e r \" :  9 0 } ,  { \" c a s t _ i d \" :  2 3 8 ,  \" c h a r a c t e r \" :  \" m e r c e n a r y  ( u n c r e d i t e d ) \" ,  \" c r e d i t _ i d \" :  \" 5 6 2 5 8 b 7 5 9 2 5 1 4 1 3 9 8 0 0 0 2 a f 5 \" ,  \" g e n d e r \" :  0 ,  \" i d \" :  1 0 7 5 8 4 5 ,  \" n a m e \" :  \" r i c k  b o l a n d e r \" ,  \" o r d e r \" :  9 1 } ,  { \" c a s t _ i d \" :  2 3 9 ,  \" c h a r a c t e r \" :  \" p o l i c e  o f f i c e r  ( u n c r e d i t e d ) \" ,  \" c r e d i t _ i d \" :  \" 5 6 2 5 8 b b 1 9 2 5 1 4 1 3 5 b 0 0 0 7 2 4 c \" ,  \" g e n d e r \" :  0 ,  \" i d \" :  1 2 8 3 9 4 9 ,  \" n a m e \" :  \" k y l e  p a t r i c k  b r e n n a n \" ,  \" o r d e r \" :  9 2 } ,  { \" c a s t _ i d \" :  2 4 0 ,  \" c h a r a c t e r \" :  \" g o t h a m  c i t y  p o l i c e  o f f i c e r  ( u n c r e d i t e d ) \" ,  \" c r e d i t _ i d \" :  \" 5 6 2 6 7 a 1 0 9 2 5 1 4 1 2 f 1 5 0 0 0 8 7 3 \" ,  \" g e n d e r \" :  0 ,  \" i d \" :  1 3 4 4 9 4 3 ,  \" n a m e \" :  \" s c o t t  c h u r c h s o n \" ,  \" o r d e r \" :  9 3 } ,  { \" c a s t _ i d \" :  2 4 1 ,  \" c h a r a c t e r \" :  \" g o t h a m  r o g u e s  c o a c h  ( u n c r e d i t e d ) \" ,  \" c r e d i t _ i d \" :  \" 5 6 2 6 7 a e e c 3 a 3 6 8 0 e 2 0 0 1 8 6 f 9 \" ,  \" g e n d e r \" :  0 ,  \" i d \" :  1 2 4 0 1 9 1 ,  \" n a m e \" :  \" b i l l  c o w h e r \" ,  \" o r d e r \" :  9 4 } ,  { \" c a s t _ i d \" :  2 4 2 ,  \" c h a r a c t e r \" :  \" p e n t a g o n  n a v y  p e t t y  ( u n c r e d i t e d ) \" ,  \" c r e d i t _ i d \" :  \" 5 6 2 6 7 b b c 9 2 5 1 4 1 2 f 1 5 0 0 0 8 a c \" ,  \" g e n d e r \" :  0 ,  \" i d \" :  1 3 5 9 4 6 1 ,  \" n a m e \" :  \" g r a h a m  c u r r y \" ,  \" o r d e r \" :  9 5 } ,  { \" c a s t _ i d \" :  2 4 3 ,  \" c h a r a c t e r \" :  \" r e p o r t e r  ( u n c r e d i t e d ) \" ,  \" c r e d i t _ i d \" :  \" 5 6 2 6 d d 3 f 9 2 5 1 4 1 3 7 b b 0 0 0 6 c 8 \" ,  \" g e n d e r \" :  1 ,  \" i d \" :  1 1 6 3 3 0 0 ,  \" n a m e \" :  \" s t e p h a n i e  d o m i n i  e h l e r t \" ,  \" o r d e r \" :  9 6 } ,  { \" c a s t _ i d \" :  2 4 4 ,  \" c h a r a c t e r \" :  \" o l d e r  u p s c a l e  p e r s o n  ( u n c r e d i t e d ) \" ,  \" c r e d i t _ i d \" :  \" 5 6 2 7 c a 6 9 c 3 a 3 6 8 7 c 5 2 0 0 0 5 0 0 \" ,  \" g e n d e r \" :  0 ,  \" i d \" :  9 3 7 5 2 ,  \" n a m e \" :  \" j o h n  f a r r e r \" ,  \" o r d e r \" :  9 7 } ,  { \" c a s t _ i d \" :  2 4 5 ,  \" c h a r a c t e r \" :  \" p r i s o n e r  /  t h u g  ( u n c r e d i t e d ) \" ,  \" c r e d i t _ i d \" :  \" 5 6 2 7 c a a f c 3 a 3 6 8 7 c 6 0 0 0 0 4 b 3 \" ,  \" g e n d e r \" :  0 ,  \" i d \" :  1 3 4 3 3 0 9 ,  \" n a m e \" :  \" f r a n k  f a t a \" ,  \" o r d e r \" :  9 8 } ,  { \" c a s t _ i d \" :  2 4 6 ,  \" c h a r a c t e r \" :  \" s t o c k  b r o k e r  ( u n c r e d i t e d ) \" ,  \" c r e d i t _ i d \" :  \" 5 6 2 8 3 0 b 7 c 3 a 3 6 8 4 8 8 0 0 0 0 4 2 1 \" ,  \" g e n d e r \" :  0 ,  \" i d \" :  1 3 7 2 4 1 9 ,  \" n a m e \" :  \" c h r i s t o p h e r  b r y a n  g o m e z \" ,  \" o r d e r \" :  9 9 } ,  { \" c a s t _ i d \" :  2 4 7 ,  \" c h a r a c t e r \" :  \" t h u g  ( u n c r e d i t e d ) \" ,  \" c r e d i t _ i d \" :  \" 5 6 2 8 3 1 2 2 9 2 5 1 4 1 4 c d d 0 0 0 4 4 2 \" ,  \" g e n d e r \" :  0 ,  \" i d \" :  1 5 0 2 3 2 3 ,  \" n a m e \" :  \" v i t o  g r a s s i \" ,  \" o r d e r \" :  1 0 0 } ,  { \" c a s t _ i d \" :  2 4 8 ,  \" c h a r a c t e r \" :  \" s t o c k b r o k e r  i n  s n i p e r s  s c o o p  -  s t o c k  e x c h a n g e  ( u n c r e d i t e d ) \" ,  \" c r e d i t _ i d \" :  \" 5 6 2 8 3 1 4 e c 3 a 3 6 8 4 8 7 d 0 0 0 4 3 e \" ,  \" g e n d e r \" :  2 ,  \" i d \" :  1 5 0 9 0 6 4 ,  \" n a m e \" :  \" m i c h a e l  w r e n  g u c c i a r d o \" ,  \" o r d e r \" :  1 0 1 } ,  { \" c a s t _ i d \" :  2 4 9 ,  \" c h a r a c t e r \" :  \" p r i s o n e r  ( u n c r e d i t e d ) \" ,  \" c r e d i t _ i d \" :  \" 5 6 2 9 1 c 9 8 c 3 a 3 6 8 4 8 7 a 0 0 2 3 d 6 \" ,  \" g e n d e r \" :  2 ,  \" i d \" :  1 5 2 5 3 9 2 ,  \" n a m e \" :  \" s a m  h a r r i s \" ,  \" o r d e r \" :  1 0 2 } ,  { \" c a s t _ i d \" :  2 5 0 ,  \" c h a r a c t e r \" :  \" p o l i c e  o f f i c e r  ( u n c r e d i t e d ) \" ,  \" c r e d i t _ i d \" :  \" 5 6 2 9 1 c d c 9 2 5 1 4 1 4 c c f 0 0 2 7 6 2 \" ,  \" g e n d e r \" :  0 ,  \" i d \" :  1 3 6 5 9 7 6 ,  \" n a m e \" :  \" e d  h e a v e y \" ,  \" o r d e r \" :  1 0 3 } ,  { \" c a s t _ i d \" :  2 5 1 ,  \" c h a r a c t e r \" :  \" g o t h a m  p o l i c e  o f f i c e r  /  f a n  ( u n c r e d i t e d ) \" ,  \" c r e d i t _ i d \" :  \" 5 6 2 9 1 d 5 c c 3 a 3 6 8 4 8 8 c 0 0 2 8 3 0 \" ,  \" g e n d e r \" :  2 ,  \" i d \" :  1 0 9 8 0 3 6 ,  \" n a m e \" :  \" j o h n  w .  i w a n o n k i w \" ,  \" o r d e r \" :  1 0 4 } ,  { \" c a s t _ i d \" :  2 5 2 ,  \" c h a r a c t e r \" :  \" g o r d o n \\' s  c o p  # 4  ( u n c r e d i t e d ) \" ,  \" c r e d i t _ i d \" :  \" 5 6 2 9 1 d e c 9 2 5 1 4 1 4 c d 2 0 0 2 6 d 0 \" ,  \" g e n d e r \" :  0 ,  \" i d \" :  1 3 5 4 4 1 3 ,  \" n a m e \" :  \" c i n d y  j a c k s o n \" ,  \" o r d e r \" :  1 0 5 } ,  { \" c a s t _ i d \" :  2 5 3 ,  \" c h a r a c t e r \" :  \" b o o m  o p e r a t o r  n e w s  c r e w  ( u n c r e d i t e d ) \" ,  \" c r e d i t _ i d \" :  \" 5 6 2 9 1 e c c 9 2 5 1 4 1 4 c d 8 0 0 2 5 1 f \" ,  \" g e n d e r \" :  0 ,  \" i d \" :  1 2 3 8 7 5 ,  \" n a m e \" :  \" d a n i e l  j o r d a n o \" ,  \" o r d e r \" :  1 0 6 } ,  { \" c a s t _ i d \" :  2 5 4 ,  \" c h a r a c t e r \" :  \" g o t h a m i t e  ( u n c r e d i t e d ) \" ,  \" c r e d i t _ i d \" :  \" 5 6 2 9 7 4 c 7 c 3 a 3 6 8 1 b 5 e 0 0 0 6 9 1 \" ,  \" g e n d e r \" :  0 ,  \" i d \" :  1 2 7 0 6 0 ,  \" n a m e \" :  \" w i l l i a m  k a n i a \" ,  \" o r d e r \" :  1 0 7 } ,  { \" c a s t _ i d \" :  2 5 5 ,  \" c h a r a c t e r \" :  \" g o t h a m  r o g u e s  f a n  ( u n c r e d i t e d ) \" ,  \" c r e d i t _ i d \" :  \" 5 6 2 9 7 4 f 3 9 2 5 1 4 1 2 8 5 3 0 0 0 7 0 8 \" ,  \" g e n d e r \" :  0 ,  \" i d \" :  1 3 8 8 2 5 6 ,  \" n a m e \" :  \" t i f f a n y  k e m p \" ,  \" o r d e r \" :  1 0 8 } ,  { \" c a s t _ i d \" :  2 5 6 ,  \" c h a r a c t e r \" :  \" s t o c k  b r o k e r  ( u n c r e d i t e d ) \" ,  \" c r e d i t _ i d \" :  \" 5 6 2 9 7 5 e 8 c 3 a 3 6 8 1 b 4 b 0 0 0 6 7 b \" ,  \" g e n d e r \" :  0 ,  \" i d \" :  1 2 4 1 2 3 9 ,  \" n a m e \" :  \" s u n  j a e  k i m \" ,  \" o r d e r \" :  1 0 9 } ,  { \" c a s t _ i d \" :  2 5 7 ,  \" c h a r a c t e r \" :  \" t h u g  ( u n c r e d i t e d ) \" ,  \" c r e d i t _ i d \" :  \" 5 6 2 9 7 6 2 0 c 3 a 3 6 8 1 b 5 e 0 0 0 6 c 6 \" ,  \" g e n d e r \" :  0 ,  \" i d \" :  1 3 7 8 4 6 6 ,  \" n a m e \" :  \" h r v o j e  k l e c z \" ,  \" o r d e r \" :  1 1 0 } ,  { \" c a s t _ i d \" :  2 5 8 ,  \" c h a r a c t e r \" :  \" w a l l  s t r e e t  b r o k e r  ( u n c r e d i t e d ) \" ,  \" c r e d i t _ i d \" :  \" 5 6 2 9 7 6 8 a 9 2 5 1 4 1 2 8 4 5 0 0 0 6 0 9 \" ,  \" g e n d e r \" :  0 ,  \" i d \" :  1 2 6 4 6 8 6 ,  \" n a m e \" :  \" a l e x  k r u z \" ,  \" o r d e r \" :  1 1 1 } ,  { \" c a s t _ i d \" :  2 5 9 ,  \" c h a r a c t e r \" :  \" g o t h a m  c i t y  p o l i c e  o f f i c e r  ( u n c r e d i t e d ) \" ,  \" c r e d i t _ i d \" :  \" 5 6 2 a 6 f c f 9 2 5 1 4 1 4 a b 7 0 0 0 d 1 1 \" ,  \" g e n d e r \" :  0 ,  \" i d \" :  1 1 6 9 2 9 9 ,  \" n a m e \" :  \" t y l e r  l a  m a r r \" ,  \" o r d e r \" :  1 1 2 } ,  { \" c a s t _ i d \" :  2 6 0 ,  \" c h a r a c t e r \" :  \" t h u g  ( u n c r e d i t e d ) \" ,  \" c r e d i t _ i d \" :  \" 5 6 2 a 7 0 4 6 c 3 a 3 6 8 1 b 5 c 0 0 2 6 9 1 \" ,  \" g e n d e r \" :  2 ,  \" i d \" :  1 2 6 9 6 1 1 ,  \" n a m e \" :  \" l e j o n \" ,  \" o r d e r \" :  1 1 3 } ,  { \" c a s t _ i d \" :  2 6 1 ,  \" c h a r a c t e r \" :  \" g o t h a m  c i t y  p o l i c e  o f f i c e r  ( u n c r e d i t e d ) \" ,  \" c r e d i t _ i d \" :  \" 5 6 2 a 7 0 6 f c 3 a 3 6 8 1 b 6 1 0 0 2 8 d 9 \" ,  \" g e n d e r \" :  0 ,  \" i d \" :  1 4 4 6 4 7 1 ,  \" n a m e \" :  \" p a u l  j u d e  l e t e r s k y \" ,  \" o r d e r \" :  1 1 4 } ,  { \" c a s t _ i d \" :  2 6 2 ,  \" c h a r a c t e r \" :  \" p r i s o n e r  ( u n c r e d i t e d ) \" ,  \" c r e d i t _ i d \" :  \" 5 6 2 a 7 0 e 5 c 3 a 3 6 8 1 b 5 2 0 0 2 7 e 1 \" ,  \" g e n d e r \" :  0 ,  \" i d \" :  1 1 8 8 9 5 0 ,  \" n a m e \" :  \" j o e  l i p a r i \" ,  \" o r d e r \" :  1 1 5 } ,  { \" c a s t _ i d \" :  2 6 3 ,  \" c h a r a c t e r \" :  \" t o u r i s t  ( u n c r e d i t e d ) \" ,  \" c r e d i t _ i d \" :  \" 5 6 2 a 7 1 2 3 c 3 a 3 6 8 1 b 5 9 0 0 2 6 7 c \" ,  \" g e n d e r \" :  0 ,  \" i d \" :  1 3 8 3 0 9 1 ,  \" n a m e \" :  \" s i l v i a  l o m b a r d o \" ,  \" o r d e r \" :  1 1 6 } ,  { \" c a s t _ i d \" :  2 6 4 ,  \" c h a r a c t e r \" :  \" g o t h a m  r o g u e s  f a n  ( u n c r e d i t e d ) \" ,  \" c r e d i t _ i d \" :  \" 5 6 2 a d 1 b d 9 2 5 1 4 1 4 0 0 6 0 0 1 a 3 1 \" ,  \" g e n d e r \" :  0 ,  \" i d \" :  1 4 8 0 1 2 8 ,  \" n a m e \" :  \" j o r g e  m a r d e l \" ,  \" o r d e r \" :  1 1 7 } ,  { \" c a s t _ i d \" :  2 6 5 ,  \" c h a r a c t e r \" :  \" g o t h a m  r o g u e s  f a n  ( u n c r e d i t e d ) \" ,  \" c r e d i t _ i d \" :  \" 5 6 2 a d 2 9 3 9 2 5 1 4 1 2 8 4 a 0 0 3 2 b a \" ,  \" g e n d e r \" :  0 ,  \" i d \" :  1 1 7 4 9 7 0 ,  \" n a m e \" :  \" c a l e  m c c o n n e l l \" ,  \" o r d e r \" :  1 1 8 } ,  { \" c a s t _ i d \" :  2 6 6 ,  \" c h a r a c t e r \" :  \" g o t h a m  c i t y  p o l i c e  o f f i c e r  ( u n c r e d i t e d ) \" ,  \" c r e d i t _ i d \" :  \" 5 6 2 a d 2 c 6 c 3 a 3 6 8 1 b 4 d 0 0 3 b 1 2 \" ,  \" g e n d e r \" :  0 ,  \" i d \" :  1 2 7 0 6 3 ,  \" n a m e \" :  \" d a v i d  d a l e  m c c u e \" ,  \" o r d e r \" :  1 1 9 } ,  { \" c a s t _ i d \" :  2 6 7 ,  \" c h a r a c t e r \" :  \" g o t h a m  r o g u e s  f a n  ( u n c r e d i t e d ) \" ,  \" c r e d i t _ i d \" :  \" 5 6 2 a d 2 f 4 9 2 5 1 4 1 2 8 5 7 0 0 3 2 9 5 \" ,  \" g e n d e r \" :  1 ,  \" i d \" :  1 4 8 0 1 3 0 ,  \" n a m e \" :  \" t i f f a n y  s a n d e r  m c k e n z i e \" ,  \" o r d e r \" :  1 2 0 } ,  { \" c a s t _ i d \" :  2 6 8 ,  \" c h a r a c t e r \" :  \" a n g r y  m o b s t e r  ( u n c r e d i t e d ) \" ,  \" c r e d i t _ i d \" :  \" 5 6 2 a d 3 2 f 9 2 5 1 4 1 2 8 5 3 0 0 3 3 a 7 \" ,  \" g e n d e r \" :  0 ,  \" i d \" :  1 5 0 5 3 0 8 ,  \" n a m e \" :  \" a l l e n  m e r r i t t \" ,  \" o r d e r \" :  1 2 1 } ,  { \" c a s t _ i d \" :  2 6 9 ,  \" c h a r a c t e r \" :  \" w a y n e  e n t e r p r i s e s  s e c u r i t y  ( u n c r e d i t e d ) \" ,  \" c r e d i t _ i d \" :  \" 5 6 2 a d 3 6 a c 3 a 3 6 8 1 b 4 d 0 0 3 b 4 4 \" ,  \" g e n d e r \" :  0 ,  \" i d \" :  1 5 0 9 1 4 8 ,  \" n a m e \" :  \" o l a n  m o n t g o m e r y \" ,  \" o r d e r \" :  1 2 2 } ,  { \" c a s t _ i d \" :  2 7 0 ,  \" c h a r a c t e r \" :  \" m e r c e n a r y  ( u n c r e d i t e d ) \" ,  \" c r e d i t _ i d \" :  \" 5 6 2 a d 3 c d c 3 a 3 6 8 1 b 4 d 0 0 3 b 5 b \" ,  \" g e n d e r \" :  0 ,  \" i d \" :  1 2 2 3 3 9 ,  \" n a m e \" :  \" a l e x  m o o r e \" ,  \" o r d e r \" :  1 2 3 } ,  { \" c a s t _ i d \" :  2 7 1 ,  \" c h a r a c t e r \" :  \" g o t h a m  c i t y  p o l i c e  o f f i c e r  ( u n c r e d i t e d ) \" ,  \" c r e d i t _ i d \" :  \" 5 6 2 b b 8 6 9 9 2 5 1 4 1 2 8 5 3 0 0 5 9 3 8 \" ,  \" g e n d e r \" :  0 ,  \" i d \" :  9 3 7 7 8 ,  \" n a m e \" :  \" s h a n e  n o l a n \" ,  \" o r d e r \" :  1 2 4 } ,  { \" c a s t _ i d \" :  2 7 2 ,  \" c h a r a c t e r \" :  \" p r i s o n e r  /  t h u g  ( u n c r e d i t e d ) \" ,  \" c r e d i t _ i d \" :  \" 5 6 2 b b 8 a 1 c 3 a 3 6 8 1 b 5 4 0 0 5 6 1 6 \" ,  \" g e n d e r \" :  0 ,  \" i d \" :  1 2 0 5 7 4 9 ,  \" n a m e \" :  \" j a c k s o n  n u n n \" ,  \" o r d e r \" :  1 2 5 } ,  { \" c a s t _ i d \" :  2 7 3 ,  \" c h a r a c t e r \" :  \" g o t h a m  c i t y  n e w s  c a m e r a m a n  ( u n c r e d i t e d ) \" ,  \" c r e d i t _ i d \" :  \" 5 6 2 b b 8 e 1 c 3 a 3 6 8 1 b 5 2 0 0 5 1 e f \" ,  \" g e n d e r \" :  0 ,  \" i d \" :  1 4 8 0 1 5 0 ,  \" n a m e \" :  \" j o s e p h  o \\' b r i e n \" ,  \" o r d e r \" :  1 2 6 } ,  { \" c a s t _ i d \" :  2 7 4 ,  \" c h a r a c t e r \" :  \" p r i s o n  g u a r d  ( u n c r e d i t e d ) \" ,  \" c r e d i t _ i d \" :  \" 5 6 2 d 1 d 8 d 9 2 5 1 4 1 4 a d 8 0 0 6 6 d 8 \" ,  \" g e n d e r \" :  2 ,  \" i d \" :  2 0 5 8 2 ,  \" n a m e \" :  \" m i c h a e l  p a p a j o h n \" ,  \" o r d e r \" :  1 2 7 } ,  { \" c a s t _ i d \" :  2 7 5 ,  \" c h a r a c t e r \" :  \" p r i s o n e r  /  m o b  ( u n c r e d i t e d ) \" ,  \" c r e d i t _ i d \" :  \" 5 6 2 d 1 d a f c 3 a 3 6 8 1 b 4 b 0 0 7 b f 8 \" ,  \" g e n d e r \" :  0 ,  \" i d \" :  1 2 9 8 0 1 4 ,  \" n a m e \" :  \" s a l o m o n  p a s s a r i e l l o \" ,  \" o r d e r \" :  1 2 8 } ,  { \" c a s t _ i d \" :  2 7 6 ,  \" c h a r a c t e r \" :  \" g o t h a m  s t o c k  t r a d e r  ( u n c r e d i t e d ) \" ,  \" c r e d i t _ i d \" :  \" 5 6 2 d 1 f 0 5 9 2 5 1 4 1 2 8 5 3 0 0 8 8 c 1 \" ,  \" g e n d e r \" :  0 ,  \" i d \" :  1 4 2 9 6 5 0 ,  \" n a m e \" :  \" k y l e  d a v i d  p i e r c e \" ,  \" o r d e r \" :  1 2 9 } ,  { \" c a s t _ i d \" :  2 7 7 ,  \" c h a r a c t e r \" :  \" g o t h a m  r o g u e s  p l a y e r  ( u n c r e d i t e d ) \" ,  \" c r e d i t _ i d \" :  \" 5 6 2 d 1 f 3 c 9 2 5 1 4 1 2 8 4 5 0 0 7 b 7 b \" ,  \" g e n d e r \" :  0 ,  \" i d \" :  1 3 4 9 6 0 0 ,  \" n a m e \" :  \" t r o y  p o l a m a l u \" ,  \" o r d e r \" :  1 3 0 } ,  { \" c a s t _ i d \" :  2 7 8 ,  \" c h a r a c t e r \" :  \" g o t h a m  p o l i c e  o f f i c e r  ( u n c r e d i t e d ) \" ,  \" c r e d i t _ i d \" :  \" 5 6 2 d 1 f c 8 9 2 5 1 4 1 2 8 5 7 0 0 7 f d 5 \" ,  \" g e n d e r \" :  0 ,  \" i d \" :  1 0 6 6 1 3 8 ,  \" n a m e \" :  \" m i c h a e l  p o w e r \" ,  \" o r d e r \" :  1 3 1 } ,  { \" c a s t _ i d \" :  2 7 9 ,  \" c h a r a c t e r \" :  \" t h u g  ( u n c r e d i t e d ) \" ,  \" c r e d i t _ i d \" :  \" 5 6 2 e 6 8 b 8 9 2 5 1 4 1 4 0 0 6 0 0 9 7 f 1 \" ,  \" g e n d e r \" :  0 ,  \" i d \" :  5 6 5 5 0 8 ,  \" n a m e \" :  \" j a m e s  r a w l i n g s \" ,  \" o r d e r \" :  1 3 2 } ,  { \" c a s t _ i d \" :  2 8 0 ,  \" c h a r a c t e r \" :  \" d o r i s  i n  b l a c k  ( u n c r e d i t e d ) \" ,  \" c r e d i t _ i d \" :  \" 5 6 2 e 6 9 6 e 9 2 5 1 4 1 0 a 2 2 0 0 6 d a 5 \" ,  \" g e n d e r \" :  0 ,  \" i d \" :  1 5 1 3 7 1 6 ,  \" n a m e \" :  \" k i r s t e n  r o e t e r s \" ,  \" o r d e r \" :  1 3 3 } ,  { \" c a s t _ i d \" :  2 8 1 ,  \" c h a r a c t e r \" :  \" g o t h a m  r o g u e s  p l a y e r  ( u n c r e d i t e d ) \" ,  \" c r e d i t _ i d \" :  \" 5 6 2 e 6 9 a 7 9 2 5 1 4 1 4 0 0 6 0 0 9 8 1 4 \" ,  \" g e n d e r \" :  0 ,  \" i d \" :  1 2 1 5 3 1 4 ,  \" n a m e \" :  \" b e n  r o e t h l i s b e r g e r \" ,  \" o r d e r \" :  1 3 4 } ,  { \" c a s t _ i d \" :  2 8 2 ,  \" c h a r a c t e r \" :  \" g o t h a m  p o l i c e  o f f i c e r  ( u n c r e d i t e d ) \" ,  \" c r e d i t _ i d \" :  \" 5 6 2 e 6 a 0 5 9 2 5 1 4 1 0 a 2 2 0 0 6 d b a \" ,  \" g e n d e r \" :  2 ,  \" i d \" :  1 4 5 2 9 5 4 ,  \" n a m e \" :  \" m a r k  r o m a n \" ,  \" o r d e r \" :  1 3 5 } ,  { \" c a s t _ i d \" :  2 8 3 ,  \" c h a r a c t e r \" :  \" t h u g  ( u n c r e d i t e d ) \" ,  \" c r e d i t _ i d \" :  \" 5 6 2 e d 4 9 1 9 2 5 1 4 1 0 a 2 2 0 0 7 a a b \" ,  \" g e n d e r \" :  2 ,  \" i d \" :  1 4 5 1 6 1 8 ,  \" n a m e \" :  \" a n t h o n y  j .  s a c c o \" ,  \" o r d e r \" :  1 3 6 } ,  { \" c a s t _ i d \" :  2 8 4 ,  \" c h a r a c t e r \" :  \" a n g r y  t h u g  ( u n c r e d i t e d ) \" ,  \" c r e d i t _ i d \" :  \" 5 6 2 e d 4 c 7 c 3 a 3 6 8 1 b 6 1 0 0 c 5 a a \" ,  \" g e n d e r \" :  0 ,  \" i d \" :  1 0 8 5 7 3 0 ,  \" n a m e \" :  \" e r i c  s a l a z a r \" ,  \" o r d e r \" :  1 3 7 } ,  { \" c a s t _ i d \" :  2 8 5 ,  \" c h a r a c t e r \" :  \" h o t  f o o t b a l l  f a n  ( u n c r e d i t e d ) \" ,  \" c r e d i t _ i d \" :  \" 5 6 2 e d 5 0 3 c 3 a 3 6 8 1 b 5 c 0 0 b e d 4 \" ,  \" g e n d e r \" :  0 ,  \" i d \" :  5 5 7 2 0 2 ,  \" n a m e \" :  \" e m i l y  s c h o o l e y \" ,  \" o r d e r \" :  1 3 8 } ,  { \" c a s t _ i d \" :  2 8 6 ,  \" c h a r a c t e r \" :  \" g o t h a m  r o g u e s  o w n e r  ( u n c r e d i t e d ) \" ,  \" c r e d i t _ i d \" :  \" 5 6 2 f b f 7 5 c 3 a 3 6 8 1 b 5 c 0 0 d c 2 a \" ,  \" g e n d e r \" :  0 ,  \" i d \" :  5 4 2 1 1 ,  \" n a m e \" :  \" t h o m a s  t u l l \" ,  \" o r d e r \" :  1 3 9 } ,  { \" c a s t _ i d \" :  2 8 7 ,  \" c h a r a c t e r \" :  \" t h u g  ( u n c r e d i t e d ) \" ,  \" c r e d i t _ i d \" :  \" 5 6 2 f b f d 3 c 3 a 3 6 8 1 b 6 1 0 0 e 4 f 0 \" ,  \" g e n d e r \" :  2 ,  \" i d \" :  1 4 8 0 2 2 3 ,  \" n a m e \" :  \" c h r i s  v a i n a \" ,  \" o r d e r \" :  1 4 0 } ,  { \" c a s t _ i d \" :  2 8 8 ,  \" c h a r a c t e r \" :  \" p r i s o n e r  ( v o i c e )  ( u n c r e d i t e d ) \" ,  \" c r e d i t _ i d \" :  \" 5 6 2 f b f f 6 9 2 5 1 4 1 4 a b 7 0 0 b e e e \" ,  \" g e n d e r \" :  0 ,  \" i d \" :  1 0 2 5 1 6 ,  \" n a m e \" :  \" v i n c e n t  v a n  o m m e n \" ,  \" o r d e r \" :  1 4 1 } ,  { \" c a s t _ i d \" :  2 8 9 ,  \" c h a r a c t e r \" :  \" g o t h a m  c i t y  p r e s s  ( u n c r e d i t e d ) \" ,  \" c r e d i t _ i d \" :  \" 5 6 2 f c 0 6 0 9 2 5 1 4 1 4 a b 7 0 0 b f 0 2 \" ,  \" g e n d e r \" :  0 ,  \" i d \" :  1 2 0 5 7 5 1 ,  \" n a m e \" :  \" m i c h e l l e  v e z z a n i \" ,  \" o r d e r \" :  1 4 2 } ,  { \" c a s t _ i d \" :  2 9 0 ,  \" c h a r a c t e r \" :  \" g o t h a m  r o g u e s  f a n  ( u n c r e d i t e d ) \" ,  \" c r e d i t _ i d \" :  \" 5 6 2 f c 0 a f 9 2 5 1 4 1 2 8 5 7 0 0 d 7 8 0 \" ,  \" g e n d e r \" :  0 ,  \" i d \" :  1 2 0 5 6 2 3 ,  \" n a m e \" :  \" b a r b a r a  v i n c e n t \" ,  \" o r d e r \" :  1 4 3 } ,  { \" c a s t _ i d \" :  2 9 1 ,  \" c h a r a c t e r \" :  \" g o t h a m  c i t y  p o l i c e  o f f i c e r  ( u n c r e d i t e d ) \" ,  \" c r e d i t _ i d \" :  \" 5 6 3 0 2 4 4 b c 3 a 3 6 8 1 b 5 2 0 0 e 6 6 3 \" ,  \" g e n d e r \" :  0 ,  \" i d \" :  1 5 2 1 8 7 2 ,  \" n a m e \" :  \" j u s t i n  m i c h a e l  w o o d s \" ,  \" o r d e r \" :  1 4 4 } ,  { \" c a s t _ i d \" :  2 9 2 ,  \" c h a r a c t e r \" :  \" m e r c e n a r y  s o l d i e r  ( u n c r e d i t e d ) \" ,  \" c r e d i t _ i d \" :  \" 5 6 3 0 2 4 8 e 9 2 5 1 4 1 2 8 4 c 0 0 e 8 a f \" ,  \" g e n d e r \" :  0 ,  \" i d \" :  3 0 6 8 7 0 ,  \" n a m e \" :  \" j a s o n  y e e \" ,  \" o r d e r \" :  1 4 5 } ,  { \" c a s t _ i d \" :  2 9 3 ,  \" c h a r a c t e r \" :  \" g o t h a m  c i t i z e n  ( u n c r e d i t e d ) \" ,  \" c r e d i t _ i d \" :  \" 5 6 3 0 2 4 f 6 c 3 a 3 6 8 1 b 5 c 0 0 e 7 4 6 \" ,  \" g e n d e r \" :  1 ,  \" i d \" :  1 2 0 5 1 4 1 ,  \" n a m e \" :  \" m a r i a  z a m b r a n a \" ,  \" o r d e r \" :  1 4 6 } ,  { \" c a s t _ i d \" :  2 9 4 ,  \" c h a r a c t e r \" :  \" g o t h a m  c i t y  p o l i c e  o f f i c e r  ( u n c r e d i t e d ) \" ,  \" c r e d i t _ i d \" :  \" 5 6 3 0 2 5 5 8 9 2 5 1 4 1 2 8 4 c 0 0 e 8 c 9 \" ,  \" g e n d e r \" :  0 ,  \" i d \" :  1 3 4 3 7 4 6 ,  \" n a m e \" :  \" j o h n  z i o n \" ,  \" o r d e r \" :  1 4 7 } ,  { \" c a s t _ i d \" :  2 9 5 ,  \" c h a r a c t e r \" :  \" t h u g  ( u n c r e d i t e d ) \" ,  \" c r e d i t _ i d \" :  \" 5 6 3 0 2 5 8 6 c 3 a 3 6 8 1 b 4 d 0 1 0 1 a 4 \" ,  \" g e n d e r \" :  2 ,  \" i d \" :  1 4 5 4 3 2 2 ,  \" n a m e \" :  \" a l e x  z i w a k \" ,  \" o r d e r \" :  1 4 8 } ,  { \" c a s t _ i d \" :  3 1 2 ,  \" c h a r a c t e r \" :  \" g o t h a m  c i t y  p o l i c e  o f f i c e r  ( u n c r e d i t e d ) \" ,  \" c r e d i t _ i d \" :  \" 5 6 7 b 4 b 6 a c 3 a 3 6 8 4 b c c 0 0 1 3 2 5 \" ,  \" g e n d e r \" :  2 ,  \" i d \" :  1 5 5 3 0 5 3 ,  \" n a m e \" :  \" t o m m y  b a y i o k o s \" ,  \" o r d e r \" :  1 4 9 } ,  { \" c a s t _ i d \" :  3 1 3 ,  \" c h a r a c t e r \" :  \" f o o t b a l l  f a n  ( u n c r e d i t e d ) \" ,  \" c r e d i t _ i d \" :  \" 5 6 7 c 3 7 8 3 c 3 a 3 6 8 6 0 e 9 0 0 1 3 c 3 \" ,  \" g e n d e r \" :  0 ,  \" i d \" :  1 5 5 3 3 0 7 ,  \" n a m e \" :  \" m a t t h e w  g o o l e y \" ,  \" o r d e r \" :  1 5 0 } ,  { \" c a s t _ i d \" :  3 1 4 ,  \" c h a r a c t e r \" :  \" c o p  ( u n c r e d i t e d ) \" ,  \" c r e d i t _ i d \" :  \" 5 6 7 c 9 d 3 d 9 2 5 1 4 1 7 d d d 0 0 5 0 f c \" ,  \" g e n d e r \" :  0 ,  \" i d \" :  1 5 5 3 3 7 7 ,  \" n a m e \" :  \" j e f f  m o f f i t t \" ,  \" o r d e r \" :  1 5 1 } ,  { \" c a s t _ i d \" :  3 5 0 ,  \" c h a r a c t e r \" :  \" f o o t b a l l  f a n  ( u n c r e d i t e d ) \" ,  \" c r e d i t _ i d \" :  \" 5 6 b a 2 8 4 3 c 3 a 3 6 8 7 c 9 e 0 0 0 0 8 d \" ,  \" g e n d e r \" :  0 ,  \" i d \" :  1 5 7 4 9 3 6 ,  \" n a m e \" :  \" m a r k  f a l v o \" ,  \" o r d e r \" :  1 5 2 } ,  { \" c a s t _ i d \" :  3 5 2 ,  \" c h a r a c t e r \" :  \" t h u g  ( u n c r e d i t e d ) \" ,  \" c r e d i t _ i d \" :  \" 5 6 b e 2 7 1 e 9 2 5 1 4 1 7 3 4 4 0 0 4 1 9 5 \" ,  \" g e n d e r \" :  0 ,  \" i d \" :  1 5 7 6 4 2 1 ,  \" n a m e \" :  \" d i o g o  h a u s e n \" ,  \" o r d e r \" :  1 5 3 } ,  { \" c a s t _ i d \" :  3 5 5 ,  \" c h a r a c t e r \" :  \" p r i s o n e r  ( u n c r e d i t e d ) \" ,  \" c r e d i t _ i d \" :  \" 5 6 c 8 a c a 1 9 2 5 1 4 1 1 7 2 f 0 0 3 8 2 b \" ,  \" g e n d e r \" :  2 ,  \" i d \" :  1 5 8 0 5 7 4 ,  \" n a m e \" :  \" g a r y  s i e v e r s \" ,  \" o r d e r \" :  1 5 4 } ,  { \" c a s t _ i d \" :  3 5 6 ,  \" c h a r a c t e r \" :  \" m e r c e n a r y  ( u n c r e d i t e d ) \" ,  \" c r e d i t _ i d \" :  \" 5 6 d 0 f b 3 d 9 2 5 1 4 1 7 9 9 e 0 0 4 a c 6 \" ,  \" g e n d e r \" :  0 ,  \" i d \" :  1 5 8 3 3 8 9 ,  \" n a m e \" :  \" o r i o n  m c c a b e \" ,  \" o r d e r \" :  1 5 5 } ,  { \" c a s t _ i d \" :  3 6 8 ,  \" c h a r a c t e r \" :  \" c o u r t  r o o m  t h u g  ( u n c r e d i t e d ) \" ,  \" c r e d i t _ i d \" :  \" 5 7 5 a f 4 8 c c 3 a 3 6 8 5 4 0 3 0 0 0 0 9 a \" ,  \" g e n d e r \" :  2 ,  \" i d \" :  1 6 3 3 5 1 4 ,  \" n a m e \" :  \" l o n d o n  m a y \" ,  \" o r d e r \" :  1 5 6 } ,  { \" c a s t _ i d \" :  3 8 3 ,  \" c h a r a c t e r \" :  \" g o t h a m i t e  ( u n c r e d i t e d ) \" ,  \" c r e d i t _ i d \" :  \" 5 7 c 8 4 c a 8 9 2 5 1 4 1 5 a 1 3 0 0 0 1 0 2 \" ,  \" g e n d e r \" :  2 ,  \" i d \" :  1 6 7 3 0 3 6 ,  \" n a m e \" :  \" j a m e s  q u i n n \" ,  \" o r d e r \" :  1 5 7 } ,  { \" c a s t _ i d \" :  3 8 5 ,  \" c h a r a c t e r \" :  \" t h u g  # 2  i n  b a s e m e n t \" ,  \" c r e d i t _ i d \" :  \" 5 9 3 0 9 c 4 5 c 3 a 3 6 8 6 a 7 0 0 0 0 4 5 8 \" ,  \" g e n d e r \" :  2 ,  \" i d \" :  1 5 3 6 6 7 0 ,  \" n a m e \" :  \" d a n i e l  n e w m a n \" ,  \" o r d e r \" :  1 5 8 } ] [ { \" c r e d i t _ i d \" :  \" 5 2 f e 4 7 8 1 c 3 a 3 6 8 4 7 f 8 1 3 9 8 c 3 \" ,  \" d e p a r t m e n t \" :  \" s o u n d \" ,  \" g e n d e r \" :  2 ,  \" i d \" :  9 4 7 ,  \" j o b \" :  \" o r i g i n a l  m u s i c  c o m p o s e r \" ,  \" n a m e \" :  \" h a n s  z i m m e r \" } ,  { \" c r e d i t _ i d \" :  \" 5 2 f e 4 7 8 1 c 3 a 3 6 8 4 7 f 8 1 3 9 8 9 9 \" ,  \" d e p a r t m e n t \" :  \" p r o d u c t i o n \" ,  \" g e n d e r \" :  0 ,  \" i d \" :  2 8 2 ,  \" j o b \" :  \" p r o d u c e r \" ,  \" n a m e \" :  \" c h a r l e s  r o v e n \" } ,  { \" c r e d i t _ i d \" :  \" 5 2 f e 4 7 8 1 c 3 a 3 6 8 4 7 f 8 1 3 9 9 1 b \" ,  \" d e p a r t m e n t \" :  \" w r i t i n g \" ,  \" g e n d e r \" :  2 ,  \" i d \" :  5 2 5 ,  \" j o b \" :  \" s c r e e n p l a y \" ,  \" n a m e \" :  \" c h r i s t o p h e r  n o l a n \" } ,  { \" c r e d i t _ i d \" :  \" 5 2 f e 4 7 8 1 c 3 a 3 6 8 4 7 f 8 1 3 9 8 6 5 \" ,  \" d e p a r t m e n t \" :  \" d i r e c t i n g \" ,  \" g e n d e r \" :  2 ,  \" i d \" :  5 2 5 ,  \" j o b \" :  \" d i r e c t o r \" ,  \" n a m e \" :  \" c h r i s t o p h e r  n o l a n \" } ,  { \" c r e d i t _ i d \" :  \" 5 2 f e 4 7 8 1 c 3 a 3 6 8 4 7 f 8 1 3 9 8 9 3 \" ,  \" d e p a r t m e n t \" :  \" p r o d u c t i o n \" ,  \" g e n d e r \" :  2 ,  \" i d \" :  5 2 5 ,  \" j o b \" :  \" p r o d u c e r \" ,  \" n a m e \" :  \" c h r i s t o p h e r  n o l a n \" } ,  { \" c r e d i t _ i d \" :  \" 5 2 f e 4 7 8 1 c 3 a 3 6 8 4 7 f 8 1 3 9 9 1 5 \" ,  \" d e p a r t m e n t \" :  \" w r i t i n g \" ,  \" g e n d e r \" :  2 ,  \" i d \" :  5 2 5 ,  \" j o b \" :  \" s t o r y \" ,  \" n a m e \" :  \" c h r i s t o p h e r  n o l a n \" } ,  { \" c r e d i t _ i d \" :  \" 5 2 f e 4 7 8 1 c 3 a 3 6 8 4 7 f 8 1 3 9 9 0 f \" ,  \" d e p a r t m e n t \" :  \" w r i t i n g \" ,  \" g e n d e r \" :  2 ,  \" i d \" :  5 2 7 ,  \" j o b \" :  \" s c r e e n p l a y \" ,  \" n a m e \" :  \" j o n a t h a n  n o l a n \" } ,  { \" c r e d i t _ i d \" :  \" 5 2 f e 4 7 8 1 c 3 a 3 6 8 4 7 f 8 1 3 9 8 9 f \" ,  \" d e p a r t m e n t \" :  \" p r o d u c t i o n \" ,  \" g e n d e r \" :  1 ,  \" i d \" :  5 5 6 ,  \" j o b \" :  \" p r o d u c e r \" ,  \" n a m e \" :  \" e m m a  t h o m a s \" } ,  { \" c r e d i t _ i d \" :  \" 5 2 f e 4 7 8 1 c 3 a 3 6 8 4 7 f 8 1 3 9 8 c 9 \" ,  \" d e p a r t m e n t \" :  \" c a m e r a \" ,  \" g e n d e r \" :  2 ,  \" i d \" :  5 5 9 ,  \" j o b \" :  \" d i r e c t o r  o f  p h o t o g r a p h y \" ,  \" n a m e \" :  \" w a l l y  p f i s t e r \" } ,  { \" c r e d i t _ i d \" :  \" 5 4 c 3 7 7 8 8 c 3 a 3 6 8 1 4 2 1 0 1 1 a 0 7 \" ,  \" d e p a r t m e n t \" :  \" c a m e r a \" ,  \" g e n d e r \" :  2 ,  \" i d \" :  5 5 9 ,  \" j o b \" :  \" c a m e r a  o p e r a t o r \" ,  \" n a m e \" :  \" w a l l y  p f i s t e r \" } ,  { \" c r e d i t _ i d \" :  \" 5 2 f e 4 7 8 1 c 3 a 3 6 8 4 7 f 8 1 3 9 8 d 5 \" ,  \" d e p a r t m e n t \" :  \" p r o d u c t i o n \" ,  \" g e n d e r \" :  0 ,  \" i d \" :  5 6 1 ,  \" j o b \" :  \" c a s t i n g \" ,  \" n a m e \" :  \" j o h n  p a p s i d e r a \" } ,  { \" c r e d i t _ i d \" :  \" 5 2 f e 4 7 8 1 c 3 a 3 6 8 4 7 f 8 1 3 9 9 2 1 \" ,  \" d e p a r t m e n t \" :  \" w r i t i n g \" ,  \" g e n d e r \" :  2 ,  \" i d \" :  3 8 9 3 ,  \" j o b \" :  \" s t o r y \" ,  \" n a m e \" :  \" d a v i d  s .  g o y e r \" } ,  { \" c r e d i t _ i d \" :  \" 5 2 f e 4 7 8 1 c 3 a 3 6 8 4 7 f 8 1 3 9 8 a 5 \" ,  \" d e p a r t m e n t \" :  \" w r i t i n g \" ,  \" g e n d e r \" :  2 ,  \" i d \" :  3 7 9 4 ,  \" j o b \" :  \" c h a r a c t e r s \" ,  \" n a m e \" :  \" b o b  k a n e \" } ,  { \" c r e d i t _ i d \" :  \" 5 2 f e 4 7 8 1 c 3 a 3 6 8 4 7 f 8 1 3 9 8 c f \" ,  \" d e p a r t m e n t \" :  \" e d i t i n g \" ,  \" g e n d e r \" :  0 ,  \" i d \" :  3 9 0 4 ,  \" j o b \" :  \" e d i t o r \" ,  \" n a m e \" :  \" l e e  s m i t h \" } ,  { \" c r e d i t _ i d \" :  \" 5 2 f e 4 7 8 1 c 3 a 3 6 8 4 7 f 8 1 3 9 8 b d \" ,  \" d e p a r t m e n t \" :  \" p r o d u c t i o n \" ,  \" g e n d e r \" :  2 ,  \" i d \" :  1 0 9 4 9 ,  \" j o b \" :  \" e x e c u t i v e  p r o d u c e r \" ,  \" n a m e \" :  \" m i c h a e l  u s l a n \" } ,  { \" c r e d i t _ i d \" :  \" 5 2 f e 4 7 8 1 c 3 a 3 6 8 4 7 f 8 1 3 9 8 b 1 \" ,  \" d e p a r t m e n t \" :  \" p r o d u c t i o n \" ,  \" g e n d e r \" :  2 ,  \" i d \" :  1 0 9 5 1 ,  \" j o b \" :  \" e x e c u t i v e  p r o d u c e r \" ,  \" n a m e \" :  \" b e n j a m i n  m e l n i k e r \" } ,  { \" c r e d i t _ i d \" :  \" 5 6 4 e 1 b e 9 9 2 5 1 4 1 4 a f 7 0 0 0 2 6 9 \" ,  \" d e p a r t m e n t \" :  \" c r e w \" ,  \" g e n d e r \" :  2 ,  \" i d \" :  9 5 6 8 ,  \" j o b \" :  \" s t u n t s \" ,  \" n a m e \" :  \" j i m  p a l m e r \" } ,  { \" c r e d i t _ i d \" :  \" 5 4 c 2 2 4 c e c 3 a 3 6 8 7 9 2 c 0 0 3 2 2 f \" ,  \" d e p a r t m e n t \" :  \" c o s t u m e  &  m a k e - u p \" ,  \" g e n d e r \" :  0 ,  \" i d \" :  9 9 9 1 ,  \" j o b \" :  \" m a k e u p  a r t i s t \" ,  \" n a m e \" :  \" k a r e n  b l y n d e r \" } ,  { \" c r e d i t _ i d \" :  \" 5 2 f e 4 7 8 1 c 3 a 3 6 8 4 7 f 8 1 3 9 8 f 9 \" ,  \" d e p a r t m e n t \" :  \" c o s t u m e  &  m a k e - u p \" ,  \" g e n d e r \" :  1 ,  \" i d \" :  1 0 7 1 4 ,  \" j o b \" :  \" c o s t u m e  d e s i g n \" ,  \" n a m e \" :  \" l i n d y  h e m m i n g \" } ,  { \" c r e d i t _ i d \" :  \" 5 2 f e 4 7 8 1 c 3 a 3 6 8 4 7 f 8 1 3 9 8 f 3 \" ,  \" d e p a r t m e n t \" :  \" a r t \" ,  \" g e n d e r \" :  0 ,  \" i d \" :  1 2 0 3 9 ,  \" j o b \" :  \" s e t  d e c o r a t i o n \" ,  \" n a m e \" :  \" p a k i  s m i t h \" } ,  { \" c r e d i t _ i d \" :  \" 5 2 f e 4 7 8 1 c 3 a 3 6 8 4 7 f 8 1 3 9 9 0 5 \" ,  \" d e p a r t m e n t \" :  \" a r t \" ,  \" g e n d e r \" :  2 ,  \" i d \" :  1 4 7 6 2 ,  \" j o b \" :  \" a r t  d i r e c t i o n \" ,  \" n a m e \" :  \" r o b e r t  w o o d r u f f \" } ,  { \" c r e d i t _ i d \" :  \" 5 2 f e 4 7 8 1 c 3 a 3 6 8 4 7 f 8 1 3 9 8 e 1 \" ,  \" d e p a r t m e n t \" :  \" a r t \" ,  \" g e n d e r \" :  2 ,  \" i d \" :  1 5 3 2 7 ,  \" j o b \" :  \" p r o d u c t i o n  d e s i g n \" ,  \" n a m e \" :  \" n a t h a n  c r o w l e y \" } ,  { \" c r e d i t _ i d \" :  \" 5 2 f e 4 7 8 1 c 3 a 3 6 8 4 7 f 8 1 3 9 8 e 7 \" ,  \" d e p a r t m e n t \" :  \" a r t \" ,  \" g e n d e r \" :  0 ,  \" i d \" :  1 5 3 2 8 ,  \" j o b \" :  \" p r o d u c t i o n  d e s i g n \" ,  \" n a m e \" :  \" k e v i n  k a v a n a u g h \" } ,  { \" c r e d i t _ i d \" :  \" 5 7 0 b 9 1 d 2 9 2 5 1 4 1 5 2 4 8 0 0 1 7 3 6 \" ,  \" d e p a r t m e n t \" :  \" a r t \" ,  \" g e n d e r \" :  0 ,  \" i d \" :  1 7 6 7 7 ,  \" j o b \" :  \" s u p e r v i s i n g  a r t  d i r e c t o r \" ,  \" n a m e \" :  \" n a a m a n  m a r s h a l l \" } ,  { \" c r e d i t _ i d \" :  \" 5 7 c 4 6 7 8 f 9 2 5 1 4 1 0 5 d b 0 0 4 6 d 4 \" ,  \" d e p a r t m e n t \" :  \" l i g h t i n g \" ,  \" g e n d e r \" :  0 ,  \" i d \" :  3 5 6 3 0 ,  \" j o b \" :  \" e l e c t r i c i a n \" ,  \" n a m e \" :  \" t i m o t h y  h e a l y \" } ,  { \" c r e d i t _ i d \" :  \" 5 7 4 5 d 3 6 e 9 2 5 1 4 1 2 9 a 0 0 0 2 e 7 c \" ,  \" d e p a r t m e n t \" :  \" l i g h t i n g \" ,  \" g e n d e r \" :  0 ,  \" i d \" :  4 0 1 2 0 ,  \" j o b \" :  \" r i g g i n g  g r i p \" ,  \" n a m e \" :  \" b r i a n  \\' b u z z \\'  b u z z e l l i \" } ,  { \" c r e d i t _ i d \" :  \" 5 4 c 2 7 3 2 b 9 2 5 1 4 1 6 e a e 0 0 c a b 6 \" ,  \" d e p a r t m e n t \" :  \" s o u n d \" ,  \" g e n d e r \" :  2 ,  \" i d \" :  5 2 1 9 3 ,  \" j o b \" :  \" a d r  &  d u b b i n g \" ,  \" n a m e \" :  \" r . j .  k i z e r \" } ,  { \" c r e d i t _ i d \" :  \" 5 2 f e 4 7 8 1 c 3 a 3 6 8 4 7 f 8 1 3 9 8 b 7 \" ,  \" d e p a r t m e n t \" :  \" p r o d u c t i o n \" ,  \" g e n d e r \" :  0 ,  \" i d \" :  5 4 2 1 1 ,  \" j o b \" :  \" e x e c u t i v e  p r o d u c e r \" ,  \" n a m e \" :  \" t h o m a s  t u l l \" } ,  { \" c r e d i t _ i d \" :  \" 5 6 a a 5 5 a 0 9 2 5 1 4 1 5 9 a 5 0 0 1 c f 3 \" ,  \" d e p a r t m e n t \" :  \" c r e w \" ,  \" g e n d e r \" :  2 ,  \" i d \" :  5 7 5 6 9 ,  \" j o b \" :  \" s t u n t s \" ,  \" n a m e \" :  \" l e e  s h e w a r d \" } ,  { \" c r e d i t _ i d \" :  \" 5 6 8 1 7 f 9 1 9 2 5 1 4 1 7 d e f 0 1 1 8 c 9 \" ,  \" d e p a r t m e n t \" :  \" c r e w \" ,  \" g e n d e r \" :  0 ,  \" i d \" :  6 1 3 2 9 ,  \" j o b \" :  \" s t u n t s \" ,  \" n a m e \" :  \" d e c l a n  m u l v e y \" } ,  { \" c r e d i t _ i d \" :  \" 5 2 f e 4 7 8 1 c 3 a 3 6 8 4 7 f 8 1 3 9 8 f f \" ,  \" d e p a r t m e n t \" :  \" a r t \" ,  \" g e n d e r \" :  0 ,  \" i d \" :  6 2 5 6 0 ,  \" j o b \" :  \" a r t  d i r e c t i o n \" ,  \" n a m e \" :  \" g e r a l d  s u l l i v a n \" } ,  { \" c r e d i t _ i d \" :  \" 5 4 c 2 2 3 4 d 9 2 5 1 4 1 3 1 5 a 0 0 5 b 6 b \" ,  \" d e p a r t m e n t \" :  \" a r t \" ,  \" g e n d e r \" :  0 ,  \" i d \" :  3 1 1 7 2 ,  \" j o b \" :  \" a r t  d i r e c t i o n \" ,  \" n a m e \" :  \" z a c k  g r o b l e r \" } ,  { \" c r e d i t _ i d \" :  \" 5 7 9 d 0 1 9 1 c 3 a 3 6 8 2 8 b 1 0 0 1 3 0 b \" ,  \" d e p a r t m e n t \" :  \" s o u n d \" ,  \" g e n d e r \" :  0 ,  \" i d \" :  6 8 0 1 6 ,  \" j o b \" :  \" o r c h e s t r a t o r \" ,  \" n a m e \" :  \" k e v i n  k a s k a \" } ,  { \" c r e d i t _ i d \" :  \" 5 6 d 9 d 2 c 9 9 2 5 1 4 1 3 4 0 2 0 1 f 6 e d \" ,  \" d e p a r t m e n t \" :  \" c r e w \" ,  \" g e n d e r \" :  2 ,  \" i d \" :  8 1 6 8 7 ,  \" j o b \" :  \" s t u n t s \" ,  \" n a m e \" :  \" r i c k  a v e r y \" } ,  { \" c r e d i t _ i d \" :  \" 5 2 f e 4 7 8 1 c 3 a 3 6 8 4 7 f 8 1 3 9 8 a b \" ,  \" d e p a r t m e n t \" :  \" p r o d u c t i o n \" ,  \" g e n d e r \" :  2 ,  \" i d \" :  7 5 8 0 4 ,  \" j o b \" :  \" e x e c u t i v e  p r o d u c e r \" ,  \" n a m e \" :  \" k e v i n  d e  l a  n o y \" } ,  { \" c r e d i t _ i d \" :  \" 5 7 6 6 c b 1 2 9 2 5 1 4 1 1 3 2 3 0 0 0 0 3 1 \" ,  \" d e p a r t m e n t \" :  \" p r o d u c t i o n \" ,  \" g e n d e r \" :  0 ,  \" i d \" :  1 1 3 9 1 3 ,  \" j o b \" :  \" c o - p r o d u c e r \" ,  \" n a m e \" :  \" j o r d a n  g o l d b e r g \" } ,  { \" c r e d i t _ i d \" :  \" 5 4 c 2 2 7 c 2 c 3 a 3 6 8 6 c 6 1 0 1 2 8 2 0 \" ,  \" d e p a r t m e n t \" :  \" p r o d u c t i o n \" ,  \" g e n d e r \" :  0 ,  \" i d \" :  1 1 4 0 1 7 ,  \" j o b \" :  \" p r o d u c t i o n  m a n a g e r \" ,  \" n a m e \" :  \" k a r l  m c m i l l a n \" } ,  { \" c r e d i t _ i d \" :  \" 5 4 c 3 7 5 f 6 c 3 a 3 6 8 3 3 3 8 0 0 1 0 e 1 \" ,  \" d e p a r t m e n t \" :  \" v i s u a l  e f f e c t s \" ,  \" g e n d e r \" :  0 ,  \" i d \" :  9 2 2 3 1 ,  \" j o b \" :  \" v f x  s u p e r v i s o r \" ,  \" n a m e \" :  \" m a y  l e u n g \" } ,  { \" c r e d i t _ i d \" :  \" 5 6 c 6 0 5 c 9 c 3 a 3 6 8 0 d 4 e 0 0 3 6 4 5 \" ,  \" d e p a r t m e n t \" :  \" c r e w \" ,  \" g e n d e r \" :  2 ,  \" i d \" :  1 2 2 5 4 9 ,  \" j o b \" :  \" s t u n t s \" ,  \" n a m e \" :  \" p h i l i p p e  v o n l a n t h e n \" } ,  { \" c r e d i t _ i d \" :  \" 5 4 c 2 7 4 8 5 9 2 5 1 4 1 6 e 6 0 0 0 d 4 e e \" ,  \" d e p a r t m e n t \" :  \" s o u n d \" ,  \" g e n d e r \" :  0 ,  \" i d \" :  1 3 8 6 1 8 ,  \" j o b \" :  \" s o u n d  r e - r e c o r d i n g  m i x e r \" ,  \" n a m e \" :  \" g a r y  r i z z o \" } ,  { \" c r e d i t _ i d \" :  \" 5 6 e 7 6 a e 3 c 3 a 3 6 8 4 0 8 c 0 0 0 b e 7 \" ,  \" d e p a r t m e n t \" :  \" c r e w \" ,  \" g e n d e r \" :  0 ,  \" i d \" :  1 4 2 1 5 7 ,  \" j o b \" :  \" s t u n t s \" ,  \" n a m e \" :  \" d o u g  c o l e m a n \" } ,  { \" c r e d i t _ i d \" :  \" 5 7 9 7 9 4 d 1 9 2 5 1 4 1 1 a 9 0 0 0 0 0 4 d \" ,  \" d e p a r t m e n t \" :  \" c r e w \" ,  \" g e n d e r \" :  2 ,  \" i d \" :  2 0 2 9 3 0 ,  \" j o b \" :  \" s t u n t s \" ,  \" n a m e \" :  \" a n t h o n y  m o l i n a r i \" } ,  { \" c r e d i t _ i d \" :  \" 5 6 8 1 8 1 6 9 9 2 5 1 4 1 1 3 3 4 0 0 8 9 4 8 \" ,  \" d e p a r t m e n t \" :  \" c r e w \" ,  \" g e n d e r \" :  0 ,  \" i d \" :  2 0 4 3 3 9 ,  \" j o b \" :  \" s t u n t s \" ,  \" n a m e \" :  \" c h r i s t o p h e r  p l a c e \" } ,  { \" c r e d i t _ i d \" :  \" 5 6 a 7 b 8 0 6 c 3 a 3 6 8 2 8 b 8 0 0 1 9 0 b \" ,  \" d e p a r t m e n t \" :  \" s o u n d \" ,  \" g e n d e r \" :  0 ,  \" i d \" :  2 3 0 4 3 6 ,  \" j o b \" :  \" a d r  &  d u b b i n g \" ,  \" n a m e \" :  \" b a r b a r a  h a r r i s \" } ,  { \" c r e d i t _ i d \" :  \" 5 6 4 e 1 b 7 5 c 3 a 3 6 8 0 7 0 f 0 0 0 2 8 8 \" ,  \" d e p a r t m e n t \" :  \" c r e w \" ,  \" g e n d e r \" :  0 ,  \" i d \" :  5 5 0 9 0 0 ,  \" j o b \" :  \" s t u n t s \" ,  \" n a m e \" :  \" c a r r i c k  o \\' q u i n n \" } ,  { \" c r e d i t _ i d \" :  \" 5 7 5 3 1 0 6 9 c 3 a 3 6 8 4 c 1 0 0 0 0 7 e f \" ,  \" d e p a r t m e n t \" :  \" s o u n d \" ,  \" g e n d e r \" :  2 ,  \" i d \" :  9 3 2 1 8 6 ,  \" j o b \" :  \" o r c h e s t r a t o r \" ,  \" n a m e \" :  \" b r u c e  f o w l e r \" } ,  { \" c r e d i t _ i d \" :  \" 5 6 8 0 3 5 f 3 c 3 a 3 6 8 4 b c c 0 0 e 7 b 2 \" ,  \" d e p a r t m e n t \" :  \" c r e w \" ,  \" g e n d e r \" :  2 ,  \" i d \" :  9 3 2 7 4 8 ,  \" j o b \" :  \" s t u n t s \" ,  \" n a m e \" :  \" r o y  t .  a n d e r s o n \" } ,  { \" c r e d i t _ i d \" :  \" 5 4 c 2 2 3 9 f c 3 a 3 6 8 7 9 2 9 0 0 3 8 b a \" ,  \" d e p a r t m e n t \" :  \" a r t \" ,  \" g e n d e r \" :  2 ,  \" i d \" :  9 6 9 7 4 3 ,  \" j o b \" :  \" a r t  d i r e c t i o n \" ,  \" n a m e \" :  \" d e a n  w o l c o t t \" } ,  { \" c r e d i t _ i d \" :  \" 5 2 f e 4 7 8 1 c 3 a 3 6 8 4 7 f 8 1 3 9 8 d b \" ,  \" d e p a r t m e n t \" :  \" p r o d u c t i o n \" ,  \" g e n d e r \" :  0 ,  \" i d \" :  1 0 1 8 9 5 8 ,  \" j o b \" :  \" c a s t i n g \" ,  \" n a m e \" :  \" t o b y  w h a l e \" } ,  { \" c r e d i t _ i d \" :  \" 5 6 a 1 8 9 7 2 9 2 5 1 4 1 5 e 5 e 0 0 f d 3 b \" ,  \" d e p a r t m e n t \" :  \" c r e w \" ,  \" g e n d e r \" :  2 ,  \" i d \" :  1 0 2 5 0 9 0 ,  \" j o b \" :  \" s t u n t s \" ,  \" n a m e \" :  \" j i m  w i l k e y \" } ,  { \" c r e d i t _ i d \" :  \" 5 7 0 b 9 1 c 3 c 3 a 3 6 8 4 f 4 1 0 0 3 b 4 c \" ,  \" d e p a r t m e n t \" :  \" a r t \" ,  \" g e n d e r \" :  0 ,  \" i d \" :  1 0 3 4 7 5 4 ,  \" j o b \" :  \" s u p e r v i s i n g  a r t  d i r e c t o r \" ,  \" n a m e \" :  \" j a m e s  h a m b i d g e \" } ,  { \" c r e d i t _ i d \" :  \" 5 6 8 1 8 3 a b 9 2 5 1 4 1 4 f 6 3 0 0 a 6 f 8 \" ,  \" d e p a r t m e n t \" :  \" c r e w \" ,  \" g e n d e r \" :  0 ,  \" i d \" :  1 0 4 5 9 6 4 ,  \" j o b \" :  \" s t u n t s \" ,  \" n a m e \" :  \" a a r o n  v e x l e r \" } ,  { \" c r e d i t _ i d \" :  \" 5 4 c 3 7 a 6 9 9 2 5 1 4 1 2 4 4 6 0 0 5 5 7 2 \" ,  \" d e p a r t m e n t \" :  \" c o s t u m e  &  m a k e - u p \" ,  \" g e n d e r \" :  0 ,  \" i d \" :  1 0 4 6 6 1 4 ,  \" j o b \" :  \" s e t  c o s t u m e r \" ,  \" n a m e \" :  \" c a r m i a  m a r s h a l l \" } ,  { \" c r e d i t _ i d \" :  \" 5 4 c 2 7 3 7 b c 3 a 3 6 8 7 9 2 c 0 0 3 9 0 5 \" ,  \" d e p a r t m e n t \" :  \" e d i t i n g \" ,  \" g e n d e r \" :  0 ,  \" i d \" :  1 0 5 0 9 3 0 ,  \" j o b \" :  \" d i a l o g u e  e d i t o r \" ,  \" n a m e \" :  \" h u g o  w e n g \" } ,  { \" c r e d i t _ i d \" :  \" 5 7 a 2 9 1 3 4 c 3 a 3 6 8 3 2 b 8 0 0 1 a f b \" ,  \" d e p a r t m e n t \" :  \" c r e w \" ,  \" g e n d e r \" :  0 ,  \" i d \" :  1 0 6 1 0 6 1 ,  \" j o b \" :  \" s t u n t s \" ,  \" n a m e \" :  \" a d a m  h o r t o n \" } ,  { \" c r e d i t _ i d \" :  \" 5 6 a b a 4 0 e 9 2 5 1 4 1 0 e 8 f 0 0 2 c f 7 \" ,  \" d e p a r t m e n t \" :  \" c r e w \" ,  \" g e n d e r \" :  0 ,  \" i d \" :  1 1 0 6 6 2 9 ,  \" j o b \" :  \" s t u n t s \" ,  \" n a m e \" :  \" r a y m o n d  m a m r a k \" } ,  { \" c r e d i t _ i d \" :  \" 5 4 c 2 7 3 6 0 9 2 5 1 4 1 3 1 5 a 0 0 6 2 e 4 \" ,  \" d e p a r t m e n t \" :  \" s o u n d \" ,  \" g e n d e r \" :  2 ,  \" i d \" :  1 1 1 6 9 3 7 ,  \" j o b \" :  \" f o l e y \" ,  \" n a m e \" :  \" j o h n  r o e s c h \" } ,  { \" c r e d i t _ i d \" :  \" 5 4 c 3 7 1 7 7 9 2 5 1 4 1 2 4 c 8 0 0 5 2 2 0 \" ,  \" d e p a r t m e n t \" :  \" v i s u a l  e f f e c t s \" ,  \" g e n d e r \" :  0 ,  \" i d \" :  1 1 5 5 6 6 8 ,  \" j o b \" :  \" v i s u a l  e f f e c t s  p r o d u c e r \" ,  \" n a m e \" :  \" m i k e  c h a m b e r s \" } ,  { \" c r e d i t _ i d \" :  \" 5 4 c 2 2 6 f 2 c 3 a 3 6 8 7 9 2 c 0 0 3 2 6 7 \" ,  \" d e p a r t m e n t \" :  \" p r o d u c t i o n \" ,  \" g e n d e r \" :  0 ,  \" i d \" :  1 2 7 0 0 5 3 ,  \" j o b \" :  \" p r o d u c t i o n  m a n a g e r \" ,  \" n a m e \" :  \" e m m a n u e l  p a p p a s \" } ,  { \" c r e d i t _ i d \" :  \" 5 6 8 1 8 6 c 0 c 3 a 3 6 8 2 8 f 5 0 0 6 e 0 4 \" ,  \" d e p a r t m e n t \" :  \" c r e w \" ,  \" g e n d e r \" :  0 ,  \" i d \" :  1 3 0 1 6 5 2 ,  \" j o b \" :  \" s t u n t s \" ,  \" n a m e \" :  \" s t e p h e n  w .  s c h r i v e r \" } ,  { \" c r e d i t _ i d \" :  \" 5 4 c 3 7 9 b 4 c 3 a 3 6 8 7 c 4 0 0 0 f c d 6 \" ,  \" d e p a r t m e n t \" :  \" c o s t u m e  &  m a k e - u p \" ,  \" g e n d e r \" :  0 ,  \" i d \" :  1 3 1 9 7 4 4 ,  \" j o b \" :  \" c o s t u m e  s u p e r v i s o r \" ,  \" n a m e \" :  \" l i n d a  m a t t h e w s \" } ,  { \" c r e d i t _ i d \" :  \" 5 4 c 2 2 4 8 c c 3 a 3 6 8 7 8 f b 0 0 3 1 6 4 \" ,  \" d e p a r t m e n t \" :  \" c o s t u m e  &  m a k e - u p \" ,  \" g e n d e r \" :  0 ,  \" i d \" :  1 3 2 2 0 1 5 ,  \" j o b \" :  \" m a k e u p  d e p a r t m e n t  h e a d \" ,  \" n a m e \" :  \" l u i s a  a b e l \" } ,  { \" c r e d i t _ i d \" :  \" 5 4 c 2 2 3 8 1 9 2 5 1 4 1 2 4 8 9 0 0 3 5 a a \" ,  \" d e p a r t m e n t \" :  \" a r t \" ,  \" g e n d e r \" :  0 ,  \" i d \" :  1 3 2 7 1 4 4 ,  \" j o b \" :  \" a r t  d i r e c t i o n \" ,  \" n a m e \" :  \" s u e  w h i t a k e r \" } ,  { \" c r e d i t _ i d \" :  \" 5 6 8 1 7 e 2 1 9 2 5 1 4 1 1 3 3 4 0 0 8 8 e 0 \" ,  \" d e p a r t m e n t \" :  \" c r e w \" ,  \" g e n d e r \" :  1 ,  \" i d \" :  1 3 2 9 4 1 5 ,  \" j o b \" :  \" s t u n t s \" ,  \" n a m e \" :  \" s a m a n t h a  m a c i v o r \" } ,  { \" c r e d i t _ i d \" :  \" 5 6 8 1 7 8 9 8 c 3 a 3 6 8 4 b c c 0 1 1 f f 7 \" ,  \" d e p a r t m e n t \" :  \" c r e w \" ,  \" g e n d e r \" :  0 ,  \" i d \" :  1 3 2 9 5 2 7 ,  \" j o b \" :  \" s t u n t s \" ,  \" n a m e \" :  \" j a r e d  b u r k e \" } ,  { \" c r e d i t _ i d \" :  \" 5 4 c 3 7 9 6 c c 3 a 3 6 8 7 8 d 0 0 0 5 9 f b \" ,  \" d e p a r t m e n t \" :  \" c o s t u m e  &  m a k e - u p \" ,  \" g e n d e r \" :  0 ,  \" i d \" :  1 3 3 6 1 9 2 ,  \" j o b \" :  \" c o s t u m e  s u p e r v i s o r \" ,  \" n a m e \" :  \" l a u r a  d o w n i n g \" } ,  { \" c r e d i t _ i d \" :  \" 5 4 c 3 7 a 9 2 9 2 5 1 4 1 2 4 c 8 0 0 5 3 1 e \" ,  \" d e p a r t m e n t \" :  \" c o s t u m e  &  m a k e - u p \" ,  \" g e n d e r \" :  0 ,  \" i d \" :  1 3 3 6 1 9 3 ,  \" j o b \" :  \" s e t  c o s t u m e r \" ,  \" n a m e \" :  \" r e b e c c a  l e v i n \" } ,  { \" c r e d i t _ i d \" :  \" 5 7 9 6 b 4 9 2 c 3 a 3 6 8 0 c f a 0 0 2 a e 3 \" ,  \" d e p a r t m e n t \" :  \" c r e w \" ,  \" g e n d e r \" :  0 ,  \" i d \" :  1 3 4 0 9 4 1 ,  \" j o b \" :  \" s t u n t s \" ,  \" n a m e \" :  \" r a y  s i e g l e \" } ,  { \" c r e d i t _ i d \" :  \" 5 4 c 2 7 3 c f 9 2 5 1 4 1 2 4 e d 0 0 3 c 0 5 \" ,  \" d e p a r t m e n t \" :  \" s o u n d \" ,  \" g e n d e r \" :  2 ,  \" i d \" :  1 3 4 1 4 0 3 ,  \" j o b \" :  \" s o u n d  d e s i g n e r \" ,  \" n a m e \" :  \" r i c h a r d  k i n g \" } ,  { \" c r e d i t _ i d \" :  \" 5 4 c 2 7 3 9 d c 3 a 3 6 8 7 9 2 c 0 0 3 9 0 8 \" ,  \" d e p a r t m e n t \" :  \" s o u n d \" ,  \" g e n d e r \" :  2 ,  \" i d \" :  1 3 4 1 4 0 3 ,  \" j o b \" :  \" s u p e r v i s i n g  s o u n d  e d i t o r \" ,  \" n a m e \" :  \" r i c h a r d  k i n g \" } ,  { \" c r e d i t _ i d \" :  \" 5 4 c 2 7 4 5 8 c 3 a 3 6 8 7 8 f b 0 0 3 8 3 5 \" ,  \" d e p a r t m e n t \" :  \" s o u n d \" ,  \" g e n d e r \" :  0 ,  \" i d \" :  1 3 4 1 7 8 6 ,  \" j o b \" :  \" s o u n d  e f f e c t s  e d i t o r \" ,  \" n a m e \" :  \" b r y a n  o .  w a t k i n s \" } ,  { \" c r e d i t _ i d \" :  \" 5 4 e 4 a 1 0 2 c 3 a 3 6 8 0 8 7 b 0 0 5 2 0 0 \" ,  \" d e p a r t m e n t \" :  \" c r e w \" ,  \" g e n d e r \" :  0 ,  \" i d \" :  1 3 4 8 6 8 6 ,  \" j o b \" :  \" p r o d u c t i o n  o f f i c e  a s s i s t a n t \" ,  \" n a m e \" :  \" b r a d l e y  p o r t e r \" } ,  { \" c r e d i t _ i d \" :  \" 5 4 c 2 2 e 3 d 9 2 5 1 4 1 2 4 c 8 0 0 3 3 8 7 \" ,  \" d e p a r t m e n t \" :  \" a r t \" ,  \" g e n d e r \" :  0 ,  \" i d \" :  1 3 5 5 5 3 0 ,  \" j o b \" :  \" s c u l p t o r \" ,  \" n a m e \" :  \" c u i t l a h u a c  m o r a l e s  v e l a z q u e z \" } ,  { \" c r e d i t _ i d \" :  \" 5 4 c 2 7 5 9 1 c 3 a 3 6 8 7 9 2 9 0 0 4 0 e 9 \" ,  \" d e p a r t m e n t \" :  \" c r e w \" ,  \" g e n d e r \" :  0 ,  \" i d \" :  1 3 5 7 0 6 2 ,  \" j o b \" :  \" s p e c i a l  e f f e c t s  c o o r d i n a t o r \" ,  \" n a m e \" :  \" s c o t t  r .  f i s h e r \" } ,  { \" c r e d i t _ i d \" :  \" 5 4 c 3 7 6 f 4 9 2 5 1 4 1 2 4 4 6 0 0 5 4 f e \" ,  \" d e p a r t m e n t \" :  \" c a m e r a \" ,  \" g e n d e r \" :  0 ,  \" i d \" :  1 3 5 7 0 6 4 ,  \" j o b \" :  \" c a m e r a  o p e r a t o r \" ,  \" n a m e \" :  \" g r e g  b a l d i \" } ,  { \" c r e d i t _ i d \" :  \" 5 4 c 3 7 7 5 6 c 3 a 3 6 8 3 3 3 8 0 0 1 1 0 6 \" ,  \" d e p a r t m e n t \" :  \" c a m e r a \" ,  \" g e n d e r \" :  0 ,  \" i d \" :  1 3 5 7 0 6 6 ,  \" j o b \" :  \" c a m e r a  o p e r a t o r \" ,  \" n a m e \" :  \" p .  s c o t t  s a k a m o t o \" } ,  { \" c r e d i t _ i d \" :  \" 5 4 c 3 7 c 5 6 9 2 5 1 4 1 2 4 c 8 0 0 5 3 4 9 \" ,  \" d e p a r t m e n t \" :  \" c r e w \" ,  \" g e n d e r \" :  0 ,  \" i d \" :  1 3 5 7 0 7 0 ,  \" j o b \" :  \" t r a n s p o r t a t i o n  c o o r d i n a t o r \" ,  \" n a m e \" :  \" d e n n y  c a i r a \" } ,  { \" c r e d i t _ i d \" :  \" 5 6 8 1 8 3 0 e c 3 a 3 6 8 4 b e 9 0 1 0 b 3 b \" ,  \" d e p a r t m e n t \" :  \" c r e w \" ,  \" g e n d e r \" :  2 ,  \" i d \" :  1 3 5 8 5 6 4 ,  \" j o b \" :  \" s t u n t s \" ,  \" n a m e \" :  \" t r a m p a s  t h o m p s o n \" } ,  { \" c r e d i t _ i d \" :  \" 5 4 c 3 7 c d c 9 2 5 1 4 1 2 4 4 6 0 0 5 5 a 5 \" ,  \" d e p a r t m e n t \" :  \" d i r e c t i n g \" ,  \" g e n d e r \" :  2 ,  \" i d \" :  1 3 6 7 5 0 8 ,  \" j o b \" :  \" s c r i p t  s u p e r v i s o r \" ,  \" n a m e \" :  \" s t e v e  g e h r k e \" } ,  { \" c r e d i t _ i d \" :  \" 5 4 c 3 7 3 4 5 c 3 a 3 6 8 3 3 3 8 0 0 1 0 a 6 \" ,  \" d e p a r t m e n t \" :  \" c r e w \" ,  \" g e n d e r \" :  0 ,  \" i d \" :  1 3 7 2 8 8 2 ,  \" j o b \" :  \" v i s u a l  e f f e c t s  e d i t o r \" ,  \" n a m e \" :  \" d e r r i c k  m i t c h e l l \" } ,  { \" c r e d i t _ i d \" :  \" 5 4 c 2 7 4 1 4 c 3 a 3 6 8 7 9 2 c 0 0 3 9 1 0 \" ,  \" d e p a r t m e n t \" :  \" s o u n d \" ,  \" g e n d e r \" :  0 ,  \" i d \" :  1 3 7 7 2 2 2 ,  \" j o b \" :  \" s o u n d  e f f e c t s  e d i t o r \" ,  \" n a m e \" :  \" m i c h a e l  w .  m i t c h e l l \" } ,  { \" c r e d i t _ i d \" :  \" 5 4 c 2 2 a 0 6 c 3 a 3 6 8 7 9 2 c 0 0 3 2 a 2 \" ,  \" d e p a r t m e n t \" :  \" a r t \" ,  \" g e n d e r \" :  0 ,  \" i d \" :  1 3 7 8 2 2 2 ,  \" j o b \" :  \" c o n s t r u c t i o n  c o o r d i n a t o r \" ,  \" n a m e \" :  \" j o e  o n d r e j k o \" } ,  { \" c r e d i t _ i d \" :  \" 5 6 7 6 0 7 a 1 9 2 5 1 4 1 7 9 e 3 0 0 3 f d 2 \" ,  \" d e p a r t m e n t \" :  \" s o u n d \" ,  \" g e n d e r \" :  0 ,  \" i d \" :  1 3 7 8 2 3 1 ,  \" j o b \" :  \" s o u n d  e f f e c t s  e d i t o r \" ,  \" n a m e \" :  \" k e n  j .  j o h n s o n \" } ,  { \" c r e d i t _ i d \" :  \" 5 4 c 3 7 b 2 1 c 3 a 3 6 8 7 8 9 b 0 0 5 9 c b \" ,  \" d e p a r t m e n t \" :  \" c o s t u m e  &  m a k e - u p \" ,  \" g e n d e r \" :  0 ,  \" i d \" :  1 3 7 8 2 4 6 ,  \" j o b \" :  \" s e t  c o s t u m e r \" ,  \" n a m e \" :  \" l o r i  h a r r i s \" } ,  { \" c r e d i t _ i d \" :  \" 5 4 c 3 7 e 8 c c 3 a 3 6 8 1 4 2 1 0 1 1 a 9 c \" ,  \" d e p a r t m e n t \" :  \" c r e w \" ,  \" g e n d e r \" :  0 ,  \" i d \" :  1 3 7 8 7 2 6 ,  \" j o b \" :  \" d i a l e c t  c o a c h \" ,  \" n a m e \" :  \" f r a n c i e  b r o w n \" } ,  { \" c r e d i t _ i d \" :  \" 5 6 8 1 8 5 c 5 9 2 5 1 4 1 3 2 d b 0 0 f 2 6 7 \" ,  \" d e p a r t m e n t \" :  \" c r e w \" ,  \" g e n d e r \" :  0 ,  \" i d \" :  1 3 8 4 3 9 0 ,  \" j o b \" :  \" s t u n t s \" ,  \" n a m e \" :  \" t r e v o r  h a b b e r s t a d \" } ,  { \" c r e d i t _ i d \" :  \" 5 4 c 2 2 9 7 6 9 2 5 1 4 1 3 1 5 a 0 0 5 b e 2 \" ,  \" d e p a r t m e n t \" :  \" a r t \" ,  \" g e n d e r \" :  0 ,  \" i d \" :  1 3 8 9 5 2 6 ,  \" j o b \" :  \" c o n s t r u c t i o n  c o o r d i n a t o r \" ,  \" n a m e \" :  \" a m a n d a  p e t t e t t \" } ,  { \" c r e d i t _ i d \" :  \" 5 4 c 3 7 a 0 1 c 3 a 3 6 8 7 8 f b 0 0 5 0 0 a \" ,  \" d e p a r t m e n t \" :  \" c o s t u m e  &  m a k e - u p \" ,  \" g e n d e r \" :  0 ,  \" i d \" :  1 3 9 1 6 4 8 ,  \" j o b \" :  \" s e t  c o s t u m e r \" ,  \" n a m e \" :  \" h a n a  r a u s a l o v a \" } ,  { \" c r e d i t _ i d \" :  \" 5 4 c 2 2 3 6 f c 3 a 3 6 8 7 8 f b 0 0 3 1 4 1 \" ,  \" d e p a r t m e n t \" :  \" a r t \" ,  \" g e n d e r \" :  0 ,  \" i d \" :  1 3 9 2 5 8 7 ,  \" j o b \" :  \" a r t  d i r e c t i o n \" ,  \" n a m e \" :  \" t o m  s t i l l \" } ,  { \" c r e d i t _ i d \" :  \" 5 4 c 2 7 5 7 7 9 2 5 1 4 1 2 4 c 8 0 0 3 9 d 9 \" ,  \" d e p a r t m e n t \" :  \" c r e w \" ,  \" g e n d e r \" :  0 ,  \" i d \" :  1 3 9 3 3 8 7 ,  \" j o b \" :  \" s p e c i a l  e f f e c t s  c o o r d i n a t o r \" ,  \" n a m e \" :  \" j e f f  b r i n k \" } ,  { \" c r e d i t _ i d \" :  \" 5 4 c 3 7 d 0 4 9 2 5 1 4 1 2 4 4 6 0 0 5 5 a 7 \" ,  \" d e p a r t m e n t \" :  \" c r e w \" ,  \" g e n d e r \" :  0 ,  \" i d \" :  1 3 9 4 0 5 0 ,  \" j o b \" :  \" d i a l e c t  c o a c h \" ,  \" n a m e \" :  \" p a u l a  j a c k \" } ,  { \" c r e d i t _ i d \" :  \" 5 4 c 3 7 b 3 c c 3 a 3 6 8 7 9 2 c 0 0 5 0 e b \" ,  \" d e p a r t m e n t \" :  \" c o s t u m e  &  m a k e - u p \" ,  \" g e n d e r \" :  0 ,  \" i d \" :  1 3 9 5 0 3 0 ,  \" j o b \" :  \" s e t  c o s t u m e r \" ,  \" n a m e \" :  \" a l i s o n  e v a n s \" } ,  { \" c r e d i t _ i d \" :  \" 5 4 c 3 7 a e 1 c 3 a 3 6 8 7 9 2 9 0 0 5 b f 1 \" ,  \" d e p a r t m e n t \" :  \" c o s t u m e  &  m a k e - u p \" ,  \" g e n d e r \" :  0 ,  \" i d \" :  1 3 9 5 0 3 2 ,  \" j o b \" :  \" s e t  c o s t u m e r \" ,  \" n a m e \" :  \" a m a n d a  j e n k i n s \" } ,  { \" c r e d i t _ i d \" :  \" 5 4 c 2 2 8 4 9 c 3 a 3 6 8 7 8 9 b 0 0 3 7 c f \" ,  \" d e p a r t m e n t \" :  \" a r t \" ,  \" g e n d e r \" :  0 ,  \" i d \" :  1 3 9 5 4 3 0 ,  \" j o b \" :  \" a r t  d e p a r t m e n t  c o o r d i n a t o r \" ,  \" n a m e \" :  \" j e n n e  l e e \" } ,  { \" c r e d i t _ i d \" :  \" 5 4 c 2 2 e 1 c c 3 a 3 6 8 7 8 f b 0 0 3 2 2 8 \" ,  \" d e p a r t m e n t \" :  \" a r t \" ,  \" g e n d e r \" :  0 ,  \" i d \" :  1 3 9 5 4 3 5 ,  \" j o b \" :  \" s e t  d e s i g n e r \" ,  \" n a m e \" :  \" t h e o d o r e  s h a r p s \" } ,  { \" c r e d i t _ i d \" :  \" 5 4 c 2 7 3 4 b c 3 a 3 6 8 7 8 9 b 0 0 3 f 6 a \" ,  \" d e p a r t m e n t \" :  \" s o u n d \" ,  \" g e n d e r \" :  0 ,  \" i d \" :  1 3 9 7 8 2 3 ,  \" j o b \" :  \" f o l e y \" ,  \" n a m e \" :  \" a l y s o n  d e e  m o o r e \" } ,  { \" c r e d i t _ i d \" :  \" 5 4 c 2 2 b 0 5 c 3 a 3 6 8 7 8 d 0 0 0 3 8 4 e \" ,  \" d e p a r t m e n t \" :  \" a r t \" ,  \" g e n d e r \" :  0 ,  \" i d \" :  1 3 9 8 0 8 9 ,  \" j o b \" :  \" g r e e n s m a n \" ,  \" n a m e \" :  \" i a n  w h i t e f o r d \" } ,  { \" c r e d i t _ i d \" :  \" 5 4 c 3 7 8 5 c c 3 a 3 6 8 7 8 f b 0 0 4 f d 2 \" ,  \" d e p a r t m e n t \" :  \" c a m e r a \" ,  \" g e n d e r \" :  0 ,  \" i d \" :  1 3 9 9 0 7 1 ,  \" j o b \" :  \" h e l i c o p t e r  c a m e r a \" ,  \" n a m e \" :  \" h a n s  b j e r n o \" } ,  { \" c r e d i t _ i d \" :  \" 5 4 c 3 7 a 3 3 9 2 5 1 4 1 6 e 6 0 0 0 e e 2 5 \" ,  \" d e p a r t m e n t \" :  \" c o s t u m e  &  m a k e - u p \" ,  \" g e n d e r \" :  0 ,  \" i d \" :  1 3 9 9 3 2 3 ,  \" j o b \" :  \" s e t  c o s t u m e r \" ,  \" n a m e \" :  \" m u s t a p h a  m i m i s \" } ,  { \" c r e d i t _ i d \" :  \" 5 4 c 2 2 b 5 a 9 2 5 1 4 1 6 e 6 0 0 0 c d c 1 \" ,  \" d e p a r t m e n t \" :  \" a r t \" ,  \" g e n d e r \" :  0 ,  \" i d \" :  1 3 9 9 4 6 3 ,  \" j o b \" :  \" l e a d m a n \" ,  \" n a m e \" :  \" b r u c e  l e e  g r o s s \" } ,  { \" c r e d i t _ i d \" :  \" 5 4 c 3 7 8 c f c 3 a 3 6 8 7 9 2 9 0 0 5 b b 1 \" ,  \" d e p a r t m e n t \" :  \" c a m e r a \" ,  \" g e n d e r \" :  0 ,  \" i d \" :  1 3 9 9 8 7 6 ,  \" j o b \" :  \" s t i l l  p h o t o g r a p h e r \" ,  \" n a m e \" :  \" r o n  p h i l l i p s \" } ,  { \" c r e d i t _ i d \" :  \" 5 4 c 3 7 a f b c 3 a 3 6 8 7 9 2 c 0 0 5 0 e 2 \" ,  \" d e p a r t m e n t \" :  \" c o s t u m e  &  m a k e - u p \" ,  \" g e n d e r \" :  0 ,  \" i d \" :  1 4 0 1 8 1 4 ,  \" j o b \" :  \" s e t  c o s t u m e r \" ,  \" n a m e \" :  \" a l e j a n d r o  m .  h e r n a n d e z \" } ,  { \" c r e d i t _ i d \" :  \" 5 4 c 3 7 e 5 a 9 2 5 1 4 1 2 4 3 2 0 0 5 8 8 d \" ,  \" d e p a r t m e n t \" :  \" c r e w \" ,  \" g e n d e r \" :  1 ,  \" i d \" :  1 4 0 2 0 0 8 ,  \" j o b \" :  \" d i a l e c t  c o a c h \" ,  \" n a m e \" :  \" k a t h l e e n  s .  d u n n \" } ,  { \" c r e d i t _ i d \" :  \" 5 7 7 8 5 4 2 1 c 3 a 3 6 8 2 6 c 9 0 0 0 a 8 3 \" ,  \" d e p a r t m e n t \" :  \" d i r e c t i n g \" ,  \" g e n d e r \" :  0 ,  \" i d \" :  1 4 0 2 0 7 9 ,  \" j o b \" :  \" a s s i s t a n t  d i r e c t o r \" ,  \" n a m e \" :  \" m a t t h e w  r e e d y \" } ,  { \" c r e d i t _ i d \" :  \" 5 4 c 2 2 3 c 2 c 3 a 3 6 8 6 c 6 1 0 1 2 7 d 0 \" ,  \" d e p a r t m e n t \" :  \" c o s t u m e  &  m a k e - u p \" ,  \" g e n d e r \" :  0 ,  \" i d \" :  1 4 0 3 4 2 4 ,  \" j o b \" :  \" c o s t u m e  d e s i g n \" ,  \" n a m e \" :  \" r o b e r t o  c r a c i u n i c a \" } ,  { \" c r e d i t _ i d \" :  \" 5 4 c 2 2 7 f 6 c 3 a 3 6 8 7 8 f b 0 0 3 1 a 8 \" ,  \" d e p a r t m e n t \" :  \" p r o d u c t i o n \" ,  \" g e n d e r \" :  0 ,  \" i d \" :  1 4 0 3 4 2 7 ,  \" j o b \" :  \" p r o d u c t i o n  s u p e r v i s o r \" ,  \" n a m e \" :  \" c a n d i c e  d .  c a m p o s \" } ,  { \" c r e d i t _ i d \" :  \" 5 4 c 3 7 8 0 d 9 2 5 1 4 1 2 4 8 9 0 0 5 7 3 b \" ,  \" d e p a r t m e n t \" :  \" c a m e r a \" ,  \" g e n d e r \" :  0 ,  \" i d \" :  1 4 0 4 7 3 9 ,  \" j o b \" :  \" h e l i c o p t e r  c a m e r a \" ,  \" n a m e \" :  \" s t e v e  k o s t e r \" } ,  { \" c r e d i t _ i d \" :  \" 5 4 c 3 7 4 8 2 c 3 a 3 6 8 7 8 f b 0 0 4 f 7 3 \" ,  \" d e p a r t m e n t \" :  \" v i s u a l  e f f e c t s \" ,  \" g e n d e r \" :  0 ,  \" i d \" :  1 4 0 8 3 4 7 ,  \" j o b \" :  \" v i s u a l  e f f e c t s  s u p e r v i s o r \" ,  \" n a m e \" :  \" p e t e  b e b b \" } ,  { \" c r e d i t _ i d \" :  \" 5 4 c 2 2 5 4 8 9 2 5 1 4 1 2 4 e d 0 0 3 5 6 1 \" ,  \" d e p a r t m e n t \" :  \" c o s t u m e  &  m a k e - u p \" ,  \" g e n d e r \" :  0 ,  \" i d \" :  1 4 0 9 8 2 4 ,  \" j o b \" :  \" w i g m a k e r \" ,  \" n a m e \" :  \" n a t a s h a  l a d e k \" } ,  { \" c r e d i t _ i d \" :  \" 5 6 7 d 8 1 1 d c 3 a 3 6 8 6 0 e 9 0 0 6 7 4 7 \" ,  \" d e p a r t m e n t \" :  \" a r t \" ,  \" g e n d e r \" :  0 ,  \" i d \" :  1 4 1 1 8 0 8 ,  \" j o b \" :  \" p a i n t e r \" ,  \" n a m e \" :  \" c h r i s  b e r t h o l f \" } ,  { \" c r e d i t _ i d \" :  \" 5 4 c 2 2 4 b 7 c 3 a 3 6 8 7 9 2 9 0 0 3 8 d e \" ,  \" d e p a r t m e n t \" :  \" c o s t u m e  &  m a k e - u p \" ,  \" g e n d e r \" :  0 ,  \" i d \" :  1 4 1 2 1 8 5 ,  \" j o b \" :  \" m a k e u p  a r t i s t \" ,  \" n a m e \" :  \" j a y  w e j e b e \" } ,  { \" c r e d i t _ i d \" :  \" 5 4 c 2 2 a 7 e 9 2 5 1 4 1 2 4 e d 0 0 3 5 c f \" ,  \" d e p a r t m e n t \" :  \" a r t \" ,  \" g e n d e r \" :  0 ,  \" i d \" :  1 4 1 3 0 8 9 ,  \" j o b \" :  \" c o n s t r u c t i o n  f o r e m a n \" ,  \" n a m e \" :  \" w i l l i a m  g i d e o n \" } ,  { \" c r e d i t _ i d \" :  \" 5 4 c 3 7 6 1 d c 3 a 3 6 8 7 8 9 b 0 0 5 9 2 0 \" ,  \" d e p a r t m e n t \" :  \" c r e w \" ,  \" g e n d e r \" :  0 ,  \" i d \" :  1 4 1 5 1 5 7 ,  \" j o b \" :  \" s e q u e n c e  s u p e r v i s o r \" ,  \" n a m e \" :  \" j o e l  g r e e n \" } ,  { \" c r e d i t _ i d \" :  \" 5 6 f d 6 1 9 0 c 3 a 3 6 8 5 c d a 0 0 0 5 d e \" ,  \" d e p a r t m e n t \" :  \" c r e w \" ,  \" g e n d e r \" :  0 ,  \" i d \" :  1 4 1 5 6 0 6 ,  \" j o b \" :  \" m a k e u p  e f f e c t s \" ,  \" n a m e \" :  \" d i a n a  c h o i \" } ,  { \" c r e d i t _ i d \" :  \" 5 4 c 3 7 e 1 1 c 3 a 3 6 8 1 4 2 1 0 1 1 a 8 f \" ,  \" d e p a r t m e n t \" :  \" c r e w \" ,  \" g e n d e r \" :  0 ,  \" i d \" :  1 4 1 6 0 0 5 ,  \" j o b \" :  \" u n i t  p u b l i c i s t \" ,  \" n a m e \" :  \" c l a u d i a  k a l i n d j i a n \" } ,  { \" c r e d i t _ i d \" :  \" 5 4 c 2 2 3 3 c 9 2 5 1 4 1 2 4 c 8 0 0 3 2 6 1 \" ,  \" d e p a r t m e n t \" :  \" a r t \" ,  \" g e n d e r \" :  0 ,  \" i d \" :  1 4 1 7 3 9 6 ,  \" j o b \" :  \" a r t  d i r e c t i o n \" ,  \" n a m e \" :  \" t o b y  b r i t t o n \" } ,  { \" c r e d i t _ i d \" :  \" 5 4 c 2 2 3 5 e c 3 a 3 6 8 1 4 2 1 0 0 f a 9 a \" ,  \" d e p a r t m e n t \" :  \" a r t \" ,  \" g e n d e r \" :  0 ,  \" i d \" :  1 4 1 7 3 9 7 ,  \" j o b \" :  \" a r t  d i r e c t i o n \" ,  \" n a m e \" :  \" j o n a t h a n  k e v i n  o n g \" } ,  { \" c r e d i t _ i d \" :  \" 5 4 c 2 2 3 e a 9 2 5 1 4 1 6 e 6 0 0 0 c d 2 1 \" ,  \" d e p a r t m e n t \" :  \" c o s t u m e  &  m a k e - u p \" ,  \" g e n d e r \" :  0 ,  \" i d \" :  1 4 1 7 3 9 8 ,  \" j o b \" :  \" h a i r s t y l i s t \" ,  \" n a m e \" :  \" j a n i c e  a l e x a n d e r \" } ,  { \" c r e d i t _ i d \" :  \" 5 4 c 2 2 4 0 2 9 2 5 1 4 1 2 4 4 6 0 0 3 4 a c \" ,  \" d e p a r t m e n t \" :  \" c o s t u m e  &  m a k e - u p \" ,  \" g e n d e r \" :  0 ,  \" i d \" :  1 4 1 7 3 9 9 ,  \" j o b \" :  \" h a i r s t y l i s t \" ,  \" n a m e \" :  \" p a t r i c i a  d e h a n e y \" } ,  { \" c r e d i t _ i d \" :  \" 5 4 c 2 2 4 6 1 9 2 5 1 4 1 6 e a e 0 0 c 3 a a \" ,  \" d e p a r t m e n t \" :  \" c o s t u m e  &  m a k e - u p \" ,  \" g e n d e r \" :  0 ,  \" i d \" :  1 4 1 7 4 0 0 ,  \" j o b \" :  \" h a i r s t y l i s t \" ,  \" n a m e \" :  \" d e e n a  a d a i r \" } ,  { \" c r e d i t _ i d \" :  \" 5 4 c 2 2 5 c 2 c 3 a 3 6 8 7 8 d 0 0 0 3 7 b b \" ,  \" d e p a r t m e n t \" :  \" c r e w \" ,  \" g e n d e r \" :  0 ,  \" i d \" :  1 4 1 7 4 0 3 ,  \" j o b \" :  \" m a k e u p  e f f e c t s \" ,  \" n a m e \" :  \" a n d r e  g i l b e r t \" } ,  { \" c r e d i t _ i d \" :  \" 5 4 c 2 2 7 a 4 9 2 5 1 4 1 6 e 6 0 0 0 c d 7 b \" ,  \" d e p a r t m e n t \" :  \" p r o d u c t i o n \" ,  \" g e n d e r \" :  0 ,  \" i d \" :  1 4 1 7 4 0 6 ,  \" j o b \" :  \" p r o d u c t i o n  m a n a g e r \" ,  \" n a m e \" :  \" m i c h a e l  m u r r a y \" } ,  { \" c r e d i t _ i d \" :  \" 5 4 c 2 2 7 d c 9 2 5 1 4 1 2 4 8 9 0 0 3 6 1 a \" ,  \" d e p a r t m e n t \" :  \" p r o d u c t i o n \" ,  \" g e n d e r \" :  0 ,  \" i d \" :  1 4 1 7 4 0 7 ,  \" j o b \" :  \" p r o d u c t i o n  m a n a g e r \" ,  \" n a m e \" :  \" t h o m a s  h a y s l i p \" } ,  { \" c r e d i t _ i d \" :  \" 5 4 c 2 2 8 0 e c 3 a 3 6 8 7 9 2 9 0 0 3 9 3 1 \" ,  \" d e p a r t m e n t \" :  \" p r o d u c t i o n \" ,  \" g e n d e r \" :  0 ,  \" i d \" :  1 4 1 7 4 0 8 ,  \" j o b \" :  \" p r o d u c t i o n  s u p e r v i s o r \" ,  \" n a m e \" :  \" m i k a  s a i t o \" } ,  { \" c r e d i t _ i d \" :  \" 5 4 c 2 2 8 6 7 c 3 a 3 6 8 6 c 6 1 0 1 2 8 2 f \" ,  \" d e p a r t m e n t \" :  \" a r t \" ,  \" g e n d e r \" :  0 ,  \" i d \" :  1 4 1 7 4 0 9 ,  \" j o b \" :  \" a r t  d e p a r t m e n t  c o o r d i n a t o r \" ,  \" n a m e \" :  \" p i p p a  n e e d s \" } ,  { \" c r e d i t _ i d \" :  \" 5 4 c 2 2 8 8 3 9 2 5 1 4 1 2 4 4 6 0 0 3 5 1 e \" ,  \" d e p a r t m e n t \" :  \" a r t \" ,  \" g e n d e r \" :  0 ,  \" i d \" :  1 4 1 7 4 1 0 ,  \" j o b \" :  \" a r t  d e p a r t m e n t  c o o r d i n a t o r \" ,  \" n a m e \" :  \" l a u r a  p l i s k i n \" } ,  { \" c r e d i t _ i d \" :  \" 5 4 c 2 2 8 d 4 9 2 5 1 4 1 6 e 6 0 0 0 c d 9 0 \" ,  \" d e p a r t m e n t \" :  \" a r t \" ,  \" g e n d e r \" :  0 ,  \" i d \" :  1 4 1 7 4 1 1 ,  \" j o b \" :  \" a s s i s t a n t  a r t  d i r e c t o r \" ,  \" n a m e \" :  \" a n n a  b r e g m a n \" } ,  { \" c r e d i t _ i d \" :  \" 5 4 c 2 2 9 0 c c 3 a 3 6 8 7 8 f b 0 0 3 1 c 1 \" ,  \" d e p a r t m e n t \" :  \" a r t \" ,  \" g e n d e r \" :  0 ,  \" i d \" :  1 4 1 7 4 1 2 ,  \" j o b \" :  \" a s s i s t a n t  a r t  d i r e c t o r \" ,  \" n a m e \" :  \" r o b e r t  w .  j o s e p h \" } ,  { \" c r e d i t _ i d \" :  \" 5 4 c 2 2 9 4 9 c 3 a 3 6 8 7 8 d 0 0 0 3 8 1 a \" ,  \" d e p a r t m e n t \" :  \" c r e w \" ,  \" g e n d e r \" :  0 ,  \" i d \" :  1 4 1 7 4 1 3 ,  \" j o b \" :  \" p r o p e r t y  m a s t e r \" ,  \" n a m e \" :  \" b a r r y  w i l k i n s o n \" } ,  { \" c r e d i t _ i d \" :  \" 5 4 c 2 2 9 e e c 3 a 3 6 8 7 8 d 0 0 0 3 8 3 6 \" ,  \" d e p a r t m e n t \" :  \" a r t \" ,  \" g e n d e r \" :  0 ,  \" i d \" :  1 4 1 7 4 1 4 ,  \" j o b \" :  \" c o n s t r u c t i o n  c o o r d i n a t o r \" ,  \" n a m e \" :  \" g l e n  p a n g i o n e \" } ,  { \" c r e d i t _ i d \" :  \" 5 9 4 8 5 1 d a c 3 a 3 6 8 1 6 f 6 0 4 8 d 7 d \" ,  \" d e p a r t m e n t \" :  \" a r t \" ,  \" g e n d e r \" :  2 ,  \" i d \" :  1 4 1 7 4 1 5 ,  \" j o b \" :  \" p r o p e r t y  m a s t e r \" ,  \" n a m e \" :  \" m y c h a e l  b a t e s \" } ,  { \" c r e d i t _ i d \" :  \" 5 4 c 2 2 a c 6 9 2 5 1 4 1 6 e a e 0 0 c 4 2 c \" ,  \" d e p a r t m e n t \" :  \" a r t \" ,  \" g e n d e r \" :  0 ,  \" i d \" :  1 4 1 7 4 1 6 ,  \" j o b \" :  \" g r e e n s m a n \" ,  \" n a m e \" :  \" b r a n d o n  a .  p l o n k a \" } ,  { \" c r e d i t _ i d \" :  \" 5 4 c 2 2 a e 3 c 3 a 3 6 8 7 9 2 9 0 0 3 9 6 e \" ,  \" d e p a r t m e n t \" :  \" c r e w \" ,  \" g e n d e r \" :  0 ,  \" i d \" :  1 4 1 7 4 1 7 ,  \" j o b \" :  \" s c e n i c  a r t i s t \" ,  \" n a m e \" :  \" e l i z a b e t h  t o m a s e t t i \" } ,  { \" c r e d i t _ i d \" :  \" 5 4 c 2 2 d 4 5 9 2 5 1 4 1 2 4 c 8 0 0 3 3 6 8 \" ,  \" d e p a r t m e n t \" :  \" a r t \" ,  \" g e n d e r \" :  0 ,  \" i d \" :  1 4 1 7 4 1 8 ,  \" j o b \" :  \" l e a d m a n \" ,  \" n a m e \" :  \" s e a n  g i n e v a n \" } ,  { \" c r e d i t _ i d \" :  \" 5 4 c 2 2 d f 6 c 3 a 3 6 8 7 8 d 0 0 0 3 8 8 e \" ,  \" d e p a r t m e n t \" :  \" a r t \" ,  \" g e n d e r \" :  0 ,  \" i d \" :  1 4 1 7 4 1 9 ,  \" j o b \" :  \" s e t  d e s i g n e r \" ,  \" n a m e \" :  \" j a s o n  k o l o w s k i \" } ,  { \" c r e d i t _ i d \" :  \" 5 4 c 2 7 3 e c 9 2 5 1 4 1 2 4 e d 0 0 3 c 0 a \" ,  \" d e p a r t m e n t \" :  \" s o u n d \" ,  \" g e n d e r \" :  0 ,  \" i d \" :  1 4 1 7 5 1 4 ,  \" j o b \" :  \" s o u n d  e f f e c t s  e d i t o r \" ,  \" n a m e \" :  \" m i c h a e l  b a b c o c k \" } ,  { \" c r e d i t _ i d \" :  \" 5 4 c 2 7 5 2 3 9 2 5 1 4 1 2 4 c 8 0 0 3 9 d 3 \" ,  \" d e p a r t m e n t \" :  \" s o u n d \" ,  \" g e n d e r \" :  0 ,  \" i d \" :  1 4 1 7 5 1 4 ,  \" j o b \" :  \" s o u n d  r e - r e c o r d i n g  m i x e r \" ,  \" n a m e \" :  \" m i c h a e l  b a b c o c k \" } ,  { \" c r e d i t _ i d \" :  \" 5 4 c 2 7 3 f e c 3 a 3 6 8 7 8 9 b 0 0 3 f 7 a \" ,  \" d e p a r t m e n t \" :  \" s o u n d \" ,  \" g e n d e r \" :  0 ,  \" i d \" :  1 4 1 7 5 1 5 ,  \" j o b \" :  \" s o u n d  e f f e c t s  e d i t o r \" ,  \" n a m e \" :  \" r a n d l e  a k e r s o n \" } ,  { \" c r e d i t _ i d \" :  \" 5 4 c 2 7 4 2 8 9 2 5 1 4 1 3 1 5 a 0 0 6 2 f 5 \" ,  \" d e p a r t m e n t \" :  \" s o u n d \" ,  \" g e n d e r \" :  0 ,  \" i d \" :  1 4 1 7 5 1 6 ,  \" j o b \" :  \" s o u n d  e f f e c t s  e d i t o r \" ,  \" n a m e \" :  \" j e f f  s a w y e r \" } ,  { \" c r e d i t _ i d \" :  \" 5 4 c 2 7 4 f 1 c 3 a 3 6 8 7 9 2 9 0 0 4 0 d a \" ,  \" d e p a r t m e n t \" :  \" s o u n d \" ,  \" g e n d e r \" :  0 ,  \" i d \" :  1 4 1 7 5 1 7 ,  \" j o b \" :  \" s o u n d  r e - r e c o r d i n g  m i x e r \" ,  \" n a m e \" :  \" c a r l o s  s o l i s \" } ,  { \" c r e d i t _ i d \" :  \" 5 4 c 3 7 1 9 3 c 3 a 3 6 8 7 9 2 c 0 0 4 f e d \" ,  \" d e p a r t m e n t \" :  \" c r e w \" ,  \" g e n d e r \" :  0 ,  \" i d \" :  1 4 1 7 8 2 0 ,  \" j o b \" :  \" v i s u a l  e f f e c t s  e d i t o r \" ,  \" n a m e \" :  \" n i c k  d a c e y \" } ,  { \" c r e d i t _ i d \" :  \" 5 4 c 3 7 2 9 5 9 2 5 1 4 1 6 e a e 0 0 e 2 2 d \" ,  \" d e p a r t m e n t \" :  \" v i s u a l  e f f e c t s \" ,  \" g e n d e r \" :  0 ,  \" i d \" :  1 4 1 7 8 2 1 ,  \" j o b \" :  \" v i s u a l  e f f e c t s  p r o d u c e r \" ,  \" n a m e \" :  \" c l a u d i a  d e h m e l \" } ,  { \" c r e d i t _ i d \" :  \" 5 4 c 3 7 2 e 3 9 2 5 1 4 1 6 e 6 0 0 0 e d 5 4 \" ,  \" d e p a r t m e n t \" :  \" c r e w \" ,  \" g e n d e r \" :  0 ,  \" i d \" :  1 4 1 7 8 2 2 ,  \" j o b \" :  \" v i s u a l  e f f e c t s  e d i t o r \" ,  \" n a m e \" :  \" r e u b e n  l l o y d - p a c k \" } ,  { \" c r e d i t _ i d \" :  \" 5 4 c 3 7 3 1 8 9 2 5 1 4 1 2 4 c 8 0 0 5 2 5 4 \" ,  \" d e p a r t m e n t \" :  \" c r e w \" ,  \" g e n d e r \" :  0 ,  \" i d \" :  1 4 1 7 8 2 3 ,  \" j o b \" :  \" v i s u a l  e f f e c t s  e d i t o r \" ,  \" n a m e \" :  \" s t e v e  m i l l e r \" } ,  { \" c r e d i t _ i d \" :  \" 5 4 c 3 7 3 8 f 9 2 5 1 4 1 6 e 6 0 0 0 e d 5 f \" ,  \" d e p a r t m e n t \" :  \" c r e w \" ,  \" g e n d e r \" :  0 ,  \" i d \" :  1 4 1 7 8 2 4 ,  \" j o b \" :  \" v i s u a l  e f f e c t s  e d i t o r \" ,  \" n a m e \" :  \" c h r i s t o p h e r  p a y n e \" } ,  { \" c r e d i t _ i d \" :  \" 5 4 c 3 7 4 b 3 9 2 5 1 4 1 2 4 8 9 0 0 5 6 d 9 \" ,  \" d e p a r t m e n t \" :  \" c r e w \" ,  \" g e n d e r \" :  0 ,  \" i d \" :  1 4 1 7 8 2 5 ,  \" j o b \" :  \" c g  s u p e r v i s o r \" ,  \" n a m e \" :  \" j u l i a n  f o d d y \" } ,  { \" c r e d i t _ i d \" :  \" 5 4 c 3 7 4 c c 9 2 5 1 4 1 6 e 6 0 0 0 e d 8 5 \" ,  \" d e p a r t m e n t \" :  \" v i s u a l  e f f e c t s \" ,  \" g e n d e r \" :  0 ,  \" i d \" :  1 4 1 7 8 2 6 ,  \" j o b \" :  \" v i s u a l  e f f e c t s  s u p e r v i s o r \" ,  \" n a m e \" :  \" p a u l  j .  f r a n k l i n \" } ,  { \" c r e d i t _ i d \" :  \" 5 4 c 3 7 4 e e c 3 a 3 6 8 7 8 9 b 0 0 5 9 0 1 \" ,  \" d e p a r t m e n t \" :  \" c r e w \" ,  \" g e n d e r \" :  0 ,  \" i d \" :  1 4 1 7 8 2 7 ,  \" j o b \" :  \" c g  s u p e r v i s o r \" ,  \" n a m e \" :  \" n i c o l a  h o y l e \" } ,  { \" c r e d i t _ i d \" :  \" 5 4 c 3 7 5 2 4 c 3 a 3 6 8 7 9 2 9 0 0 5 b 3 2 \" ,  \" d e p a r t m e n t \" :  \" v i s u a l  e f f e c t s \" ,  \" g e n d e r \" :  0 ,  \" i d \" :  1 4 1 7 8 2 8 ,  \" j o b \" :  \" v i s u a l  e f f e c t s  s u p e r v i s o r \" ,  \" n a m e \" :  \" a n d r e w  l o c k l e y \" } ,  { \" c r e d i t _ i d \" :  \" 5 4 c 3 7 5 7 a c 3 a 3 6 8 3 3 3 8 0 0 1 0 d 3 \" ,  \" d e p a r t m e n t \" :  \" c r e w \" ,  \" g e n d e r \" :  0 ,  \" i d \" :  1 4 1 7 8 2 9 ,  \" j o b \" :  \" s e q u e n c e  s u p e r v i s o r \" ,  \" n a m e \" :  \" a l i s o n  w o r t m a n \" } ,  { \" c r e d i t _ i d \" :  \" 5 4 c 3 7 5 b 4 9 2 5 1 4 1 6 e 6 0 0 0 e d 9 d \" ,  \" d e p a r t m e n t \" :  \" c r e w \" ,  \" g e n d e r \" :  0 ,  \" i d \" :  1 4 1 7 8 3 0 ,  \" j o b \" :  \" s e q u e n c e  s u p e r v i s o r \" ,  \" n a m e \" :  \" m a x x  w a i  i n  l e o n g \" } ,  { \" c r e d i t _ i d \" :  \" 5 4 c 3 7 6 6 a c 3 a 3 6 8 1 4 2 1 0 1 1 9 e 7 \" ,  \" d e p a r t m e n t \" :  \" c r e w \" ,  \" g e n d e r \" :  0 ,  \" i d \" :  1 4 1 7 8 3 1 ,  \" j o b \" :  \" s t u n t  c o o r d i n a t o r \" ,  \" n a m e \" :  \" s y  h o l l a n d s \" } ,  { \" c r e d i t _ i d \" :  \" 5 4 c 3 7 7 e 4 9 2 5 1 4 1 6 e 6 0 0 0 e d f c \" ,  \" d e p a r t m e n t \" :  \" l i g h t i n g \" ,  \" g e n d e r \" :  0 ,  \" i d \" :  1 4 1 7 8 3 2 ,  \" j o b \" :  \" g a f f e r \" ,  \" n a m e \" :  \" r y a n  r o d r i g u e z \" } ,  { \" c r e d i t _ i d \" :  \" 5 4 c 3 7 8 3 c 9 2 5 1 4 1 2 4 c 8 0 0 5 2 d 6 \" ,  \" d e p a r t m e n t \" :  \" l i g h t i n g \" ,  \" g e n d e r \" :  0 ,  \" i d \" :  1 4 1 7 8 3 3 ,  \" j o b \" :  \" g a f f e r \" ,  \" n a m e \" :  \" r e u b e n  g a r r e t t \" } ,  { \" c r e d i t _ i d \" :  \" 5 4 c 3 7 8 7 1 9 2 5 1 4 1 6 e a e 0 0 e 2 d b \" ,  \" d e p a r t m e n t \" :  \" c a m e r a \" ,  \" g e n d e r \" :  0 ,  \" i d \" :  1 4 1 7 8 3 4 ,  \" j o b \" :  \" c a m e r a  t e c h n i c i a n \" ,  \" n a m e \" :  \" d a n e  b j e r n o \" } ,  { \" c r e d i t _ i d \" :  \" 5 4 c 3 7 8 a 4 9 2 5 1 4 1 2 4 3 2 0 0 5 8 1 5 \" ,  \" d e p a r t m e n t \" :  \" l i g h t i n g \" ,  \" g e n d e r \" :  0 ,  \" i d \" :  1 4 1 7 8 3 5 ,  \" j o b \" :  \" r i g g i n g  g a f f e r \" ,  \" n a m e \" :  \" i a n  f r a n k l i n \" } ,  { \" c r e d i t _ i d \" :  \" 5 4 c 3 7 9 2 1 9 2 5 1 4 1 2 4 4 6 0 0 5 5 5 5 \" ,  \" d e p a r t m e n t \" :  \" v i s u a l  e f f e c t s \" ,  \" g e n d e r \" :  0 ,  \" i d \" :  1 4 1 7 8 3 6 ,  \" j o b \" :  \" a n i m a t i o n \" ,  \" n a m e \" :  \" a n d r e w  m c e v o y \" } ,  { \" c r e d i t _ i d \" :  \" 5 4 c 3 7 9 8 b 9 2 5 1 4 1 2 4 e d 0 0 5 6 7 8 \" ,  \" d e p a r t m e n t \" :  \" c o s t u m e  &  m a k e - u p \" ,  \" g e n d e r \" :  0 ,  \" i d \" :  1 4 1 7 8 3 7 ,  \" j o b \" :  \" c o s t u m e  s u p e r v i s o r \" ,  \" n a m e \" :  \" b r e n d a n  h a n d s c o m b e \" } ,  { \" c r e d i t _ i d \" :  \" 5 4 c 3 7 a c 9 c 3 a 3 6 8 7 8 f b 0 0 5 0 1 a \" ,  \" d e p a r t m e n t \" :  \" c o s t u m e  &  m a k e - u p \" ,  \" g e n d e r \" :  0 ,  \" i d \" :  1 4 1 7 8 3 8 ,  \" j o b \" :  \" s e t  c o s t u m e r \" ,  \" n a m e \" :  \" l i n d s a y  k o u r i \" } ,  { \" c r e d i t _ i d \" :  \" 5 4 c 3 7 b a 5 c 3 a 3 6 8 3 3 3 8 0 0 1 1 8 0 \" ,  \" d e p a r t m e n t \" :  \" c o s t u m e  &  m a k e - u p \" ,  \" g e n d e r \" :  0 ,  \" i d \" :  1 4 1 7 8 3 9 ,  \" j o b \" :  \" s e t  c o s t u m e r \" ,  \" n a m e \" :  \" d a v i d  b u t l e r \" } ,  { \" c r e d i t _ i d \" :  \" 5 4 c 3 7 c 0 1 c 3 a 3 6 8 7 9 2 9 0 0 5 c 0 4 \" ,  \" d e p a r t m e n t \" :  \" e d i t i n g \" ,  \" g e n d e r \" :  0 ,  \" i d \" :  1 4 1 7 8 4 0 ,  \" j o b \" :  \" f i r s t  a s s i s t a n t  e d i t o r \" ,  \" n a m e \" :  \" e r i c  a .  l e w y \" } ,  { \" c r e d i t _ i d \" :  \" 5 4 c 3 7 c 2 9 9 2 5 1 4 1 2 4 3 2 0 0 5 8 6 d \" ,  \" d e p a r t m e n t \" :  \" s o u n d \" ,  \" g e n d e r \" :  0 ,  \" i d \" :  1 4 1 7 8 4 1 ,  \" j o b \" :  \" m u s i c  e d i t o r \" ,  \" n a m e \" :  \" r y a n  r u b i n \" } ,  { \" c r e d i t _ i d \" :  \" 5 4 c 3 7 c 4 2 c 3 a 3 6 8 7 8 d 0 0 0 5 a 3 1 \" ,  \" d e p a r t m e n t \" :  \" c r e w \" ,  \" g e n d e r \" :  0 ,  \" i d \" :  1 4 1 7 8 4 2 ,  \" j o b \" :  \" t r a n s p o r t a t i o n  c o o r d i n a t o r \" ,  \" n a m e \" :  \" g a r y  b i r m i n g h a m \" } ,  { \" c r e d i t _ i d \" :  \" 5 4 c 3 7 c 7 5 9 2 5 1 4 1 2 4 e d 0 0 5 6 a f \" ,  \" d e p a r t m e n t \" :  \" c r e w \" ,  \" g e n d e r \" :  0 ,  \" i d \" :  1 4 1 7 8 4 3 ,  \" j o b \" :  \" p i c t u r e  c a r  c o o r d i n a t o r \" ,  \" n a m e \" :  \" t y l e r  w .  g a i s f o r d \" } ,  { \" c r e d i t _ i d \" :  \" 5 4 c 3 7 d 6 d c 3 a 3 6 8 7 c 4 0 0 0 f d 1 b \" ,  \" d e p a r t m e n t \" :  \" p r o d u c t i o n \" ,  \" g e n d e r \" :  0 ,  \" i d \" :  1 4 1 7 8 4 4 ,  \" j o b \" :  \" l o c a t i o n  m a n a g e r \" ,  \" n a m e \" :  \" m a r k  s o m n e r \" } ,  { \" c r e d i t _ i d \" :  \" 5 4 c 3 7 d 9 f c 3 a 3 6 8 7 c 4 0 0 0 f d 2 0 \" ,  \" d e p a r t m e n t \" :  \" p r o d u c t i o n \" ,  \" g e n d e r \" :  0 ,  \" i d \" :  1 4 1 7 8 4 5 ,  \" j o b \" :  \" l o c a t i o n  m a n a g e r \" ,  \" n a m e \" :  \" j o a q u i n  d i e g o  p r a n g e \" } ,  { \" c r e d i t _ i d \" :  \" 5 4 c 3 7 d b b 9 2 5 1 4 1 6 e 6 0 0 0 e e 5 7 \" ,  \" d e p a r t m e n t \" :  \" p r o d u c t i o n \" ,  \" g e n d e r \" :  0 ,  \" i d \" :  1 4 1 7 8 4 6 ,  \" j o b \" :  \" l o c a t i o n  m a n a g e r \" ,  \" n a m e \" :  \" v a n s  p r a d e e p  s i n g h  r a t h o r e \" } ,  { \" c r e d i t _ i d \" :  \" 5 4 c 3 7 d e 6 c 3 a 3 6 8 7 8 d 0 0 0 5 a 5 4 \" ,  \" d e p a r t m e n t \" :  \" p r o d u c t i o n \" ,  \" g e n d e r \" :  0 ,  \" i d \" :  1 4 1 7 8 4 7 ,  \" j o b \" :  \" l o c a t i o n  m a n a g e r \" ,  \" n a m e \" :  \" j a m e s  a .  m a h a t h e y \" } ,  { \" c r e d i t _ i d \" :  \" 5 4 c 3 7 e 2 c c 3 a 3 6 8 3 3 3 8 0 0 1 1 b 6 \" ,  \" d e p a r t m e n t \" :  \" p r o d u c t i o n \" ,  \" g e n d e r \" :  0 ,  \" i d \" :  1 4 1 7 8 4 8 ,  \" j o b \" :  \" l o c a t i o n  m a n a g e r \" ,  \" n a m e \" :  \" j o n a t h a n  h o o k \" } ,  { \" c r e d i t _ i d \" :  \" 5 6 c 2 6 6 5 7 9 2 5 1 4 1 4 a 8 9 0 0 0 a 2 a \" ,  \" d e p a r t m e n t \" :  \" c o s t u m e  &  m a k e - u p \" ,  \" g e n d e r \" :  0 ,  \" i d \" :  1 4 2 7 4 9 9 ,  \" j o b \" :  \" h a i r s t y l i s t \" ,  \" n a m e \" :  \" s t e p h a n i e  h o v e t t e \" } ,  { \" c r e d i t _ i d \" :  \" 5 6 9 f d 0 f 6 c 3 a 3 6 8 5 8 c 3 0 0 a 3 1 3 \" ,  \" d e p a r t m e n t \" :  \" c r e w \" ,  \" g e n d e r \" :  0 ,  \" i d \" :  1 4 3 4 5 9 9 ,  \" j o b \" :  \" s t u n t s \" ,  \" n a m e \" :  \" b r i a n  s m y j \" } ,  { \" c r e d i t _ i d \" :  \" 5 6 d 4 e 8 b 3 c 3 a 3 6 8 1 e 4 4 0 1 7 a 1 d \" ,  \" d e p a r t m e n t \" :  \" e d i t i n g \" ,  \" g e n d e r \" :  0 ,  \" i d \" :  1 4 4 0 8 5 3 ,  \" j o b \" :  \" a s s i s t a n t  e d i t o r \" ,  \" n a m e \" :  \" d o n a l d  l i k o v i c h \" } ,  { \" c r e d i t _ i d \" :  \" 5 6 8 1 7 e f 2 9 2 5 1 4 1 3 2 d b 0 0 f 1 8 1 \" ,  \" d e p a r t m e n t \" :  \" c r e w \" ,  \" g e n d e r \" :  0 ,  \" i d \" :  1 4 5 5 5 0 3 ,  \" j o b \" :  \" s t u n t s \" ,  \" n a m e \" :  \" i a n  m c l a u g h l i n \" } ,  { \" c r e d i t _ i d \" :  \" 5 6 d 8 7 2 2 0 9 2 5 1 4 1 4 2 9 1 0 0 7 5 7 7 \" ,  \" d e p a r t m e n t \" :  \" p r o d u c t i o n \" ,  \" g e n d e r \" :  0 ,  \" i d \" :  1 4 6 3 9 5 4 ,  \" j o b \" :  \" c a s t i n g \" ,  \" n a m e \" :  \" d i x i e  w e b s t e r \" } ,  { \" c r e d i t _ i d \" :  \" 5 6 8 1 8 0 3 6 9 2 5 1 4 1 4 f 6 3 0 0 a 6 7 7 \" ,  \" d e p a r t m e n t \" :  \" c r e w \" ,  \" g e n d e r \" :  0 ,  \" i d \" :  1 4 6 8 5 8 1 ,  \" j o b \" :  \" s t u n t s \" ,  \" n a m e \" :  \" v i c t o r  p a g u i a \" } ,  { \" c r e d i t _ i d \" :  \" 5 6 8 2 c a 7 3 9 2 5 1 4 1 6 9 d 0 0 0 0 a a e \" ,  \" d e p a r t m e n t \" :  \" c o s t u m e  &  m a k e - u p \" ,  \" g e n d e r \" :  0 ,  \" i d \" :  1 4 6 8 5 8 9 ,  \" j o b \" :  \" a s s i s t a n t  c o s t u m e  d e s i g n e r \" ,  \" n a m e \" :  \" w a d e  s u l l i v a n \" } ,  { \" c r e d i t _ i d \" :  \" 5 6 7 4 4 c f b 9 2 5 1 4 1 7 9 d d 0 0 0 0 6 d \" ,  \" d e p a r t m e n t \" :  \" c r e w \" ,  \" g e n d e r \" :  0 ,  \" i d \" :  1 4 8 3 8 2 7 ,  \" j o b \" :  \" s t u n t s \" ,  \" n a m e \" :  \" s i d  k a r n e \" } ,  { \" c r e d i t _ i d \" :  \" 5 6 2 1 3 5 4 3 9 2 5 1 4 1 7 1 d 0 0 0 8 8 3 b \" ,  \" d e p a r t m e n t \" :  \" d i r e c t i n g \" ,  \" g e n d e r \" :  0 ,  \" i d \" :  1 4 8 3 8 2 7 ,  \" j o b \" :  \" a s s i s t a n t  d i r e c t o r \" ,  \" n a m e \" :  \" s i d  k a r n e \" } ,  { \" c r e d i t _ i d \" :  \" 5 6 8 1 e 4 1 9 c 3 a 3 6 8 2 8 f 5 0 0 7 e 5 0 \" ,  \" d e p a r t m e n t \" :  \" c a m e r a \" ,  \" g e n d e r \" :  0 ,  \" i d \" :  1 5 0 9 3 9 4 ,  \" j o b \" :  \" g r i p \" ,  \" n a m e \" :  \" m i c h a e l  j .  p r a t e \" } ,  { \" c r e d i t _ i d \" :  \" 5 6 8 1 e 4 7 a 9 2 5 1 4 1 1 3 3 4 0 0 9 9 f f \" ,  \" d e p a r t m e n t \" :  \" c a m e r a \" ,  \" g e n d e r \" :  0 ,  \" i d \" :  1 5 0 9 3 9 6 ,  \" j o b \" :  \" g r i p \" ,  \" n a m e \" :  \" t o m  p r a t e \" } ,  { \" c r e d i t _ i d \" :  \" 5 6 7 d 7 b 0 8 c 3 a 3 6 8 4 b d 0 0 0 7 0 c 2 \" ,  \" d e p a r t m e n t \" :  \" c o s t u m e  &  m a k e - u p \" ,  \" g e n d e r \" :  0 ,  \" i d \" :  1 5 1 6 4 5 8 ,  \" j o b \" :  \" h a i r s t y l i s t \" ,  \" n a m e \" :  \" r .  c o r y  m c c u t c h e o n \" } ,  { \" c r e d i t _ i d \" :  \" 5 6 b a 9 6 9 e 9 2 5 1 4 1 6 9 b 3 0 0 0 7 2 1 \" ,  \" d e p a r t m e n t \" :  \" e d i t i n g \" ,  \" g e n d e r \" :  0 ,  \" i d \" :  1 5 2 5 9 0 8 ,  \" j o b \" :  \" a s s i s t a n t  e d i t o r \" ,  \" n a m e \" :  \" a n n e  o \\' b r i e n \" } ,  { \" c r e d i t _ i d \" :  \" 5 7 8 f b f a 1 9 2 5 1 4 1 1 d 5 7 0 0 1 1 7 b \" ,  \" d e p a r t m e n t \" :  \" c r e w \" ,  \" g e n d e r \" :  0 ,  \" i d \" :  1 5 3 1 5 2 9 ,  \" j o b \" :  \" s t u n t s \" ,  \" n a m e \" :  \" r e x  r e d d i c k \" } ,  { \" c r e d i t _ i d \" :  \" 5 7 d 6 e a 2 f c 3 a 3 6 8 0 2 3 a 0 0 0 4 4 e \" ,  \" d e p a r t m e n t \" :  \" c a m e r a \" ,  \" g e n d e r \" :  0 ,  \" i d \" :  1 5 3 2 6 1 0 ,  \" j o b \" :  \" f i r s t  a s s i s t a n t  c a m e r a \" ,  \" n a m e \" :  \" b o b  h a l l \" } ,  { \" c r e d i t _ i d \" :  \" 5 7 b f 2 c 2 9 c 3 a 3 6 8 5 c 5 d 0 0 3 e 0 0 \" ,  \" d e p a r t m e n t \" :  \" l i g h t i n g \" ,  \" g e n d e r \" :  0 ,  \" i d \" :  1 5 3 2 6 1 2 ,  \" j o b \" :  \" r i g g i n g  g r i p \" ,  \" n a m e \" :  \" b l a k e  p i k e \" } ,  { \" c r e d i t _ i d \" :  \" 5 6 6 f 8 0 0 3 c 3 a 3 6 8 0 e 7 3 0 0 c b 0 3 \" ,  \" d e p a r t m e n t \" :  \" c a m e r a \" ,  \" g e n d e r \" :  0 ,  \" i d \" :  1 5 3 2 6 1 3 ,  \" j o b \" :  \" f i r s t  a s s i s t a n t  c a m e r a \" ,  \" n a m e \" :  \" p h i l i p  s h a n a h a n \" } ,  { \" c r e d i t _ i d \" :  \" 5 6 4 5 2 a a 6 c 3 a 3 6 8 7 0 e c 0 0 6 9 3 1 \" ,  \" d e p a r t m e n t \" :  \" c r e w \" ,  \" g e n d e r \" :  2 ,  \" i d \" :  1 5 3 5 0 9 5 ,  \" j o b \" :  \" s t u n t s \" ,  \" n a m e \" :  \" d a n  b r o w n \" } ,  { \" c r e d i t _ i d \" :  \" 5 6 4 5 2 c b 8 9 2 5 1 4 1 0 a 4 c 0 0 6 c d f \" ,  \" d e p a r t m e n t \" :  \" c a m e r a \" ,  \" g e n d e r \" :  0 ,  \" i d \" :  1 5 3 5 0 9 6 ,  \" j o b \" :  \" g r i p \" ,  \" n a m e \" :  \" a d a m  c a m a c h o \" } ,  { \" c r e d i t _ i d \" :  \" 5 6 4 5 2 e 7 a c 3 a 3 6 8 7 0 e f 0 0 6 f 3 2 \" ,  \" d e p a r t m e n t \" :  \" c a m e r a \" ,  \" g e n d e r \" :  0 ,  \" i d \" :  1 5 3 5 1 0 2 ,  \" j o b \" :  \" g r i p \" ,  \" n a m e \" :  \" s h a u n  s a n g k a r a t \" } ,  { \" c r e d i t _ i d \" :  \" 5 6 8 1 7 c 9 e c 3 a 3 6 8 2 a b c 0 0 a 1 4 b \" ,  \" d e p a r t m e n t \" :  \" c r e w \" ,  \" g e n d e r \" :  1 ,  \" i d \" :  1 5 4 4 3 9 4 ,  \" j o b \" :  \" s t u n t s \" ,  \" n a m e \" :  \" a j a  f r a r y \" } ,  { \" c r e d i t _ i d \" :  \" 5 6 8 1 7 c 4 b 9 2 5 1 4 1 7 d e f 0 1 1 8 5 1 \" ,  \" d e p a r t m e n t \" :  \" c r e w \" ,  \" g e n d e r \" :  2 ,  \" i d \" :  1 5 4 4 3 9 5 ,  \" j o b \" :  \" s t u n t s \" ,  \" n a m e \" :  \" m a r k  f i c h e r a \" } ,  { \" c r e d i t _ i d \" :  \" 5 6 6 8 7 5 b e c 3 a 3 6 8 3 6 9 7 0 0 3 6 e 9 \" ,  \" d e p a r t m e n t \" :  \" c r e w \" ,  \" g e n d e r \" :  0 ,  \" i d \" :  1 5 4 6 9 0 7 ,  \" j o b \" :  \" d r i v e r \" ,  \" n a m e \" :  \" p a t r i c k  h o g a n \" } ,  { \" c r e d i t _ i d \" :  \" 5 6 6 d b c 4 a 9 2 5 1 4 1 6 9 e 2 0 0 c 3 c d \" ,  \" d e p a r t m e n t \" :  \" c o s t u m e  &  m a k e - u p \" ,  \" g e n d e r \" :  0 ,  \" i d \" :  1 5 4 8 5 3 0 ,  \" j o b \" :  \" h a i r s t y l i s t \" ,  \" n a m e \" :  \" r o b e r t  w i l s o n \" } ,  { \" c r e d i t _ i d \" :  \" 5 6 6 f 0 3 c 1 9 2 5 1 4 1 5 0 0 1 0 0 a 0 9 5 \" ,  \" d e p a r t m e n t \" :  \" c r e w \" ,  \" g e n d e r \" :  0 ,  \" i d \" :  1 5 4 9 0 1 5 ,  \" j o b \" :  \" p r o p m a k e r \" ,  \" n a m e \" :  \" r a y  m a x w e l l \" } ,  { \" c r e d i t _ i d \" :  \" 5 6 6 f 0 f 1 6 c 3 a 3 6 8 5 3 5 a 0 1 1 2 2 0 \" ,  \" d e p a r t m e n t \" :  \" c r e w \" ,  \" g e n d e r \" :  0 ,  \" i d \" :  1 5 4 9 0 2 6 ,  \" j o b \" :  \" s t u n t s  c o o r d i n a t o r \" ,  \" n a m e \" :  \" s c o t t y  r i c h a r d s \" } ,  { \" c r e d i t _ i d \" :  \" 5 6 7 1 a 5 a d c 3 a 3 6 8 5 3 5 a 0 1 8 7 0 d \" ,  \" d e p a r t m e n t \" :  \" c r e w \" ,  \" g e n d e r \" :  2 ,  \" i d \" :  1 5 4 9 7 4 1 ,  \" j o b \" :  \" s t u n t s \" ,  \" n a m e \" :  \" m a r c  s c i z a k \" } ,  { \" c r e d i t _ i d \" :  \" 5 6 7 2 f 4 2 7 c 3 a 3 6 8 0 7 1 2 0 0 3 1 4 5 \" ,  \" d e p a r t m e n t \" :  \" l i g h t i n g \" ,  \" g e n d e r \" :  0 ,  \" i d \" :  1 5 5 0 2 4 8 ,  \" j o b \" :  \" r i g g i n g  g r i p \" ,  \" n a m e \" :  \" j o e  g u z m a n \" } ,  { \" c r e d i t _ i d \" :  \" 5 6 7 3 4 8 7 7 9 2 5 1 4 1 6 3 b 9 0 0 3 7 5 6 \" ,  \" d e p a r t m e n t \" :  \" c r e w \" ,  \" g e n d e r \" :  0 ,  \" i d \" :  1 5 5 0 4 0 0 ,  \" j o b \" :  \" s e t  p r o d u c t i o n  a s s i s t a n t \" ,  \" n a m e \" :  \" d a m i a n o  f u s c a \" } ,  { \" c r e d i t _ i d \" :  \" 5 6 8 1 7 a 4 9 c 3 a 3 6 8 2 a b c 0 0 a 0 a 5 \" ,  \" d e p a r t m e n t \" :  \" c r e w \" ,  \" g e n d e r \" :  2 ,  \" i d \" :  1 5 5 0 7 2 5 ,  \" j o b \" :  \" s t u n t s \" ,  \" n a m e \" :  \" c h r i s  c e n a t i e m p o \" } ,  { \" c r e d i t _ i d \" :  \" 5 6 7 6 0 7 c d 9 2 5 1 4 1 7 9 e 7 0 0 3 f c b \" ,  \" d e p a r t m e n t \" :  \" c a m e r a \" ,  \" g e n d e r \" :  0 ,  \" i d \" :  1 5 5 1 3 7 3 ,  \" j o b \" :  \" c a m e r a  i n t e r n \" ,  \" n a m e \" :  \" j o e y  j .  c o o k  i i i \" } ,  { \" c r e d i t _ i d \" :  \" 5 6 8 f 0 7 6 f c 3 a 3 6 8 3 2 4 c 0 0 0 0 a c \" ,  \" d e p a r t m e n t \" :  \" e d i t i n g \" ,  \" g e n d e r \" :  0 ,  \" i d \" :  1 5 5 2 5 4 9 ,  \" j o b \" :  \" c o l o r  t i m e r \" ,  \" n a m e \" :  \" d a v i d  o r r \" } ,  { \" c r e d i t _ i d \" :  \" 5 6 8 0 3 7 8 d 9 2 5 1 4 1 2 e 5 2 0 0 b c 0 4 \" ,  \" d e p a r t m e n t \" :  \" c r e w \" ,  \" g e n d e r \" :  0 ,  \" i d \" :  1 5 5 4 3 9 3 ,  \" j o b \" :  \" s t u n t s \" ,  \" n a m e \" :  \" s c o t t  b u r i k \" } ,  { \" c r e d i t _ i d \" :  \" 5 6 8 1 7 9 8 2 9 2 5 1 4 1 3 1 d f 0 0 e a b e \" ,  \" d e p a r t m e n t \" :  \" c r e w \" ,  \" g e n d e r \" :  0 ,  \" i d \" :  1 5 5 4 9 1 5 ,  \" j o b \" :  \" s t u n t s \" ,  \" n a m e \" :  \" m i k e  b u r k e \" } ,  { \" c r e d i t _ i d \" :  \" 5 6 8 1 7 c e c c 3 a 3 6 8 2 a b c 0 0 a 1 5 5 \" ,  \" d e p a r t m e n t \" :  \" c r e w \" ,  \" g e n d e r \" :  0 ,  \" i d \" :  1 5 5 4 9 2 1 ,  \" j o b \" :  \" s t u n t s \" ,  \" n a m e \" :  \" s h a n e  g e r a g h t y \" } ,  { \" c r e d i t _ i d \" :  \" 5 6 8 1 8 0 e a 9 2 5 1 4 1 7 d e f 0 1 1 8 f 7 \" ,  \" d e p a r t m e n t \" :  \" l i g h t i n g \" ,  \" g e n d e r \" :  0 ,  \" i d \" :  1 5 5 4 9 2 4 ,  \" j o b \" :  \" r i g g i n g  g r i p \" ,  \" n a m e \" :  \" b a l i n t  p i n c z e h e l y i \" } ,  { \" c r e d i t _ i d \" :  \" 5 6 8 1 8 2 0 3 c 3 a 3 6 8 6 0 e 9 0 1 0 d 1 2 \" ,  \" d e p a r t m e n t \" :  \" c r e w \" ,  \" g e n d e r \" :  0 ,  \" i d \" :  1 5 5 4 9 2 5 ,  \" j o b \" :  \" s t u n t s \" ,  \" n a m e \" :  \" k e v i n  r o g e r s \" } ,  { \" c r e d i t _ i d \" :  \" 5 6 8 1 8 2 e 7 c 3 a 3 6 8 4 b e 3 0 1 1 a 1 6 \" ,  \" d e p a r t m e n t \" :  \" c r e w \" ,  \" g e n d e r \" :  0 ,  \" i d \" :  1 5 5 4 9 2 6 ,  \" j o b \" :  \" s t u n t s \" ,  \" n a m e \" :  \" s h a w n n a  t h i b o d e a u \" } ,  { \" c r e d i t _ i d \" :  \" 5 6 8 1 8 3 f a c 3 a 3 6 8 6 0 e 9 0 1 0 d 5 3 \" ,  \" d e p a r t m e n t \" :  \" c r e w \" ,  \" g e n d e r \" :  0 ,  \" i d \" :  1 5 5 4 9 3 1 ,  \" j o b \" :  \" s t u n t s \" ,  \" n a m e \" :  \" c a r o l i n e  v e x l e r \" } ,  { \" c r e d i t _ i d \" :  \" 5 6 8 1 e 1 9 0 c 3 a 3 6 8 4 b c c 0 1 3 3 1 6 \" ,  \" d e p a r t m e n t \" :  \" l i g h t i n g \" ,  \" g e n d e r \" :  2 ,  \" i d \" :  1 5 5 5 0 2 7 ,  \" j o b \" :  \" r i g g i n g  g r i p \" ,  \" n a m e \" :  \" k e v i n  f l y n n \" } ,  { \" c r e d i t _ i d \" :  \" 5 6 b 7 8 2 5 4 c 3 a 3 6 8 0 6 e c 0 0 e 6 f 5 \" ,  \" d e p a r t m e n t \" :  \" p r o d u c t i o n \" ,  \" g e n d e r \" :  0 ,  \" i d \" :  1 5 6 4 9 9 7 ,  \" j o b \" :  \" e x e c u t i v e  i n  c h a r g e  o f  p r o d u c t i o n \" ,  \" n a m e \" :  \" m a r k  s c o o n \" } ,  { \" c r e d i t _ i d \" :  \" 5 6 b 7 8 1 a f c 3 a 3 6 8 0 6 e c 0 0 e 6 e 0 \" ,  \" d e p a r t m e n t \" :  \" d i r e c t i n g \" ,  \" g e n d e r \" :  0 ,  \" i d \" :  1 5 6 6 2 8 0 ,  \" j o b \" :  \" a s s i s t a n t  d i r e c t o r \" ,  \" n a m e \" :  \" n i l o  o t e r o \" } ,  { \" c r e d i t _ i d \" :  \" 5 7 6 6 c c d 8 c 3 a 3 6 8 7 f 5 3 0 0 1 2 1 a \" ,  \" d e p a r t m e n t \" :  \" c r e w \" ,  \" g e n d e r \" :  0 ,  \" i d \" :  1 5 7 1 6 0 1 ,  \" j o b \" :  \" p o s t  p r o d u c t i o n  s u p e r v i s o r \" ,  \" n a m e \" :  \" d a v i d  e .  h a l l \" } ,  { \" c r e d i t _ i d \" :  \" 5 7 3 e 6 6 8 8 9 2 5 1 4 1 0 8 d 9 0 0 0 8 5 6 \" ,  \" d e p a r t m e n t \" :  \" c r e w \" ,  \" g e n d e r \" :  2 ,  \" i d \" :  1 6 2 2 6 5 7 ,  \" j o b \" :  \" s t u n t s \" ,  \" n a m e \" :  \" m a r k  a a r o n  w a g n e r \" } ,  { \" c r e d i t _ i d \" :  \" 5 7 9 b f 7 5 7 c 3 a 3 6 8 1 6 7 8 0 0 3 1 0 3 \" ,  \" d e p a r t m e n t \" :  \" c r e w \" ,  \" g e n d e r \" :  0 ,  \" i d \" :  1 6 3 4 4 3 7 ,  \" j o b \" :  \" s t u n t s \" ,  \" n a m e \" :  \" e d  m c d e r m o t t  i i \" } ,  { \" c r e d i t _ i d \" :  \" 5 7 6 6 c c 2 1 9 2 5 1 4 1 6 9 9 5 0 0 0 6 6 6 \" ,  \" d e p a r t m e n t \" :  \" c o s t u m e  &  m a k e - u p \" ,  \" g e n d e r \" :  0 ,  \" i d \" :  1 6 3 8 2 5 7 ,  \" j o b \" :  \" p r o s t h e t i c  s u p e r v i s o r \" ,  \" n a m e \" :  \" c o n o r  o \\' s u l l i v a n \" } ,  { \" c r e d i t _ i d \" :  \" 5 7 7 7 f 9 4 a 9 2 5 1 4 1 5 f 0 6 0 0 1 1 a 6 \" ,  \" d e p a r t m e n t \" :  \" s o u n d \" ,  \" g e n d e r \" :  0 ,  \" i d \" :  1 6 4 4 4 1 2 ,  \" j o b \" :  \" s o u n d  m i x e r \" ,  \" n a m e \" :  \" n a k u l  k a m t e \" } ,  { \" c r e d i t _ i d \" :  \" 5 7 7 8 5 2 f 9 9 2 5 1 4 1 3 6 e 1 0 0 2 0 8 d \" ,  \" d e p a r t m e n t \" :  \" p r o d u c t i o n \" ,  \" g e n d e r \" :  0 ,  \" i d \" :  1 6 4 4 5 4 3 ,  \" j o b \" :  \" l i n e  p r o d u c e r \" ,  \" n a m e \" :  \" d i l e e p  s i n g h  r a t h o r e \" } ]'"
      ]
     },
     "execution_count": 37,
     "metadata": {},
     "output_type": "execute_result"
    }
   ],
   "source": [
    "new_df['tags'][3]"
   ]
  },
  {
   "cell_type": "code",
   "execution_count": 38,
   "id": "4d924685-d596-4b72-9021-23b425176f13",
   "metadata": {},
   "outputs": [],
   "source": [
    "\n",
    "from sklearn.feature_extraction.text import CountVectorizer\n",
    "cv = CountVectorizer(max_features=5000, stop_words='english')\n"
   ]
  },
  {
   "cell_type": "code",
   "execution_count": 39,
   "id": "62cfc9f5-e85d-4ef5-b5be-78c131548e09",
   "metadata": {},
   "outputs": [],
   "source": [
    "vectors = cv.fit_transform(new_df['tags']).toarray()"
   ]
  },
  {
   "cell_type": "code",
   "execution_count": 40,
   "id": "188fe42f-8c13-4ec7-81f5-25ae4592cc94",
   "metadata": {},
   "outputs": [
    {
     "data": {
      "text/plain": [
       "array([[0, 0, 0, ..., 0, 0, 0],\n",
       "       [0, 0, 0, ..., 0, 0, 0],\n",
       "       [0, 0, 0, ..., 0, 0, 0],\n",
       "       ...,\n",
       "       [0, 0, 0, ..., 0, 0, 0],\n",
       "       [0, 0, 0, ..., 0, 0, 0],\n",
       "       [0, 0, 0, ..., 0, 0, 0]], dtype=int64)"
      ]
     },
     "execution_count": 40,
     "metadata": {},
     "output_type": "execute_result"
    }
   ],
   "source": [
    "vectors"
   ]
  },
  {
   "cell_type": "code",
   "execution_count": 41,
   "id": "3980d664-18f5-4b51-a6b6-9e396b147808",
   "metadata": {},
   "outputs": [
    {
     "data": {
      "text/plain": [
       "array([0, 0, 0, ..., 0, 0, 0], dtype=int64)"
      ]
     },
     "execution_count": 41,
     "metadata": {},
     "output_type": "execute_result"
    }
   ],
   "source": [
    "vectors[0]"
   ]
  },
  {
   "cell_type": "code",
   "execution_count": 42,
   "id": "6201bea8-90d1-41fe-bb33-631e6de6addf",
   "metadata": {},
   "outputs": [],
   "source": [
    "# '[{\"id\": 28, \"name\": \"Action\"}, {\"id\": 12, \"name\": \"Adventure\"}, {\"id\": 14, \"name\": \"Fantasy\"}, {\"id\": 878, \"name\": \"Science Fiction\"}]'"
   ]
  },
  {
   "cell_type": "code",
   "execution_count": 43,
   "id": "3b864979-e1e2-4598-ba78-9782decb91ed",
   "metadata": {},
   "outputs": [
    {
     "ename": "AttributeError",
     "evalue": "'CountVectorizer' object has no attribute 'get_feature_names'",
     "output_type": "error",
     "traceback": [
      "\u001b[1;31m---------------------------------------------------------------------------\u001b[0m",
      "\u001b[1;31mAttributeError\u001b[0m                            Traceback (most recent call last)",
      "Cell \u001b[1;32mIn[43], line 1\u001b[0m\n\u001b[1;32m----> 1\u001b[0m \u001b[38;5;28mlen\u001b[39m(\u001b[43mcv\u001b[49m\u001b[38;5;241;43m.\u001b[39;49m\u001b[43mget_feature_names\u001b[49m())\n",
      "\u001b[1;31mAttributeError\u001b[0m: 'CountVectorizer' object has no attribute 'get_feature_names'"
     ]
    }
   ],
   "source": [
    "len(cv.get_feature_names())"
   ]
  },
  {
   "cell_type": "code",
   "execution_count": null,
   "id": "836b44a1-2f5d-401d-a806-762f4378f88d",
   "metadata": {},
   "outputs": [],
   "source": [
    "import nltk"
   ]
  },
  {
   "cell_type": "code",
   "execution_count": null,
   "id": "7795cecd-ca4a-445b-b184-fd0f51c209c2",
   "metadata": {},
   "outputs": [],
   "source": [
    "from nltk.stem import PorterStemmer\n",
    "\n",
    "ps = PorterStemmer()\n"
   ]
  },
  {
   "cell_type": "code",
   "execution_count": null,
   "id": "45e4dbfc-86af-4ebd-bfac-6afe4d976336",
   "metadata": {},
   "outputs": [],
   "source": [
    "def stem(text):\n",
    "    y = []\n",
    "    for i in text.split():\n",
    "        y.append(ps.stem(i))\n",
    "    return \" \".join(y)"
   ]
  },
  {
   "cell_type": "code",
   "execution_count": null,
   "id": "84e0ee5e-6d40-4f84-97d0-f7b876bf85c5",
   "metadata": {},
   "outputs": [],
   "source": [
    "new_df['tags']=new_df['tags'].apply(stem)"
   ]
  },
  {
   "cell_type": "code",
   "execution_count": null,
   "id": "71259961-45de-462d-8ba9-63900a526157",
   "metadata": {},
   "outputs": [],
   "source": [
    "ps.stem('dancing')"
   ]
  },
  {
   "cell_type": "code",
   "execution_count": null,
   "id": "cbe6c0a0-bfab-4b81-8e65-939037ca2ab0",
   "metadata": {},
   "outputs": [],
   "source": [
    "new_df['tags'][2]"
   ]
  },
  {
   "cell_type": "code",
   "execution_count": null,
   "id": "524af5da-9fa5-4221-86f0-c649c8ff9e4a",
   "metadata": {},
   "outputs": [],
   "source": [
    "from sklearn.metrics.pairwise import cosine_similarity"
   ]
  },
  {
   "cell_type": "code",
   "execution_count": null,
   "id": "fdebe43c-79e1-490e-8957-449d1395d147",
   "metadata": {},
   "outputs": [],
   "source": [
    "similarity = cosine_similarity(vectors)"
   ]
  },
  {
   "cell_type": "code",
   "execution_count": null,
   "id": "276b1c18-fda4-4edb-b6be-b9fc133b8542",
   "metadata": {},
   "outputs": [],
   "source": [
    "sorted(list(enumerate(similarity[0])),reverse = True,key=lambda x:x[1])[1:6]"
   ]
  },
  {
   "cell_type": "code",
   "execution_count": null,
   "id": "242f8b1b-b6dd-457c-816a-0cd1787fe481",
   "metadata": {},
   "outputs": [],
   "source": []
  },
  {
   "cell_type": "code",
   "execution_count": null,
   "id": "8eea31be-1fc3-4389-a5bb-222600c30a59",
   "metadata": {},
   "outputs": [],
   "source": [
    "# def recommend(movie):\n",
    "#     movie_index = new_df[new_df['title']== movie].index[0]\n",
    "#     distances = similarity[movie_index]\n",
    "#     movies_list = sorted(list(enumerate(distances)),reverse = True,key=lambda x:x[1][1:6])\n",
    "#     for i in movies_list:\n",
    "#         print(i[0])\n",
    "   \n",
    "def recommend(movie):\n",
    "    movie_index = new_df[new_df['title'] == movie].index[0]\n",
    "    distances = similarity[movie_index]\n",
    "    movies_list = sorted(list(enumerate(distances)), reverse=True, key=lambda x: x[1])[1:6]  # Get top 5 recommendations, excluding the movie itself\n",
    "    \n",
    "    for i in movies_list:\n",
    "        print(new_df.iloc[i[0]].title)  # Print the title of the recommended movie\n",
    "\n",
    "# Example usage:\n",
    "recommend('Batman Begins')\n"
   ]
  },
  {
   "cell_type": "code",
   "execution_count": null,
   "id": "021921f8-69aa-4341-9bc0-c6eb7b85ab8f",
   "metadata": {},
   "outputs": [],
   "source": [
    "recommend('Avatar')"
   ]
  },
  {
   "cell_type": "code",
   "execution_count": null,
   "id": "393df884-ed61-46c2-a40d-5ca759b2d48a",
   "metadata": {},
   "outputs": [],
   "source": [
    "import pickle"
   ]
  },
  {
   "cell_type": "code",
   "execution_count": null,
   "id": "aa848ddf-6f8d-4144-b7ed-e225c14e4f45",
   "metadata": {},
   "outputs": [],
   "source": [
    "pickle.dump(new_df,open('movies.pkl','wb'))"
   ]
  },
  {
   "cell_type": "code",
   "execution_count": null,
   "id": "04aa9544-8726-43b1-8bec-75467366fc07",
   "metadata": {},
   "outputs": [],
   "source": [
    "pickle.dump(similarity,open('similarity.pkl','wb'))"
   ]
  },
  {
   "cell_type": "code",
   "execution_count": null,
   "id": "e21496c2-ef42-401a-ad82-648d34b4f64f",
   "metadata": {},
   "outputs": [],
   "source": []
  },
  {
   "cell_type": "code",
   "execution_count": null,
   "id": "6b805bd3-84ba-42a6-b330-7817de4f0601",
   "metadata": {},
   "outputs": [],
   "source": []
  },
  {
   "cell_type": "code",
   "execution_count": null,
   "id": "ede0e1a2-d320-49c8-b4e0-32a0624d1e9e",
   "metadata": {},
   "outputs": [],
   "source": []
  },
  {
   "cell_type": "code",
   "execution_count": null,
   "id": "4acea4b7-d46e-44b7-998c-8fded5b78211",
   "metadata": {},
   "outputs": [],
   "source": []
  },
  {
   "cell_type": "code",
   "execution_count": null,
   "id": "f0457d81-6abe-4684-a720-5b0734afc282",
   "metadata": {},
   "outputs": [],
   "source": []
  },
  {
   "cell_type": "code",
   "execution_count": null,
   "id": "6ccdf800-7a12-48b6-b8ac-4df57faf2caf",
   "metadata": {},
   "outputs": [],
   "source": []
  },
  {
   "cell_type": "code",
   "execution_count": null,
   "id": "8cf1732b-aa2b-40a2-913a-d32765ad0bf2",
   "metadata": {},
   "outputs": [],
   "source": []
  },
  {
   "cell_type": "code",
   "execution_count": null,
   "id": "74ed6e19-0f9c-4088-8f23-80638ab41ded",
   "metadata": {},
   "outputs": [],
   "source": []
  },
  {
   "cell_type": "code",
   "execution_count": null,
   "id": "815c9c06-ef22-439a-8610-b3bca4a6f030",
   "metadata": {},
   "outputs": [],
   "source": []
  }
 ],
 "metadata": {
  "kernelspec": {
   "display_name": "Python 3 (ipykernel)",
   "language": "python",
   "name": "python3"
  },
  "language_info": {
   "codemirror_mode": {
    "name": "ipython",
    "version": 3
   },
   "file_extension": ".py",
   "mimetype": "text/x-python",
   "name": "python",
   "nbconvert_exporter": "python",
   "pygments_lexer": "ipython3",
   "version": "3.11.7"
  }
 },
 "nbformat": 4,
 "nbformat_minor": 5
}
